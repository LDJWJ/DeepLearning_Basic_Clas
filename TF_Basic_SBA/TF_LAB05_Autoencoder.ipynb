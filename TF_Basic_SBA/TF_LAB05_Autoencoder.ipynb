{
 "cells": [
  {
   "cell_type": "markdown",
   "metadata": {},
   "source": [
    "## 04 대표적인 비지도 학습법\n",
    "* 지도학습과 비지도학습"
   ]
  },
  {
   "cell_type": "markdown",
   "metadata": {},
   "source": [
    "## 학습 내용\n",
    "### 01. Autoencoder란?\n",
    "### 02. 간단한 예제를 보자.\n",
    "### 03. 어디에 사용되는가?\n",
    "<hr>"
   ]
  },
  {
   "cell_type": "markdown",
   "metadata": {},
   "source": [
    "## 01. Autoencoder란?"
   ]
  },
  {
   "cell_type": "markdown",
   "metadata": {},
   "source": [
    "### 대표적인 비지도학습으로 많이 쓰이는 신경망 오토인코더(Autoencoder)가 있다.\n",
    "### 오토 인코더는 <font style=\"color:blue\">입력값과 출력값을 같게</font> 하는 신경망이다.\n",
    " * 훈련 데이터와 매우 비슷한 새로운 데이터를 생성한다.\n",
    " * 만약 얼굴 사진을 이용하여 오토 인코더를 훈련시키면 이 모델은 새로운 얼굴을 생성할 수 있다.\n",
    " * 출력층의 뉴런수와 입력수가 동일하다는 것을 제외하면 일반적으로 오토 인코더는 다층 퍼셉트론과 동일한 구조를 갖는다.\n",
    " \n",
    "### 인코더와 디코더로 구성\n",
    " * 입력을 내부 표현을 변경하는 인코더(encoder)\n",
    " * 내부 표현을 출력으로 바꾸는 디코더(decoder)\n",
    "\n",
    "### <font style=\"color:blue\">가운데 계층의 노드 수가 입력값보다 적은 것</font>이 특징이다.\n",
    "### 결과적으로 입력 데이터를 압축하는 효과를 얻는다. 이 과정이 <font style=\"color:blue\">노이즈 제거에 많이 효과적</font>이다.\n",
    "### <font style=\"color:blue\">변이형 오토인코더(Variational Autoencoder), 잡음제거 오토 인코더(Denoising Autoencoder)</font> 등의 방식이 존재"
   ]
  },
  {
   "cell_type": "markdown",
   "metadata": {},
   "source": [
    "<img src=\"../img/autoencoder01.png\">"
   ]
  },
  {
   "cell_type": "markdown",
   "metadata": {},
   "source": [
    "## 메모(알아두기) :\n",
    " *  (01) 입력층으로 들어온 데이터를 인코더를 통해 은닉층으로 내보낸다.\n",
    " *  (02) 은닉층의 데이터를 디코더를 통해 출력층으로 내보낸다.\n",
    " *  (03) 만들어진 출력값과 입력값이 같아지도록 만드는 가중치를 찾아낸다."
   ]
  },
  {
   "cell_type": "markdown",
   "metadata": {},
   "source": [
    "## 02. 간단한 예제를 보자."
   ]
  },
  {
   "cell_type": "code",
   "execution_count": 1,
   "metadata": {},
   "outputs": [],
   "source": [
    "import os, warnings\n",
    "# warnings.filterwarnings(action='default')\n",
    "warnings.filterwarnings(action='ignore')"
   ]
  },
  {
   "cell_type": "code",
   "execution_count": 2,
   "metadata": {},
   "outputs": [],
   "source": [
    "import tensorflow as tf\n",
    "import numpy as np\n",
    "import matplotlib.pyplot as plt"
   ]
  },
  {
   "cell_type": "code",
   "execution_count": 5,
   "metadata": {},
   "outputs": [
    {
     "name": "stdout",
     "output_type": "stream",
     "text": [
      "Extracting ./mnist/data/train-images-idx3-ubyte.gz\n",
      "Extracting ./mnist/data/train-labels-idx1-ubyte.gz\n",
      "Extracting ./mnist/data/t10k-images-idx3-ubyte.gz\n",
      "Extracting ./mnist/data/t10k-labels-idx1-ubyte.gz\n"
     ]
    }
   ],
   "source": [
    "from tensorflow.examples.tutorials.mnist import input_data\n",
    "mnist = input_data.read_data_sets(\"./mnist/data/\", one_hot=True)"
   ]
  },
  {
   "cell_type": "code",
   "execution_count": 6,
   "metadata": {},
   "outputs": [],
   "source": [
    "learning_rate = 0.01    # 학습율 0.01\n",
    "training_epoch = 20     # 훈련 전체 데이터 사용 횟수 20회 \n",
    "batch_size = 100        # 배치 사이즈 100\n",
    "n_hidden = 256          # 은닉층의 노드 개수 256\n",
    "n_input = 28 * 28       # 784개 (입력층) "
   ]
  },
  {
   "cell_type": "markdown",
   "metadata": {},
   "source": [
    "### 오토 인코더의 핵심\n",
    "* 인코더와 디코더를 만들기"
   ]
  },
  {
   "cell_type": "markdown",
   "metadata": {},
   "source": [
    "### 인코더(encoder) 만들기 \n",
    " * STEP 01. 맨처음은 n_hidden개의 뉴런을 가지는 은닉층을 만들기\n",
    " * STEP 02. 가중치(W)와 편향 변수(B)를 원하는 뉴런의 개수만큼 설정.\n",
    " * STEP 03. 활성화 함수 sigmoid 함수를 적용.\n",
    " * 기억해두기, <font style=\"color:blue\">n_input(입력층 노드) 값보다 n_hidden(은닉층 노드) 값이 더 작다.</font>\n",
    "    * 항상 그런것이 아니라 은닉층이 더 큰 오토인코더 모델도 있음."
   ]
  },
  {
   "cell_type": "code",
   "execution_count": 8,
   "metadata": {},
   "outputs": [],
   "source": [
    "X = tf.placeholder(tf.float32, [None, n_input])\n",
    "W_encode = tf.Variable(tf.random_normal([n_input, n_hidden])) # W의 지정\n",
    "b_encode = tf.Variable(tf.random_normal([n_hidden]))          # \n",
    "\n",
    "encoder = tf.nn.sigmoid(tf.add(tf.matmul(X, W_encode), b_encode)) # "
   ]
  },
  {
   "cell_type": "markdown",
   "metadata": {},
   "source": [
    "### 디코더(decoder) 만들기 \n",
    "* Tip01. 여기서 입력값은 은닉층의 노드수가 된다.\n",
    "* Tip02. 출력값을 입력층의 크기로 만듬.\n",
    "<hr>\n",
    "* 은닉층 데이터를 디코더를 통해 출력층으로 내보낸다.\n",
    "* 만들어진 출력값을 입력값과 비슷해 지도록 만드는 가중치를 찾는다."
   ]
  },
  {
   "cell_type": "code",
   "execution_count": 9,
   "metadata": {},
   "outputs": [],
   "source": [
    "W_decode = tf.Variable(tf.random_normal([n_hidden, n_input]))\n",
    "b_decode = tf.Variable(tf.random_normal([n_input]))\n",
    "decoder = tf.nn.sigmoid(tf.add(tf.matmul(encoder, W_decode), b_decode))"
   ]
  },
  {
   "cell_type": "markdown",
   "metadata": {},
   "source": [
    "### <font style=\"color:red\">오토 인코더의 최종 목적은 출력값과 입력값을 가장 비슷하게 만드는 것</font>\n",
    "* 이렇게 될 경우, 은닉층의 뉴런들을 통해 입력값의 특징을 알 수 있음."
   ]
  },
  {
   "cell_type": "markdown",
   "metadata": {},
   "source": [
    "### 손실함수(cost) 및 최적화(optimizer)함수\n",
    "* 입력값 X를 평가하기 위한 실측값 사용.\n",
    "* 디코더가 내보낸 결과값과의 차이(X-decoder)를 손실값으로 설정."
   ]
  },
  {
   "cell_type": "code",
   "execution_count": 10,
   "metadata": {},
   "outputs": [],
   "source": [
    "cost = tf.reduce_mean(tf.pow(X- decoder, 2))"
   ]
  },
  {
   "cell_type": "markdown",
   "metadata": {},
   "source": [
    "### 최적함 함수 사용 : RMSPropOptimizer 함수"
   ]
  },
  {
   "cell_type": "code",
   "execution_count": 11,
   "metadata": {},
   "outputs": [],
   "source": [
    "optimizer = tf.train.RMSPropOptimizer(learning_rate).minimize(cost)"
   ]
  },
  {
   "cell_type": "markdown",
   "metadata": {},
   "source": [
    "### 학습 진행\n",
    "* 세션 설정\n",
    "* 배치 사이즈 지정\n",
    "* 학습 수행"
   ]
  },
  {
   "cell_type": "code",
   "execution_count": 12,
   "metadata": {},
   "outputs": [
    {
     "name": "stdout",
     "output_type": "stream",
     "text": [
      "Epoch: 0001 Avg. cost= 0.1978\n",
      "Epoch: 0002 Avg. cost= 0.0516\n",
      "Epoch: 0003 Avg. cost= 0.0408\n",
      "Epoch: 0004 Avg. cost= 0.0368\n",
      "Epoch: 0005 Avg. cost= 0.0346\n",
      "Epoch: 0006 Avg. cost= 0.0328\n",
      "Epoch: 0007 Avg. cost= 0.0317\n",
      "Epoch: 0008 Avg. cost= 0.0311\n",
      "Epoch: 0009 Avg. cost= 0.0303\n",
      "Epoch: 0010 Avg. cost= 0.0293\n",
      "Epoch: 0011 Avg. cost= 0.0280\n",
      "Epoch: 0012 Avg. cost= 0.0274\n",
      "Epoch: 0013 Avg. cost= 0.0270\n",
      "Epoch: 0014 Avg. cost= 0.0267\n",
      "Epoch: 0015 Avg. cost= 0.0262\n",
      "Epoch: 0016 Avg. cost= 0.0250\n",
      "Epoch: 0017 Avg. cost= 0.0248\n",
      "Epoch: 0018 Avg. cost= 0.0247\n",
      "Epoch: 0019 Avg. cost= 0.0245\n",
      "Epoch: 0020 Avg. cost= 0.0244\n",
      "최적화 완료!\n"
     ]
    }
   ],
   "source": [
    "init = tf.global_variables_initializer()\n",
    "sess = tf.Session()\n",
    "sess.run(init)\n",
    "\n",
    "total_batch = int(mnist.train.num_examples/batch_size)\n",
    "\n",
    "for epoch in range(training_epoch):\n",
    "    total_cost = 0\n",
    "    \n",
    "    for i in range(total_batch):\n",
    "        batch_xs, batch_ys = mnist.train.next_batch(batch_size)\n",
    "        _, cost_val = sess.run([optimizer, cost], \n",
    "                              feed_dict={X:batch_xs})\n",
    "        total_cost += cost_val\n",
    "        \n",
    "    print('Epoch:', '%04d' % (epoch + 1), \n",
    "         'Avg. cost=', '{:.4f}'.format(total_cost / total_batch))\n",
    "    \n",
    "print('최적화 완료!')"
   ]
  },
  {
   "cell_type": "markdown",
   "metadata": {},
   "source": [
    "### 디코더로 생성해 낸 결과를 직관적 방법으로 확인"
   ]
  },
  {
   "cell_type": "code",
   "execution_count": 13,
   "metadata": {},
   "outputs": [
    {
     "data": {
      "text/plain": [
       "array([[0.0000000e+00, 0.0000000e+00, 0.0000000e+00, ..., 0.0000000e+00,\n",
       "        0.0000000e+00, 0.0000000e+00],\n",
       "       [0.0000000e+00, 0.0000000e+00, 5.2657723e-04, ..., 0.0000000e+00,\n",
       "        7.9498589e-03, 0.0000000e+00],\n",
       "       [2.9802322e-08, 2.3841858e-06, 0.0000000e+00, ..., 0.0000000e+00,\n",
       "        0.0000000e+00, 0.0000000e+00],\n",
       "       ...,\n",
       "       [0.0000000e+00, 2.9802322e-08, 0.0000000e+00, ..., 0.0000000e+00,\n",
       "        0.0000000e+00, 0.0000000e+00],\n",
       "       [7.0333481e-06, 0.0000000e+00, 1.7881393e-07, ..., 0.0000000e+00,\n",
       "        1.7881393e-07, 0.0000000e+00],\n",
       "       [0.0000000e+00, 0.0000000e+00, 0.0000000e+00, ..., 0.0000000e+00,\n",
       "        0.0000000e+00, 2.9802322e-08]], dtype=float32)"
      ]
     },
     "execution_count": 13,
     "metadata": {},
     "output_type": "execute_result"
    }
   ],
   "source": [
    "sample_size = 10\n",
    "samples = sess.run(decoder, \n",
    "                  feed_dict = {X:mnist.test.images[:sample_size]})\n",
    "samples"
   ]
  },
  {
   "cell_type": "markdown",
   "metadata": {},
   "source": [
    "### 위쪽 이미지가 원본, 아래쪽이 신경망(오토인코더)가 생성."
   ]
  },
  {
   "cell_type": "code",
   "execution_count": 14,
   "metadata": {},
   "outputs": [
    {
     "data": {
      "image/png": "[encoded data removed]",
      "text/plain": [
       "<Figure size 720x144 with 20 Axes>"
      ]
     },
     "metadata": {},
     "output_type": "display_data"
    }
   ],
   "source": [
    "fig, ax = plt.subplots(2, sample_size, figsize=(sample_size, 2))\n",
    "\n",
    "for i in range(sample_size):\n",
    "    ax[0][i].set_axis_off()\n",
    "    ax[1][i].set_axis_off()\n",
    "    ax[0][i].imshow(np.reshape(mnist.test.images[i], (28,28)))\n",
    "    ax[1][i].imshow(np.reshape(samples[i], (28,28)))\n",
    "    \n",
    "plt.show()"
   ]
  },
  {
   "cell_type": "markdown",
   "metadata": {},
   "source": [
    "## 03. 어디에 사용되는가?"
   ]
  },
  {
   "cell_type": "markdown",
   "metadata": {},
   "source": [
    "### 암호화, 비정상 거래 검출 등."
   ]
  },
  {
   "cell_type": "code",
   "execution_count": null,
   "metadata": {},
   "outputs": [],
   "source": []
  }
 ],
 "metadata": {
  "kernelspec": {
   "display_name": "Python 3",
   "language": "python",
   "name": "python3"
  },
  "language_info": {
   "codemirror_mode": {
    "name": "ipython",
    "version": 3
   },
   "file_extension": ".py",
   "mimetype": "text/x-python",
   "name": "python",
   "nbconvert_exporter": "python",
   "pygments_lexer": "ipython3",
   "version": "3.6.5"
  }
 },
 "nbformat": 4,
 "nbformat_minor": 2
}
