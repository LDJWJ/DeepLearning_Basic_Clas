{
 "cells": [
  {
   "cell_type": "markdown",
   "metadata": {},
   "source": [
    "## RNN 활용 - 단어 자동 완성하기"
   ]
  },
  {
   "cell_type": "markdown",
   "metadata": {},
   "source": [
    "#### 4개의 글자를 가진 단어를 학습시켜, 3글자만 주어지면 나머지 한글자를 추천하여 단어를 완성\n",
    " * dynamic_rnn의 sequence_length 옵션을 사용하면 가변 길이의 단어를 학습\n",
    " * 학습시킬 데이터는 영문자로 구성된 임의의 단어 사용\n",
    " * 한 글자, 한 글자가 한 단계의 입력값, 총 글자수가 전체 단계가 된다.\n",
    " * word : 4글자 w, o, r, d - 총 4단계"
   ]
  },
  {
   "cell_type": "code",
   "execution_count": 1,
   "metadata": {},
   "outputs": [
    {
     "name": "stderr",
     "output_type": "stream",
     "text": [
      "C:\\Anaconda3\\lib\\site-packages\\h5py\\__init__.py:36: FutureWarning: Conversion of the second argument of issubdtype from `float` to `np.floating` is deprecated. In future, it will be treated as `np.float64 == np.dtype(float).type`.\n",
      "  from ._conv import register_converters as _register_converters\n"
     ]
    }
   ],
   "source": [
    "import tensorflow as tf\n",
    "import numpy as np"
   ]
  },
  {
   "cell_type": "code",
   "execution_count": 2,
   "metadata": {},
   "outputs": [],
   "source": [
    "import os, warnings\n",
    "# 이미지 처리 분야에서 가장 유명한 신경망 모델인 CNN 을 이용\n",
    "import tensorflow as tf\n",
    "import time\n",
    "from IPython.display import display, Image"
   ]
  },
  {
   "cell_type": "code",
   "execution_count": 3,
   "metadata": {},
   "outputs": [],
   "source": [
    "# 경고 메시지 무시하거나 숨길때(ignore), 다시보이게(default)\n",
    "# warnings.filterwarnings(action='default')\n",
    "warnings.filterwarnings(action='ignore')"
   ]
  },
  {
   "cell_type": "markdown",
   "metadata": {},
   "source": [
    "### 알파벳 리스트 지정"
   ]
  },
  {
   "cell_type": "code",
   "execution_count": 4,
   "metadata": {},
   "outputs": [],
   "source": [
    "char_arr = ['a', 'b', 'c', 'd', 'e', 'f', 'g',\n",
    "            'h', 'i', 'j', 'k', 'l', 'm', 'n',\n",
    "            'o', 'p', 'q', 'r', 's', 't', 'u',\n",
    "            'v', 'w', 'x', 'y', 'z']"
   ]
  },
  {
   "cell_type": "markdown",
   "metadata": {},
   "source": [
    "### 알파벳을 숫자로 보여주기"
   ]
  },
  {
   "cell_type": "markdown",
   "metadata": {},
   "source": [
    "* one-hot 인코딩 사용 및 디코딩을 하기 위해 연관 배열을 생성.\n",
    "* 알파벳 딕셔너리 데이터 셋 생성."
   ]
  },
  {
   "cell_type": "code",
   "execution_count": 5,
   "metadata": {},
   "outputs": [
    {
     "name": "stdout",
     "output_type": "stream",
     "text": [
      "26\n"
     ]
    }
   ],
   "source": [
    "# one-hot 인코딩 사용 및 디코딩을 하기 위해 연관 배열을 만듭니다.\n",
    "# {'a': 0, 'b': 1, 'c': 2, ..., 'j': 9, 'k', 10, ...}\n",
    "num_dic = {n: i for i, n in enumerate(char_arr)}\n",
    "dic_len = len(num_dic)\n",
    "print(dic_len)"
   ]
  },
  {
   "cell_type": "markdown",
   "metadata": {},
   "source": [
    "### 테스트를 위해 데이터 준비"
   ]
  },
  {
   "cell_type": "code",
   "execution_count": 6,
   "metadata": {},
   "outputs": [],
   "source": [
    "# 입력값과 출력값으로 아래와 같이 사용\n",
    "# wor -> X, d -> Y\n",
    "# woo -> X, d -> Y\n",
    "seq_data = ['word', 'wood', 'deep', 'dive', \n",
    "            'cold', 'cool', 'load', 'love', 'kiss', 'kind']"
   ]
  },
  {
   "cell_type": "code",
   "execution_count": 7,
   "metadata": {},
   "outputs": [
    {
     "name": "stdout",
     "output_type": "stream",
     "text": [
      "[22, 14, 17]\n",
      "[[0. 0. 0. 0. 0. 0. 0. 0. 0. 0. 0. 0. 0. 0. 0. 0. 0. 0. 0. 0. 0. 0. 1. 0.\n",
      "  0. 0.]\n",
      " [0. 0. 0. 0. 0. 0. 0. 0. 0. 0. 0. 0. 0. 0. 1. 0. 0. 0. 0. 0. 0. 0. 0. 0.\n",
      "  0. 0.]\n",
      " [0. 0. 0. 0. 0. 0. 0. 0. 0. 0. 0. 0. 0. 0. 0. 0. 0. 1. 0. 0. 0. 0. 0. 0.\n",
      "  0. 0.]]\n"
     ]
    }
   ],
   "source": [
    "# 각 단어의 한글자 한글자 index를 저장\n",
    "print([num_dic[n] for n in seq_data[0][:-1]])\n",
    "\n",
    "print(np.eye(dic_len)[[22, 14, 17]])"
   ]
  },
  {
   "cell_type": "markdown",
   "metadata": {},
   "source": [
    "### def make_batch(seq_data) : 주어진 데이터를 입력과 출력으로 분리\n",
    "* input_batch = [], target_batch = [] 입출력 리스트 \n",
    "* for seq in seq_data: -> 단어별 seq 전달\n",
    "    \n",
    "* 각 단어의 한글자 한글자 index를 저장(4글자중 3글자)\n",
    "   * input = [num_dic[n] for n in seq[:-1]] => i\n",
    "    \n",
    "* 단어의 마지막 글자 인덱스\n",
    "   * target = num_dic[seq[-1]]\n",
    "\n",
    "* 3글자의 원핫인코딩값을 추가\n",
    "   * input_batch.append(np.eye(dic_len)[input])\n",
    "\n",
    "* 4번째 글자는 원핫하지 않고, 넘겨준다.\n",
    "   * target_batch.append(target)"
   ]
  },
  {
   "cell_type": "code",
   "execution_count": 8,
   "metadata": {},
   "outputs": [],
   "source": [
    "def make_batch(seq_data, dic_len_num):\n",
    "    input_batch = []\n",
    "    target_batch = []\n",
    "\n",
    "    for seq in seq_data:\n",
    "        # input은 단어의 글자 알파벳 배열의 인덱스 번호 입니다.\n",
    "        # [22, 14, 17] [22, 14, 14] [3, 4, 4] [3, 8, 21] ...\n",
    "        input = [num_dic[n] for n in seq[:-1]]\n",
    "        \n",
    "        target = num_dic[seq[-1]]  # 마지막 글자 인덱스\n",
    "        \n",
    "        # 3글자에 대한 one-hot 인코딩을 합니다.\n",
    "        # if input is [0, 1, 2]:\n",
    "        # [[ 1.  0.  0.  0.  0.  0.  0.  0.  0.  0.]\n",
    "        #  [ 0.  1.  0.  0.  0.  0.  0.  0.  0.  0.]\n",
    "        #  [ 0.  0.  1.  0.  0.  0.  0.  0.  0.  0.]]\n",
    "        input_batch.append(np.eye(dic_len_num)[input])\n",
    "        target_batch.append(target)\n",
    "\n",
    "    return input_batch, target_batch"
   ]
  },
  {
   "cell_type": "markdown",
   "metadata": {},
   "source": [
    "* 지금까지 손실함수로 사용하던 softmax_cross_entropy_with_logits 함수는\n",
    "* label 값을 one-hot 인코딩으로 넘겨줘야 하지만,\n",
    "* 이 예제에서 사용할 손실 함수인 \n",
    "* sparse_softmax_cross_entropy_with_logits 는\n",
    "* one-hot 인코딩을 사용하지 않으므로 index 를 그냥 넘겨주면 됩니다."
   ]
  },
  {
   "cell_type": "code",
   "execution_count": 9,
   "metadata": {},
   "outputs": [],
   "source": [
    "seq_data_test = ['work', 'book']"
   ]
  },
  {
   "cell_type": "code",
   "execution_count": 10,
   "metadata": {},
   "outputs": [
    {
     "name": "stdout",
     "output_type": "stream",
     "text": [
      "a의 값 : 3글자의 알파벳 인덱스 원핫값\n",
      "전체 단어수 : 2\n",
      "첫번째 단어 3글자 :\n",
      "[[0. 0. 0. 0. 0. 0. 0. 0. 0. 0. 0. 0. 0. 0. 0. 0. 0. 0. 0. 0. 0. 0. 1. 0.\n",
      "  0. 0.]\n",
      " [0. 0. 0. 0. 0. 0. 0. 0. 0. 0. 0. 0. 0. 0. 1. 0. 0. 0. 0. 0. 0. 0. 0. 0.\n",
      "  0. 0.]\n",
      " [0. 0. 0. 0. 0. 0. 0. 0. 0. 0. 0. 0. 0. 0. 0. 0. 0. 1. 0. 0. 0. 0. 0. 0.\n",
      "  0. 0.]]\n",
      "두번째 단어 3글자 :\n",
      "[[0. 1. 0. 0. 0. 0. 0. 0. 0. 0. 0. 0. 0. 0. 0. 0. 0. 0. 0. 0. 0. 0. 0. 0.\n",
      "  0. 0.]\n",
      " [0. 0. 0. 0. 0. 0. 0. 0. 0. 0. 0. 0. 0. 0. 1. 0. 0. 0. 0. 0. 0. 0. 0. 0.\n",
      "  0. 0.]\n",
      " [0. 0. 0. 0. 0. 0. 0. 0. 0. 0. 0. 0. 0. 0. 1. 0. 0. 0. 0. 0. 0. 0. 0. 0.\n",
      "  0. 0.]]\n",
      "b의 값 : 마지막 글자 index\n",
      "[10, 10]\n",
      "a와 b의 리스트 길이\n",
      "2 2\n"
     ]
    }
   ],
   "source": [
    "## 잠시 결과 확인\n",
    "## word\n",
    "a, b= make_batch(seq_data_test, dic_len)\n",
    "print(\"a의 값 : 3글자의 알파벳 인덱스 원핫값\")  # w, o, r\n",
    "print(\"전체 단어수 : {}\".format(len(a)))\n",
    "print(\"첫번째 단어 3글자 :\")\n",
    "print(a[0])  # w, o, r\n",
    "print(\"두번째 단어 3글자 :\")\n",
    "print(a[1])  # b, o, o\n",
    "print(\"b의 값 : 마지막 글자 index\")  # k, k\n",
    "print(b)  # d\n",
    "print(\"a와 b의 리스트 길이\")  # k, k\n",
    "print(len(a), len(b))  # d"
   ]
  },
  {
   "cell_type": "markdown",
   "metadata": {},
   "source": [
    "### 파라미터 설정\n",
    "* learning_rate = 0.01 (학습률)\n",
    "* n_hidden = 128       (은닉층 노드 개수)\n",
    "* total_epoch = 30     (전체 학습 epoch 수)\n",
    "* n_step = 3           (RNN구성 Step 수)\n",
    "* 입력값 크기, 알파벳 one-hot 인코딩 개수\n",
    "  * n_input = n_class = dic_len\n",
    "  * 예) c => [0 0 1 0 0 0 0 0 0 0 0 ... 0]\n",
    "  * 출력값도 입력값과 마찬가지로 26개의 알파벳으로 분류."
   ]
  },
  {
   "cell_type": "code",
   "execution_count": 11,
   "metadata": {},
   "outputs": [],
   "source": [
    "learning_rate = 0.01\n",
    "n_hidden = 128\n",
    "total_epoch = 30\n",
    "\n",
    "n_step = 3\n",
    "n_input = n_class = dic_len"
   ]
  },
  {
   "cell_type": "markdown",
   "metadata": {},
   "source": [
    "### 신경망 모델 구성\n",
    "* Y의 값을 정수 선언\n",
    "  * 비용함수에 sparse_softmax_cross_entropy_with_logits 을 사용\n",
    "  * one-hot vector 의 형태가 아닌, 인덱스 숫자를 그대로 사용"
   ]
  },
  {
   "cell_type": "markdown",
   "metadata": {},
   "source": [
    "### sparse_softmax_cross_entropy_with_logits "
   ]
  },
  {
   "cell_type": "markdown",
   "metadata": {},
   "source": [
    "<pre>\n",
    "tf.nn.sparse_softmax_cross_entropy_with_logits(\n",
    "    labels,\n",
    "    logits,\n",
    "    name=None\n",
    ")\n",
    "</pre>\n",
    "*  labels 값은 인덱스 값 숫자를 그대로 사용\n",
    "* 예측 모델의 출력값은 인덱스의 원핫 인코딩을 사용"
   ]
  },
  {
   "cell_type": "code",
   "execution_count": 12,
   "metadata": {},
   "outputs": [
    {
     "name": "stdout",
     "output_type": "stream",
     "text": [
      "WARNING:tensorflow:From C:\\Anaconda3\\lib\\site-packages\\tensorflow\\python\\framework\\op_def_library.py:263: colocate_with (from tensorflow.python.framework.ops) is deprecated and will be removed in a future version.\n",
      "Instructions for updating:\n",
      "Colocations handled automatically by placer.\n"
     ]
    }
   ],
   "source": [
    "X = tf.placeholder(tf.float32, [None, n_step, n_input]) # 입력 \n",
    "Y = tf.placeholder(tf.int32, [None])                    # 출력\n",
    "W = tf.Variable(tf.random_normal([n_hidden, n_class]))  \n",
    "b = tf.Variable(tf.random_normal([n_class]))"
   ]
  },
  {
   "cell_type": "markdown",
   "metadata": {},
   "source": [
    "### RNN 셀을 생성"
   ]
  },
  {
   "cell_type": "markdown",
   "metadata": {},
   "source": [
    "* DropoutWrapper 함수 : RNN에도 과적합 방지를 위한 DropoutWrapper 함수 적용이 가능하다. \n",
    "* 두개의 RNN 셀 생성 : 여러셀을 조합한 심층 신경망 만들기\n",
    "  * tf.nn.rnn_cell.BasicLSTMCell(n_hidden)\n",
    "  * DropOut 사용 \n",
    "    * tf.nn.rnn_cell.DropoutWrapper(cell1, output_keep_prob=0.5)"
   ]
  },
  {
   "cell_type": "code",
   "execution_count": 13,
   "metadata": {},
   "outputs": [
    {
     "name": "stdout",
     "output_type": "stream",
     "text": [
      "WARNING:tensorflow:From <ipython-input-13-56a1e34f8fe6>:1: BasicLSTMCell.__init__ (from tensorflow.python.ops.rnn_cell_impl) is deprecated and will be removed in a future version.\n",
      "Instructions for updating:\n",
      "This class is equivalent as tf.keras.layers.LSTMCell, and will be replaced by that in Tensorflow 2.0.\n"
     ]
    }
   ],
   "source": [
    "cell1 = tf.nn.rnn_cell.BasicLSTMCell(n_hidden) # 첫번째 셀 생성\n",
    "cell1 = tf.nn.rnn_cell.DropoutWrapper(cell1, output_keep_prob=0.5)  # Dropout\n",
    "\n",
    "cell2 = tf.nn.rnn_cell.BasicLSTMCell(n_hidden) # 두번째 셀 생성"
   ]
  },
  {
   "cell_type": "markdown",
   "metadata": {},
   "source": [
    "### Deep RNN을 만들기 \n",
    "* 앞에서 만든 셀을 조합한다. (MultiRNNCell 함수 사용)\n",
    "* dynamic_rnn 함수 사용\n",
    "  * dynamic_rnn 함수 : Creates a recurrent neural network specified by RNNCell cell\n",
    "  * RNN셀을 활용하여 RNN 신경망을 만든다.\n",
    "  * https://www.tensorflow.org/versions/r1.14/api_docs/python/tf/nn/dynamic_rnn"
   ]
  },
  {
   "cell_type": "code",
   "execution_count": 14,
   "metadata": {},
   "outputs": [
    {
     "name": "stdout",
     "output_type": "stream",
     "text": [
      "WARNING:tensorflow:From <ipython-input-14-22545caefd23>:2: MultiRNNCell.__init__ (from tensorflow.python.ops.rnn_cell_impl) is deprecated and will be removed in a future version.\n",
      "Instructions for updating:\n",
      "This class is equivalent as tf.keras.layers.StackedRNNCells, and will be replaced by that in Tensorflow 2.0.\n",
      "WARNING:tensorflow:From <ipython-input-14-22545caefd23>:4: dynamic_rnn (from tensorflow.python.ops.rnn) is deprecated and will be removed in a future version.\n",
      "Instructions for updating:\n",
      "Please use `keras.layers.RNN(cell)`, which is equivalent to this API\n",
      "WARNING:tensorflow:From C:\\Anaconda3\\lib\\site-packages\\tensorflow\\python\\ops\\rnn_cell_impl.py:1259: calling dropout (from tensorflow.python.ops.nn_ops) with keep_prob is deprecated and will be removed in a future version.\n",
      "Instructions for updating:\n",
      "Please use `rate` instead of `keep_prob`. Rate should be set to `rate = 1 - keep_prob`.\n"
     ]
    }
   ],
   "source": [
    "# 에러 발생시 커널 restart\n",
    "multi_cell = tf.nn.rnn_cell.MultiRNNCell([cell1, cell2]) # 멀티 셀 생성.\n",
    "\n",
    "outputs, states = tf.nn.dynamic_rnn(multi_cell, X, dtype=tf.float32) # RNN신경망"
   ]
  },
  {
   "cell_type": "code",
   "execution_count": 15,
   "metadata": {},
   "outputs": [
    {
     "name": "stdout",
     "output_type": "stream",
     "text": [
      "multi_cell ======>\n",
      "<tensorflow.python.ops.rnn_cell_impl.MultiRNNCell object at 0x00000224A3AA6BE0>\n",
      "\n",
      "outputs ======>\n",
      "Tensor(\"rnn/transpose_1:0\", shape=(?, 3, 128), dtype=float32)\n",
      "\n",
      "states ======>\n",
      "(LSTMStateTuple(c=<tf.Tensor 'rnn/while/Exit_3:0' shape=(?, 128) dtype=float32>, h=<tf.Tensor 'rnn/while/Exit_4:0' shape=(?, 128) dtype=float32>), LSTMStateTuple(c=<tf.Tensor 'rnn/while/Exit_5:0' shape=(?, 128) dtype=float32>, h=<tf.Tensor 'rnn/while/Exit_6:0' shape=(?, 128) dtype=float32>))\n"
     ]
    }
   ],
   "source": [
    "print(\"multi_cell ======>\")\n",
    "print(multi_cell)\n",
    "print()\n",
    "print(\"outputs ======>\")\n",
    "print(outputs)\n",
    "\n",
    "print()\n",
    "print(\"states ======>\")\n",
    "print(states)"
   ]
  },
  {
   "cell_type": "markdown",
   "metadata": {},
   "source": [
    "### 최종 출력층 만들기\n",
    "* RNN 신경망이 출력값의 형태 -> [batch_size, n_step, n_hidden]\n",
    "* 이를 실측값과 비교를 위해 아래와 같이 변경\n",
    "  * (가) 순서 바꾸기 :  \n",
    "  * [batch_size, n_step, n_hidden]  -> [n_step, batch_size, n_hidden]\n",
    "  * (나) n_step의 차원을 제거 [batch_size, n_hidden]"
   ]
  },
  {
   "cell_type": "code",
   "execution_count": 16,
   "metadata": {},
   "outputs": [],
   "source": [
    "outputs = tf.transpose(outputs, [1, 0, 2])\n",
    "outputs = outputs[-1]\n",
    "model = tf.matmul(outputs, W) + b"
   ]
  },
  {
   "cell_type": "markdown",
   "metadata": {},
   "source": [
    "### 손실함수(cost), 최적화 함수(optimizer)"
   ]
  },
  {
   "cell_type": "code",
   "execution_count": 17,
   "metadata": {},
   "outputs": [],
   "source": [
    "cost = tf.reduce_mean(\n",
    "            tf.nn.sparse_softmax_cross_entropy_with_logits(\n",
    "                logits=model, labels=Y))\n",
    "\n",
    "optimizer = tf.train.AdamOptimizer(learning_rate).minimize(cost)"
   ]
  },
  {
   "cell_type": "markdown",
   "metadata": {},
   "source": [
    "### 신경망 실행 - 그래프 실행"
   ]
  },
  {
   "cell_type": "code",
   "execution_count": 18,
   "metadata": {},
   "outputs": [],
   "source": [
    "sess = tf.Session()\n",
    "sess.run(tf.global_variables_initializer())\n",
    "\n",
    "input_batch, target_batch = make_batch(seq_data, dic_len)"
   ]
  },
  {
   "cell_type": "code",
   "execution_count": 19,
   "metadata": {},
   "outputs": [
    {
     "name": "stdout",
     "output_type": "stream",
     "text": [
      "Epoch: 0001 cost = 4.248590\n",
      "Epoch: 0002 cost = 3.131035\n",
      "Epoch: 0003 cost = 1.843633\n",
      "Epoch: 0004 cost = 1.450798\n",
      "Epoch: 0005 cost = 0.990852\n",
      "Epoch: 0006 cost = 0.810740\n",
      "Epoch: 0007 cost = 0.384700\n",
      "Epoch: 0008 cost = 0.468316\n",
      "Epoch: 0009 cost = 0.306273\n",
      "Epoch: 0010 cost = 0.217975\n",
      "Epoch: 0011 cost = 0.283368\n",
      "Epoch: 0012 cost = 0.205272\n",
      "Epoch: 0013 cost = 0.209421\n",
      "Epoch: 0014 cost = 0.163986\n",
      "Epoch: 0015 cost = 0.181547\n",
      "Epoch: 0016 cost = 0.180372\n",
      "Epoch: 0017 cost = 0.102199\n",
      "Epoch: 0018 cost = 0.034223\n",
      "Epoch: 0019 cost = 0.068512\n",
      "Epoch: 0020 cost = 0.048412\n",
      "Epoch: 0021 cost = 0.104109\n",
      "Epoch: 0022 cost = 0.048344\n",
      "Epoch: 0023 cost = 0.050188\n",
      "Epoch: 0024 cost = 0.066766\n",
      "Epoch: 0025 cost = 0.166204\n",
      "Epoch: 0026 cost = 0.004133\n",
      "Epoch: 0027 cost = 0.036584\n",
      "Epoch: 0028 cost = 0.005542\n",
      "Epoch: 0029 cost = 0.111795\n",
      "Epoch: 0030 cost = 0.200482\n",
      "최적화 완료!\n"
     ]
    }
   ],
   "source": [
    "for epoch in range(total_epoch):\n",
    "    _, loss = sess.run([optimizer, cost],\n",
    "                       feed_dict={X: input_batch, Y: target_batch})\n",
    "\n",
    "    print('Epoch:', '%04d' % (epoch + 1),\n",
    "          'cost =', '{:.6f}'.format(loss))\n",
    "\n",
    "print('최적화 완료!')"
   ]
  },
  {
   "cell_type": "markdown",
   "metadata": {},
   "source": [
    "### 결과 확인"
   ]
  },
  {
   "cell_type": "code",
   "execution_count": 20,
   "metadata": {},
   "outputs": [
    {
     "name": "stdout",
     "output_type": "stream",
     "text": [
      "prediction :  Tensor(\"Cast:0\", shape=(?,), dtype=int32)\n",
      "accuracy :  Tensor(\"Mean_1:0\", shape=(), dtype=float32)\n"
     ]
    }
   ],
   "source": [
    "# 레이블값이 정수이므로 예측값도 정수로 변경해줍니다.\n",
    "prediction = tf.cast(tf.argmax(model, 1), tf.int32)\n",
    "print(\"prediction : \", prediction)\n",
    "# one-hot 인코딩이 아니므로 입력값을 그대로 비교합니다.\n",
    "prediction_check = tf.equal(prediction, Y)\n",
    "accuracy = tf.reduce_mean(tf.cast(prediction_check, tf.float32))\n",
    "print(\"accuracy : \", accuracy)"
   ]
  },
  {
   "cell_type": "code",
   "execution_count": 21,
   "metadata": {},
   "outputs": [],
   "source": [
    "seq_data_test = ['hard', 'okay', 'deep', 'live', \n",
    "            'call', 'cool', 'load', 'love', 'kiss', 'kind']"
   ]
  },
  {
   "cell_type": "code",
   "execution_count": 22,
   "metadata": {},
   "outputs": [
    {
     "name": "stdout",
     "output_type": "stream",
     "text": [
      "[ 3  3 15  4  3 11  3  4 18  3] 0.8\n"
     ]
    }
   ],
   "source": [
    "input_batch, target_batch = make_batch(seq_data_test, dic_len)\n",
    "\n",
    "predict, accuracy_val = sess.run([prediction, accuracy],\n",
    "                                 feed_dict={X: input_batch, Y: target_batch})\n",
    "\n",
    "print(predict, accuracy_val)"
   ]
  },
  {
   "cell_type": "code",
   "execution_count": 23,
   "metadata": {},
   "outputs": [
    {
     "name": "stdout",
     "output_type": "stream",
     "text": [
      "\n",
      "=== 예측 결과 ===\n",
      "입력값: ['har ', 'oka ', 'dee ', 'liv ', 'cal ', 'coo ', 'loa ', 'lov ', 'kis ', 'kin ']\n",
      "예측값: ['hard', 'okad', 'deep', 'live', 'cald', 'cool', 'load', 'love', 'kiss', 'kind']\n",
      "정확도: 0.8\n"
     ]
    }
   ],
   "source": [
    "predict_words = []\n",
    "for idx, val in enumerate(seq_data_test):\n",
    "    last_char = char_arr[predict[idx]]\n",
    "    predict_words.append(val[:3] + last_char)\n",
    "\n",
    "print('\\n=== 예측 결과 ===')\n",
    "print('입력값:', [w[:3] + ' ' for w in seq_data_test])\n",
    "print('예측값:', predict_words)\n",
    "print('정확도:', accuracy_val)"
   ]
  },
  {
   "cell_type": "markdown",
   "metadata": {},
   "source": [
    "### 실습해 보기\n",
    "* seq_data 의 학습 사전을 100단어 정도로 더 업그레이드를 해 보자.\n",
    "* 그리고 실제 웹을 검색 후, 텍스트에서 4개 단어가 되는 것을 가지고 예측을 수행해보자.\n",
    "* 정확도가 어느정도 되는가?"
   ]
  },
  {
   "cell_type": "markdown",
   "metadata": {},
   "source": [
    "### REF\n",
    "* sparse_softmax_cross_entropy_with_logits\n",
    "https://www.tensorflow.org/api_docs/python/tf/nn/sparse_softmax_cross_entropy_with_logits"
   ]
  },
  {
   "cell_type": "code",
   "execution_count": null,
   "metadata": {},
   "outputs": [],
   "source": []
  }
 ],
 "metadata": {
  "kernelspec": {
   "display_name": "Python 3",
   "language": "python",
   "name": "python3"
  },
  "language_info": {
   "codemirror_mode": {
    "name": "ipython",
    "version": 3
   },
   "file_extension": ".py",
   "mimetype": "text/x-python",
   "name": "python",
   "nbconvert_exporter": "python",
   "pygments_lexer": "ipython3",
   "version": "3.6.5"
  }
 },
 "nbformat": 4,
 "nbformat_minor": 2
}
