{
 "cells": [
  {
   "cell_type": "markdown",
   "metadata": {},
   "source": [
    "### 01. 데이터 셋 만들기 "
   ]
  },
  {
   "cell_type": "code",
   "execution_count": 1,
   "metadata": {},
   "outputs": [],
   "source": [
    "from sklearn import model_selection\n",
    "from sklearn.model_selection import train_test_split\n",
    "from PIL import Image\n",
    "import os, glob\n",
    "import numpy as np"
   ]
  },
  {
   "cell_type": "markdown",
   "metadata": {},
   "source": [
    "### 데이터 불러오기"
   ]
  },
  {
   "cell_type": "code",
   "execution_count": 8,
   "metadata": {},
   "outputs": [],
   "source": [
    "root_dir = \"E:/dataset/00_kfood/kfood/\""
   ]
  },
  {
   "cell_type": "markdown",
   "metadata": {},
   "source": [
    "### 카테고리 지정"
   ]
  },
  {
   "cell_type": "code",
   "execution_count": 9,
   "metadata": {},
   "outputs": [],
   "source": [
    "categories = [\"Chicken\", \"Dolsotbab\"]"
   ]
  },
  {
   "cell_type": "code",
   "execution_count": 10,
   "metadata": {},
   "outputs": [],
   "source": [
    "nb_classes = len(categories)"
   ]
  },
  {
   "cell_type": "markdown",
   "metadata": {},
   "source": [
    "### 이미지 크기 지정"
   ]
  },
  {
   "cell_type": "code",
   "execution_count": 12,
   "metadata": {},
   "outputs": [],
   "source": [
    "# 이미지 크기 지정 (2)\n",
    "image_width = 64\n",
    "image_height = 64"
   ]
  },
  {
   "cell_type": "markdown",
   "metadata": {},
   "source": [
    "### 이미지 데이터 X, 레이블 Y"
   ]
  },
  {
   "cell_type": "code",
   "execution_count": 17,
   "metadata": {},
   "outputs": [
    {
     "name": "stdout",
     "output_type": "stream",
     "text": [
      "E:/dataset/00_kfood/kfood/Chicken/*.jpg\n",
      "E:/dataset/00_kfood/kfood/Dolsotbab/*.jpg\n",
      "(60, 64, 64, 3) (60,)\n"
     ]
    }
   ],
   "source": [
    "## 데이터 변수\n",
    "X = [] # 이미지 데이터\n",
    "Y = [] # 레이블 데이터\n",
    "\n",
    "for idx, category in enumerate(categories):\n",
    "    image_dir = root_dir + category\n",
    "    files = glob.glob(image_dir + \"/\" + \"*.jpg\")\n",
    "    print(image_dir + \"/\" +\"*.jpg\")\n",
    "\n",
    "    for i, f in enumerate(files):\n",
    "        # 이미지 로딩 (3)\n",
    "        img = Image.open(f)\n",
    "        img = img.convert(\"RGB\")\n",
    "        img = img.resize((image_width, image_height))\n",
    "        data = np.asarray(img)\n",
    "        X.append(data)\n",
    "        Y.append(idx)\n",
    "\n",
    "X = np.array(X)\n",
    "Y = np.array(Y)\n",
    "print(X.shape, Y.shape)"
   ]
  },
  {
   "cell_type": "markdown",
   "metadata": {},
   "source": [
    "### 데이터 셋 나누기"
   ]
  },
  {
   "cell_type": "code",
   "execution_count": 18,
   "metadata": {},
   "outputs": [],
   "source": [
    "X_train, X_test, Y_train, Y_test = train_test_split(X, Y)\n",
    "xy = (X_train, X_test, Y_train, Y_test)"
   ]
  },
  {
   "cell_type": "code",
   "execution_count": 19,
   "metadata": {},
   "outputs": [],
   "source": [
    "# 데이터 파일 저장 (5)\n",
    "np.save(root_dir + \"koreanfood02.npy\", xy)"
   ]
  },
  {
   "cell_type": "code",
   "execution_count": 20,
   "metadata": {},
   "outputs": [
    {
     "name": "stdout",
     "output_type": "stream",
     "text": [
      " E 드라이브의 볼륨: 새 볼륨\n",
      " 볼륨 일련 번호: 3AD1-95F7\n",
      "\n",
      " E:\\00_GitHub\\00_SBA_TF_Class\\TF_Basic_SBA 디렉터리\n",
      "\n",
      "2019-10-06  오후 11:09    <DIR>          .\n",
      "2019-10-06  오후 11:09    <DIR>          ..\n",
      "2019-10-06  오후 11:08    <DIR>          .ipynb_checkpoints\n",
      "2019-09-14  오후 11:31    <DIR>          mnist\n",
      "2019-09-14  오후 11:31    <DIR>          samples\n",
      "2019-10-06  오후 11:01             8,826 TF_LAB01_TensorflowStart.ipynb\n",
      "2019-09-30  오전 01:11            14,202 TF_LAB02_FirstModel_MNIST_V20_Start.ipynb\n",
      "2019-09-30  오전 01:10            63,324 TF_LAB02_Regression.ipynb\n",
      "2019-09-30  오후 10:05            28,639 TF_LAB03_MNIST.ipynb\n",
      "2019-09-30  오후 11:46             8,891 TF_LAB04_MNIST_DNN.ipynb\n",
      "2019-10-03  오후 11:12            34,019 TF_LAB05_Autoencoder.ipynb\n",
      "2019-09-30  오후 11:52           182,201 TF_LAB05_DROPOUT.ipynb\n",
      "2019-10-06  오후 10:49           313,533 TF_LAB06_CNN_A.ipynb\n",
      "2019-09-20  오전 11:19         1,053,612 TF_LAB06_CNN_B.ipynb\n",
      "2019-09-20  오후 01:06           489,257 TF_LAB06_CNN_C.ipynb\n",
      "2019-10-03  오후 07:43           260,719 TF_LAB06_CNN_Cifar10.ipynb\n",
      "2019-10-03  오후 10:57             8,179 TF_LAB06_CNN_D_add_cs231n.ipynb\n",
      "2019-10-03  오후 05:18           382,997 TF_LAB06_RNN01_MNIST.ipynb\n",
      "2019-10-05  오후 03:10            22,236 TF_LAB06_RNN02_WordMake.ipynb\n",
      "2019-10-05  오후 03:14            25,138 TF_LAB06_RNN03_WordMake_5charXX.ipynb\n",
      "2019-09-23  오후 03:35         3,033,049 TF_LAB08_GAN.ipynb\n",
      "2019-09-23  오후 03:28           357,776 TF_LAB08_GAN_START.ipynb\n",
      "2019-10-06  오후 11:08             3,743 TF_Project01_FoodClassification01.ipynb\n",
      "2019-10-06  오후 11:09             1,920 TF_Project01_FoodClassification02.ipynb\n",
      "2019-10-03  오후 06:18            12,890 Untitled.ipynb\n",
      "              20개 파일           6,305,151 바이트\n",
      "               5개 디렉터리  169,760,468,992 바이트 남음\n"
     ]
    }
   ],
   "source": [
    "!dir"
   ]
  },
  {
   "cell_type": "code",
   "execution_count": null,
   "metadata": {},
   "outputs": [],
   "source": []
  }
 ],
 "metadata": {
  "kernelspec": {
   "display_name": "Python 3",
   "language": "python",
   "name": "python3"
  },
  "language_info": {
   "codemirror_mode": {
    "name": "ipython",
    "version": 3
   },
   "file_extension": ".py",
   "mimetype": "text/x-python",
   "name": "python",
   "nbconvert_exporter": "python",
   "pygments_lexer": "ipython3",
   "version": "3.6.5"
  }
 },
 "nbformat": 4,
 "nbformat_minor": 2
}
