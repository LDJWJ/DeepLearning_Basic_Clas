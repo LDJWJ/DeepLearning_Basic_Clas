{
 "cells": [
  {
   "cell_type": "markdown",
   "metadata": {},
   "source": [
    "### 음식 분류 모델 만들기"
   ]
  },
  {
   "cell_type": "code",
   "execution_count": 3,
   "metadata": {},
   "outputs": [],
   "source": [
    "## 사용할 모델 라이브러리 import\n",
    "import sys, os\n",
    "from keras.models import Sequential\n",
    "from keras.layers import Convolution2D\n",
    "from keras.layers import MaxPooling2D\n",
    "from keras.layers import Activation\n",
    "from keras.layers import Dropout\n",
    "from keras.layers import Flatten\n",
    "from keras.layers import Dense\n",
    "from keras.utils import np_utils\n",
    "import numpy as np"
   ]
  },
  {
   "cell_type": "code",
   "execution_count": 4,
   "metadata": {},
   "outputs": [],
   "source": [
    "root_dir = \"E:/dataset/00_kfood/kfood/\"\n",
    "categories = [\"Chicken\", \"Dolsotbab\"]\n",
    "nb_classes = len(categories)\n",
    "image_size = 64"
   ]
  },
  {
   "cell_type": "markdown",
   "metadata": {},
   "source": [
    "### 데이터 불러오기"
   ]
  },
  {
   "cell_type": "code",
   "execution_count": 14,
   "metadata": {},
   "outputs": [],
   "source": [
    "def load_dataset():\n",
    "    x_train, x_test, y_train, y_test = np.load(root_dir + \"koreanfood02.npy\")\n",
    "    x_train = x_train.astype(\"float\") / 256\n",
    "    x_test = x_test.astype(\"float\") / 256\n",
    "    y_train = np_utils.to_categorical(y_train, nb_classes)\n",
    "    y_test = np_utils.to_categorical(y_test, nb_classes)\n",
    "    return  x_train, x_test, y_train, y_test"
   ]
  },
  {
   "cell_type": "markdown",
   "metadata": {},
   "source": [
    "### 모델 구성하기"
   ]
  },
  {
   "cell_type": "code",
   "execution_count": 33,
   "metadata": {},
   "outputs": [],
   "source": [
    "# 모델 구성  (2)\n",
    "def build_model(in_shape):\n",
    "    model = Sequential()\n",
    "    model.add(Convolution2D(32, 3, 3, border_mode='Same', \n",
    "                input_shape=in_shape))\n",
    "    model.add(Activation('sigmoid'))\n",
    "    model.add(MaxPooling2D(pool_size=(2,2)))\n",
    "    model.add(Dropout(0.25))  #  dropout\n",
    "    \n",
    "    model.add(Convolution2D(64, 3, 3, border_mode='same'))\n",
    "    model.add(Activation('sigmoid'))\n",
    "    model.add(Convolution2D(64, 3, 3))\n",
    "    model.add(MaxPooling2D(pool_size=(2,2)))\n",
    "    #  dropout\n",
    "    \n",
    "    model.add(Flatten())\n",
    "    model.add(Dense(512))\n",
    "    model.add(Activation('sigmoid'))\n",
    "    #  dropout\n",
    "    \n",
    "    model.add(Dense(nb_classes))\n",
    "    model.add(Activation('softmax'))\n",
    "    model.compile(loss='binary_crossentropy', \n",
    "                    optimizer='rmsprop', \n",
    "                    metrics=['accuracy'])\n",
    "\n",
    "    return model"
   ]
  },
  {
   "cell_type": "markdown",
   "metadata": {},
   "source": [
    "### 모델 학습하기"
   ]
  },
  {
   "cell_type": "code",
   "execution_count": 34,
   "metadata": {},
   "outputs": [],
   "source": [
    "# 모델 학습을 수행하고 저장된 모델을 파일로 저장  (3)\n",
    "def model_train(x, y):\n",
    "    model = build_model(x.shape[1:])\n",
    "    model.fit(x, y, batch_size=32, epochs=20)\n",
    "\n",
    "    return model"
   ]
  },
  {
   "cell_type": "markdown",
   "metadata": {},
   "source": [
    "### 모델 평가하기"
   ]
  },
  {
   "cell_type": "code",
   "execution_count": 35,
   "metadata": {},
   "outputs": [],
   "source": [
    "# 모델 평가하기  (4)\n",
    "def model_eval(model, x, y):\n",
    "    score = model.evaluate(x, y)\n",
    "    print('loss=', score[0])\n",
    "    print('accuracy=', score[1])"
   ]
  },
  {
   "cell_type": "markdown",
   "metadata": {},
   "source": [
    "### 모델 학습/평가/저장"
   ]
  },
  {
   "cell_type": "code",
   "execution_count": 36,
   "metadata": {},
   "outputs": [
    {
     "name": "stderr",
     "output_type": "stream",
     "text": [
      "C:\\Anaconda3\\lib\\site-packages\\ipykernel_launcher.py:5: UserWarning: Update your `Conv2D` call to the Keras 2 API: `Conv2D(32, (3, 3), input_shape=(64, 64, 3..., padding=\"Same\")`\n",
      "  \"\"\"\n",
      "C:\\Anaconda3\\lib\\site-packages\\ipykernel_launcher.py:10: UserWarning: Update your `Conv2D` call to the Keras 2 API: `Conv2D(64, (3, 3), padding=\"same\")`\n",
      "  # Remove the CWD from sys.path while we load stuff.\n",
      "C:\\Anaconda3\\lib\\site-packages\\ipykernel_launcher.py:12: UserWarning: Update your `Conv2D` call to the Keras 2 API: `Conv2D(64, (3, 3))`\n",
      "  if sys.path[0] == '':\n"
     ]
    },
    {
     "name": "stdout",
     "output_type": "stream",
     "text": [
      "Epoch 1/20\n",
      "45/45 [==============================] - 2s 35ms/step - loss: 2.7051 - acc: 0.5778\n",
      "Epoch 2/20\n",
      "45/45 [==============================] - 1s 12ms/step - loss: 8.9057 - acc: 0.4444\n",
      "Epoch 3/20\n",
      "45/45 [==============================] - 1s 11ms/step - loss: 8.9057 - acc: 0.4444\n",
      "Epoch 4/20\n",
      "45/45 [==============================] - 1s 11ms/step - loss: 8.9057 - acc: 0.4444\n",
      "Epoch 5/20\n",
      "45/45 [==============================] - 1s 12ms/step - loss: 8.9057 - acc: 0.4444\n",
      "Epoch 6/20\n",
      "45/45 [==============================] - 1s 12ms/step - loss: 8.9057 - acc: 0.4444\n",
      "Epoch 7/20\n",
      "45/45 [==============================] - 1s 11ms/step - loss: 8.9057 - acc: 0.4444\n",
      "Epoch 8/20\n",
      "45/45 [==============================] - 1s 12ms/step - loss: 8.9057 - acc: 0.4444\n",
      "Epoch 9/20\n",
      "45/45 [==============================] - 1s 12ms/step - loss: 8.9057 - acc: 0.4444\n",
      "Epoch 10/20\n",
      "45/45 [==============================] - 1s 12ms/step - loss: 8.9057 - acc: 0.4444\n",
      "Epoch 11/20\n",
      "45/45 [==============================] - 1s 12ms/step - loss: 8.9057 - acc: 0.4444\n",
      "Epoch 12/20\n",
      "45/45 [==============================] - 1s 12ms/step - loss: 8.9057 - acc: 0.4444\n",
      "Epoch 13/20\n",
      "45/45 [==============================] - 1s 12ms/step - loss: 8.9057 - acc: 0.4444\n",
      "Epoch 14/20\n",
      "45/45 [==============================] - 1s 12ms/step - loss: 8.9057 - acc: 0.4444\n",
      "Epoch 15/20\n",
      "45/45 [==============================] - 1s 12ms/step - loss: 8.9057 - acc: 0.4444\n",
      "Epoch 16/20\n",
      "45/45 [==============================] - 1s 12ms/step - loss: 8.9057 - acc: 0.4444\n",
      "Epoch 17/20\n",
      "45/45 [==============================] - 1s 13ms/step - loss: 8.9057 - acc: 0.4444\n",
      "Epoch 18/20\n",
      "45/45 [==============================] - 1s 12ms/step - loss: 8.9057 - acc: 0.4444\n",
      "Epoch 19/20\n",
      "45/45 [==============================] - 1s 12ms/step - loss: 8.9057 - acc: 0.4444\n",
      "Epoch 20/20\n",
      "45/45 [==============================] - 1s 11ms/step - loss: 8.9057 - acc: 0.4444\n",
      "15/15 [==============================] - 0s 16ms/step\n",
      "loss= 5.343413352966309\n",
      "accuracy= 0.6666666865348816\n"
     ]
    }
   ],
   "source": [
    "# 모델 학습 및 평가\n",
    "x_train, x_test, y_train, y_test = load_dataset()\n",
    "model = model_train(x_train, y_train)\n",
    "model_eval(model, x_test, y_test)"
   ]
  },
  {
   "cell_type": "code",
   "execution_count": 37,
   "metadata": {},
   "outputs": [],
   "source": [
    "# 모델 저장\n",
    "model.save(root_dir + \"koreanfood02_model.h5\")"
   ]
  },
  {
   "cell_type": "markdown",
   "metadata": {},
   "source": [
    "### 실습해 보기\n",
    "* 정확도를 올려보자.\n",
    "* 텐서플로워로 이를 구현해 보자."
   ]
  }
 ],
 "metadata": {
  "kernelspec": {
   "display_name": "Python 3",
   "language": "python",
   "name": "python3"
  },
  "language_info": {
   "codemirror_mode": {
    "name": "ipython",
    "version": 3
   },
   "file_extension": ".py",
   "mimetype": "text/x-python",
   "name": "python",
   "nbconvert_exporter": "python",
   "pygments_lexer": "ipython3",
   "version": "3.6.5"
  }
 },
 "nbformat": 4,
 "nbformat_minor": 2
}
