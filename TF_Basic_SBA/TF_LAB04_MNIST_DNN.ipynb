{
 "cells": [
  {
   "cell_type": "markdown",
   "metadata": {},
   "source": [
    "### 심층 신경망 구성"
   ]
  },
  {
   "cell_type": "markdown",
   "metadata": {},
   "source": [
    "### 학습 내용\n",
    "* MNIST 데이터 셋을 이용하여 심층 신경망을 구현한다.\n",
    "* 은닉층이 2개인 신경망을 구현한다.\n"
   ]
  },
  {
   "cell_type": "code",
   "execution_count": 10,
   "metadata": {},
   "outputs": [],
   "source": [
    "import tensorflow as tf"
   ]
  },
  {
   "cell_type": "code",
   "execution_count": 11,
   "metadata": {},
   "outputs": [],
   "source": [
    "import os, warnings\n",
    "# 경고 메시지 무시하거나 숨길때(ignore), 다시보이게(default)\n",
    "# warnings.filterwarnings(action='default')\n",
    "warnings.filterwarnings(action='ignore')"
   ]
  },
  {
   "cell_type": "code",
   "execution_count": 12,
   "metadata": {},
   "outputs": [],
   "source": [
    "from IPython.display import display, Image"
   ]
  },
  {
   "cell_type": "code",
   "execution_count": 13,
   "metadata": {},
   "outputs": [
    {
     "name": "stdout",
     "output_type": "stream",
     "text": [
      "Extracting ./mnist/data/train-images-idx3-ubyte.gz\n",
      "Extracting ./mnist/data/train-labels-idx1-ubyte.gz\n",
      "Extracting ./mnist/data/t10k-images-idx3-ubyte.gz\n",
      "Extracting ./mnist/data/t10k-labels-idx1-ubyte.gz\n"
     ]
    }
   ],
   "source": [
    "from tensorflow.examples.tutorials.mnist import input_data\n",
    "mnist = input_data.read_data_sets(\"./mnist/data/\", one_hot=True)"
   ]
  },
  {
   "cell_type": "code",
   "execution_count": 14,
   "metadata": {},
   "outputs": [
    {
     "name": "stdout",
     "output_type": "stream",
     "text": [
      "10000 55000 5000\n",
      "(55000, 10) (55000, 784)\n",
      "(10000, 10) (10000, 784)\n",
      "(5000, 10) (5000, 784)\n"
     ]
    }
   ],
   "source": [
    "# 데이터의 개수 \n",
    "print(mnist.test.num_examples, mnist.train.num_examples, mnist.validation.num_examples)\n",
    "\n",
    "# 데이터의 행열 사이즈\n",
    "print(mnist.train.labels.shape, mnist.train.images.shape)\n",
    "print(mnist.test.labels.shape, mnist.test.images.shape)\n",
    "print(mnist.validation.labels.shape, mnist.validation.images.shape)"
   ]
  },
  {
   "cell_type": "markdown",
   "metadata": {},
   "source": [
    "### 01 신경망 모델 구성하기 \n",
    "  * MNIST의 손글씨는 28 X 28로 구성되어 있다.\n",
    "  * 784개의 특징(픽셀)로 구성되어 있음.\n",
    "  * 레이블은 0~9까지의 10개의 분류"
   ]
  },
  {
   "cell_type": "code",
   "execution_count": 15,
   "metadata": {},
   "outputs": [],
   "source": [
    "X = tf.placeholder(tf.float32, [None, 784])\n",
    "Y = tf.placeholder(tf.float32, [None, 10])"
   ]
  },
  {
   "cell_type": "markdown",
   "metadata": {},
   "source": [
    "* tf.Variable(tf.random_normal([784, 256], stddev=0.01))\n",
    "* 표준편차가 0.01인 정규 분포를 갖는 값.\n",
    "* tf.matmul() 각 계층으로 들어오는 입력값에 각각의 가중치를 곱한다.\n",
    "* tf.nn.relu() 활성화 함수로 ReLU를 사용하는 신경망 계층을 만든다."
   ]
  },
  {
   "cell_type": "code",
   "execution_count": 16,
   "metadata": {},
   "outputs": [
    {
     "name": "stdout",
     "output_type": "stream",
     "text": [
      "WARNING:tensorflow:From C:\\Anaconda3\\lib\\site-packages\\tensorflow\\python\\framework\\op_def_library.py:263: colocate_with (from tensorflow.python.framework.ops) is deprecated and will be removed in a future version.\n",
      "Instructions for updating:\n",
      "Colocations handled automatically by placer.\n",
      "<tf.Variable 'Variable_2:0' shape=(256, 10) dtype=float32_ref>\n",
      "Tensor(\"MatMul_2:0\", shape=(?, 10), dtype=float32)\n"
     ]
    }
   ],
   "source": [
    "W1 = tf.Variable(tf.random_normal([784, 256], stddev=0.01))\n",
    "L1 = tf.nn.relu(tf.matmul(X, W1))\n",
    "\n",
    "W2 = tf.Variable(tf.random_normal([256, 256], stddev=0.01))\n",
    "L2 = tf.nn.relu(tf.matmul(L1, W2))\n",
    "\n",
    "W3 = tf.Variable(tf.random_normal([256, 10], stddev=0.01))\n",
    "model = tf.matmul(L2, W3)\n",
    "\n",
    "print(W3)\n",
    "print(model)"
   ]
  },
  {
   "cell_type": "markdown",
   "metadata": {},
   "source": [
    "### 비용함수, 최적화 함수 지정\n",
    "* AdamOptimizer (Adaptive Moment Estimation)은 RMSProp와 Momentum방식을 합친 것."
   ]
  },
  {
   "cell_type": "code",
   "execution_count": 17,
   "metadata": {},
   "outputs": [],
   "source": [
    "# old 버전 : cost = tf.reduce_mean(tf.nn.softmax_cross_entropy_with_logits(logits=model, labels=Y))\n",
    "cost = tf.reduce_mean(tf.nn.softmax_cross_entropy_with_logits_v2(logits=model, labels=Y))\n",
    "optimizer = tf.train.AdamOptimizer(0.001).minimize(cost)"
   ]
  },
  {
   "cell_type": "markdown",
   "metadata": {},
   "source": [
    "### 세션 생성 및 초기화"
   ]
  },
  {
   "cell_type": "code",
   "execution_count": 18,
   "metadata": {},
   "outputs": [],
   "source": [
    "init = tf.global_variables_initializer()\n",
    "sess = tf.Session()\n",
    "sess.run(init)"
   ]
  },
  {
   "cell_type": "markdown",
   "metadata": {},
   "source": [
    "### 테스트 데이터와 학습 데이터를 분류하는 이유\n",
    "* 과적합 해소."
   ]
  },
  {
   "cell_type": "markdown",
   "metadata": {},
   "source": [
    "### 배치 사이즈 지정\n",
    "* Mini-batch 크기가 전체 트레이닝 셋 데이터 사이즈인 m과 같다면 이것은 Batch gradient descent방법\n",
    "  * 데이터가 별로 없다면 batch gradient descent를 사용\n",
    "* Mini-batch 크기가 1이라면 Stochastic gradient descent라고 한다.\n",
    "  * **적은 메모리**로 동작가능\n",
    "  * 64,128, 256, 512 사이즈 선택"
   ]
  },
  {
   "cell_type": "code",
   "execution_count": 19,
   "metadata": {},
   "outputs": [],
   "source": [
    "batch_size = 100\n",
    "total_batch = int(mnist.train.num_examples / batch_size)"
   ]
  },
  {
   "cell_type": "code",
   "execution_count": 21,
   "metadata": {},
   "outputs": [
    {
     "name": "stdout",
     "output_type": "stream",
     "text": [
      "Epoch :    1 평균 Cost =  0.400\n",
      "Epoch :    2 평균 Cost =  0.152\n",
      "Epoch :    3 평균 Cost =  0.101\n",
      "Epoch :    4 평균 Cost =  0.070\n",
      "Epoch :    5 평균 Cost =  0.055\n",
      "Epoch :    6 평균 Cost =  0.040\n",
      "Epoch :    7 평균 Cost =  0.034\n",
      "Epoch :    8 평균 Cost =  0.025\n",
      "Epoch :    9 평균 Cost =  0.022\n",
      "Epoch :   10 평균 Cost =  0.018\n",
      "Epoch :   11 평균 Cost =  0.016\n",
      "Epoch :   12 평균 Cost =  0.014\n",
      "Epoch :   13 평균 Cost =  0.013\n",
      "Epoch :   14 평균 Cost =  0.011\n",
      "Epoch :   15 평균 Cost =  0.007\n",
      "최적화 완료!\n"
     ]
    }
   ],
   "source": [
    "# MNIST 데이터 전체를 학습하는 일을 15번 반복함.\n",
    "# 학습 데이터 전체를 한 바퀴를 도는 일을 에포크(epoch)라 한다.\n",
    "\n",
    "for epoch in range(15):\n",
    "    total_cost = 0\n",
    "\n",
    "    for i in range(total_batch):\n",
    "        # 배치 사이즈만큼 데이터 가져오기 \n",
    "        batch_xs, batch_ys = mnist.train.next_batch(batch_size)\n",
    "        \n",
    "        # 입력값 : batch_xs, 출력값 : batch_ys\n",
    "        # 최적화를 수행 후, 손실을 구한다.\n",
    "        _, cost_val = sess.run([optimizer, cost], \n",
    "                      feed_dict={X:batch_xs, Y:batch_ys})\n",
    "\n",
    "        # 총 손실 계산\n",
    "        total_cost = total_cost + cost_val\n",
    "\n",
    "    print(\"Epoch : %4d\" %(epoch + 1), \n",
    "                '평균 Cost = ', \"{:.3f}\".format(total_cost/total_batch))\n",
    "    \n",
    "print(\"최적화 완료!\")"
   ]
  },
  {
   "cell_type": "markdown",
   "metadata": {},
   "source": [
    "### 실습해 보기\n",
    "* 배치 사이즈를 조정해 가면서 확인해 본다.\n",
    "* 은닉층 노드 및 은닉층수를 늘려가면 확인해 본다. \n",
    "* 각각의 Cost 값을 확인해 본다."
   ]
  },
  {
   "cell_type": "code",
   "execution_count": null,
   "metadata": {},
   "outputs": [],
   "source": []
  }
 ],
 "metadata": {
  "kernelspec": {
   "display_name": "Python 3",
   "language": "python",
   "name": "python3"
  },
  "language_info": {
   "codemirror_mode": {
    "name": "ipython",
    "version": 3
   },
   "file_extension": ".py",
   "mimetype": "text/x-python",
   "name": "python",
   "nbconvert_exporter": "python",
   "pygments_lexer": "ipython3",
   "version": "3.7.3"
  }
 },
 "nbformat": 4,
 "nbformat_minor": 2
}
