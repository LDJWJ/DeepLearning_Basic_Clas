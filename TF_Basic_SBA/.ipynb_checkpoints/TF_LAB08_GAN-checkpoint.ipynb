{
 "cells": [
  {
   "cell_type": "markdown",
   "metadata": {},
   "source": [
    "## GAN(Generative Adversarial Networks)"
   ]
  },
  {
   "cell_type": "markdown",
   "metadata": {},
   "source": [
    "## 학습 내용\n",
    "#### 01. GAN의 구분모델과 생성모델\n",
    "#### 02. GAN에 대한 이해\n",
    "#### 03. GAN의 구성\n",
    "#### 04. GAN의 사용예"
   ]
  },
  {
   "cell_type": "markdown",
   "metadata": {},
   "source": [
    "###  01. GAN의 구분모델과 생성모델\n",
    " * 어떤 값을 분류하거나 예측하는데 초첨이 맞춰져 있다.\n",
    "    * 이런 모델을 구분 모델(Discriminative Model)이라 한다.\n",
    " * 생성모델(Generative Model) : 주어진 트레이닝 데이터의 특징을 학습 후, 트레이닝 데이터와 유사한 모델 생성"
   ]
  },
  {
   "cell_type": "markdown",
   "metadata": {},
   "source": [
    "### 02 GAN 이해해 보기\n",
    "* GAN:Generative Adversarial Networks 약자이다.\n",
    "* 게임 이론(Game Theory)의 minimax two-player 게임의 구조를 이용해서 생성한 모델\n",
    "* GAN 모델은 GoodFellow, Ian, et al의 'Generative adversarial nets.'라는 제목의 2014년도의 논문에서 최초 제안\n",
    "* GAN은 생성형 인공지능 방식으로 실제 데이터(real data)와 비슷한 확률 분포를 가지는 허구 데이터(fake data)를 생성\n",
    "* 허구 데이터는 GAN에서 만들어진 데이터이기 때문에 생성 데이터라고 한다.\n",
    "* DNN은 레이블이 있는 정보를 학습하는 지도학습 방식이지만, GAN은 레이블이 없는 정보를 다루는 비지도학습.\n",
    "\n",
    "#### GAN에서의 입력 데이터는 무작위 잡음. 출력 데이터는 입력 데이터보다 높은 차원으로 구성"
   ]
  },
  {
   "cell_type": "markdown",
   "metadata": {},
   "source": [
    "* GAN의 직관적인 이해\n",
    "   * 경찰(구분자)와 위조 지폐 생성범(생성자)\n",
    "   * 경찰의 역할 : 위조 지폐 생성범이 생성한 위조지폐와 진짜 지폐를 구분할 수 있도록 최대한 노력\n",
    "   * 위조범(생성자) : 경찰을 속이기 위해 최대한 진짜 지폐와 구분이 되지 않는 위조지폐를 생성하기 위해 노력\n",
    "   \n",
    "   * 경찰의 학습과 위조범의 학습이 계속 진행해 가면 경찰이 위조지폐 생성범이 생성한 위조지폐와 진짜 지폐를 50% 확률로 구분할 수 있게 되는 균형점에서 학습이 종료됨.\n",
    "\n",
    "### 결과 : 원본 데이터와 유사한 데이터의 분포를 학습하게 된다.\n",
    "\n",
    "* 학습을 마친 GAN에 새로운 무작위 잡음을 입력하면 학습한 실제 데이터와 유사한 형태의 허구 데이터 출력\n",
    "* 예를 들어 필기체나 숫자나 사람의 얼굴을 학습시키면 학습시킨 것과 같은 필기체 숫자나 사람 얼굴이 나옴."
   ]
  },
  {
   "cell_type": "markdown",
   "metadata": {},
   "source": [
    "### 03. GAN의 구성\n",
    " * GAN은 생성자(Generator) : 구분자가 1로 예측하도록 하는 것을 목표로 학습시킴. \n",
    "\n",
    " * GAN은 구분자(Discriminator) : 진짜 데이터를 받으면 1로 가짜 데이터를 받으면 0으로 예측하도록 학습시킴. "
   ]
  },
  {
   "cell_type": "markdown",
   "metadata": {},
   "source": [
    "### GAN의 구성 예 - 사람의 얼굴\n",
    " * 생성자 G는 임의의 잠재 변수(노이즈값)을 입력 받아, 가짜 이미지를 생성(Fake Image)를 생성\n",
    " * 구분자 D는 진짜 이미지이면 1, 가짜 이미지이면 0의 값을 출력하는 것을 목표로 한다.\n",
    "    * 즉 구분자(D)는 진짜 이미지, 가짜 이미지를 입력받는다.\n",
    " * 생성자 G와 구분자 D는 임의의 머신 러닝 모델(예를 들면 소프트 맥스, SVM등)을 사용하여 구현한다.\n",
    "    * 일반적으로 인공신경망을 이용하여 구현한다."
   ]
  },
  {
   "cell_type": "markdown",
   "metadata": {},
   "source": [
    "### 04. GAN의 사용예"
   ]
  },
  {
   "cell_type": "markdown",
   "metadata": {},
   "source": [
    "<img src=\"../img/GAN01.png\">"
   ]
  },
  {
   "cell_type": "markdown",
   "metadata": {},
   "source": [
    "### 슈퍼 해상도 이미지\n",
    " * 작은 이미지에서 고해상도 이미지를 만들어 낸다.\n",
    " * https://arxiv.org/pdf/1609.04802.pdf"
   ]
  },
  {
   "cell_type": "markdown",
   "metadata": {},
   "source": [
    "<img src='../img/gan03.png'>"
   ]
  },
  {
   "cell_type": "markdown",
   "metadata": {},
   "source": [
    "### 동영상의 다음 프레임 예측\n",
    " * https://arxiv.org/pdf/1511.06380.pdf"
   ]
  },
  {
   "cell_type": "markdown",
   "metadata": {},
   "source": [
    "<img src='../img/Gan02.png'>"
   ]
  },
  {
   "cell_type": "markdown",
   "metadata": {},
   "source": [
    "### 이미지를 다른 이미지로 변환\n",
    " * https://arxiv.org/pdf/1611.07004.pdf"
   ]
  },
  {
   "cell_type": "markdown",
   "metadata": {},
   "source": [
    "<img src='../img/gan04.png'>"
   ]
  },
  {
   "cell_type": "markdown",
   "metadata": {},
   "source": [
    "## 텍스트로 이미지 생성하기 : https://arxiv.org/pdf/1605.05396.pdf\n",
    "## 불필요 제거 - 필요없는 부분 제거"
   ]
  },
  {
   "cell_type": "markdown",
   "metadata": {},
   "source": [
    "<img src='../img/gan05.png'>"
   ]
  },
  {
   "cell_type": "markdown",
   "metadata": {},
   "source": [
    "## 훈련 데이터 생성(https://arxiv.org/pdf/1707.03124.pdf)\n",
    "## 새 애니메이션 캐릭터 만들기(https://arxiv.org/pdf/1708.05509.pdf)\n",
    "## 사진으로부터 3D 모델 생성"
   ]
  },
  {
   "cell_type": "markdown",
   "metadata": {},
   "source": [
    "### 기타 GAN의 종류\n",
    " * 바닐라 GAN\n",
    " * 조건부 GAN : 사용자가 원하는 레이블로 이미지를 만든다.\n",
    " * InfoGAN : 명시적 지도 훈련 없이도 필요한 레이블의 이미지를 생성할 수 있다."
   ]
  },
  {
   "cell_type": "markdown",
   "metadata": {},
   "source": [
    "### 05. GAN의 단점"
   ]
  },
  {
   "cell_type": "markdown",
   "metadata": {},
   "source": [
    "* GAN이 생성한 이미지에는 계산, 원근감, 글로벌 구조와 같은 몇 가지 단점이 존재한다.\n",
    "* 현재 모델을 개선하기 위해 단점들이 광범위하게 연구되고 있음."
   ]
  },
  {
   "cell_type": "markdown",
   "metadata": {},
   "source": [
    "## 실습"
   ]
  },
  {
   "cell_type": "markdown",
   "metadata": {},
   "source": [
    "### 01 데이터 가져오기"
   ]
  },
  {
   "cell_type": "code",
   "execution_count": 1,
   "metadata": {},
   "outputs": [
    {
     "name": "stderr",
     "output_type": "stream",
     "text": [
      "C:\\Anaconda3\\lib\\site-packages\\h5py\\__init__.py:36: FutureWarning: Conversion of the second argument of issubdtype from `float` to `np.floating` is deprecated. In future, it will be treated as `np.float64 == np.dtype(float).type`.\n",
      "  from ._conv import register_converters as _register_converters\n"
     ]
    },
    {
     "name": "stdout",
     "output_type": "stream",
     "text": [
      "WARNING:tensorflow:From <ipython-input-1-4a88a2be3f8a>:7: read_data_sets (from tensorflow.contrib.learn.python.learn.datasets.mnist) is deprecated and will be removed in a future version.\n",
      "Instructions for updating:\n",
      "Please use alternatives such as official/mnist/dataset.py from tensorflow/models.\n",
      "WARNING:tensorflow:From C:\\Anaconda3\\lib\\site-packages\\tensorflow\\contrib\\learn\\python\\learn\\datasets\\mnist.py:260: maybe_download (from tensorflow.contrib.learn.python.learn.datasets.base) is deprecated and will be removed in a future version.\n",
      "Instructions for updating:\n",
      "Please write your own downloading logic.\n",
      "WARNING:tensorflow:From C:\\Anaconda3\\lib\\site-packages\\tensorflow\\contrib\\learn\\python\\learn\\datasets\\mnist.py:262: extract_images (from tensorflow.contrib.learn.python.learn.datasets.mnist) is deprecated and will be removed in a future version.\n",
      "Instructions for updating:\n",
      "Please use tf.data to implement this functionality.\n",
      "Extracting ./mnist/data/train-images-idx3-ubyte.gz\n",
      "WARNING:tensorflow:From C:\\Anaconda3\\lib\\site-packages\\tensorflow\\contrib\\learn\\python\\learn\\datasets\\mnist.py:267: extract_labels (from tensorflow.contrib.learn.python.learn.datasets.mnist) is deprecated and will be removed in a future version.\n",
      "Instructions for updating:\n",
      "Please use tf.data to implement this functionality.\n",
      "Extracting ./mnist/data/train-labels-idx1-ubyte.gz\n",
      "WARNING:tensorflow:From C:\\Anaconda3\\lib\\site-packages\\tensorflow\\contrib\\learn\\python\\learn\\datasets\\mnist.py:110: dense_to_one_hot (from tensorflow.contrib.learn.python.learn.datasets.mnist) is deprecated and will be removed in a future version.\n",
      "Instructions for updating:\n",
      "Please use tf.one_hot on tensors.\n",
      "Extracting ./mnist/data/t10k-images-idx3-ubyte.gz\n",
      "Extracting ./mnist/data/t10k-labels-idx1-ubyte.gz\n",
      "WARNING:tensorflow:From C:\\Anaconda3\\lib\\site-packages\\tensorflow\\contrib\\learn\\python\\learn\\datasets\\mnist.py:290: DataSet.__init__ (from tensorflow.contrib.learn.python.learn.datasets.mnist) is deprecated and will be removed in a future version.\n",
      "Instructions for updating:\n",
      "Please use alternatives such as official/mnist/dataset.py from tensorflow/models.\n"
     ]
    }
   ],
   "source": [
    "# https://arxiv.org/abs/1406.2661\n",
    "import tensorflow as tf\n",
    "import matplotlib.pyplot as plt\n",
    "import numpy as np\n",
    "\n",
    "from tensorflow.examples.tutorials.mnist import input_data\n",
    "mnist = input_data.read_data_sets(\"./mnist/data/\", one_hot=True)"
   ]
  },
  {
   "cell_type": "markdown",
   "metadata": {},
   "source": [
    "### 02 기본 옵션 설정"
   ]
  },
  {
   "cell_type": "code",
   "execution_count": 2,
   "metadata": {},
   "outputs": [],
   "source": [
    "total_epoch = 100   # epoch 수 설정\n",
    "batch_size = 100    # 배치 사이즈\n",
    "learning_rate = 0.0002  # 학습률\n",
    "# 신경망 레이어 구성 옵션\n",
    "n_hidden = 256          # 은닉층 노드\n",
    "n_input = 28 * 28       # 입력 \n",
    "n_noise = 128  # 생성기의 입력값으로 사용할 노이즈의 크기"
   ]
  },
  {
   "cell_type": "markdown",
   "metadata": {},
   "source": [
    "### 02. 신경망 모델 구성\n",
    " * 노이즈를 이용하여 데이터 생성\n",
    " * 비지도학습이므로 Y가 없음"
   ]
  },
  {
   "cell_type": "code",
   "execution_count": 3,
   "metadata": {},
   "outputs": [],
   "source": [
    "# GAN 도 Unsupervised 학습이므로 Autoencoder 처럼 Y 를 사용하지 않습니다.\n",
    "X = tf.placeholder(tf.float32, [None, n_input])\n",
    "\n",
    "# 노이즈 Z를 입력값으로 사용합니다.\n",
    "Z = tf.placeholder(tf.float32, [None, n_noise])"
   ]
  },
  {
   "cell_type": "markdown",
   "metadata": {},
   "source": [
    "### 생성자 신경망, 판별자 신경망 변수 선언"
   ]
  },
  {
   "cell_type": "markdown",
   "metadata": {},
   "source": [
    "* n_noise : 128, n_hidden : 256"
   ]
  },
  {
   "cell_type": "code",
   "execution_count": 5,
   "metadata": {},
   "outputs": [
    {
     "name": "stdout",
     "output_type": "stream",
     "text": [
      "WARNING:tensorflow:From C:\\Anaconda3\\lib\\site-packages\\tensorflow\\python\\framework\\op_def_library.py:263: colocate_with (from tensorflow.python.framework.ops) is deprecated and will be removed in a future version.\n",
      "Instructions for updating:\n",
      "Colocations handled automatically by placer.\n"
     ]
    }
   ],
   "source": [
    "G_W1 = tf.Variable(tf.random_normal([n_noise, n_hidden], stddev=0.01))\n",
    "G_b1 = tf.Variable(tf.zeros([n_hidden]))\n",
    "G_W2 = tf.Variable(tf.random_normal([n_hidden, n_input], stddev=0.01))\n",
    "G_b2 = tf.Variable(tf.zeros([n_input]))"
   ]
  },
  {
   "cell_type": "code",
   "execution_count": null,
   "metadata": {},
   "outputs": [],
   "source": [
    "# 판별기 신경망에 사용하는 변수들입니다.\n",
    "D_W1 = tf.Variable(tf.random_normal([n_input, n_hidden], stddev=0.01))\n",
    "D_b1 = tf.Variable(tf.zeros([n_hidden]))\n",
    "# 판별기의 최종 결과값은 얼마나 진짜와 가깝냐를 판단하는 한 개의 스칼라값입니다.\n",
    "D_W2 = tf.Variable(tf.random_normal([n_hidden, 1], stddev=0.01))\n",
    "D_b2 = tf.Variable(tf.zeros([1]))"
   ]
  }
 ],
 "metadata": {
  "kernelspec": {
   "display_name": "Python 3",
   "language": "python",
   "name": "python3"
  },
  "language_info": {
   "codemirror_mode": {
    "name": "ipython",
    "version": 3
   },
   "file_extension": ".py",
   "mimetype": "text/x-python",
   "name": "python",
   "nbconvert_exporter": "python",
   "pygments_lexer": "ipython3",
   "version": "3.6.5"
  }
 },
 "nbformat": 4,
 "nbformat_minor": 2
}
