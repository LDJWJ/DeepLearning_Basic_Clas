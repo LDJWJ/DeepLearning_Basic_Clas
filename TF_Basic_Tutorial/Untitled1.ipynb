{
 "cells": [
  {
   "cell_type": "code",
   "execution_count": 1,
   "metadata": {},
   "outputs": [
    {
     "name": "stdout",
     "output_type": "stream",
     "text": [
      " C 드라이브의 볼륨에는 이름이 없습니다.\n",
      " 볼륨 일련 번호: 94A3-3EF5\n",
      "\n",
      " C:\\Users\\WITHJS\\Documents\\GitHub\\AISTUDY\\TF_Basic 디렉터리\n",
      "\n",
      "2019-01-16  오후 07:16    <DIR>          .\n",
      "2019-01-16  오후 07:16    <DIR>          ..\n",
      "2019-01-16  오후 07:15    <DIR>          .ipynb_checkpoints\n",
      "2019-01-16  오후 07:08             2,559 01_Saver.py\n",
      "2019-01-16  오후 07:08             3,170 02_Tensorboard.py\n",
      "2019-01-16  오후 07:16             2,508 03_TensorBoard.py\n",
      "2019-01-16  오후 07:05                83 data.csv\n",
      "2019-01-16  오후 07:10    <DIR>          logs\n",
      "2019-01-16  오후 07:10    <DIR>          model\n",
      "2019-01-16  오전 12:33             7,511 TF_LAB01_Basic.ipynb\n",
      "2019-01-16  오전 12:33            13,089 TF_LAB02_Regression.ipynb\n",
      "2019-01-16  오전 12:33            10,968 TF_LAB03_ANN.ipynb\n",
      "2019-01-16  오전 12:33             5,607 TF_LAB04_DNN.ipynb\n",
      "2019-01-16  오후 07:07            29,255 Untitled.ipynb\n",
      "2019-01-16  오후 07:15                72 Untitled1.ipynb\n",
      "              10개 파일              74,822 바이트\n",
      "               5개 디렉터리  71,919,353,856 바이트 남음\n"
     ]
    }
   ],
   "source": [
    "!dir\n"
   ]
  },
  {
   "cell_type": "code",
   "execution_count": null,
   "metadata": {},
   "outputs": [],
   "source": []
  }
 ],
 "metadata": {
  "kernelspec": {
   "display_name": "Python 3",
   "language": "python",
   "name": "python3"
  },
  "language_info": {
   "codemirror_mode": {
    "name": "ipython",
    "version": 3
   },
   "file_extension": ".py",
   "mimetype": "text/x-python",
   "name": "python",
   "nbconvert_exporter": "python",
   "pygments_lexer": "ipython3",
   "version": "3.6.4"
  }
 },
 "nbformat": 4,
 "nbformat_minor": 2
}
