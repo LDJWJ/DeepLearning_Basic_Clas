{
 "cells": [
  {
   "cell_type": "markdown",
   "metadata": {
    "colab_type": "text",
    "id": "wKh-S6w-EEJL"
   },
   "source": [
    "## LAB04 심층 신경망 구현하기\n",
    "* 신경망의 층을 더 추가할 경우, 성능이 향상될 수 있다."
   ]
  },
  {
   "cell_type": "code",
   "execution_count": 2,
   "metadata": {
    "colab": {},
    "colab_type": "code",
    "id": "4MVheFAMGaZR"
   },
   "outputs": [
    {
     "name": "stderr",
     "output_type": "stream",
     "text": [
      "C:\\Anaconda3\\lib\\site-packages\\h5py\\__init__.py:36: FutureWarning: Conversion of the second argument of issubdtype from `float` to `np.floating` is deprecated. In future, it will be treated as `np.float64 == np.dtype(float).type`.\n",
      "  from ._conv import register_converters as _register_converters\n"
     ]
    }
   ],
   "source": [
    "import numpy as np\n",
    "import tensorflow as tf"
   ]
  },
  {
   "cell_type": "markdown",
   "metadata": {},
   "source": [
    "## 4-1 신경망의 구성"
   ]
  },
  {
   "cell_type": "code",
   "execution_count": 3,
   "metadata": {
    "colab": {},
    "colab_type": "code",
    "id": "hQRAeykpJChf"
   },
   "outputs": [],
   "source": [
    "# [특징1, 특징2]\n",
    "# 특징1, 특징2의 값 이용한 Target의 예측\n",
    "x_data = np.array( [[0, 0], [1, 0], [1, 1], [0, 0], [0, 0], [0, 1]])\n",
    "\n",
    "# 원핫인코딩(one-hot encoding)\n",
    "# 데이터가 가질 수 있는 값들을 일렬로 나열한 배열로 만들고, \n",
    "# 그중의 표현하려는 값을 인덱스의 원소만 1로 표현하고, 나머지는 0으로 채우는 표기법\n",
    "\n",
    "# [setosa, versicolor, virginica]\n",
    "# 다음과 같은 형식을 one-hot 형식의 데이터라고 합니다.\n",
    "y_data = np.array([\n",
    "    [1, 0, 0],  # setosa\n",
    "    [0, 1, 0],  # versicolor\n",
    "    [0, 0, 1],  # virginica\n",
    "    [1, 0, 0],\n",
    "    [1, 0, 0],\n",
    "    [0, 0, 1]\n",
    "])"
   ]
  },
  {
   "cell_type": "code",
   "execution_count": 4,
   "metadata": {
    "colab": {},
    "colab_type": "code",
    "id": "edYVlb_2Hn_8"
   },
   "outputs": [],
   "source": [
    "X = tf.placeholder(tf.float32)   #  X에 들어갈 값(공간)\n",
    "Y = tf.placeholder(tf.float32)   #  Y에 들어갈 값(공간)"
   ]
  },
  {
   "cell_type": "markdown",
   "metadata": {},
   "source": [
    "### 신경망의 구성\n",
    "* 2개의 입력층(특징1, 특징2)\n",
    "* 10개 뉴런의 은닉층\n",
    "* 3개 출력층(뉴런 꽃의 종류)"
   ]
  },
  {
   "cell_type": "code",
   "execution_count": 5,
   "metadata": {
    "colab": {},
    "colab_type": "code",
    "id": "XTV4_eW7EMwS"
   },
   "outputs": [
    {
     "name": "stdout",
     "output_type": "stream",
     "text": [
      "WARNING:tensorflow:From C:\\Anaconda3\\lib\\site-packages\\tensorflow\\python\\framework\\op_def_library.py:263: colocate_with (from tensorflow.python.framework.ops) is deprecated and will be removed in a future version.\n",
      "Instructions for updating:\n",
      "Colocations handled automatically by placer.\n"
     ]
    }
   ],
   "source": [
    "# W1 : [2,10] -> [특징, 은닉층의 뉴런 수]\n",
    "# W2 : [10,3] -> [은닉층의 뉴런 수, 분류 수]\n",
    "W1 = tf.Variable(tf.random_uniform([2,10],-1.0, 1.0))\n",
    "W2 = tf.Variable(tf.random_uniform([10,3],-1.0, 1.0))\n",
    "\n",
    "# 편향\n",
    "# b1 = [10] -> 은닉층의 뉴런 수\n",
    "# b2 = [3]  -> 분류 수 \n",
    "b1 = tf.Variable(tf.zeros([10]))\n",
    "b2 = tf.Variable(tf.zeros([3]))"
   ]
  },
  {
   "cell_type": "code",
   "execution_count": 6,
   "metadata": {
    "colab": {},
    "colab_type": "code",
    "id": "cKklZewyE9Jq"
   },
   "outputs": [],
   "source": [
    "# 첫 번째 가중치와 편향, 활성화 함수를 적용 \n",
    "L1 = tf.add(tf.matmul(X, W1), b1)\n",
    "L1 = tf.nn.relu(L1)"
   ]
  },
  {
   "cell_type": "code",
   "execution_count": 7,
   "metadata": {
    "colab": {},
    "colab_type": "code",
    "id": "Wd05IDlJHY2R"
   },
   "outputs": [],
   "source": [
    "# 두 번째 가중치와 편향,\n",
    "model = tf.add(tf.matmul(L1, W2), b2)"
   ]
  },
  {
   "cell_type": "markdown",
   "metadata": {},
   "source": [
    "## 4-2 Loss 함수 및 최적화 알고리즘\n",
    "* 손실함수(Loss) : cross_entropy \n",
    "* 최적화(Optimizer) : AdamOptimizer"
   ]
  },
  {
   "cell_type": "code",
   "execution_count": 11,
   "metadata": {
    "colab": {},
    "colab_type": "code",
    "id": "FS4DWl2DH0o5"
   },
   "outputs": [],
   "source": [
    "# 교차 엔트로피 함수 사용\n",
    "# 최적화 함수 : AdamOptimizer 함수\n",
    "# AdamOptimizer는 GradientDescentOptimizer보다 보편적으로 성능이 더 좋다.\n",
    "cost = tf.reduce_mean(\n",
    "   tf.nn.softmax_cross_entropy_with_logits_v2(labels=Y, logits=model)) # 버전 변경\n",
    "\n",
    "optimizer = tf.train.AdamOptimizer(learning_rate=0.01)\n",
    "train_op = optimizer.minimize(cost)"
   ]
  },
  {
   "cell_type": "markdown",
   "metadata": {},
   "source": [
    "### 4-3 그래프 실행"
   ]
  },
  {
   "cell_type": "code",
   "execution_count": 9,
   "metadata": {
    "colab": {
     "base_uri": "https://localhost:8080/",
     "height": 196
    },
    "colab_type": "code",
    "executionInfo": {
     "elapsed": 658,
     "status": "ok",
     "timestamp": 1547566336635,
     "user": {
      "displayName": "K Joy",
      "photoUrl": "",
      "userId": "10088839989700781050"
     },
     "user_tz": -540
    },
    "id": "JKNgNWIfIExp",
    "outputId": "f86e6b43-9bc3-4fa3-c496-8df9f85613f9"
   },
   "outputs": [
    {
     "name": "stdout",
     "output_type": "stream",
     "text": [
      "10 1.0391954\n",
      "20 0.87078977\n",
      "30 0.71131045\n",
      "40 0.559679\n",
      "50 0.42707607\n",
      "60 0.3198483\n",
      "70 0.23544247\n",
      "80 0.17264307\n",
      "90 0.12684555\n",
      "100 0.0946249\n"
     ]
    }
   ],
   "source": [
    "# 텐서플로 세션 초기화\n",
    "sess = tf.Session()\n",
    "init = tf.global_variables_initializer()\n",
    "sess.run(init)\n",
    "\n",
    "# 레이블 데이터를 이용하여 학습을 진행\n",
    "for step in range(100):\n",
    "  sess.run(train_op,feed_dict={X:x_data, Y:y_data})\n",
    "  \n",
    "  # 학습도중 10번씩 손실값을 출력\n",
    "  if (step+1)%10 == 0:\n",
    "    print(step+1, sess.run(cost, feed_dict={X:x_data, Y:y_data}))\n"
   ]
  },
  {
   "cell_type": "code",
   "execution_count": 13,
   "metadata": {
    "colab": {
     "base_uri": "https://localhost:8080/",
     "height": 71
    },
    "colab_type": "code",
    "executionInfo": {
     "elapsed": 1001,
     "status": "ok",
     "timestamp": 1547566365974,
     "user": {
      "displayName": "K Joy",
      "photoUrl": "",
      "userId": "10088839989700781050"
     },
     "user_tz": -540
    },
    "id": "HmgVFELcJEdc",
    "outputId": "131ca297-29e9-41c9-e47a-05989cf4589f"
   },
   "outputs": [
    {
     "name": "stdout",
     "output_type": "stream",
     "text": [
      "예측값: [0 1 2 0 0 2]\n",
      "실제값: [0 1 2 0 0 2]\n",
      "정확도: 100.00\n"
     ]
    }
   ],
   "source": [
    "#########\n",
    "# 결과 확인\n",
    "######\n",
    "# tf.argmax: 예측값과 실제값의 행렬에서 \n",
    "# tf.argmax 를 이용해 가장 큰 값의 위치(인덱스)을 가져옵니다.\n",
    "# 예) [[0 1 0] [1 0 0]] -> [1 0]\n",
    "#    [[0.2 0.7 0.1] [0.9 0.1 0.]] -> [1 0]\n",
    "prediction = tf.argmax(model, 1)\n",
    "target = tf.argmax(Y, 1)\n",
    "print('예측값:', sess.run(prediction, feed_dict={X: x_data}))\n",
    "print('실제값:', sess.run(target, feed_dict={Y: y_data}))\n",
    "\n",
    "is_correct = tf.equal(prediction, target)\n",
    "accuracy = tf.reduce_mean(tf.cast(is_correct, tf.float32))\n",
    "print('정확도: %.2f' % sess.run(accuracy * 100, feed_dict={X: x_data, Y: y_data}))"
   ]
  },
  {
   "cell_type": "markdown",
   "metadata": {
    "colab": {},
    "colab_type": "code",
    "id": "APlnqh8uJJFB"
   },
   "source": [
    "### Summary\n",
    "* 결과적으로 은닉층의 추가가 정확도의 향상을 가져왔다."
   ]
  },
  {
   "cell_type": "markdown",
   "metadata": {},
   "source": [
    "### REF\n",
    "* Tf가 제공하는 다양한 최적화 함수 : \n",
    "  * https://www.tensorflow.org/api_guides/python/train"
   ]
  },
  {
   "cell_type": "code",
   "execution_count": null,
   "metadata": {},
   "outputs": [],
   "source": []
  }
 ],
 "metadata": {
  "colab": {
   "name": "TF_LAB04_DNN.ipynb",
   "provenance": [],
   "version": "0.3.2"
  },
  "kernelspec": {
   "display_name": "Python 3",
   "language": "python",
   "name": "python3"
  },
  "language_info": {
   "codemirror_mode": {
    "name": "ipython",
    "version": 3
   },
   "file_extension": ".py",
   "mimetype": "text/x-python",
   "name": "python",
   "nbconvert_exporter": "python",
   "pygments_lexer": "ipython3",
   "version": "3.6.5"
  }
 },
 "nbformat": 4,
 "nbformat_minor": 1
}
