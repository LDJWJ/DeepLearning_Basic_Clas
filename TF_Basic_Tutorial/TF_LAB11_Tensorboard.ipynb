{
 "cells": [
  {
   "cell_type": "code",
   "execution_count": 3,
   "metadata": {},
   "outputs": [],
   "source": [
    "# !mkdir log_dir"
   ]
  },
  {
   "cell_type": "code",
   "execution_count": 4,
   "metadata": {},
   "outputs": [
    {
     "name": "stdout",
     "output_type": "stream",
     "text": [
      " C 드라이브의 볼륨에는 이름이 없습니다.\n",
      " 볼륨 일련 번호: 94A3-3EF5\n",
      "\n",
      " C:\\Users\\WITHJS\\Documents\\GitHub\\AISTUDY\\TF_Basic 디렉터리\n",
      "\n",
      "2019-01-23  오전 01:04    <DIR>          .\n",
      "2019-01-23  오전 01:04    <DIR>          ..\n",
      "2019-01-23  오전 12:58    <DIR>          .ipynb_checkpoints\n",
      "2018-04-30  오전 10:53             6,146 01 - GAN.py\n",
      "2019-01-16  오후 07:08             2,559 01_Saver.py\n",
      "2018-04-30  오전 10:53             5,805 02 - GAN2.py\n",
      "2019-01-16  오후 07:08             3,170 02_Tensorboard.py\n",
      "2019-01-16  오후 07:16             2,508 03_TensorBoard.py\n",
      "2016-09-09  오후 02:51           265,269 bmi.csv\n",
      "2019-01-16  오후 07:05                83 data.csv\n",
      "2019-01-23  오전 12:59                 0 lab10_tb-mul.py\n",
      "2019-01-16  오후 07:17    <DIR>          logs\n",
      "2019-01-23  오전 12:58    <DIR>          log_dir\n",
      "2019-01-20  오후 11:54    <DIR>          mnist\n",
      "2019-01-16  오후 07:17    <DIR>          model\n",
      "2019-01-22  오후 06:29    <DIR>          samples\n",
      "2019-01-22  오후 06:29    <DIR>          samples2\n",
      "2019-01-16  오전 12:33             7,511 TF_LAB01_Basic.ipynb\n",
      "2019-01-16  오전 12:33            13,089 TF_LAB02_Regression.ipynb\n",
      "2019-01-20  오후 11:26            13,974 TF_LAB03_ANN.ipynb\n",
      "2019-01-20  오후 11:26             7,316 TF_LAB04_DNN.ipynb\n",
      "2019-01-20  오후 11:27            15,212 TF_LAB05_MNIST.ipynb\n",
      "2019-01-21  오전 12:07            29,809 TF_LAB06_MNIST_Dropout.ipynb\n",
      "2019-01-21  오전 02:19            13,019 TF_LAB07_CNN.ipynb\n",
      "2019-01-21  오후 10:14             9,599 TF_LAB07_CNN2.ipynb\n",
      "2019-01-21  오후 10:46            34,013 TF_LAB08_AutoEncoder_TF.ipynb\n",
      "2019-01-23  오전 12:44             3,492 TF_LAB09_Basic.ipynb\n",
      "2019-01-23  오전 12:44             1,927 TF_LAB09_Practice.ipynb\n",
      "2019-01-23  오전 12:55            12,207 TF_LAB10_Basic_BMI.ipynb\n",
      "2019-01-23  오전 01:04             1,712 TF_LAB11_Tensorboard.ipynb\n",
      "2019-01-16  오후 07:07            29,255 Untitled.ipynb\n",
      "2019-01-16  오후 07:17             2,152 Untitled1.ipynb\n",
      "              23개 파일             479,827 바이트\n",
      "               9개 디렉터리  65,646,477,312 바이트 남음\n"
     ]
    }
   ],
   "source": [
    "!dir"
   ]
  },
  {
   "cell_type": "markdown",
   "metadata": {},
   "source": [
    "## source code (lab10_tb-mul.py)\n",
    "```\n",
    "import tensorflow as tf\n",
    "# 데이터 플로우 그래프 구축하기 --- (※1)\n",
    "a = tf.constant(20, name=\"a\")\n",
    "b = tf.constant(30, name=\"b\")\n",
    "mul_op = a * b\n",
    "# 세션 생성하기 --- (※2)\n",
    "sess = tf.Session()\n",
    "# TensorBoard 사용하기 --- (※3)\n",
    "tw = tf.train.SummaryWriter(\"log_dir\", graph=sess.graph)\n",
    "# 세션 실행하기 --- (※4)\n",
    "print(sess.run(mul_op))\n",
    "```"
   ]
  },
  {
   "cell_type": "markdown",
   "metadata": {},
   "source": [
    "<img src=\"../img/TFBoard.png\">"
   ]
  },
  {
   "cell_type": "markdown",
   "metadata": {},
   "source": [
    "* tensorboard --logdir=log_dir"
   ]
  },
  {
   "cell_type": "markdown",
   "metadata": {},
   "source": [
    "<img src=\"../img/TFBoard1.png\">"
   ]
  },
  {
   "cell_type": "code",
   "execution_count": null,
   "metadata": {},
   "outputs": [],
   "source": []
  }
 ],
 "metadata": {
  "kernelspec": {
   "display_name": "Python 3",
   "language": "python",
   "name": "python3"
  },
  "language_info": {
   "codemirror_mode": {
    "name": "ipython",
    "version": 3
   },
   "file_extension": ".py",
   "mimetype": "text/x-python",
   "name": "python",
   "nbconvert_exporter": "python",
   "pygments_lexer": "ipython3",
   "version": "3.6.5"
  }
 },
 "nbformat": 4,
 "nbformat_minor": 2
}
