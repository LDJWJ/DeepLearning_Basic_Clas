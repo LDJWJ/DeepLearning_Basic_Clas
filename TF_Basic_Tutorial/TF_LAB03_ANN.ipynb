{
 "cells": [
  {
   "cell_type": "markdown",
   "metadata": {
    "colab_type": "text",
    "id": "Cz5BuIHFV2Bk"
   },
   "source": [
    "## LAB03 기본 신경망 구현"
   ]
  },
  {
   "cell_type": "markdown",
   "metadata": {},
   "source": [
    "### 학습 내용\n",
    "* 용어 이해하기\n",
    "* 활성화 함수 종류 알아보기\n",
    "* 입력 데이터, 출력 데이터를 이용하여 간단한 기본 신경망 모델을 만들어본다."
   ]
  },
  {
   "cell_type": "markdown",
   "metadata": {},
   "source": [
    "### 용어 이해하기"
   ]
  },
  {
   "cell_type": "markdown",
   "metadata": {},
   "source": [
    "* 인공신경망(Artificial neural network)의 개념은 뇌를 구성하는 신경세포, 즉 뉴런(Neuron)의 동작원리에 기초한다.\n",
    "* 입력(X)에 가중치(W)를 곱하고, 편향(b)를 더한 후, (X * W + b)\n",
    "* 활성화함수(Sigmoid, ReLU, tanh 기타)를 거쳐 y를 만든다."
   ]
  },
  {
   "cell_type": "markdown",
   "metadata": {
    "colab_type": "text",
    "id": "drIAaE0ZV98M"
   },
   "source": [
    "### y = sigmoid(X x W + b)\n",
    "```\n",
    "y : 출력\n",
    "Sigmoid : 활성화 함수\n",
    "X : 입력\n",
    "W : 가중치\n",
    "b : 편향\n",
    "```\n",
    "\n",
    "### 학습이란 최적의 y의 값을 찾기 위한 W, b의 값을 찾아내는 것을 말한다."
   ]
  },
  {
   "cell_type": "markdown",
   "metadata": {
    "colab_type": "text",
    "id": "-zI_Fc_3Wh3l"
   },
   "source": [
    "### 3-1 활성화 함수(activation function)"
   ]
  },
  {
   "cell_type": "markdown",
   "metadata": {
    "colab_type": "text",
    "id": "r16oVoqFWWNk"
   },
   "source": [
    "####  활성화 함수(activation function)는 인공 신경망을 통과해 값이 최종적으로 어떤 값으로 만들지를 결정한다.\n",
    "#### 대표적인 종류 : Sigmoid(시그모이드), ReLu(렐루), tanh(쌍곡탄젠트)"
   ]
  },
  {
   "cell_type": "markdown",
   "metadata": {
    "colab_type": "text",
    "id": "cqlXgiwrWfqE"
   },
   "source": [
    "* 인공뉴런은 가중치와 활성화 함수의 연결로 이루어진 간단한 구조이다.\n",
    "* 간단한 개념의 인공 뉴런을 충분히 많이 연결된 것으로 인간이 인지하기 어려운 복잡한 패턴까지도 스스로 학습한다.\n",
    "* 최근의 활성화 함수는 ReLU를 많이 사용함."
   ]
  },
  {
   "cell_type": "markdown",
   "metadata": {},
   "source": [
    "#### Sigmoid\n",
    "<img src='../img/LAB03_01_Sig.png'>\n",
    "\n",
    "#### Relu\n",
    "<img src='../img/LAB03_02_Relu.png'>\n",
    "\n",
    "#### Tanh\n",
    "<img src='../img/LAB03_03_tanh.png'>\n"
   ]
  },
  {
   "cell_type": "markdown",
   "metadata": {
    "colab_type": "text",
    "id": "qtb9b33EW6dk"
   },
   "source": [
    "### 3-2 신경망 알고리즘 역사\n",
    "#### 초기 신경망의 한계\n",
    " * 수천~수만개의 W와 b의 값을 일일이 변경시켜가며 계산하는데 오랜 시간이 걸림.\n",
    " * 신경망의 층이 깊어질 수록 시도해봐야 하는 경우가 수가 많아, 유의미한 신경망을 만들기가 거의 불가능하다고 여겨짐.\n",
    "\n",
    "#### 신경망의 주목\n",
    " * 제안 : 제프리 힌트(Geoffrey Hinton) 교수가 **제한된 볼트만 머신(Restricted Boltzmann Machine, RBM)**\n",
    " * RBM를 통해 심층 신경망을 효율적으로 학습이 가능해짐을 증명함.\n",
    " * 계속된 발전 : 드롭아웃 기법, ReLu 활성화 함수, GPU 발전, 역전파(backpropagation)\n",
    " \n",
    "#### 역전파\n",
    " * 결과값의 활용한 오차를 앞쪽으로 전파하면서 가중치를 갱신."
   ]
  },
  {
   "cell_type": "markdown",
   "metadata": {
    "colab_type": "text",
    "id": "lz4ymLTcXj0r"
   },
   "source": [
    "### 3-3 간단한 분류 모델 구현하기\n",
    "* 딥러닝에서 가장 폭넓게 활용되는 분야는 패턴 인식을 통한 영상처리 분야이다.\n",
    "* 패턴을 파악해 여러종류로 구분하는 작업을 분류(classification)이라 한다."
   ]
  },
  {
   "cell_type": "code",
   "execution_count": 30,
   "metadata": {
    "colab": {},
    "colab_type": "code",
    "id": "06U89L8JYDUE"
   },
   "outputs": [],
   "source": [
    "import tensorflow as tf\n",
    "import numpy as np"
   ]
  },
  {
   "cell_type": "markdown",
   "metadata": {
    "colab_type": "text",
    "id": "jKb1tJbaYOLs"
   },
   "source": [
    "### (1) 데이터 정의 \n",
    "* IRIS 꽃의 종류 setosa, vesicolor, virginica\n",
    "* setosa를 우린 원핫을 이용하여 [1, 0, 0]\n",
    "* vesicolor를 우린 원핫(0,1로 표현)하여 [0, 1, 0]\n",
    "* virginica를 우린 원핫(0,1로 표현)하여 [0, 0, 1]로 표현\n",
    "\n",
    "#### 그리고 우린 x의 2가지 값(X1, X2)를 정하고,  두개의 값에 따라 setosa, vesicolor, virginica를 답을 매칭시킨다.\n",
    "```\n",
    "[0,0] -> [1,0,0]  # setosa\n",
    "[1,0] -> [0 1 0]  # vesicolor\n",
    "[1,1] -> [0 0 1]  # virginica\n",
    "[0,1] -> [0 0 1]  # virginica\n",
    "```"
   ]
  },
  {
   "cell_type": "code",
   "execution_count": 31,
   "metadata": {
    "colab": {},
    "colab_type": "code",
    "id": "yYS7rmnfYHLd"
   },
   "outputs": [],
   "source": [
    "# x_data를 이용하여 우리는 꽃의 종류를 예측한다.\n",
    "# 6개의 데이터\n",
    "x_data = np.array( [[0, 0], [1, 0], [1, 1], [0, 0], [0, 0], [0, 1]])\n",
    "\n",
    "y_data = np.array([\n",
    "    [1, 0, 0],  # setosa\n",
    "    [0, 1, 0],  # vesicolor\n",
    "    [0, 0, 1],  # virginica\n",
    "    [1, 0, 0],  # setosa\n",
    "    [1, 0, 0],  # setosa\n",
    "    [0, 0, 1]   # virginica\n",
    "])"
   ]
  },
  {
   "cell_type": "code",
   "execution_count": 32,
   "metadata": {},
   "outputs": [
    {
     "name": "stdout",
     "output_type": "stream",
     "text": [
      "(6, 2)\n",
      "(6, 3)\n"
     ]
    }
   ],
   "source": [
    "print(x_data.shape)\n",
    "print(y_data.shape)"
   ]
  },
  {
   "cell_type": "markdown",
   "metadata": {
    "colab_type": "text",
    "id": "CthOihkNZT3V"
   },
   "source": [
    "### (2) 신경망 모델 구성\n",
    "* 플레이스 홀더 구성(입력(X), 출력(Y)\n",
    "* 가중치(W) : 특징수(2개) X 레이블수(3개) 로 설정\n",
    "* 편향(B) 설정"
   ]
  },
  {
   "cell_type": "code",
   "execution_count": 33,
   "metadata": {
    "colab": {},
    "colab_type": "code",
    "id": "uhnYF1gOZbRN"
   },
   "outputs": [],
   "source": [
    "X = tf.placeholder(tf.float32)   #  X에 들어갈 값(공간)\n",
    "Y = tf.placeholder(tf.float32)   #  Y에 들어갈 값(공간)\n",
    "\n",
    "# 신경망은 2차원으로 [입력층(특성), 출력층(레이블)] -> [2, 3] 으로 정합니다.\n",
    "# 임의의 값을 지정한다.\n",
    "# tf.random_uniform([shape], 시작범위, 끝범위)\n",
    "W = tf.Variable(tf.random_uniform([2,3], -1., 1.))\n",
    "\n",
    "# 편향을 각각 각 레이어의 아웃풋 갯수로 설정합니다.\n",
    "# 편향은 아웃풋의 갯수, 즉 최종 결과값의 분류 갯수인 3으로 설정합니다.\n",
    "b = tf.Variable(tf.zeros([3]))"
   ]
  },
  {
   "cell_type": "markdown",
   "metadata": {
    "colab_type": "text",
    "id": "UAQxYAckZ_Xd"
   },
   "source": [
    "* (가) 가중치를 곱하고 편향을 더한다. \n",
    "* (나) (가)의 결과를 활성화 함수를 적용한다.(ReLu)\n",
    "* (다) 신경망을 통해 나온 출력값을 softmax 함수를 이용하여 사용하기 쉽게 다듬어준다."
   ]
  },
  {
   "cell_type": "code",
   "execution_count": 34,
   "metadata": {
    "colab": {},
    "colab_type": "code",
    "id": "m3SV_YfOZutN"
   },
   "outputs": [],
   "source": [
    "# (가) X(입력) * W(가중치) + b(편향)\n",
    "L = tf.add(tf.matmul(X,W), b)\n",
    "\n",
    "# (나) 활성화 함수 적용 \n",
    "# 가중치와 편향을 이용해 계산한 결과 값에\n",
    "# 텐서플로우에서 기본적으로 제공하는 활성화 함수인 ReLU 함수를 적용합니다.\n",
    "L = tf.nn.relu(L)\n",
    "\n",
    "# (다) softmax 함수 적용\n",
    "# 마지막으로 softmax 함수를 이용하여 출력값을 사용하기 쉽게 만듭니다\n",
    "# softmax 함수는 출력층의 결과값을 전체합이 1인 확률로 만들어주는 함수입니다.\n",
    "# 예) [8.04, 2.76, -6.52] -> [0.53 0.24 0.23]\n",
    "model = tf.nn.softmax(L)"
   ]
  },
  {
   "cell_type": "markdown",
   "metadata": {
    "colab_type": "text",
    "id": "mWnCpQ_4aR1F"
   },
   "source": [
    "### (3) 손실함수(loss) 작성\n",
    " * 교차 엔트로피(Cross-Entropy) : 대부분의 모델에서 사용하는 Loss 함수\n",
    " * reduce_XXX : 텐서의 차원을 줄여준다. \n",
    " * reduce_mean, reduce_sum, reduce_min... -> 차원을 없앤다."
   ]
  },
  {
   "cell_type": "code",
   "execution_count": 35,
   "metadata": {
    "colab": {
     "base_uri": "https://localhost:8080/",
     "height": 34
    },
    "colab_type": "code",
    "executionInfo": {
     "elapsed": 588,
     "status": "ok",
     "timestamp": 1547564702698,
     "user": {
      "displayName": "K Joy",
      "photoUrl": "",
      "userId": "10088839989700781050"
     },
     "user_tz": -540
    },
    "id": "NcCWR7yAaV70",
    "outputId": "db1c912e-6c19-4111-e653-c79329a3b3ac"
   },
   "outputs": [
    {
     "data": {
      "text/plain": [
       "<tf.Tensor 'Mean_9:0' shape=() dtype=float32>"
      ]
     },
     "execution_count": 35,
     "metadata": {},
     "output_type": "execute_result"
    }
   ],
   "source": [
    "# 신경망을 최적화하기 위한 비용(cost) 함수를 작성.\n",
    "# 각 개별 결과에 대한 합을 구한 뒤 평균을 내는 방식을 사용\n",
    "# 전체 합이 아닌, 개별 결과를 구한 뒤 평균을 내는 방식을 사용하기 위해 \n",
    "# axis 옵션을 사용합니다. (0 : 열의 합, 1 : 행의 합) \n",
    "# axis 옵션이 없으면 -1.09 처럼 총합인 스칼라값으로 출력됩니다.\n",
    "#        Y         model         Y * tf.log(model)   reduce_sum(axis=1)\n",
    "# 예) [[1 0 0]  [[0.1 0.7 0.2]  -> [[-1.0  0    0]  -> [-1.0, -0.09]\n",
    "#     [0 1 0]]  [0.2 0.8 0.0]]     [ 0   -0.09 0]]\n",
    "#  마지막 값 ([-1.0, -0.09])의 평균을 내면 이 값이 교차 엔트로피(-0.545)가 된다.\n",
    "# 즉, 이것은 예측값과 실제값 사이의 확률 분포의 차이를 비용으로 계산한 것이며,\n",
    "# 이것을 Cross-Entropy 라고 합니다.\n",
    "cost = tf.reduce_mean(-tf.reduce_sum(Y*tf.log(model), axis=1))\n",
    "cost"
   ]
  },
  {
   "cell_type": "markdown",
   "metadata": {
    "colab_type": "text",
    "id": "_j3K8X82aeX9"
   },
   "source": [
    "### (4) 최적화 알고리즘\n",
    "* 기본적인 경사하강법을 이용한 최적화\n",
    "* cost가 최소가 되도록 최적화 한다."
   ]
  },
  {
   "cell_type": "code",
   "execution_count": 36,
   "metadata": {
    "colab": {
     "base_uri": "https://localhost:8080/",
     "height": 104
    },
    "colab_type": "code",
    "executionInfo": {
     "elapsed": 853,
     "status": "ok",
     "timestamp": 1547564703384,
     "user": {
      "displayName": "K Joy",
      "photoUrl": "",
      "userId": "10088839989700781050"
     },
     "user_tz": -540
    },
    "id": "TPaLCRweaoxs",
    "outputId": "6c4f858f-0eef-4bdc-8b0a-4fdf4bf4fffe"
   },
   "outputs": [
    {
     "name": "stdout",
     "output_type": "stream",
     "text": [
      "name: \"GradientDescent_3\"\n",
      "op: \"NoOp\"\n",
      "input: \"^GradientDescent_3/update_Variable_4/ApplyGradientDescent\"\n",
      "input: \"^GradientDescent_3/update_Variable_5/ApplyGradientDescent\"\n",
      "\n"
     ]
    }
   ],
   "source": [
    "# cost = tf.reduce_mean(-tf.reduce_sum(Y*tf.log(model), axis=1))\n",
    "optimizer = tf.train.GradientDescentOptimizer(learning_rate=0.01)\n",
    "train_op = optimizer.minimize(cost)\n",
    "print(train_op)"
   ]
  },
  {
   "cell_type": "code",
   "execution_count": 37,
   "metadata": {
    "colab": {
     "base_uri": "https://localhost:8080/",
     "height": 34
    },
    "colab_type": "code",
    "executionInfo": {
     "elapsed": 626,
     "status": "ok",
     "timestamp": 1547564703386,
     "user": {
      "displayName": "K Joy",
      "photoUrl": "",
      "userId": "10088839989700781050"
     },
     "user_tz": -540
    },
    "id": "DJZm9YpQcRJU",
    "outputId": "037fd5d1-3bbe-454d-927d-5eb8f89bf543"
   },
   "outputs": [
    {
     "name": "stdout",
     "output_type": "stream",
     "text": [
      "(6, 2) (6, 3)\n"
     ]
    }
   ],
   "source": [
    "print(x_data.shape, y_data.shape)"
   ]
  },
  {
   "cell_type": "markdown",
   "metadata": {},
   "source": [
    "### (5) 그래프 실행\n",
    "* 세션 초기화\n",
    "* 학습 : x_data -> 특징1, 특징2(0,1), y_data : 꽃의 종류\n",
    "* 학습단위10번마다 cost 출력"
   ]
  },
  {
   "cell_type": "code",
   "execution_count": 38,
   "metadata": {
    "colab": {
     "base_uri": "https://localhost:8080/",
     "height": 192
    },
    "colab_type": "code",
    "executionInfo": {
     "elapsed": 761,
     "status": "ok",
     "timestamp": 1547564880408,
     "user": {
      "displayName": "K Joy",
      "photoUrl": "",
      "userId": "10088839989700781050"
     },
     "user_tz": -540
    },
    "id": "bU00jsNzbRbV",
    "outputId": "c05f47e9-5a54-41e4-8fa8-c1d06081eb16"
   },
   "outputs": [
    {
     "name": "stdout",
     "output_type": "stream",
     "text": [
      "10 1.1964406\n",
      "20 1.1906317\n",
      "30 1.184925\n",
      "40 1.1793187\n",
      "50 1.1738107\n",
      "60 1.1683997\n",
      "70 1.1630837\n",
      "80 1.1578609\n",
      "90 1.1527299\n",
      "100 1.1476885\n"
     ]
    }
   ],
   "source": [
    "# 텐서플로 세션 초기화\n",
    "sess = tf.Session()\n",
    "init = tf.global_variables_initializer()\n",
    "sess.run(init)\n",
    "\n",
    "# 레이블 데이터를 이용하여 학습을 진행\n",
    "for step in range(100):\n",
    "  sess.run(train_op,feed_dict={X:x_data, Y:y_data})\n",
    "  \n",
    "  # 학습도중 10번씩 손실값을 출력\n",
    "  if (step+1)%10 == 0:\n",
    "    print(step+1, sess.run(cost, feed_dict={X:x_data, Y:y_data}))"
   ]
  },
  {
   "cell_type": "markdown",
   "metadata": {
    "colab_type": "text",
    "id": "6ZmFBDHndPNc"
   },
   "source": [
    "### (6) 예측값과 실제값의 비교\n",
    "* tf.argmax(model, 1) 예측값 중의 가장 높은 값을 갖는 위치 출력\n",
    "* tf.argmax(Y, 1) 실제값 중의 가장 높은 값을 갖는 위치 출력\n",
    "* tf.equal() 의 결과값 True, False\n",
    "* tf.cast() 값을 실수값의 형태로 변경"
   ]
  },
  {
   "cell_type": "code",
   "execution_count": 39,
   "metadata": {
    "colab": {
     "base_uri": "https://localhost:8080/",
     "height": 69
    },
    "colab_type": "code",
    "executionInfo": {
     "elapsed": 733,
     "status": "ok",
     "timestamp": 1547564882252,
     "user": {
      "displayName": "K Joy",
      "photoUrl": "",
      "userId": "10088839989700781050"
     },
     "user_tz": -540
    },
    "id": "16XDun8OdJbd",
    "outputId": "e87f4e96-799e-42eb-8800-7510e0e9999c"
   },
   "outputs": [
    {
     "name": "stdout",
     "output_type": "stream",
     "text": [
      "예측값: [0 1 1 0 0 1]\n",
      "실제값: [0 1 2 0 0 2]\n",
      "is_correct : [ True  True False  True  True False]\n",
      "정확도: 66.67\n"
     ]
    }
   ],
   "source": [
    "# tf.argmax: 예측값과 실제값의 행렬에서 tf.argmax를 이용해 \n",
    "# 가장 큰 값의 위치(인덱스)을 가져옵니다.\n",
    "# 예) [[0   1   0]  [1    0    0]] -> [1 0]   # 두번째(1), 첫번째(0)\n",
    "#    [[0.2 0.7 0.1] [0.9  0.1  0.]] -> [1 0]  # 두번째(1), 첫번째(0)\n",
    "\n",
    "prediction = tf.argmax(model, 1)\n",
    "target = tf.argmax(Y, 1)\n",
    "\n",
    "print('예측값:', sess.run(prediction, feed_dict={X: x_data}))\n",
    "print('실제값:', sess.run(target, feed_dict={Y: y_data}))\n",
    "\n",
    "is_correct = tf.equal(prediction, target)\n",
    "accuracy = tf.reduce_mean(tf.cast(is_correct, tf.float32))\n",
    "\n",
    "print('is_correct :', sess.run(is_correct, feed_dict={X: x_data,Y: y_data}))\n",
    "print('정확도: %.2f' % sess.run(accuracy * 100, feed_dict={X: x_data, Y: y_data}))"
   ]
  },
  {
   "cell_type": "code",
   "execution_count": null,
   "metadata": {},
   "outputs": [],
   "source": []
  }
 ],
 "metadata": {
  "colab": {
   "collapsed_sections": [],
   "name": "TF_LAB03_ANN.ipynb",
   "provenance": [],
   "version": "0.3.2"
  },
  "kernelspec": {
   "display_name": "Python 3",
   "language": "python",
   "name": "python3"
  },
  "language_info": {
   "codemirror_mode": {
    "name": "ipython",
    "version": 3
   },
   "file_extension": ".py",
   "mimetype": "text/x-python",
   "name": "python",
   "nbconvert_exporter": "python",
   "pygments_lexer": "ipython3",
   "version": "3.6.5"
  }
 },
 "nbformat": 4,
 "nbformat_minor": 1
}
