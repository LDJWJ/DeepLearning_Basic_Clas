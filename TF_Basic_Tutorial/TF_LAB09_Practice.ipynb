{
 "cells": [
  {
   "cell_type": "markdown",
   "metadata": {},
   "source": [
    "### LAB09_실습 2번 과제 내용"
   ]
  },
  {
   "cell_type": "code",
   "execution_count": 1,
   "metadata": {},
   "outputs": [
    {
     "name": "stderr",
     "output_type": "stream",
     "text": [
      "C:\\Users\\WITHJS\\Anaconda3\\lib\\site-packages\\h5py\\__init__.py:36: FutureWarning: Conversion of the second argument of issubdtype from `float` to `np.floating` is deprecated. In future, it will be treated as `np.float64 == np.dtype(float).type`.\n",
      "  from ._conv import register_converters as _register_converters\n"
     ]
    },
    {
     "name": "stdout",
     "output_type": "stream",
     "text": [
      "[10 20 30 40 50]\n",
      "[100 200]\n"
     ]
    }
   ],
   "source": [
    "import tensorflow as tf\n",
    "# 플레이스홀더 정의하기 --- (※1)\n",
    "a = tf.placeholder(tf.int32, [None]) # 배열의 크기를 None으로 지정\n",
    "# 배열의 모든 값을 10배하는 연산 정의하기 \n",
    "b = tf.constant(10)\n",
    "x10_op = a * b\n",
    "# 세션 시작하기 \n",
    "sess = tf.Session()\n",
    "# 플레이스홀더에 값을 넣어 실행하기 --- (※2)\n",
    "r1 = sess.run(x10_op, feed_dict={a: [1,2,3,4,5]})\n",
    "print(r1)\n",
    "r2 = sess.run(x10_op, feed_dict={a: [10,20]})\n",
    "print(r2)"
   ]
  },
  {
   "cell_type": "code",
   "execution_count": null,
   "metadata": {},
   "outputs": [],
   "source": []
  }
 ],
 "metadata": {
  "kernelspec": {
   "display_name": "Python 3",
   "language": "python",
   "name": "python3"
  },
  "language_info": {
   "codemirror_mode": {
    "name": "ipython",
    "version": 3
   },
   "file_extension": ".py",
   "mimetype": "text/x-python",
   "name": "python",
   "nbconvert_exporter": "python",
   "pygments_lexer": "ipython3",
   "version": "3.6.4"
  }
 },
 "nbformat": 4,
 "nbformat_minor": 2
}
