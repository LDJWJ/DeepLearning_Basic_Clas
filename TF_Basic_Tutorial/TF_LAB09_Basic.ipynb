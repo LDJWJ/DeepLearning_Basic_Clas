{
 "cells": [
  {
   "cell_type": "markdown",
   "metadata": {},
   "source": [
    "## 01. Tensorflow에서 변수 표현"
   ]
  },
  {
   "cell_type": "code",
   "execution_count": 3,
   "metadata": {},
   "outputs": [],
   "source": [
    "import tensorflow as tf\n",
    "\n",
    "# 상수 정의하기 --- (※1)\n",
    "a1 = tf.constant(10, name=\"a\")\n",
    "b1 = tf.constant(20, name=\"b\")\n",
    "c1 = tf.constant(30, name=\"c\")"
   ]
  },
  {
   "cell_type": "code",
   "execution_count": 4,
   "metadata": {},
   "outputs": [
    {
     "name": "stdout",
     "output_type": "stream",
     "text": [
      "60\n"
     ]
    }
   ],
   "source": [
    "# 변수 정의하기 --- (※2)\n",
    "v = tf.Variable(0, name=\"v\")  # 변수 v 선언 및 초기값 0\n",
    "\n",
    "# 데이터 플로우 그래프 정의하기 --- (※3)\n",
    "calc_op = a1 + b1 + c1\n",
    "assign_op = tf.assign(v, calc_op)   # v에 calc_op 대입\n",
    "\n",
    "# 세션 실행하기 --- (※4)\n",
    "sess = tf.Session()\n",
    "sess.run(assign_op)\n",
    "\n",
    "# v의 내용 출력하기 --- (※5)\n",
    "print( sess.run(v) )"
   ]
  },
  {
   "cell_type": "markdown",
   "metadata": {},
   "source": [
    "## 02. Placeholder(플레이스 홀더)"
   ]
  },
  {
   "cell_type": "markdown",
   "metadata": {},
   "source": [
    "* 템플릿처럼 값을 넣을 공간을 만들어두는 기능\n",
    "* 플레이스홀더를 이용하면 데이터 플로우 그래프를 구축시에 값을 넣지 않고, \n",
    "* 이후 세션을 실행할 때 그릇에 값을 넣을 수 있음."
   ]
  },
  {
   "cell_type": "code",
   "execution_count": 5,
   "metadata": {},
   "outputs": [
    {
     "name": "stdout",
     "output_type": "stream",
     "text": [
      "[2 4 6]\n",
      "[20 40 20]\n"
     ]
    }
   ],
   "source": [
    "import tensorflow as tf\n",
    "\n",
    "# 플레이스홀더 정의하기 --- (※1)\n",
    "a = tf.placeholder(tf.int32, [3]) # 정수 자료형 3개를 가진 배열\n",
    "\n",
    "# 배열을 모든 값을 2배하는 연산 정의하기 --- (※2)\n",
    "b = tf.constant(2)\n",
    "x2_op = a * b\n",
    "\n",
    "# 세션 시작하기 --- (※3)\n",
    "sess = tf.Session()\n",
    "\n",
    "# 플레이스홀더에 값을 넣고 실행하기 --- (※4)\n",
    "r1 = sess.run(x2_op, feed_dict={ a:[1, 2, 3] })\n",
    "print(r1)\n",
    "r2 = sess.run(x2_op, feed_dict={ a:[10, 20, 10] })\n",
    "print(r2)"
   ]
  },
  {
   "cell_type": "markdown",
   "metadata": {},
   "source": [
    "### 03. 플레이스 홀더를 선언할 때, 요소의 개수를 고정시키지 않기(실습)\n",
    " * 배열의 모든 값에 10배를 하는 연산을 정의\n",
    " * 첫번째 리스트 값은 [1,2,3,4,5]\n",
    " * 두번째 리스트 값은 [10,20]"
   ]
  },
  {
   "cell_type": "markdown",
   "metadata": {},
   "source": [
    "### 실습pdf 참조"
   ]
  },
  {
   "cell_type": "code",
   "execution_count": null,
   "metadata": {},
   "outputs": [],
   "source": []
  }
 ],
 "metadata": {
  "kernelspec": {
   "display_name": "Python 3",
   "language": "python",
   "name": "python3"
  },
  "language_info": {
   "codemirror_mode": {
    "name": "ipython",
    "version": 3
   },
   "file_extension": ".py",
   "mimetype": "text/x-python",
   "name": "python",
   "nbconvert_exporter": "python",
   "pygments_lexer": "ipython3",
   "version": "3.6.4"
  }
 },
 "nbformat": 4,
 "nbformat_minor": 2
}
