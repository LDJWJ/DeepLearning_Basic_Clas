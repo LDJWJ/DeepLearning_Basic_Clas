{
 "cells": [
  {
   "cell_type": "markdown",
   "metadata": {
    "colab_type": "text",
    "id": "GLfQLuykORO7"
   },
   "source": [
    "## LAB05 MNIST 데이터를 이용한 신경망 모델"
   ]
  },
  {
   "cell_type": "markdown",
   "metadata": {
    "colab_type": "text",
    "id": "syfrJGLqOeJP"
   },
   "source": [
    "## 01. MNIST 데이터 셋 설명\n",
    " * 0 ~ 9까지의 숫자를 28 X 28 픽셀 크기의 이미지로 구성.\n",
    " * 딥러닝 입문의 첫 시작 : Hello World!\n",
    " * 기본 내장된 mnist 모듈을 이용하여 데이터를 로드"
   ]
  },
  {
   "cell_type": "code",
   "execution_count": 4,
   "metadata": {
    "colab": {},
    "colab_type": "code",
    "id": "P7hUux1TOhCu"
   },
   "outputs": [],
   "source": [
    "import tensorflow as tf\n",
    "\n",
    "from tensorflow.examples.tutorials.mnist import input_data"
   ]
  },
  {
   "cell_type": "code",
   "execution_count": 5,
   "metadata": {
    "colab": {
     "base_uri": "https://localhost:8080/",
     "height": 556
    },
    "colab_type": "code",
    "executionInfo": {
     "elapsed": 1604,
     "status": "ok",
     "timestamp": 1547634986502,
     "user": {
      "displayName": "K Joy",
      "photoUrl": "",
      "userId": "10088839989700781050"
     },
     "user_tz": -540
    },
    "id": "zuIhgT2COwrM",
    "outputId": "7fa8abc4-908b-435b-cd75-b620c6c0255f"
   },
   "outputs": [
    {
     "name": "stdout",
     "output_type": "stream",
     "text": [
      "Extracting ./mnist/data/train-images-idx3-ubyte.gz\n",
      "Extracting ./mnist/data/train-labels-idx1-ubyte.gz\n",
      "Extracting ./mnist/data/t10k-images-idx3-ubyte.gz\n",
      "Extracting ./mnist/data/t10k-labels-idx1-ubyte.gz\n"
     ]
    }
   ],
   "source": [
    "mnist = input_data.read_data_sets(\"./mnist/data/\", one_hot=True)"
   ]
  },
  {
   "cell_type": "markdown",
   "metadata": {
    "colab_type": "text",
    "id": "x40iZHYuO8eA"
   },
   "source": [
    "## 02. 신경망 모델 구성\n",
    "* 28 X 28 픽셀(X) -> 각각의 픽셀은 하나의 특징, 즉 784개의 특징\n",
    "* Label(Y)은 0~9까지 숫자를 가르킴. 10개의 분류\n",
    "* 입력 X, 출력 Y\n",
    "* Palceholder를 이용하여 None에는 현재 데이터 개수를 모르기 때문에 None으로 둔다."
   ]
  },
  {
   "cell_type": "code",
   "execution_count": 6,
   "metadata": {
    "colab": {},
    "colab_type": "code",
    "id": "FMeH6axIPjv8"
   },
   "outputs": [],
   "source": [
    "X = tf.placeholder(tf.float32, [None, 784])\n",
    "Y = tf.placeholder(tf.float32, [None, 10])"
   ]
  },
  {
   "cell_type": "markdown",
   "metadata": {
    "colab_type": "text",
    "id": "n8Wn_eWzPs8R"
   },
   "source": [
    "### 우리가 만들 신경망 (은닉층이 2개)\n",
    " * 784개의 특징(입력)\n",
    " * 256 (첫번째 은닉층의 뉴런 개수)\n",
    " * 256 (두번째 은닉층의 뉴런 개수)\n",
    " * 10 ( 결과값 0-9 분류 개수)\n",
    " * 각 뉴런 노드를 연결하는 가중치는 임의의 값으로 지정한다.\n",
    " * 활성화 함수는 ReLU함수를 이용한다."
   ]
  },
  {
   "cell_type": "code",
   "execution_count": 7,
   "metadata": {
    "colab": {},
    "colab_type": "code",
    "id": "TUsfkNONQNZ3"
   },
   "outputs": [],
   "source": [
    "# 784개 입력, 256개의 뉴런 \n",
    "# 표준편차가 0.01인 정규 분포를 가지는 임의의 뉴런을 초기화 시킨다.\n",
    "W1 = tf.Variable(tf.random_normal([784, 256], stddev=0.01))\n",
    "\n",
    "# X(입력값)에 가중치를 곱하고, 이후 ReLU 함수를 이용하여 레이어를 만든다.\n",
    "L1 = tf.nn.relu(tf.matmul(X, W1))  # 데이터수 X 784 * 784 X 256 => 데이터수 X 256\n",
    "\n",
    "W2 = tf.Variable(tf.random_normal([256,256], stddev=0.01))\n",
    "# L1(입력값)에 가중치를 곱하고, 이후 ReLU 함수를 이용하여 레이어를 만든다.\n",
    "L2 = tf.nn.relu(tf.matmul(L1, W2)) # 데이터수 X 256 * 256 X 256 => 데이터수 X 256\n",
    "\n",
    "W3 = tf.Variable(tf.random_normal([256, 10], stddev=0.01))\n",
    "model = tf.matmul(L2, W3) # 데이터수 X 256 * 256 X 10 => 데이터수 X 10"
   ]
  },
  {
   "cell_type": "markdown",
   "metadata": {},
   "source": [
    "## 03. 손실함수(Loss) 및 최적화 알고리즘"
   ]
  },
  {
   "cell_type": "markdown",
   "metadata": {
    "colab_type": "text",
    "id": "RcxMz7R7QmiR"
   },
   "source": [
    "* 손실(Loss) 함수 : Cross_entropy(크로스 엔트로피)\n",
    "* tf.train.AdamOptimizer 함수 이용 최적화를 수행"
   ]
  },
  {
   "cell_type": "code",
   "execution_count": 8,
   "metadata": {
    "colab": {},
    "colab_type": "code",
    "id": "UoQepDP7Rywg"
   },
   "outputs": [],
   "source": [
    "cost = tf.reduce_mean(\n",
    "          tf.nn.softmax_cross_entropy_with_logits_v2(logits=model, labels=Y))\n",
    "optimizer = tf.train.AdamOptimizer(0.001).minimize(cost)"
   ]
  },
  {
   "cell_type": "markdown",
   "metadata": {},
   "source": [
    "## 04. 그래프 실행"
   ]
  },
  {
   "cell_type": "code",
   "execution_count": 9,
   "metadata": {
    "colab": {},
    "colab_type": "code",
    "id": "a-a8aVX5S2_P"
   },
   "outputs": [],
   "source": [
    "init = tf.global_variables_initializer()\n",
    "sess = tf.Session()\n",
    "sess.run(init)"
   ]
  },
  {
   "cell_type": "markdown",
   "metadata": {
    "colab_type": "text",
    "id": "7z1TKPBxTPSR"
   },
   "source": [
    "## 05. 미니배치를 이용한 학습\n",
    "* 가중치를 업데이트를 위한 학습시의 데이터의 개수를 일정개수 지정(미니 배치)\n",
    "* 일반적으로 데이터를 적당한 크기로 잘라서 학습시킴.\n",
    "* 100개씩의 데이터 단위로 가중치 갱신 수행.\n",
    "* 1 epoch : 전체 데이터가 한번 학습했음을 의미함."
   ]
  },
  {
   "cell_type": "markdown",
   "metadata": {
    "colab_type": "text",
    "id": "uUVBNExqTt0g"
   },
   "source": [
    "\n",
    "### 알아두어야 할 내용 - 데이터 셋을 나누는 이유(학습/테스트)\n",
    "별도의 테스트 데이터를 사용하는 이유는 학습 데이터로 예측을 하면 예측 정확도가 매우 높게 나오지만, 학습 데이터에 포함되지 않은 새로운 데이터를 예측할 때는 정확도가 매우 떨어지는 경우가 많기 때문. \n",
    "* 이런 현상을 우리는 과적합이라 한다."
   ]
  },
  {
   "cell_type": "code",
   "execution_count": 10,
   "metadata": {
    "colab": {},
    "colab_type": "code",
    "id": "IMQBmZrkUFiv"
   },
   "outputs": [],
   "source": [
    "batch_size = 100\n",
    "total_batch = int(mnist.train.num_examples / batch_size)"
   ]
  },
  {
   "cell_type": "code",
   "execution_count": 12,
   "metadata": {
    "colab": {
     "base_uri": "https://localhost:8080/",
     "height": 554
    },
    "colab_type": "code",
    "executionInfo": {
     "elapsed": 37350,
     "status": "ok",
     "timestamp": 1547636749305,
     "user": {
      "displayName": "K Joy",
      "photoUrl": "",
      "userId": "10088839989700781050"
     },
     "user_tz": -540
    },
    "id": "zDZVPTakUXSQ",
    "outputId": "2926e126-e531-49ef-c14b-65162e54b5aa"
   },
   "outputs": [
    {
     "name": "stdout",
     "output_type": "stream",
     "text": [
      "(100, 784) (100, 10)\n",
      "Epoch 1, Avg. cost = 0.01051193731982163\n",
      "(100, 784) (100, 10)\n",
      "Epoch 2, Avg. cost = 0.007532538338802458\n",
      "(100, 784) (100, 10)\n",
      "Epoch 3, Avg. cost = 0.011062648312059041\n",
      "(100, 784) (100, 10)\n",
      "Epoch 4, Avg. cost = 0.01042535298374291\n",
      "(100, 784) (100, 10)\n",
      "Epoch 5, Avg. cost = 0.0059479653918647684\n",
      "(100, 784) (100, 10)\n",
      "Epoch 6, Avg. cost = 0.009620980600987174\n",
      "(100, 784) (100, 10)\n",
      "Epoch 7, Avg. cost = 0.007457145980214673\n",
      "(100, 784) (100, 10)\n",
      "Epoch 8, Avg. cost = 0.005536378025474484\n",
      "(100, 784) (100, 10)\n",
      "Epoch 9, Avg. cost = 0.008377153798960948\n",
      "(100, 784) (100, 10)\n",
      "Epoch 10, Avg. cost = 0.007472366088188871\n",
      "(100, 784) (100, 10)\n",
      "Epoch 11, Avg. cost = 0.0045059184550617914\n",
      "(100, 784) (100, 10)\n",
      "Epoch 12, Avg. cost = 0.00706552311015664\n",
      "(100, 784) (100, 10)\n",
      "Epoch 13, Avg. cost = 0.0045431002585160675\n",
      "(100, 784) (100, 10)\n",
      "Epoch 14, Avg. cost = 0.006000384793542667\n",
      "(100, 784) (100, 10)\n",
      "Epoch 15, Avg. cost = 0.006420198379775932\n"
     ]
    }
   ],
   "source": [
    "for epoch in range(15):\n",
    "  total_cost = 0\n",
    "  for i in range(total_batch):\n",
    "    # 학습할 데이터를 가져온다.    \n",
    "    batch_xs, batch_ys = mnist.train.next_batch(batch_size) \n",
    "    \n",
    "    # 입력 X, 출력 Y에 각각의 데이터 넣고 실행\n",
    "    _, cost_val = sess.run([optimizer,cost],\n",
    "                          feed_dict={X:batch_xs, Y:batch_ys})\n",
    "    total_cost += cost_val\n",
    "  print(batch_xs.shape, batch_ys.shape)\n",
    "  print('Epoch {}, Avg. cost = {}'.format(epoch+1, total_cost/total_batch))\n",
    "               "
   ]
  },
  {
   "cell_type": "markdown",
   "metadata": {
    "colab_type": "text",
    "id": "-fUvw6eXVVrI"
   },
   "source": [
    "### 06. 학습 후, 결과 확인"
   ]
  },
  {
   "cell_type": "code",
   "execution_count": 11,
   "metadata": {
    "colab": {
     "base_uri": "https://localhost:8080/",
     "height": 35
    },
    "colab_type": "code",
    "executionInfo": {
     "elapsed": 565,
     "status": "ok",
     "timestamp": 1547636921406,
     "user": {
      "displayName": "K Joy",
      "photoUrl": "",
      "userId": "10088839989700781050"
     },
     "user_tz": -540
    },
    "id": "-QobmLzUVr-u",
    "outputId": "99a1dc5b-6fc3-45c4-a399-8d78c25170f6"
   },
   "outputs": [
    {
     "data": {
      "text/plain": [
       "<tf.Tensor 'Mean_1:0' shape=() dtype=float32>"
      ]
     },
     "execution_count": 11,
     "metadata": {},
     "output_type": "execute_result"
    }
   ],
   "source": [
    "# tf.argmax(model, 1)는 최대값을 뽑기\n",
    "# tf.argmax(Y,1)는 1번 인덱스(두번째)값 중에서 최대값 뽑기\n",
    "# 결과는 10개 레이블중에 확률이 가장 높은 값이 된다.\n",
    "is_correct = tf.equal(tf.argmax(model, 1), tf.argmax(Y,1)) \n",
    "is_correct\n",
    "accuracy = tf.reduce_mean(tf.cast(is_correct, tf.float32))\n",
    "accuracy"
   ]
  },
  {
   "cell_type": "code",
   "execution_count": 12,
   "metadata": {
    "colab": {
     "base_uri": "https://localhost:8080/",
     "height": 53
    },
    "colab_type": "code",
    "executionInfo": {
     "elapsed": 367,
     "status": "ok",
     "timestamp": 1547637012447,
     "user": {
      "displayName": "K Joy",
      "photoUrl": "",
      "userId": "10088839989700781050"
     },
     "user_tz": -540
    },
    "id": "siWgTtUCWjTU",
    "outputId": "f5a0af88-cfe0-4270-caea-5942cf09cda9"
   },
   "outputs": [
    {
     "name": "stdout",
     "output_type": "stream",
     "text": [
      "(10000, 784)\n",
      "(10000, 10)\n"
     ]
    }
   ],
   "source": [
    "print(mnist.test.images.shape)\n",
    "print(mnist.test.labels.shape)"
   ]
  },
  {
   "cell_type": "markdown",
   "metadata": {},
   "source": [
    "### mnist.test 테스트 데이터 셋을 이용하여 예측 수행"
   ]
  },
  {
   "cell_type": "code",
   "execution_count": 13,
   "metadata": {
    "colab": {
     "base_uri": "https://localhost:8080/",
     "height": 35
    },
    "colab_type": "code",
    "executionInfo": {
     "elapsed": 545,
     "status": "ok",
     "timestamp": 1547636973642,
     "user": {
      "displayName": "K Joy",
      "photoUrl": "",
      "userId": "10088839989700781050"
     },
     "user_tz": -540
    },
    "id": "gNAQ8ml4V2KZ",
    "outputId": "66b23761-7f6f-40bf-c536-a1064c4fffa5"
   },
   "outputs": [
    {
     "name": "stdout",
     "output_type": "stream",
     "text": [
      "정확도 0.9799\n"
     ]
    }
   ],
   "source": [
    "print('정확도', sess.run(accuracy, feed_dict={X:mnist.test.images,\n",
    "                                              Y:mnist.test.labels}))"
   ]
  },
  {
   "cell_type": "code",
   "execution_count": 0,
   "metadata": {
    "colab": {},
    "colab_type": "code",
    "id": "LOpr6p8lWh3L"
   },
   "outputs": [],
   "source": []
  }
 ],
 "metadata": {
  "colab": {
   "name": "TF_LAB05_MNIST.ipynb",
   "provenance": [],
   "version": "0.3.2"
  },
  "kernelspec": {
   "display_name": "Python 3",
   "language": "python",
   "name": "python3"
  },
  "language_info": {
   "codemirror_mode": {
    "name": "ipython",
    "version": 3
   },
   "file_extension": ".py",
   "mimetype": "text/x-python",
   "name": "python",
   "nbconvert_exporter": "python",
   "pygments_lexer": "ipython3",
   "version": "3.6.5"
  }
 },
 "nbformat": 4,
 "nbformat_minor": 1
}
