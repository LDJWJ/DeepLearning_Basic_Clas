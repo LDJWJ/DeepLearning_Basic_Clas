{
 "cells": [
  {
   "cell_type": "markdown",
   "metadata": {},
   "source": [
    "### MNIST 분류 모델 만들기 - 신경망"
   ]
  },
  {
   "cell_type": "code",
   "execution_count": 1,
   "metadata": {},
   "outputs": [],
   "source": [
    "from keras.datasets import mnist\n",
    "from keras.utils import np_utils"
   ]
  },
  {
   "cell_type": "code",
   "execution_count": 2,
   "metadata": {},
   "outputs": [],
   "source": [
    "import numpy\n",
    "import sys\n",
    "import tensorflow as tf"
   ]
  },
  {
   "cell_type": "code",
   "execution_count": 4,
   "metadata": {},
   "outputs": [],
   "source": [
    "seed = 0\n",
    "numpy.random.seed(seed)"
   ]
  },
  {
   "cell_type": "markdown",
   "metadata": {},
   "source": [
    "### 데이터 다운로드"
   ]
  },
  {
   "cell_type": "code",
   "execution_count": 5,
   "metadata": {},
   "outputs": [
    {
     "name": "stdout",
     "output_type": "stream",
     "text": [
      "(60000, 28, 28)\n",
      "(60000,)\n",
      "(10000, 28, 28)\n",
      "(10000,)\n"
     ]
    }
   ],
   "source": [
    "# 처음 다운일 경우, 데이터 다운로드 시간이 걸릴 수 있음. \n",
    "(X_train, y_train), (X_test, y_test) = mnist.load_data()\n",
    "print(X_train.shape)\n",
    "print(y_train.shape)\n",
    "print(X_test.shape)\n",
    "print(y_test.shape)"
   ]
  },
  {
   "cell_type": "code",
   "execution_count": 6,
   "metadata": {},
   "outputs": [],
   "source": [
    "import matplotlib.pyplot as plt"
   ]
  },
  {
   "cell_type": "code",
   "execution_count": 7,
   "metadata": {},
   "outputs": [
    {
     "name": "stdout",
     "output_type": "stream",
     "text": [
      "label=[5 0 4 1 9 2 1 3 1 4 3 5 3 6 1]\n"
     ]
    },
    {
     "data": {
      "image/png": "[encoded data removed]",
      "text/plain": [
       "<Figure size 1296x864 with 15 Axes>"
      ]
     },
     "metadata": {
      "needs_background": "light"
     },
     "output_type": "display_data"
    }
   ],
   "source": [
    "figure,axes = plt.subplots(nrows=3, ncols=5)\n",
    "figure.set_size_inches(18,12)\n",
    "\n",
    "plt.gray()\n",
    "print(\"label={}\".format(y_train[0:15]))\n",
    "\n",
    "col = 0\n",
    "for row in range(0,3):\n",
    "    col = row * 5\n",
    "    axes[row][0].matshow(X_train[col])\n",
    "    axes[row][1].matshow(X_train[col+1])\n",
    "    axes[row][2].matshow(X_train[col+2])\n",
    "    axes[row][3].matshow(X_train[col+3])\n",
    "    axes[row][4].matshow(X_train[col+4])"
   ]
  },
  {
   "cell_type": "markdown",
   "metadata": {},
   "source": [
    "### X_train의 데이터 정보를 하나 보기"
   ]
  },
  {
   "cell_type": "code",
   "execution_count": 8,
   "metadata": {},
   "outputs": [
    {
     "name": "stdout",
     "output_type": "stream",
     "text": [
      "(60000, 28, 28)\n"
     ]
    },
    {
     "data": {
      "text/plain": [
       "(28, 28)"
      ]
     },
     "execution_count": 8,
     "metadata": {},
     "output_type": "execute_result"
    }
   ],
   "source": [
    "print(X_train.shape)  # 60000 만개, 28행, 28열\n",
    "X_train[0].shape"
   ]
  },
  {
   "cell_type": "markdown",
   "metadata": {},
   "source": [
    "### 신경망에 맞추어 주기 위해 데이터 전처리\n",
    " * 학습 데이터 \n",
    " * 테스트 데이터"
   ]
  },
  {
   "cell_type": "code",
   "execution_count": 9,
   "metadata": {},
   "outputs": [],
   "source": [
    "X_train = X_train.reshape(X_train.shape[0],784)   # 60000, 28, 28 -> 60000, 784로 변경\n",
    "# 데이터 값의 범위 0~255 -> 0~1 \n",
    "X_train.astype('float64')  \n",
    "X_train = X_train/255\n",
    "\n",
    "# 이렇게도 가능\n",
    "# X_train = X_train.reshape(X_train.shape[0],784).astype('float64') / 255"
   ]
  },
  {
   "cell_type": "code",
   "execution_count": 10,
   "metadata": {},
   "outputs": [],
   "source": [
    "import numpy as np"
   ]
  },
  {
   "cell_type": "code",
   "execution_count": 11,
   "metadata": {},
   "outputs": [
    {
     "name": "stdout",
     "output_type": "stream",
     "text": [
      "(60000, 784)\n"
     ]
    },
    {
     "data": {
      "text/plain": [
       "(0.0, 1.0)"
      ]
     },
     "execution_count": 11,
     "metadata": {},
     "output_type": "execute_result"
    }
   ],
   "source": [
    "print(X_train.shape)               # 데이터 크기\n",
    "np.min(X_train), np.max(X_train)   # 값의 범위"
   ]
  },
  {
   "cell_type": "code",
   "execution_count": 12,
   "metadata": {},
   "outputs": [],
   "source": [
    "# 테스트 데이터 전처리\n",
    "X_test = X_test.reshape(X_test.shape[0],784)\n",
    "X_test.astype('float64')\n",
    "X_test = X_test/255"
   ]
  },
  {
   "cell_type": "code",
   "execution_count": 13,
   "metadata": {},
   "outputs": [
    {
     "name": "stdout",
     "output_type": "stream",
     "text": [
      "(10000, 784)\n"
     ]
    },
    {
     "data": {
      "text/plain": [
       "(0.0, 1.0)"
      ]
     },
     "execution_count": 13,
     "metadata": {},
     "output_type": "execute_result"
    }
   ],
   "source": [
    "print(X_test.shape)               # 데이터 크기\n",
    "np.min(X_test), np.max(X_test)   # 값의 범위"
   ]
  },
  {
   "cell_type": "markdown",
   "metadata": {},
   "source": [
    "## 출력데이터 검증을 위해 10진수의 값을 One-Hot Encoding을 수행"
   ]
  },
  {
   "cell_type": "code",
   "execution_count": 14,
   "metadata": {},
   "outputs": [],
   "source": [
    "# OneHotEncoding - 10진수의 값을 0, 1의 값을 갖는 벡터로 표현\n",
    "Y_train = np_utils.to_categorical(y_train, 10)\n",
    "Y_test = np_utils.to_categorical(y_test, 10)"
   ]
  },
  {
   "cell_type": "markdown",
   "metadata": {},
   "source": [
    "### 변환 전과 후"
   ]
  },
  {
   "cell_type": "code",
   "execution_count": 15,
   "metadata": {},
   "outputs": [
    {
     "data": {
      "text/plain": [
       "array([5, 0, 4, 1], dtype=uint8)"
      ]
     },
     "execution_count": 15,
     "metadata": {},
     "output_type": "execute_result"
    }
   ],
   "source": [
    "y_train[0:4]"
   ]
  },
  {
   "cell_type": "code",
   "execution_count": 16,
   "metadata": {},
   "outputs": [
    {
     "data": {
      "text/plain": [
       "array([[0., 0., 0., 0., 0., 1., 0., 0., 0., 0.],\n",
       "       [1., 0., 0., 0., 0., 0., 0., 0., 0., 0.],\n",
       "       [0., 0., 0., 0., 1., 0., 0., 0., 0., 0.],\n",
       "       [0., 1., 0., 0., 0., 0., 0., 0., 0., 0.]], dtype=float32)"
      ]
     },
     "execution_count": 16,
     "metadata": {},
     "output_type": "execute_result"
    }
   ],
   "source": [
    "Y_train[0:4]"
   ]
  },
  {
   "cell_type": "markdown",
   "metadata": {},
   "source": [
    "### 딥러닝 만들어 보기"
   ]
  },
  {
   "cell_type": "code",
   "execution_count": 17,
   "metadata": {},
   "outputs": [],
   "source": [
    "from keras.models import Sequential\n",
    "from keras.layers import Dense"
   ]
  },
  {
   "cell_type": "code",
   "execution_count": 18,
   "metadata": {},
   "outputs": [],
   "source": [
    "m = Sequential()"
   ]
  },
  {
   "cell_type": "code",
   "execution_count": 19,
   "metadata": {},
   "outputs": [],
   "source": [
    "m.add(Dense(512,input_dim=784, activation='relu'))\n",
    "m.add(Dense(128, activation='relu') )\n",
    "m.add(Dense(10,activation='softmax'))#softmax"
   ]
  },
  {
   "cell_type": "markdown",
   "metadata": {},
   "source": [
    "### 오차함수 :categorical_crossentropy, 최적화 함수 : adam"
   ]
  },
  {
   "cell_type": "code",
   "execution_count": 20,
   "metadata": {},
   "outputs": [],
   "source": [
    "m.compile(loss=\"categorical_crossentropy\", \n",
    "         optimizer='adam',\n",
    "         metrics=['accuracy'])"
   ]
  },
  {
   "cell_type": "code",
   "execution_count": 21,
   "metadata": {},
   "outputs": [
    {
     "name": "stdout",
     "output_type": "stream",
     "text": [
      "Epoch 1/30\n",
      "300/300 [==============================] - 1s 5ms/step - loss: 0.2674 - accuracy: 0.9245 - val_loss: 0.1346 - val_accuracy: 0.9585\n",
      "Epoch 2/30\n",
      "300/300 [==============================] - 1s 4ms/step - loss: 0.0968 - accuracy: 0.9709 - val_loss: 0.0937 - val_accuracy: 0.9706\n",
      "Epoch 3/30\n",
      "300/300 [==============================] - 1s 4ms/step - loss: 0.0614 - accuracy: 0.9816 - val_loss: 0.0689 - val_accuracy: 0.9780\n",
      "Epoch 4/30\n",
      "300/300 [==============================] - 1s 4ms/step - loss: 0.0405 - accuracy: 0.9874 - val_loss: 0.0718 - val_accuracy: 0.9781\n",
      "Epoch 5/30\n",
      "300/300 [==============================] - 1s 4ms/step - loss: 0.0288 - accuracy: 0.9913 - val_loss: 0.0665 - val_accuracy: 0.9814\n",
      "Epoch 6/30\n",
      "300/300 [==============================] - 1s 4ms/step - loss: 0.0226 - accuracy: 0.9932 - val_loss: 0.0638 - val_accuracy: 0.9796\n",
      "Epoch 7/30\n",
      "300/300 [==============================] - 1s 4ms/step - loss: 0.0168 - accuracy: 0.9950 - val_loss: 0.0818 - val_accuracy: 0.9771\n",
      "Epoch 8/30\n",
      "300/300 [==============================] - 1s 4ms/step - loss: 0.0127 - accuracy: 0.9959 - val_loss: 0.0741 - val_accuracy: 0.9799\n",
      "Epoch 9/30\n",
      "300/300 [==============================] - 1s 4ms/step - loss: 0.0118 - accuracy: 0.9962 - val_loss: 0.0722 - val_accuracy: 0.9801\n",
      "Epoch 10/30\n",
      "300/300 [==============================] - 1s 4ms/step - loss: 0.0093 - accuracy: 0.9970 - val_loss: 0.0811 - val_accuracy: 0.9791\n",
      "Epoch 11/30\n",
      "300/300 [==============================] - 1s 4ms/step - loss: 0.0108 - accuracy: 0.9963 - val_loss: 0.0762 - val_accuracy: 0.9806\n",
      "Epoch 12/30\n",
      "300/300 [==============================] - 1s 4ms/step - loss: 0.0088 - accuracy: 0.9972 - val_loss: 0.0814 - val_accuracy: 0.9781\n",
      "Epoch 13/30\n",
      "300/300 [==============================] - 1s 4ms/step - loss: 0.0080 - accuracy: 0.9973 - val_loss: 0.0814 - val_accuracy: 0.9808\n",
      "Epoch 14/30\n",
      "300/300 [==============================] - 1s 4ms/step - loss: 0.0077 - accuracy: 0.9976 - val_loss: 0.1012 - val_accuracy: 0.9765\n",
      "Epoch 15/30\n",
      "300/300 [==============================] - 1s 4ms/step - loss: 0.0068 - accuracy: 0.9978 - val_loss: 0.0791 - val_accuracy: 0.9824\n",
      "Epoch 16/30\n",
      "300/300 [==============================] - 1s 5ms/step - loss: 0.0075 - accuracy: 0.9976 - val_loss: 0.1116 - val_accuracy: 0.9743\n",
      "Epoch 17/30\n",
      "300/300 [==============================] - 1s 5ms/step - loss: 0.0094 - accuracy: 0.9969 - val_loss: 0.0916 - val_accuracy: 0.9814\n",
      "Epoch 18/30\n",
      "300/300 [==============================] - 1s 4ms/step - loss: 0.0056 - accuracy: 0.9981 - val_loss: 0.0985 - val_accuracy: 0.9795\n",
      "Epoch 19/30\n",
      "300/300 [==============================] - 1s 4ms/step - loss: 0.0034 - accuracy: 0.9990 - val_loss: 0.0951 - val_accuracy: 0.9826\n",
      "Epoch 20/30\n",
      "300/300 [==============================] - 1s 4ms/step - loss: 0.0047 - accuracy: 0.9984 - val_loss: 0.1212 - val_accuracy: 0.9769\n",
      "Epoch 21/30\n",
      "300/300 [==============================] - 1s 4ms/step - loss: 0.0071 - accuracy: 0.9977 - val_loss: 0.0851 - val_accuracy: 0.9826\n",
      "Epoch 22/30\n",
      "300/300 [==============================] - 1s 4ms/step - loss: 0.0038 - accuracy: 0.9989 - val_loss: 0.1028 - val_accuracy: 0.9804\n",
      "Epoch 23/30\n",
      "300/300 [==============================] - 1s 4ms/step - loss: 0.0104 - accuracy: 0.9965 - val_loss: 0.0933 - val_accuracy: 0.9802\n",
      "Epoch 24/30\n",
      "300/300 [==============================] - 1s 4ms/step - loss: 0.0042 - accuracy: 0.9989 - val_loss: 0.0894 - val_accuracy: 0.9826\n",
      "Epoch 25/30\n",
      "300/300 [==============================] - 1s 4ms/step - loss: 0.0022 - accuracy: 0.9993 - val_loss: 0.0903 - val_accuracy: 0.9837\n",
      "Epoch 26/30\n",
      "300/300 [==============================] - 1s 4ms/step - loss: 6.3915e-04 - accuracy: 0.9999 - val_loss: 0.0901 - val_accuracy: 0.9833\n",
      "Epoch 27/30\n",
      "300/300 [==============================] - 1s 4ms/step - loss: 1.1963e-04 - accuracy: 1.0000 - val_loss: 0.0857 - val_accuracy: 0.9849\n",
      "Epoch 28/30\n",
      "300/300 [==============================] - 1s 5ms/step - loss: 4.0693e-05 - accuracy: 1.0000 - val_loss: 0.0863 - val_accuracy: 0.9848\n",
      "Epoch 29/30\n",
      "300/300 [==============================] - 1s 5ms/step - loss: 3.1315e-05 - accuracy: 1.0000 - val_loss: 0.0874 - val_accuracy: 0.9848\n",
      "Epoch 30/30\n",
      "300/300 [==============================] - 2s 5ms/step - loss: 2.5225e-05 - accuracy: 1.0000 - val_loss: 0.0884 - val_accuracy: 0.9847\n"
     ]
    }
   ],
   "source": [
    "### 배치 사이즈 200, epochs 30회 실행,\n",
    "history = m.fit(X_train, Y_train, validation_data=(X_test, Y_test),\n",
    "                epochs=30,\n",
    "                batch_size=200,\n",
    "                verbose=1)"
   ]
  },
  {
   "cell_type": "code",
   "execution_count": 22,
   "metadata": {},
   "outputs": [
    {
     "name": "stdout",
     "output_type": "stream",
     "text": [
      "313/313 [==============================] - 0s 1ms/step - loss: 0.0884 - accuracy: 0.9847\n",
      "Test Accuracy : 0.9847\n"
     ]
    }
   ],
   "source": [
    "print(\"Test Accuracy : %.4f\" %(m.evaluate(X_test, Y_test)[1]))"
   ]
  },
  {
   "cell_type": "code",
   "execution_count": 23,
   "metadata": {},
   "outputs": [],
   "source": [
    "pred = m.predict(X_test)"
   ]
  },
  {
   "cell_type": "code",
   "execution_count": 24,
   "metadata": {},
   "outputs": [
    {
     "name": "stdout",
     "output_type": "stream",
     "text": [
      "(10000, 10)\n",
      "[2.8150371e-18 1.3070420e-12 1.0000000e+00 1.7728102e-17 9.9219194e-30\n",
      " 1.2918585e-20 2.3182731e-18 6.2873724e-22 6.3510818e-15 9.1639151e-25]\n"
     ]
    }
   ],
   "source": [
    "print( pred.shape )\n",
    "print( pred[1] )"
   ]
  }
 ],
 "metadata": {
  "kernelspec": {
   "display_name": "Python 3",
   "language": "python",
   "name": "python3"
  },
  "language_info": {
   "codemirror_mode": {
    "name": "ipython",
    "version": 3
   },
   "file_extension": ".py",
   "mimetype": "text/x-python",
   "name": "python",
   "nbconvert_exporter": "python",
   "pygments_lexer": "ipython3",
   "version": "3.8.5"
  }
 },
 "nbformat": 4,
 "nbformat_minor": 2
}
