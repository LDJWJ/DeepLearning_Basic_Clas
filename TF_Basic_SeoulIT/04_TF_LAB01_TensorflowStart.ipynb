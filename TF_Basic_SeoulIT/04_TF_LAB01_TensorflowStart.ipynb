{
 "cells": [
  {
   "cell_type": "markdown",
   "metadata": {},
   "source": [
    "### Tensorflow 시작하기\n",
    "* 라이브러리 불러오기\n",
    "* tf.constant 알아보기\n",
    "* tf.add() 실습\n",
    "* sess() 실습\n",
    "* 행렬 곱"
   ]
  },
  {
   "cell_type": "markdown",
   "metadata": {},
   "source": [
    "### 01. 라이브러리 임포트\n",
    "* 설치 : pip install tensorflow"
   ]
  },
  {
   "cell_type": "code",
   "execution_count": 1,
   "metadata": {},
   "outputs": [],
   "source": [
    "import tensorflow as tf"
   ]
  },
  {
   "cell_type": "code",
   "execution_count": 2,
   "metadata": {},
   "outputs": [
    {
     "name": "stdout",
     "output_type": "stream",
     "text": [
      "1.15.0\n"
     ]
    }
   ],
   "source": [
    "print(tf.__version__)"
   ]
  },
  {
   "cell_type": "markdown",
   "metadata": {},
   "source": [
    "### 02. 값 저장하기\n",
    "* Tensor 자료형 : \n",
    "* shape(), string\n",
    "* tf.constant() : Creates a constant tensor."
   ]
  },
  {
   "cell_type": "code",
   "execution_count": 3,
   "metadata": {},
   "outputs": [
    {
     "name": "stdout",
     "output_type": "stream",
     "text": [
      "Tensor(\"Const:0\", shape=(), dtype=string)\n",
      "<class 'tensorflow.python.framework.ops.Tensor'>\n"
     ]
    }
   ],
   "source": [
    "hello = tf.constant(\"Hello, Tensorflow\")\n",
    "print(hello)\n",
    "print(type(hello))"
   ]
  },
  {
   "cell_type": "markdown",
   "metadata": {},
   "source": [
    "### 03. 텐서플로워 프로그램 두 가지 과정\n",
    "* 그래프의 생성\n",
    "* 그래프의 실행"
   ]
  },
  {
   "cell_type": "markdown",
   "metadata": {},
   "source": [
    "### 그래프의 생성\n",
    " * 그래프는 생성 단계에서 연산과정을 그래프로 표시"
   ]
  },
  {
   "cell_type": "markdown",
   "metadata": {},
   "source": [
    "### 덧셈"
   ]
  },
  {
   "cell_type": "code",
   "execution_count": 4,
   "metadata": {},
   "outputs": [
    {
     "name": "stdout",
     "output_type": "stream",
     "text": [
      "<class 'tensorflow.python.framework.ops.Tensor'> <class 'tensorflow.python.framework.ops.Tensor'> <class 'tensorflow.python.framework.ops.Tensor'>\n",
      "Tensor(\"Add:0\", shape=(), dtype=int32)\n"
     ]
    }
   ],
   "source": [
    "num1 = tf.constant(10)\n",
    "num2 = tf.constant(20)\n",
    "num3 = tf.add(num1,num2)\n",
    "print(type(num1), type(num2), type(num3))\n",
    "print(num3)\n",
    "\n",
    "# 2행 3열의 텐서를 생성.\n",
    "tensor = tf.constant(-1.0, shape=[2, 3])"
   ]
  },
  {
   "cell_type": "markdown",
   "metadata": {},
   "source": [
    "### 그래프의 실행\n",
    " * 실제 연산 부분 C++로 구현한 코어 라이브러리 실행\n",
    " * 모델 구성과 실행을 분리시켜 프로그램을 작성함."
   ]
  },
  {
   "cell_type": "code",
   "execution_count": 5,
   "metadata": {},
   "outputs": [
    {
     "name": "stdout",
     "output_type": "stream",
     "text": [
      "b'Hello, Tensorflow'\n"
     ]
    }
   ],
   "source": [
    "## 세션 연결 후, run을 통해 실행\n",
    "sess = tf.Session()\n",
    "print(sess.run(hello))"
   ]
  },
  {
   "cell_type": "code",
   "execution_count": 6,
   "metadata": {},
   "outputs": [
    {
     "name": "stdout",
     "output_type": "stream",
     "text": [
      "[30]\n"
     ]
    }
   ],
   "source": [
    "print(sess.run([num3]))"
   ]
  },
  {
   "cell_type": "code",
   "execution_count": 7,
   "metadata": {},
   "outputs": [
    {
     "name": "stdout",
     "output_type": "stream",
     "text": [
      "[[-1. -1. -1.]\n",
      " [-1. -1. -1.]]\n"
     ]
    }
   ],
   "source": [
    "print(sess.run(tensor))"
   ]
  },
  {
   "cell_type": "code",
   "execution_count": 8,
   "metadata": {},
   "outputs": [],
   "source": [
    "sess.close()"
   ]
  },
  {
   "cell_type": "markdown",
   "metadata": {},
   "source": [
    "### 04. 텐서 플로워의 자료형\n",
    "* 플레이스 홀더 : 나중에 값을 입력받기 위한 사용되는 매개변수(parameter)\n",
    "* shape(?,3)은 두번째 차원 요소가 3이고, 앞의 차원은 나중에 지정.     "
   ]
  },
  {
   "cell_type": "code",
   "execution_count": 9,
   "metadata": {},
   "outputs": [
    {
     "name": "stdout",
     "output_type": "stream",
     "text": [
      "<class 'tensorflow.python.framework.ops.Tensor'>\n",
      "Tensor(\"Placeholder:0\", shape=(?, 2), dtype=float32)\n"
     ]
    }
   ],
   "source": [
    "# None은 크기가 정해져 있지 않음을 의미\n",
    "tensorX = tf.placeholder(tf.float32, [None, 2])\n",
    "print(type(tensorX))\n",
    "print(tensorX)"
   ]
  },
  {
   "cell_type": "code",
   "execution_count": 10,
   "metadata": {},
   "outputs": [],
   "source": [
    "# X에 넣을 데이터 초기화\n",
    "x_data = [[1,1], [2,2]]"
   ]
  },
  {
   "cell_type": "code",
   "execution_count": 11,
   "metadata": {},
   "outputs": [
    {
     "name": "stdout",
     "output_type": "stream",
     "text": [
      "[[1. 1.]\n",
      " [2. 2.]]\n"
     ]
    }
   ],
   "source": [
    "sess = tf.Session()\n",
    "sess.run(tf.global_variables_initializer())\n",
    "\n",
    "print(sess.run(tensorX, feed_dict={tensorX:x_data}))\n",
    "sess.close()"
   ]
  },
  {
   "cell_type": "markdown",
   "metadata": {},
   "source": [
    "### 05 행렬 연산\n",
    "* Y = X (2행2열) * W(2행*2열) + b(2행)"
   ]
  },
  {
   "cell_type": "markdown",
   "metadata": {},
   "source": [
    "#### tf.random_normal : 정규 분포로부터 랜덤한 값 생성"
   ]
  },
  {
   "cell_type": "code",
   "execution_count": 12,
   "metadata": {},
   "outputs": [
    {
     "name": "stdout",
     "output_type": "stream",
     "text": [
      "<tf.Variable 'Variable:0' shape=(2, 2) dtype=float32_ref>\n",
      "<tf.Variable 'Variable_1:0' shape=(2, 1) dtype=float32_ref>\n"
     ]
    }
   ],
   "source": [
    "# None은 크기가 정해져 있지 않음을 의미\n",
    "tensorX = tf.placeholder(tf.float32, [None, 2])\n",
    "\n",
    "W = tf.Variable(tf.random_normal([2,2]))\n",
    "b = tf.Variable(tf.random_normal([2,1]))\n",
    "print(W)\n",
    "print(b)"
   ]
  },
  {
   "cell_type": "code",
   "execution_count": 13,
   "metadata": {},
   "outputs": [
    {
     "data": {
      "text/plain": [
       "<tf.Tensor 'add_1:0' shape=(2, 2) dtype=float32>"
      ]
     },
     "execution_count": 13,
     "metadata": {},
     "output_type": "execute_result"
    }
   ],
   "source": [
    "expr = tf.matmul(tensorX, W) + b\n",
    "expr"
   ]
  },
  {
   "cell_type": "markdown",
   "metadata": {},
   "source": [
    "### 연산 결과 및 결과 출력"
   ]
  },
  {
   "cell_type": "code",
   "execution_count": 15,
   "metadata": {},
   "outputs": [
    {
     "name": "stdout",
     "output_type": "stream",
     "text": [
      "x_data ==\n",
      "[[1, 1], [2, 2]]\n",
      "W ==\n",
      "[[-0.4257515   0.6523352 ]\n",
      " [ 0.24409229  0.4407963 ]]\n",
      "B ==\n",
      "[[-0.4506847]\n",
      " [-0.4844087]]\n",
      "expr ==\n",
      "[[-0.6323439  0.6424469]\n",
      " [-0.8477272  1.7018543]]\n"
     ]
    }
   ],
   "source": [
    "sess = tf.Session()\n",
    "sess.run(tf.global_variables_initializer())\n",
    "\n",
    "print(\"x_data ==\")\n",
    "print(x_data)\n",
    "print(\"W ==\")\n",
    "print(sess.run(W))\n",
    "print(\"B ==\")\n",
    "print(sess.run(b))\n",
    "\n",
    "print(\"expr ==\")\n",
    "print(sess.run(expr, feed_dict={tensorX:x_data}))\n",
    "sess.close()"
   ]
  },
  {
   "cell_type": "markdown",
   "metadata": {},
   "source": [
    "### REF\n",
    "* [What does the 'b' character do in front of a string literal?](https://stackoverflow.com/questions/6269765/what-does-the-b-character-do-in-front-of-a-string-literal)\n",
    "* 골빈해커의 3분 딥러닝"
   ]
  }
 ],
 "metadata": {
  "kernelspec": {
   "display_name": "Python 3",
   "language": "python",
   "name": "python3"
  },
  "language_info": {
   "codemirror_mode": {
    "name": "ipython",
    "version": 3
   },
   "file_extension": ".py",
   "mimetype": "text/x-python",
   "name": "python",
   "nbconvert_exporter": "python",
   "pygments_lexer": "ipython3",
   "version": "3.8.3"
  }
 },
 "nbformat": 4,
 "nbformat_minor": 2
}
