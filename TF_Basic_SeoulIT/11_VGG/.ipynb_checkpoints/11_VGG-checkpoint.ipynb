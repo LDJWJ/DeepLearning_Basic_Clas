{
 "cells": [
  {
   "cell_type": "code",
   "execution_count": 1,
   "metadata": {},
   "outputs": [],
   "source": [
    "import  os\n",
    "import  tensorflow as tf\n",
    "from    tensorflow import  keras\n",
    "from    tensorflow.keras import datasets, layers, optimizers\n",
    "import  argparse\n",
    "import  numpy as np"
   ]
  },
  {
   "cell_type": "code",
   "execution_count": 2,
   "metadata": {},
   "outputs": [],
   "source": [
    "import network\n",
    "from n_test import VGG11\n",
    "from n_test2 import VGG16"
   ]
  },
  {
   "cell_type": "code",
   "execution_count": 3,
   "metadata": {},
   "outputs": [
    {
     "data": {
      "text/plain": [
       "'C:\\\\Users\\\\seoul it\\\\Documents\\\\GitHub\\\\DeepLearning_TFBasic_Class\\\\TF_Basic_SeoulIT\\\\11_VGG'"
      ]
     },
     "execution_count": 3,
     "metadata": {},
     "output_type": "execute_result"
    }
   ],
   "source": [
    "os.getcwd()"
   ]
  },
  {
   "cell_type": "code",
   "execution_count": 4,
   "metadata": {},
   "outputs": [
    {
     "data": {
      "text/plain": [
       "_StoreAction(option_strings=['--log_frequency'], dest='log_frequency', nargs=None, const=None, default=10, type=<class 'int'>, choices=None, help='How often to log results to the console.', metavar=None)"
      ]
     },
     "execution_count": 4,
     "metadata": {},
     "output_type": "execute_result"
    }
   ],
   "source": [
    "os.environ['TF_CPP_MIN_LOG_LEVEL'] = '2'  # or any {'0', '1', '2'}\n",
    "argparser = argparse.ArgumentParser()\n",
    "\n",
    "argparser.add_argument('--train_dir', type=str, default='/tmp/cifar10_train',\n",
    "                           help=\"Directory where to write event logs and checkpoint.\")\n",
    "argparser.add_argument('--max_steps', type=int, default=1000000,\n",
    "                            help=\"\"\"Number of batches to run.\"\"\")\n",
    "argparser.add_argument('--log_device_placement', action='store_true',\n",
    "                            help=\"Whether to log device placement.\")\n",
    "argparser.add_argument('--log_frequency', type=int, default=10,\n",
    "                            help=\"How often to log results to the console.\")"
   ]
  },
  {
   "cell_type": "code",
   "execution_count": 5,
   "metadata": {},
   "outputs": [],
   "source": [
    "def normalize(X_train, X_test):\n",
    "    # this function normalize inputs for zero mean and unit variance\n",
    "    # it is used when training a model.\n",
    "    # Input: training set and test set\n",
    "    # Output: normalized training set and test set according to the trianing set statistics.\n",
    "    X_train = X_train / 255.\n",
    "    X_test = X_test / 255.\n",
    "\n",
    "    mean = np.mean(X_train, axis=(0, 1, 2, 3))\n",
    "    std = np.std(X_train, axis=(0, 1, 2, 3))\n",
    "    print('mean:', mean, 'std:', std)\n",
    "    X_train = (X_train - mean) / (std + 1e-7)\n",
    "    X_test = (X_test - mean) / (std + 1e-7)\n",
    "    return X_train, X_test"
   ]
  },
  {
   "cell_type": "code",
   "execution_count": 6,
   "metadata": {},
   "outputs": [],
   "source": [
    "def prepare_cifar(x, y):\n",
    "\n",
    "    x = tf.cast(x, tf.float32)\n",
    "    y = tf.cast(y, tf.int32)\n",
    "    return x, y"
   ]
  },
  {
   "cell_type": "code",
   "execution_count": 7,
   "metadata": {},
   "outputs": [],
   "source": [
    "def compute_loss(logits, labels):\n",
    "  return tf.reduce_mean(\n",
    "      tf.nn.sparse_softmax_cross_entropy_with_logits(\n",
    "          logits=logits, labels=labels))\n"
   ]
  },
  {
   "cell_type": "code",
   "execution_count": 8,
   "metadata": {},
   "outputs": [],
   "source": [
    "def main():\n",
    "\n",
    "    tf.random.set_seed(22)\n",
    "\n",
    "    print('loading data...')\n",
    "    (x,y), (x_test, y_test) = datasets.cifar10.load_data()\n",
    "    x, x_test = normalize(x, x_test)\n",
    "    print(x.shape, y.shape, x_test.shape, y_test.shape)\n",
    "    # x = tf.convert_to_tensor(x)\n",
    "    # y = tf.convert_to_tensor(y)\n",
    "    train_loader = tf.data.Dataset.from_tensor_slices((x,y))\n",
    "    train_loader = train_loader.map(prepare_cifar).shuffle(50000).batch(256)\n",
    "\n",
    "    test_loader = tf.data.Dataset.from_tensor_slices((x_test, y_test))\n",
    "    test_loader = test_loader.map(prepare_cifar).shuffle(10000).batch(256)\n",
    "    print('done.')\n",
    "\n",
    "\n",
    "\n",
    "\n",
    "    model = VGG16([32, 32, 3])\n",
    "\n",
    "\n",
    "    # must specify from_logits=True!\n",
    "    criteon = keras.losses.CategoricalCrossentropy(from_logits=True)\n",
    "    metric = keras.metrics.CategoricalAccuracy()\n",
    "\n",
    "    optimizer = optimizers.Adam(learning_rate=0.0001)\n",
    "\n",
    "\n",
    "    for epoch in range(250):\n",
    "\n",
    "        for step, (x, y) in enumerate(train_loader):\n",
    "            # [b, 1] => [b]\n",
    "            y = tf.squeeze(y, axis=1)\n",
    "            # [b, 10]\n",
    "            y = tf.one_hot(y, depth=10)\n",
    "\n",
    "            with tf.GradientTape() as tape:\n",
    "                logits = model(x)\n",
    "                loss = criteon(y, logits)\n",
    "                # loss2 = compute_loss(logits, tf.argmax(y, axis=1))\n",
    "                # mse_loss = tf.reduce_sum(tf.square(y-logits))\n",
    "                # print(y.shape, logits.shape)\n",
    "                metric.update_state(y, logits)\n",
    "\n",
    "            grads = tape.gradient(loss, model.trainable_variables)\n",
    "            # MUST clip gradient here or it will disconverge!\n",
    "            grads = [ tf.clip_by_norm(g, 15) for g in grads]\n",
    "            optimizer.apply_gradients(zip(grads, model.trainable_variables))\n",
    "\n",
    "            if step % 40 == 0:\n",
    "                # for g in grads:\n",
    "                #     print(tf.norm(g).numpy())\n",
    "                print(epoch, step, 'loss:', float(loss), 'acc:', metric.result().numpy())\n",
    "                metric.reset_states()\n",
    "\n",
    "\n",
    "        if epoch % 1 == 0:\n",
    "\n",
    "            metric = keras.metrics.CategoricalAccuracy()\n",
    "            for x, y in test_loader:\n",
    "                # [b, 1] => [b]\n",
    "                y = tf.squeeze(y, axis=1)\n",
    "                # [b, 10]\n",
    "                y = tf.one_hot(y, depth=10)\n",
    "\n",
    "                logits = model.predict(x)\n",
    "                # be careful, these functions can accept y as [b] without warnning.\n",
    "                metric.update_state(y, logits)\n",
    "            print('test acc:', metric.result().numpy())\n",
    "            metric.reset_states()"
   ]
  },
  {
   "cell_type": "code",
   "execution_count": null,
   "metadata": {},
   "outputs": [],
   "source": []
  }
 ],
 "metadata": {
  "kernelspec": {
   "display_name": "Python 3",
   "language": "python",
   "name": "python3"
  },
  "language_info": {
   "codemirror_mode": {
    "name": "ipython",
    "version": 3
   },
   "file_extension": ".py",
   "mimetype": "text/x-python",
   "name": "python",
   "nbconvert_exporter": "python",
   "pygments_lexer": "ipython3",
   "version": "3.7.1"
  }
 },
 "nbformat": 4,
 "nbformat_minor": 4
}
