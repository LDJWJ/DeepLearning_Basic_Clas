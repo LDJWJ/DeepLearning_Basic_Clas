{
 "cells": [
  {
   "cell_type": "markdown",
   "metadata": {},
   "source": [
    "### 딥러닝 모델 구현해 보기\n",
    " * 첫번째 데이터 셋 : 자전거 공유 업체 시간대별 데이터\n",
    " * 두번째 데이터 셋 : 타이타닉 데이터 셋"
   ]
  },
  {
   "cell_type": "code",
   "execution_count": 14,
   "metadata": {},
   "outputs": [
    {
     "name": "stderr",
     "output_type": "stream",
     "text": [
      "Using TensorFlow backend.\n"
     ]
    }
   ],
   "source": [
    "import tensorflow as tf\n",
    "import keras"
   ]
  },
  {
   "cell_type": "code",
   "execution_count": 15,
   "metadata": {},
   "outputs": [],
   "source": [
    "import numpy as np\n",
    "import matplotlib.pyplot as plt\n",
    "import matplotlib\n",
    "import pandas as pd"
   ]
  },
  {
   "cell_type": "code",
   "execution_count": 17,
   "metadata": {},
   "outputs": [
    {
     "name": "stdout",
     "output_type": "stream",
     "text": [
      "tf version : 1.15.0\n",
      "keras version : 2.3.1\n",
      "numpy version : 1.16.4\n",
      "matplotlib version : 3.1.0\n",
      "pandas version : 0.24.2\n"
     ]
    }
   ],
   "source": [
    "print(\"tf version : {}\".format(tf.__version__))\n",
    "print(\"keras version : {}\".format(keras.__version__))\n",
    "print(\"numpy version : {}\".format(np.__version__))\n",
    "print(\"matplotlib version : {}\".format(matplotlib.__version__))\n",
    "print(\"pandas version : {}\".format(pd.__version__))"
   ]
  },
  {
   "cell_type": "markdown",
   "metadata": {},
   "source": [
    "### 데이터 셋 불러오기"
   ]
  },
  {
   "cell_type": "code",
   "execution_count": 18,
   "metadata": {},
   "outputs": [],
   "source": [
    "## train 데이터 셋 , test 데이터 셋\n",
    "## train 은 학습을 위한 입력 데이터 셋\n",
    "## test 은 예측을 위한 새로운 데이터 셋(평가)\n",
    "## parse_dates : datetime 컬럼을 시간형으로 불러올 수 있음\n",
    "train = pd.read_csv(\"./bike/bike_mod_tr.csv\", parse_dates=['datetime'])\n",
    "test = pd.read_csv(\"./bike/bike_mod_test.csv\", parse_dates=['datetime'])"
   ]
  },
  {
   "cell_type": "markdown",
   "metadata": {},
   "source": [
    "### 데이터 탐색"
   ]
  },
  {
   "cell_type": "code",
   "execution_count": 19,
   "metadata": {},
   "outputs": [
    {
     "data": {
      "text/plain": [
       "Index(['datetime', 'season', 'holiday', 'workingday', 'weather', 'temp',\n",
       "       'atemp', 'humidity', 'windspeed', 'casual', 'registered', 'count',\n",
       "       'year', 'month', 'day', 'hour', 'minute', 'second', 'dayofweek'],\n",
       "      dtype='object')"
      ]
     },
     "execution_count": 19,
     "metadata": {},
     "output_type": "execute_result"
    }
   ],
   "source": [
    "train.columns"
   ]
  },
  {
   "cell_type": "code",
   "execution_count": 20,
   "metadata": {},
   "outputs": [
    {
     "data": {
      "text/plain": [
       "Index(['datetime', 'season', 'holiday', 'workingday', 'weather', 'temp',\n",
       "       'atemp', 'humidity', 'windspeed', 'year', 'month', 'day', 'dayofweek',\n",
       "       'hour', 'minute', 'second'],\n",
       "      dtype='object')"
      ]
     },
     "execution_count": 20,
     "metadata": {},
     "output_type": "execute_result"
    }
   ],
   "source": [
    "test.columns"
   ]
  },
  {
   "cell_type": "code",
   "execution_count": 21,
   "metadata": {},
   "outputs": [
    {
     "name": "stdout",
     "output_type": "stream",
     "text": [
      "<class 'pandas.core.frame.DataFrame'>\n",
      "RangeIndex: 10886 entries, 0 to 10885\n",
      "Data columns (total 19 columns):\n",
      "datetime      10886 non-null datetime64[ns]\n",
      "season        10886 non-null int64\n",
      "holiday       10886 non-null int64\n",
      "workingday    10886 non-null int64\n",
      "weather       10886 non-null int64\n",
      "temp          10886 non-null float64\n",
      "atemp         10886 non-null float64\n",
      "humidity      10886 non-null int64\n",
      "windspeed     10886 non-null float64\n",
      "casual        10886 non-null int64\n",
      "registered    10886 non-null int64\n",
      "count         10886 non-null int64\n",
      "year          10886 non-null int64\n",
      "month         10886 non-null int64\n",
      "day           10886 non-null int64\n",
      "hour          10886 non-null int64\n",
      "minute        10886 non-null int64\n",
      "second        10886 non-null int64\n",
      "dayofweek     10886 non-null int64\n",
      "dtypes: datetime64[ns](1), float64(3), int64(15)\n",
      "memory usage: 1.6 MB\n",
      "None\n",
      "\n",
      "<class 'pandas.core.frame.DataFrame'>\n",
      "RangeIndex: 6493 entries, 0 to 6492\n",
      "Data columns (total 16 columns):\n",
      "datetime      6493 non-null datetime64[ns]\n",
      "season        6493 non-null int64\n",
      "holiday       6493 non-null int64\n",
      "workingday    6493 non-null int64\n",
      "weather       6493 non-null int64\n",
      "temp          6493 non-null float64\n",
      "atemp         6493 non-null float64\n",
      "humidity      6493 non-null int64\n",
      "windspeed     6493 non-null float64\n",
      "year          6493 non-null int64\n",
      "month         6493 non-null int64\n",
      "day           6493 non-null int64\n",
      "dayofweek     6493 non-null int64\n",
      "hour          6493 non-null int64\n",
      "minute        6493 non-null int64\n",
      "second        6493 non-null int64\n",
      "dtypes: datetime64[ns](1), float64(3), int64(12)\n",
      "memory usage: 811.7 KB\n",
      "None\n"
     ]
    }
   ],
   "source": [
    "print(train.info())\n",
    "print()\n",
    "print(test.info())"
   ]
  },
  {
   "cell_type": "markdown",
   "metadata": {},
   "source": [
    "### 모델을 위한 데이터 선택 \n",
    " * X : hour, temp : 시간, 온도\n",
    " * y : count - 자전거 시간대별 렌탈 대수 "
   ]
  },
  {
   "cell_type": "code",
   "execution_count": 22,
   "metadata": {},
   "outputs": [],
   "source": [
    "input_col = [ 'hour', 'temp']\n",
    "labeled_col = ['count']"
   ]
  },
  {
   "cell_type": "code",
   "execution_count": 51,
   "metadata": {},
   "outputs": [],
   "source": [
    "X = train[ input_col ]\n",
    "y = train[ labeled_col ]\n",
    "X_val = test[input_col]"
   ]
  },
  {
   "cell_type": "code",
   "execution_count": 52,
   "metadata": {},
   "outputs": [],
   "source": [
    "from sklearn.model_selection import train_test_split"
   ]
  },
  {
   "cell_type": "code",
   "execution_count": 53,
   "metadata": {},
   "outputs": [],
   "source": [
    "X_train, X_test, y_train, y_test = train_test_split(X, y, \n",
    "                                                random_state=0)"
   ]
  },
  {
   "cell_type": "code",
   "execution_count": 54,
   "metadata": {},
   "outputs": [
    {
     "name": "stdout",
     "output_type": "stream",
     "text": [
      "(8164, 2)\n",
      "(2722, 2)\n"
     ]
    }
   ],
   "source": [
    "print(X_train.shape)\n",
    "print(X_test.shape)"
   ]
  },
  {
   "cell_type": "code",
   "execution_count": 55,
   "metadata": {},
   "outputs": [],
   "source": [
    "### 난수 발생 패턴 결정 0\n",
    "seed = 0\n",
    "np.random.seed(seed)\n",
    "tf.set_random_seed(seed)"
   ]
  },
  {
   "cell_type": "markdown",
   "metadata": {},
   "source": [
    "## 딥러닝 구조 결정"
   ]
  },
  {
   "cell_type": "markdown",
   "metadata": {},
   "source": [
    "* 케라스 라이브러리 중에서 Sequential 함수는 딥러닝의 구조를 한층 한층 쉽게 쌓아올릴 수 있다.\n",
    "* Sequential() 함수 선언 후, 신경망의 층을 쌓기 위해 model.add() 함수를 사용한다\n",
    "* input_dim 입력층 노드의 수\n",
    "* activation - 활성화 함수 선언 (relu, sigmoid)\n",
    "* Dense() 함수를 이용하여 각 층에 세부 내용을 설정해 준다."
   ]
  },
  {
   "cell_type": "code",
   "execution_count": 56,
   "metadata": {},
   "outputs": [],
   "source": [
    "from keras.models import Sequential\n",
    "from keras.layers import Dense"
   ]
  },
  {
   "cell_type": "code",
   "execution_count": 57,
   "metadata": {},
   "outputs": [],
   "source": [
    "model = Sequential()\n",
    "model.add(Dense(30, input_dim=2, activation='relu'))\n",
    "model.add(Dense(15, activation='relu') )\n",
    "model.add(Dense(15, activation='relu') )\n",
    "model.add(Dense(1))"
   ]
  },
  {
   "cell_type": "markdown",
   "metadata": {},
   "source": [
    "### 미니배치의 이해\n",
    " * 이미지를 하나씩 학습시키는 것보다 여러 개를 한꺼번에 학습시키는 쪽이 효과가 좋다.\n",
    " * 많은 메모리와 높은 컴퓨터 성능이 필요하므로 일반적으로 데이터를 적당한 크기로 잘라서 학습시킨다.\n",
    "  * **미니배치**라고 한다."
   ]
  },
  {
   "cell_type": "markdown",
   "metadata": {},
   "source": [
    "### 딥러닝 실행"
   ]
  },
  {
   "cell_type": "code",
   "execution_count": 58,
   "metadata": {},
   "outputs": [
    {
     "name": "stdout",
     "output_type": "stream",
     "text": [
      "Epoch 1/20\n",
      "8164/8164 [==============================] - 1s 172us/step - loss: 30114.0064\n",
      "Epoch 2/20\n",
      "8164/8164 [==============================] - 1s 161us/step - loss: 23271.4145\n",
      "Epoch 3/20\n",
      "8164/8164 [==============================] - 1s 161us/step - loss: 21343.8217\n",
      "Epoch 4/20\n",
      "8164/8164 [==============================] - 1s 141us/step - loss: 19959.9441\n",
      "Epoch 5/20\n",
      "8164/8164 [==============================] - 1s 143us/step - loss: 19547.3706\n",
      "Epoch 6/20\n",
      "8164/8164 [==============================] - 1s 140us/step - loss: 19369.3852\n",
      "Epoch 7/20\n",
      "8164/8164 [==============================] - 1s 144us/step - loss: 19294.2127\n",
      "Epoch 8/20\n",
      "8164/8164 [==============================] - 1s 164us/step - loss: 19262.8771\n",
      "Epoch 9/20\n",
      "8164/8164 [==============================] - 1s 167us/step - loss: 19183.2823\n",
      "Epoch 10/20\n",
      "8164/8164 [==============================] - 1s 180us/step - loss: 19076.4567\n",
      "Epoch 11/20\n",
      "8164/8164 [==============================] - 2s 199us/step - loss: 18961.7522\n",
      "Epoch 12/20\n",
      "8164/8164 [==============================] - 2s 187us/step - loss: 18902.4526\n",
      "Epoch 13/20\n",
      "8164/8164 [==============================] - 1s 182us/step - loss: 18829.4558\n",
      "Epoch 14/20\n",
      "8164/8164 [==============================] - 2s 184us/step - loss: 18725.4699\n",
      "Epoch 15/20\n",
      "8164/8164 [==============================] - 1s 181us/step - loss: 18617.5444\n",
      "Epoch 16/20\n",
      "8164/8164 [==============================] - 1s 178us/step - loss: 18544.2181\n",
      "Epoch 17/20\n",
      "8164/8164 [==============================] - 2s 188us/step - loss: 18397.7230\n",
      "Epoch 18/20\n",
      "8164/8164 [==============================] - 2s 206us/step - loss: 18270.4018\n",
      "Epoch 19/20\n",
      "8164/8164 [==============================] - 2s 211us/step - loss: 18063.0341\n",
      "Epoch 20/20\n",
      "8164/8164 [==============================] - 2s 222us/step - loss: 17927.7797\n"
     ]
    },
    {
     "data": {
      "text/plain": [
       "<keras.callbacks.callbacks.History at 0x25c523049b0>"
      ]
     },
     "execution_count": 58,
     "metadata": {},
     "output_type": "execute_result"
    }
   ],
   "source": [
    "model.compile(loss = 'mean_squared_error', optimizer='rmsprop')\n",
    "model.fit(X_train, y_train, epochs=20, batch_size=10)"
   ]
  },
  {
   "cell_type": "code",
   "execution_count": 59,
   "metadata": {},
   "outputs": [
    {
     "name": "stdout",
     "output_type": "stream",
     "text": [
      "2722/2722 [==============================] - 0s 67us/step\n"
     ]
    },
    {
     "data": {
      "text/plain": [
       "18073.671321064474"
      ]
     },
     "execution_count": 59,
     "metadata": {},
     "output_type": "execute_result"
    }
   ],
   "source": [
    "### 평가 확인\n",
    "model.evaluate(X_test, y_test)"
   ]
  },
  {
   "cell_type": "code",
   "execution_count": 60,
   "metadata": {},
   "outputs": [],
   "source": [
    "pred = model.predict(X_val)"
   ]
  },
  {
   "cell_type": "code",
   "execution_count": 61,
   "metadata": {},
   "outputs": [],
   "source": [
    "sub = pd.read_csv(\"./bike/sampleSubmission.csv\")\n",
    "sub['count'] = pred\n",
    "\n",
    "sub.loc[sub['count']<0, 'count'] = 0   "
   ]
  },
  {
   "cell_type": "code",
   "execution_count": null,
   "metadata": {},
   "outputs": [],
   "source": []
  }
 ],
 "metadata": {
  "kernelspec": {
   "display_name": "Python 3",
   "language": "python",
   "name": "python3"
  },
  "language_info": {
   "codemirror_mode": {
    "name": "ipython",
    "version": 3
   },
   "file_extension": ".py",
   "mimetype": "text/x-python",
   "name": "python",
   "nbconvert_exporter": "python",
   "pygments_lexer": "ipython3",
   "version": "3.7.3"
  }
 },
 "nbformat": 4,
 "nbformat_minor": 2
}
