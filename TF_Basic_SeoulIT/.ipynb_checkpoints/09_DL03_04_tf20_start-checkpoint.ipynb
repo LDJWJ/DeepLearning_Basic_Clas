{
 "cells": [
  {
   "cell_type": "markdown",
   "metadata": {
    "colab_type": "text",
    "id": "75yRvTHWRr39"
   },
   "source": [
    "### TF2.0 신경망 만들기\n",
    "* 손글씨 데이터 셋을 이용한 신경망 만들기"
   ]
  },
  {
   "cell_type": "markdown",
   "metadata": {
    "colab_type": "text",
    "id": "Vk7751HuR2Uc"
   },
   "source": [
    "### 사전 작업\n",
    "* tf2.0 설치 후, 재시작(설치 적용을 위해)\n",
    "* 런타임 - 런타임 유형 변경 - GPU 설정"
   ]
  },
  {
   "cell_type": "code",
   "execution_count": 0,
   "metadata": {
    "colab": {},
    "colab_type": "code",
    "id": "8zvit86SRAkk"
   },
   "outputs": [],
   "source": [
    "import tensorflow as tf"
   ]
  },
  {
   "cell_type": "code",
   "execution_count": 2,
   "metadata": {
    "colab": {
     "base_uri": "https://localhost:8080/",
     "height": 35
    },
    "colab_type": "code",
    "executionInfo": {
     "elapsed": 1119,
     "status": "ok",
     "timestamp": 1579479519988,
     "user": {
      "displayName": "임동조",
      "photoUrl": "",
      "userId": "15158341578338469138"
     },
     "user_tz": -540
    },
    "id": "VdDIjrb8RnxA",
    "outputId": "51a2bc5f-b520-4d08-abe0-6b338a639314"
   },
   "outputs": [
    {
     "name": "stdout",
     "output_type": "stream",
     "text": [
      "2.0.0-rc1\n"
     ]
    }
   ],
   "source": [
    "print(tf.__version__)"
   ]
  },
  {
   "cell_type": "code",
   "execution_count": 0,
   "metadata": {
    "colab": {},
    "colab_type": "code",
    "id": "fohc7uDnRqIc"
   },
   "outputs": [],
   "source": [
    "!pip install -q tensorflow-gpu==2.0.0-rc1\n",
    "import tensorflow as tf"
   ]
  },
  {
   "cell_type": "code",
   "execution_count": 4,
   "metadata": {
    "colab": {
     "base_uri": "https://localhost:8080/",
     "height": 35
    },
    "colab_type": "code",
    "executionInfo": {
     "elapsed": 2540,
     "status": "ok",
     "timestamp": 1579479522763,
     "user": {
      "displayName": "임동조",
      "photoUrl": "",
      "userId": "15158341578338469138"
     },
     "user_tz": -540
    },
    "id": "4bu_lNJ3SCTN",
    "outputId": "34895942-15b2-4ab5-e046-036bba994489"
   },
   "outputs": [
    {
     "name": "stdout",
     "output_type": "stream",
     "text": [
      "2.0.0-rc1\n"
     ]
    }
   ],
   "source": [
    "print(tf.__version__)"
   ]
  },
  {
   "cell_type": "markdown",
   "metadata": {
    "colab_type": "text",
    "id": "SoBHbsJxYxsJ"
   },
   "source": [
    "### MNIST 데이터 셋을 이용한 신경망 구성"
   ]
  },
  {
   "cell_type": "code",
   "execution_count": 5,
   "metadata": {
    "colab": {
     "base_uri": "https://localhost:8080/",
     "height": 53
    },
    "colab_type": "code",
    "executionInfo": {
     "elapsed": 1085,
     "status": "ok",
     "timestamp": 1579480731504,
     "user": {
      "displayName": "임동조",
      "photoUrl": "",
      "userId": "15158341578338469138"
     },
     "user_tz": -540
    },
    "id": "n5cH9fFCSGZr",
    "outputId": "f994d4b3-f59f-45b1-d1b9-091c09b66c7c"
   },
   "outputs": [
    {
     "name": "stdout",
     "output_type": "stream",
     "text": [
      "Downloading data from https://storage.googleapis.com/tensorflow/tf-keras-datasets/mnist.npz\n",
      "11493376/11490434 [==============================] - 0s 0us/step\n"
     ]
    }
   ],
   "source": [
    "mnist = tf.keras.datasets.mnist\n",
    "\n",
    "(x_train, y_train), (x_test, y_test) = mnist.load_data()\n",
    "x_train, x_test = x_train / 255.0, x_test / 255.0"
   ]
  },
  {
   "cell_type": "code",
   "execution_count": 8,
   "metadata": {
    "colab": {
     "base_uri": "https://localhost:8080/",
     "height": 53
    },
    "colab_type": "code",
    "executionInfo": {
     "elapsed": 510,
     "status": "ok",
     "timestamp": 1579480926930,
     "user": {
      "displayName": "임동조",
      "photoUrl": "",
      "userId": "15158341578338469138"
     },
     "user_tz": -540
    },
    "id": "hTGngeNXYs5w",
    "outputId": "892ce087-8690-44ba-a522-3e5edbb87e43"
   },
   "outputs": [
    {
     "name": "stdout",
     "output_type": "stream",
     "text": [
      "학습용 데이터 : x: (60000, 28, 28), y:(60000,)\n",
      "테스트 데이터 : x: (10000, 28, 28), y:(10000,)\n"
     ]
    }
   ],
   "source": [
    "print(\"학습용 데이터 : x: {}, y:{}\".format(x_train.shape, y_train.shape) )\n",
    "print(\"테스트 데이터 : x: {}, y:{}\".format(x_test.shape, y_test.shape) )"
   ]
  },
  {
   "cell_type": "markdown",
   "metadata": {
    "colab_type": "text",
    "id": "XNTRQwubYs9e"
   },
   "source": [
    "### 신경망 구성\n",
    "* tf.keras.Sequential를 이용한 모델 구성\n",
    "*"
   ]
  },
  {
   "cell_type": "code",
   "execution_count": 0,
   "metadata": {
    "colab": {},
    "colab_type": "code",
    "id": "qFZws9ifYtBv"
   },
   "outputs": [],
   "source": [
    "model = tf.keras.models.Sequential([\n",
    "  tf.keras.layers.Flatten(input_shape=(28, 28)),    # 2D -> 1D\n",
    "  tf.keras.layers.Dense(128, activation='relu'),    # 활성화 함수 - relu\n",
    "  tf.keras.layers.Dropout(0.2),                     # Dropout적용\n",
    "  tf.keras.layers.Dense(10, activation='softmax')   # 활성화 함수 - softmax\n",
    "])"
   ]
  },
  {
   "cell_type": "markdown",
   "metadata": {
    "colab_type": "text",
    "id": "ezu4Dmf0a6WO"
   },
   "source": [
    "### 구성\n",
    "* sparse_categorical_crossentropy : 다중 분류 손실함수 (정수값 기준)\n",
    "* categorical_crossentropy : 다중 분류 손실함수 (one-hot-encoding 기준 (예측과 실제 결과값))"
   ]
  },
  {
   "cell_type": "code",
   "execution_count": 0,
   "metadata": {
    "colab": {},
    "colab_type": "code",
    "id": "Nwrj4aQ2YtFP"
   },
   "outputs": [],
   "source": [
    "model.compile(optimizer='adam',\n",
    "              loss='sparse_categorical_crossentropy',\n",
    "              metrics=['accuracy'])"
   ]
  },
  {
   "cell_type": "markdown",
   "metadata": {
    "colab_type": "text",
    "id": "WG2IuwhVSGdr"
   },
   "source": [
    "### 모델 훈련 및 평가"
   ]
  },
  {
   "cell_type": "code",
   "execution_count": 13,
   "metadata": {
    "colab": {
     "base_uri": "https://localhost:8080/",
     "height": 251
    },
    "colab_type": "code",
    "executionInfo": {
     "elapsed": 25325,
     "status": "ok",
     "timestamp": 1579481542170,
     "user": {
      "displayName": "임동조",
      "photoUrl": "",
      "userId": "15158341578338469138"
     },
     "user_tz": -540
    },
    "id": "Z-gNEJjASGh7",
    "outputId": "ef1212d2-c7d8-4081-9247-ff210ccf890b"
   },
   "outputs": [
    {
     "name": "stdout",
     "output_type": "stream",
     "text": [
      "Train on 60000 samples\n",
      "Epoch 1/5\n",
      "60000/60000 [==============================] - 6s 106us/sample - loss: 0.2982 - accuracy: 0.9138\n",
      "Epoch 2/5\n",
      "60000/60000 [==============================] - 5s 75us/sample - loss: 0.1457 - accuracy: 0.9574\n",
      "Epoch 3/5\n",
      "60000/60000 [==============================] - 4s 72us/sample - loss: 0.1076 - accuracy: 0.9672\n",
      "Epoch 4/5\n",
      "60000/60000 [==============================] - 4s 73us/sample - loss: 0.0880 - accuracy: 0.9722\n",
      "Epoch 5/5\n",
      "60000/60000 [==============================] - 5s 75us/sample - loss: 0.0747 - accuracy: 0.9760\n",
      "10000/1 - 1s - loss: 0.0380 - accuracy: 0.9753\n"
     ]
    },
    {
     "data": {
      "text/plain": [
       "[0.0742937701764051, 0.9753]"
      ]
     },
     "execution_count": 13,
     "metadata": {
      "tags": []
     },
     "output_type": "execute_result"
    }
   ],
   "source": [
    "model.fit(x_train, y_train, epochs=5)\n",
    "model.evaluate(x_test,  y_test, verbose=2)"
   ]
  },
  {
   "cell_type": "markdown",
   "metadata": {
    "colab_type": "text",
    "id": "56X_jyYWSGs8"
   },
   "source": [
    "### REF\n",
    "* TF2.0 Tutorial : https://www.tensorflow.org/tutorials/quickstart/beginner\n",
    "* tf.keras.Sequential : https://www.tensorflow.org/api_docs/python/tf/keras/Sequential"
   ]
  },
  {
   "cell_type": "code",
   "execution_count": 0,
   "metadata": {
    "colab": {},
    "colab_type": "code",
    "id": "13vxDMlDSKE8"
   },
   "outputs": [],
   "source": []
  }
 ],
 "metadata": {
  "accelerator": "GPU",
  "colab": {
   "authorship_tag": "ABX9TyOXXItyY+LyddZN16bZBqcD",
   "name": "CL03A_tf20_start.ipynb",
   "provenance": []
  },
  "kernelspec": {
   "display_name": "Python 3",
   "language": "python",
   "name": "python3"
  },
  "language_info": {
   "codemirror_mode": {
    "name": "ipython",
    "version": 3
   },
   "file_extension": ".py",
   "mimetype": "text/x-python",
   "name": "python",
   "nbconvert_exporter": "python",
   "pygments_lexer": "ipython3",
   "version": "3.7.1"
  }
 },
 "nbformat": 4,
 "nbformat_minor": 1
}
