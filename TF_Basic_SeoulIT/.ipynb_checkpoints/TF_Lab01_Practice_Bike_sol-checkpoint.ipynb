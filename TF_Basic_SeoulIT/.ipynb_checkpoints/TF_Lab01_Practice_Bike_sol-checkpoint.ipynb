{
 "cells": [
  {
   "cell_type": "markdown",
   "metadata": {},
   "source": [
    "## 딥러닝 모델 구현하기\n",
    "* tensorflow 활용한 딥러닝 모델 구현\n",
    "* tf version(1.15.0)\n",
    "* 설치(로컬).CPU버전 : pip install tensorflow==1.15.0"
   ]
  },
  {
   "cell_type": "markdown",
   "metadata": {},
   "source": [
    "### 학습내용\n",
    "* 컬럼 한개를 이용한 모델 만들기\n",
    "* 컬럼 두개를 이용한 모델 만들기\n",
    "* 컬럼 두개, 행렬을 이용한 모델 만들기"
   ]
  },
  {
   "cell_type": "code",
   "execution_count": 1,
   "metadata": {},
   "outputs": [],
   "source": [
    "import pandas as pd\n",
    "import tensorflow as tf\n",
    "import numpy as np"
   ]
  },
  {
   "cell_type": "code",
   "execution_count": 2,
   "metadata": {},
   "outputs": [
    {
     "name": "stdout",
     "output_type": "stream",
     "text": [
      "1.15.0\n",
      "1.16.4\n",
      "0.24.2\n"
     ]
    }
   ],
   "source": [
    "# 버전확인\n",
    "print(tf.__version__)\n",
    "print(np.__version__)\n",
    "print(pd.__version__)"
   ]
  },
  {
   "cell_type": "code",
   "execution_count": 4,
   "metadata": {},
   "outputs": [],
   "source": [
    "# 데이터 불러오기\n",
    "train = pd.read_csv(\"./bike/train.csv\", parse_dates=['datetime'])\n",
    "test = pd.read_csv(\"./bike/test.csv\", parse_dates=['datetime'])"
   ]
  },
  {
   "cell_type": "code",
   "execution_count": 5,
   "metadata": {},
   "outputs": [
    {
     "name": "stdout",
     "output_type": "stream",
     "text": [
      "Index(['datetime', 'season', 'holiday', 'workingday', 'weather', 'temp',\n",
      "       'atemp', 'humidity', 'windspeed', 'casual', 'registered', 'count'],\n",
      "      dtype='object')\n",
      "Index(['datetime', 'season', 'holiday', 'workingday', 'weather', 'temp',\n",
      "       'atemp', 'humidity', 'windspeed'],\n",
      "      dtype='object')\n"
     ]
    }
   ],
   "source": [
    "print(train.columns)\n",
    "print(test.columns)"
   ]
  },
  {
   "cell_type": "markdown",
   "metadata": {},
   "source": [
    "### 입력 데이터 선택"
   ]
  },
  {
   "cell_type": "code",
   "execution_count": 6,
   "metadata": {},
   "outputs": [],
   "source": [
    "# input_col = [ 'temp', 'atemp']\n",
    "input_col = ['temp']\n",
    "labeled_col = ['count']"
   ]
  },
  {
   "cell_type": "code",
   "execution_count": 13,
   "metadata": {},
   "outputs": [
    {
     "name": "stdout",
     "output_type": "stream",
     "text": [
      "<class 'pandas.core.frame.DataFrame'>\n"
     ]
    }
   ],
   "source": [
    "x_data = train[input_col]\n",
    "y_data = train[labeled_col]\n",
    "\n",
    "x_test = test[input_col]\n",
    "print(type(x_data))"
   ]
  },
  {
   "cell_type": "markdown",
   "metadata": {},
   "source": [
    "### 신경망 이용을 위해 numpy 배열로 변환"
   ]
  },
  {
   "cell_type": "code",
   "execution_count": 14,
   "metadata": {},
   "outputs": [
    {
     "name": "stdout",
     "output_type": "stream",
     "text": [
      "<class 'numpy.ndarray'>\n"
     ]
    }
   ],
   "source": [
    "x_data = np.array(x_data)\n",
    "x_test = np.array(x_test)\n",
    "y_data = np.array(y_data)\n",
    "print(type(x_data))"
   ]
  },
  {
   "cell_type": "markdown",
   "metadata": {},
   "source": [
    "### tf.Variable를 이용한 임의의 W값과 b값"
   ]
  },
  {
   "cell_type": "code",
   "execution_count": 8,
   "metadata": {},
   "outputs": [],
   "source": [
    "W1 = tf.Variable(tf.random_uniform([1], -1.0, 1.0))\n",
    "b = tf.Variable(tf.random_uniform([1], -1.0, 1.0))"
   ]
  },
  {
   "cell_type": "code",
   "execution_count": 9,
   "metadata": {},
   "outputs": [],
   "source": [
    "X1 = tf.placeholder(tf.float32, name=\"X1\")\n",
    "Y = tf.placeholder(tf.float32, name=\"Y\")"
   ]
  },
  {
   "cell_type": "code",
   "execution_count": 10,
   "metadata": {},
   "outputs": [],
   "source": [
    "# hypothesis = W1 * X1 + W2 * X2 + b\n",
    "hypothesis = W1 * X1 + b"
   ]
  },
  {
   "cell_type": "code",
   "execution_count": 11,
   "metadata": {},
   "outputs": [],
   "source": [
    "### 비용함수, 최적화 함수\n",
    "cost = tf.reduce_mean(tf.square(hypothesis - Y))\n",
    "optimizer = tf.train.GradientDescentOptimizer(learning_rate=0.001)\n",
    "train_op = optimizer.minimize(cost)"
   ]
  },
  {
   "cell_type": "code",
   "execution_count": 12,
   "metadata": {},
   "outputs": [
    {
     "name": "stdout",
     "output_type": "stream",
     "text": [
      "0 65398.195 [8.888838] [0.46859404]\n",
      "10 27709.19 [9.409115] [0.5053291]\n",
      "20 27709.172 [9.4085] [0.5195991]\n",
      "30 27709.154 [9.407887] [0.5338323]\n",
      "40 27709.13 [9.407276] [0.5480288]\n",
      "50 27709.117 [9.406666] [0.5621888]\n",
      "60 27709.096 [9.406058] [0.5763124]\n",
      "70 27709.066 [9.405452] [0.59039974]\n",
      "80 27709.055 [9.404847] [0.6044506]\n",
      "90 27709.031 [9.4042425] [0.61846536]\n",
      "(6493, 1)\n",
      "<class 'numpy.ndarray'>\n",
      "[[100.8745]\n",
      " [100.8745]\n",
      " [100.8745]\n",
      " [100.8745]\n",
      " [100.8745]]\n"
     ]
    },
    {
     "data": {
      "text/plain": [
       "(6493,)"
      ]
     },
     "execution_count": 12,
     "metadata": {},
     "output_type": "execute_result"
    }
   ],
   "source": [
    "with tf.Session() as sess:\n",
    "    sess.run(tf.global_variables_initializer())\n",
    "    for step in range(100):\n",
    "        _, cost_val = sess.run([train_op, cost], feed_dict={X1:x_data, Y:y_data})\n",
    "        \n",
    "        if step%10==0:\n",
    "            print(step, cost_val, sess.run(W1), sess.run(b))\n",
    "            \n",
    "        \n",
    "    pred = sess.run(hypothesis, feed_dict={X1:x_test})\n",
    "    \n",
    "print(pred.shape)\n",
    "print(type(pred))\n",
    "print(pred[0:5])\n",
    "pred = pred.reshape(-1,)\n",
    "pred.shape"
   ]
  },
  {
   "cell_type": "code",
   "execution_count": 16,
   "metadata": {},
   "outputs": [
    {
     "name": "stdout",
     "output_type": "stream",
     "text": [
      "Index(['datetime', 'count'], dtype='object')\n"
     ]
    }
   ],
   "source": [
    "dat = pd.DataFrame({'count':pred})\n",
    "sub = pd.read_csv(\"./bike/sampleSubmission.csv\")\n",
    "print(sub.columns)\n",
    "sub['count'] = dat['count']\n",
    "sub.to_csv(\"tf_pred.csv\", index=False)"
   ]
  },
  {
   "cell_type": "markdown",
   "metadata": {},
   "source": [
    "### 실습1. 변수 2개일 경우로 해보기"
   ]
  },
  {
   "cell_type": "code",
   "execution_count": null,
   "metadata": {},
   "outputs": [],
   "source": []
  }
 ],
 "metadata": {
  "kernelspec": {
   "display_name": "Python 3",
   "language": "python",
   "name": "python3"
  },
  "language_info": {
   "codemirror_mode": {
    "name": "ipython",
    "version": 3
   },
   "file_extension": ".py",
   "mimetype": "text/x-python",
   "name": "python",
   "nbconvert_exporter": "python",
   "pygments_lexer": "ipython3",
   "version": "3.7.3"
  }
 },
 "nbformat": 4,
 "nbformat_minor": 2
}
