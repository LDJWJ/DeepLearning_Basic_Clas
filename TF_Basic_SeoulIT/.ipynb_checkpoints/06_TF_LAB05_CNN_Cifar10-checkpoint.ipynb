{
 "cells": [
  {
   "cell_type": "markdown",
   "metadata": {},
   "source": [
    "## CNN 모델 구현해 보기\n",
    "### 데이터 셋 : Cifar10"
   ]
  },
  {
   "cell_type": "markdown",
   "metadata": {},
   "source": [
    "### 학습 내용\n",
    "* 신경망 모델을 구현해 본다.\n",
    "* 실제 이미지를 이용하여 예측을 수행해 본다."
   ]
  },
  {
   "cell_type": "code",
   "execution_count": 1,
   "metadata": {},
   "outputs": [
    {
     "name": "stderr",
     "output_type": "stream",
     "text": [
      "Using TensorFlow backend.\n"
     ]
    }
   ],
   "source": [
    "from keras.datasets import cifar10\n",
    "import keras\n",
    "import tensorflow as tf\n",
    "import numpy as np\n",
    "import matplotlib.pyplot as plt"
   ]
  },
  {
   "cell_type": "code",
   "execution_count": 2,
   "metadata": {},
   "outputs": [],
   "source": [
    "num_classes = 10"
   ]
  },
  {
   "cell_type": "code",
   "execution_count": 3,
   "metadata": {},
   "outputs": [],
   "source": [
    "### label의 이름\n",
    "label_names = ['airplane', 'automobile', 'bird', 'cat', 'deer', \n",
    "               'dog', 'frog', 'horse', 'ship', 'truck']"
   ]
  },
  {
   "cell_type": "code",
   "execution_count": null,
   "metadata": {},
   "outputs": [
    {
     "name": "stdout",
     "output_type": "stream",
     "text": [
      "Downloading data from https://www.cs.toronto.edu/~kriz/cifar-10-python.tar.gz\n",
      "127246336/170498071 [=====================>........] - ETA: 32s"
     ]
    }
   ],
   "source": [
    "# The data, split between train and test sets:\n",
    "(X_train, y_train), (X_test, y_test) = cifar10.load_data()\n",
    "print('x_train shape:', x_train.shape)\n",
    "print(x_train.shape[0], 'train samples')\n",
    "print(x_test.shape[0], 'test samples')"
   ]
  },
  {
   "cell_type": "code",
   "execution_count": null,
   "metadata": {},
   "outputs": [],
   "source": [
    "x_train_n = x_train.copy()\n",
    "y_train_n = y_train.copy()"
   ]
  },
  {
   "cell_type": "code",
   "execution_count": null,
   "metadata": {},
   "outputs": [],
   "source": [
    "# print(\"label={}\".format(y_train[0:15,0]))   # x데이터 0~14개 가져오기\n",
    "\n",
    "img_num = y_train[0:15,0]\n",
    "img_num\n",
    "\n",
    "figure,axes = plt.subplots(nrows=3, ncols=5)  # 3행 5열의 구조 \n",
    "figure.set_size_inches(18,13)  # 전체 크기\n",
    "print(\"label={}\".format(y_train[0:15,0]))   # x데이터 0~14개 가져오기\n",
    "\n",
    "col = 0\n",
    "for row in range(0,3):\n",
    "    col = row * 5\n",
    "    axes[row][0].matshow(x_train[col])  # 0,5,10의 값을 갖는 위치 값 이미지 표시\n",
    "    axes[row][0].set_title(label_names[img_num[col]], fontsize=20)\n",
    "    axes[row][1].matshow(x_train[col+1])# 1,6,11의 값을 갖는 위치 값 이미지 표시\n",
    "    axes[row][1].set_title(label_names[img_num[col+1]], fontsize=20)\n",
    "    axes[row][2].matshow(x_train[col+2])# 2,7,12의 값을 갖는 위치 값 이미지 표시\n",
    "    axes[row][2].set_title(label_names[img_num[col+2]], fontsize=20)\n",
    "    axes[row][3].matshow(x_train[col+3])# 3,8,13의 값을 갖는 위치 값 이미지 표시\n",
    "    axes[row][3].set_title(label_names[img_num[col+3]], fontsize=20)\n",
    "    axes[row][4].matshow(x_train[col+4])# 4,9,114의 값을 갖는 위치 값 이미지 표시\n",
    "    axes[row][4].set_title(label_names[img_num[col+4]], fontsize=20)"
   ]
  },
  {
   "cell_type": "code",
   "execution_count": null,
   "metadata": {},
   "outputs": [],
   "source": [
    "# Convert class vectors to binary class matrices.\n",
    "y_train = keras.utils.to_categorical(y_train, num_classes)\n",
    "y_test = keras.utils.to_categorical(y_test, num_classes)"
   ]
  },
  {
   "cell_type": "code",
   "execution_count": null,
   "metadata": {},
   "outputs": [],
   "source": [
    "X = tf.placeholder(tf.float32, [None, 32, 32, 3])\n",
    "Y = tf.placeholder(tf.float32, [None, 10])"
   ]
  },
  {
   "cell_type": "markdown",
   "metadata": {},
   "source": [
    "### 신경망 구성"
   ]
  },
  {
   "cell_type": "code",
   "execution_count": null,
   "metadata": {},
   "outputs": [],
   "source": [
    "W1 = tf.Variable(tf.random_normal([3,3,3,32], stddev=0.01))\n",
    "L1 = tf.nn.conv2d(X, W1, strides=[1,1,1,1], padding='SAME')\n",
    "L1 = tf.nn.relu(L1) ## 활성화 함수\n",
    "L1 = tf.nn.max_pool(L1, ksize=[1,2,2,1], strides=[1,2,2,1], padding='SAME')\n",
    "print(L1)"
   ]
  },
  {
   "cell_type": "code",
   "execution_count": null,
   "metadata": {},
   "outputs": [],
   "source": [
    "W2 = tf.Variable(tf.random_normal([3,3,32,64], stddev=0.01))\n",
    "L2 = tf.nn.conv2d(L1, W2, strides=[1,1,1,1], padding='SAME')\n",
    "L2 = tf.nn.relu(L2) ## 활성화 함수\n",
    "L2 = tf.nn.max_pool(L2, ksize=[1,2,2,1], strides=[1,2,2,1], padding='SAME')\n",
    "print(L2)"
   ]
  },
  {
   "cell_type": "code",
   "execution_count": null,
   "metadata": {},
   "outputs": [],
   "source": [
    "W3 = tf.Variable(tf.random_normal([8 * 8 * 64, 256], stddev=0.01))\n",
    "L3 = tf.reshape(L2, [-1, 8 *8 * 64])\n",
    "L3 = tf.matmul(L3, W3)\n",
    "L3 = tf.nn.relu(L3)\n",
    "print(L3)"
   ]
  },
  {
   "cell_type": "code",
   "execution_count": null,
   "metadata": {},
   "outputs": [],
   "source": [
    "W4 = tf.Variable(tf.random_normal([256,10], stddev=0.01))\n",
    "model = tf.matmul(L3, W4)\n",
    "model"
   ]
  },
  {
   "cell_type": "code",
   "execution_count": null,
   "metadata": {},
   "outputs": [],
   "source": [
    "cost = tf.reduce_mean(tf.nn.softmax_cross_entropy_with_logits_v2(logits=model, labels=Y))\n",
    "optimizer = tf.train.AdamOptimizer(0.001).minimize(cost)"
   ]
  },
  {
   "cell_type": "code",
   "execution_count": null,
   "metadata": {},
   "outputs": [],
   "source": [
    "init = tf.global_variables_initializer()\n",
    "sess = tf.Session()\n",
    "sess.run(init)"
   ]
  },
  {
   "cell_type": "code",
   "execution_count": null,
   "metadata": {},
   "outputs": [],
   "source": [
    "batch_size = 100\n",
    "total_batch = int(x_train.shape[0]/ batch_size)\n",
    "total_batch\n",
    "epochs = 20"
   ]
  },
  {
   "cell_type": "code",
   "execution_count": null,
   "metadata": {},
   "outputs": [],
   "source": [
    "# 다음 배치를 읽어오기 위한 next_batch 유틸리티 함수를 정의합니다.\n",
    "def next_batch(start, num, data, labels):\n",
    "  '''\n",
    "  num 개수 만큼의 랜덤한 샘플들과 레이블들을 리턴합니다.\n",
    "  '''\n",
    "  # idx = np.arange(0 , len(data))\n",
    "  # np.random.shuffle(idx)\n",
    "  # idx = idx[:num]\n",
    "  # data_shuffle = [data[i] for i in idx]\n",
    "  # labels_shuffle = [labels[i] for i in idx]\n",
    "    \n",
    "  '''\n",
    "  num 개수 만큼의 샘플과 레이블들을 리턴합니다.\n",
    "  '''\n",
    "  data_X = data[start:start+num]\n",
    "  data_y = labels[start:start+num]\n",
    "    \n",
    "  return np.asarray(data_X), np.asarray(data_y)"
   ]
  },
  {
   "cell_type": "code",
   "execution_count": null,
   "metadata": {},
   "outputs": [],
   "source": [
    "print(x_train.shape, y_train.shape)\n",
    "batch_x, batch_y = next_batch(0, 10, x_train, y_train)\n",
    "print(batch_x.shape, batch_y.shape)"
   ]
  },
  {
   "cell_type": "code",
   "execution_count": null,
   "metadata": {},
   "outputs": [],
   "source": [
    "total_cost = 0\n",
    "epoch = 0\n",
    "print(\"전체 입력 데이터 : {}\".format(X_train.shape))\n",
    "print(\"전체 출력 데이터 : {}\".format(y_train.shape))\n",
    "\n",
    "for epoch in range(5+1):\n",
    "    total_cost = 0\n",
    "    for i in range(total_batch):\n",
    "      batch_xs, batch_ys = next_batch(batch_size*i, batch_size, X_train, y_train)\n",
    "      # 이미지 데이터를 CNN 모델을 위한 자료형태인 [32 32 3] 의 형태로 재구성합니다.\n",
    "      batch_xs = batch_xs.reshape(-1, 32, 32, 3)\n",
    "      _, cost_val = sess.run([optimizer, cost], feed_dict={X: batch_xs, Y: batch_ys})\n",
    "      total_cost += cost_val\n",
    "\n",
    "      if (i==0 or i==total_batch-1):\n",
    "        print('data_step = {}, Avg. cost = {:.3f}'.format(i, cost_val))\n",
    "    print('epoch: {} total.cost = {:.3f}'.format(epoch, total_cost)) "
   ]
  },
  {
   "cell_type": "code",
   "execution_count": null,
   "metadata": {},
   "outputs": [],
   "source": [
    "print(X_test.shape, y_test.shape)"
   ]
  },
  {
   "cell_type": "code",
   "execution_count": null,
   "metadata": {},
   "outputs": [],
   "source": [
    "is_correct = tf.equal(tf.argmax(model, 1), tf.argmax(Y, 1))\n",
    "accuracy = tf.reduce_mean(tf.cast(is_correct, tf.float32))\n",
    "print('정확도:', sess.run(accuracy,\n",
    "                        feed_dict={X: X_train.reshape(-1, 32, 32, 3),\n",
    "                                   Y: y_train}))"
   ]
  },
  {
   "cell_type": "code",
   "execution_count": null,
   "metadata": {},
   "outputs": [],
   "source": [
    "is_correct = tf.equal(tf.argmax(model, 1), tf.argmax(Y, 1))\n",
    "accuracy = tf.reduce_mean(tf.cast(is_correct, tf.float32))\n",
    "print('정확도:', sess.run(accuracy,\n",
    "                        feed_dict={X: X_test.reshape(-1, 32, 32, 3),\n",
    "                                   Y: y_test}))"
   ]
  },
  {
   "cell_type": "markdown",
   "metadata": {},
   "source": [
    "## 실제 검색 이미지를 이용한 예측"
   ]
  },
  {
   "cell_type": "code",
   "execution_count": null,
   "metadata": {},
   "outputs": [],
   "source": [
    "import cv2"
   ]
  },
  {
   "cell_type": "code",
   "execution_count": null,
   "metadata": {},
   "outputs": [],
   "source": [
    "image_w = 32\n",
    "image_h = 32"
   ]
  },
  {
   "cell_type": "code",
   "execution_count": null,
   "metadata": {},
   "outputs": [],
   "source": [
    "img = cv2.imread('../img/ship.jpg')\n",
    "print(img.shape[1], img.shape[0])   # 가로 이미지, 세로 이미지 크기"
   ]
  },
  {
   "cell_type": "code",
   "execution_count": null,
   "metadata": {},
   "outputs": [],
   "source": [
    "plt.matshow(img)"
   ]
  },
  {
   "cell_type": "markdown",
   "metadata": {},
   "source": [
    "### 이미지 크기 조정"
   ]
  },
  {
   "cell_type": "code",
   "execution_count": null,
   "metadata": {},
   "outputs": [],
   "source": [
    "img = cv2.resize(img, None, fx=image_w/img.shape[1], fy=image_h/img.shape[0])"
   ]
  },
  {
   "cell_type": "code",
   "execution_count": null,
   "metadata": {},
   "outputs": [],
   "source": [
    "plt.matshow(img)\n",
    "img.shape"
   ]
  },
  {
   "cell_type": "code",
   "execution_count": null,
   "metadata": {},
   "outputs": [],
   "source": [
    "print(img.shape)\n",
    "img_re = img.reshape(1, 32*32*3)\n",
    "# img_re = img_re.astype('float32') / 255.0\n",
    "print(img_re.shape)\n",
    "img_re"
   ]
  },
  {
   "cell_type": "code",
   "execution_count": null,
   "metadata": {},
   "outputs": [],
   "source": [
    "y_train_n[0:15]"
   ]
  },
  {
   "cell_type": "code",
   "execution_count": null,
   "metadata": {},
   "outputs": [],
   "source": [
    "### label의 이름\n",
    "#label_names = ['airplane', 'automobile', 'bird', 'cat', 'deer', \n",
    "#               'dog', 'frog', 'horse', 'ship', 'truck']\n",
    "\n",
    "result = tf.argmax(model, 1)\n",
    "res_idx = sess.run(result, feed_dict={X: img_re.reshape(-1, 32, 32, 3)})\n",
    "print('예측 레이블 :', label_names[res_idx[0]])"
   ]
  },
  {
   "cell_type": "markdown",
   "metadata": {},
   "source": [
    "### 실습해 보기\n",
    "* 정확도를 올리기 위해 어떤 것을 개선해야 할지 알아보자. 이를 수행해 보자.\n",
    "* 다른 이미지를 이용하여 실제로 예측이 잘 수행되는지 확인해 보자."
   ]
  },
  {
   "cell_type": "code",
   "execution_count": null,
   "metadata": {},
   "outputs": [],
   "source": []
  }
 ],
 "metadata": {
  "kernelspec": {
   "display_name": "Python 3",
   "language": "python",
   "name": "python3"
  },
  "language_info": {
   "codemirror_mode": {
    "name": "ipython",
    "version": 3
   },
   "file_extension": ".py",
   "mimetype": "text/x-python",
   "name": "python",
   "nbconvert_exporter": "python",
   "pygments_lexer": "ipython3",
   "version": "3.7.3"
  }
 },
 "nbformat": 4,
 "nbformat_minor": 2
}
