{
 "cells": [
  {
   "cell_type": "markdown",
   "metadata": {},
   "source": [
    "### 딥러닝 모델 구현해 보기\n",
    " * 첫번째 데이터 셋 : 자전거 공유 업체 시간대별 데이터\n",
    " * **두번째 데이터 셋 : 타이타닉 데이터 셋**"
   ]
  },
  {
   "cell_type": "code",
   "execution_count": 56,
   "metadata": {},
   "outputs": [],
   "source": [
    "import numpy as np\n",
    "import matplotlib.pyplot as plt\n",
    "import matplotlib\n",
    "import pandas as pd\n",
    "import tensorflow as tf"
   ]
  },
  {
   "cell_type": "code",
   "execution_count": 57,
   "metadata": {},
   "outputs": [],
   "source": [
    "import keras\n",
    "from keras.models import Sequential\n",
    "from keras.layers import Dense"
   ]
  },
  {
   "cell_type": "code",
   "execution_count": 58,
   "metadata": {},
   "outputs": [
    {
     "name": "stdout",
     "output_type": "stream",
     "text": [
      "2.3.1\n"
     ]
    }
   ],
   "source": [
    "print(keras.__version__)"
   ]
  },
  {
   "cell_type": "code",
   "execution_count": 59,
   "metadata": {},
   "outputs": [
    {
     "name": "stdout",
     "output_type": "stream",
     "text": [
      "(891, 12) (418, 11)\n"
     ]
    }
   ],
   "source": [
    "train = pd.read_csv(\"./titanic/train.csv\")\n",
    "test = pd.read_csv(\"./titanic/test.csv\")\n",
    "print(train.shape, test.shape)"
   ]
  },
  {
   "cell_type": "code",
   "execution_count": 60,
   "metadata": {},
   "outputs": [
    {
     "name": "stdout",
     "output_type": "stream",
     "text": [
      "<class 'pandas.core.frame.DataFrame'>\n",
      "RangeIndex: 891 entries, 0 to 890\n",
      "Data columns (total 12 columns):\n",
      "PassengerId    891 non-null int64\n",
      "Survived       891 non-null int64\n",
      "Pclass         891 non-null int64\n",
      "Name           891 non-null object\n",
      "Sex            891 non-null object\n",
      "Age            714 non-null float64\n",
      "SibSp          891 non-null int64\n",
      "Parch          891 non-null int64\n",
      "Ticket         891 non-null object\n",
      "Fare           891 non-null float64\n",
      "Cabin          204 non-null object\n",
      "Embarked       889 non-null object\n",
      "dtypes: float64(2), int64(5), object(5)\n",
      "memory usage: 83.6+ KB\n"
     ]
    }
   ],
   "source": [
    "train.info()"
   ]
  },
  {
   "cell_type": "code",
   "execution_count": 61,
   "metadata": {},
   "outputs": [
    {
     "name": "stdout",
     "output_type": "stream",
     "text": [
      "<class 'pandas.core.frame.DataFrame'>\n",
      "RangeIndex: 418 entries, 0 to 417\n",
      "Data columns (total 11 columns):\n",
      "PassengerId    418 non-null int64\n",
      "Pclass         418 non-null int64\n",
      "Name           418 non-null object\n",
      "Sex            418 non-null object\n",
      "Age            332 non-null float64\n",
      "SibSp          418 non-null int64\n",
      "Parch          418 non-null int64\n",
      "Ticket         418 non-null object\n",
      "Fare           417 non-null float64\n",
      "Cabin          91 non-null object\n",
      "Embarked       418 non-null object\n",
      "dtypes: float64(2), int64(4), object(5)\n",
      "memory usage: 36.0+ KB\n"
     ]
    }
   ],
   "source": [
    "test.info()"
   ]
  },
  {
   "cell_type": "code",
   "execution_count": 62,
   "metadata": {},
   "outputs": [],
   "source": [
    "input_col = ['Pclass', 'SibSp', 'Parch']\n",
    "labeled_col = ['Survived']"
   ]
  },
  {
   "cell_type": "code",
   "execution_count": 63,
   "metadata": {},
   "outputs": [],
   "source": [
    "X = train[ input_col ]\n",
    "y = train[ labeled_col ]\n",
    "X_val = test[ input_col ]"
   ]
  },
  {
   "cell_type": "code",
   "execution_count": 64,
   "metadata": {},
   "outputs": [],
   "source": [
    "seed = 0\n",
    "numpy.random.seed(seed)\n",
    "tf.set_random_seed(seed)"
   ]
  },
  {
   "cell_type": "code",
   "execution_count": 65,
   "metadata": {},
   "outputs": [],
   "source": [
    "from sklearn.model_selection import train_test_split\n",
    "\n",
    "X_train, X_test, y_train, y_test = train_test_split(X, y, \n",
    "                                                random_state=0)"
   ]
  },
  {
   "cell_type": "code",
   "execution_count": 66,
   "metadata": {},
   "outputs": [
    {
     "name": "stdout",
     "output_type": "stream",
     "text": [
      "(668, 3) (223, 3)\n",
      "\n",
      "(668, 1) (223, 1)\n"
     ]
    }
   ],
   "source": [
    "print(X_train.shape, X_test.shape)\n",
    "print()\n",
    "print(y_train.shape, y_test.shape)"
   ]
  },
  {
   "cell_type": "markdown",
   "metadata": {},
   "source": [
    "## 딥러닝 구조 "
   ]
  },
  {
   "cell_type": "code",
   "execution_count": 67,
   "metadata": {},
   "outputs": [],
   "source": [
    "from keras.models import Sequential\n",
    "from keras.layers import Dense"
   ]
  },
  {
   "cell_type": "code",
   "execution_count": 71,
   "metadata": {},
   "outputs": [],
   "source": [
    "model = Sequential()\n",
    "model.add(Dense(30, input_dim=3, activation='relu'))\n",
    "model.add(Dense(15, activation='relu') )\n",
    "model.add(Dense(1, activation='sigmoid'))"
   ]
  },
  {
   "cell_type": "markdown",
   "metadata": {},
   "source": [
    "### 딥러닝 설정 및 학습"
   ]
  },
  {
   "cell_type": "code",
   "execution_count": 72,
   "metadata": {},
   "outputs": [
    {
     "name": "stdout",
     "output_type": "stream",
     "text": [
      "Epoch 1/100\n",
      "668/668 [==============================] - 0s 367us/step - loss: 0.6433 - accuracy: 0.6123\n",
      "Epoch 2/100\n",
      "668/668 [==============================] - 0s 142us/step - loss: 0.6346 - accuracy: 0.6138\n",
      "Epoch 3/100\n",
      "668/668 [==============================] - 0s 140us/step - loss: 0.6276 - accuracy: 0.6257\n",
      "Epoch 4/100\n",
      "668/668 [==============================] - 0s 148us/step - loss: 0.6222 - accuracy: 0.6213\n",
      "Epoch 5/100\n",
      "668/668 [==============================] - 0s 136us/step - loss: 0.6184 - accuracy: 0.6392\n",
      "Epoch 6/100\n",
      "668/668 [==============================] - 0s 133us/step - loss: 0.6153 - accuracy: 0.6392\n",
      "Epoch 7/100\n",
      "668/668 [==============================] - 0s 131us/step - loss: 0.6109 - accuracy: 0.6617\n",
      "Epoch 8/100\n",
      "668/668 [==============================] - 0s 129us/step - loss: 0.6083 - accuracy: 0.6722\n",
      "Epoch 9/100\n",
      "668/668 [==============================] - 0s 132us/step - loss: 0.6053 - accuracy: 0.6737\n",
      "Epoch 10/100\n",
      "668/668 [==============================] - 0s 146us/step - loss: 0.6041 - accuracy: 0.6796\n",
      "Epoch 11/100\n",
      "668/668 [==============================] - 0s 139us/step - loss: 0.6017 - accuracy: 0.6841\n",
      "Epoch 12/100\n",
      "668/668 [==============================] - 0s 130us/step - loss: 0.6003 - accuracy: 0.6886\n",
      "Epoch 13/100\n",
      "668/668 [==============================] - 0s 135us/step - loss: 0.5994 - accuracy: 0.6901\n",
      "Epoch 14/100\n",
      "668/668 [==============================] - 0s 136us/step - loss: 0.5995 - accuracy: 0.6931\n",
      "Epoch 15/100\n",
      "668/668 [==============================] - 0s 131us/step - loss: 0.5969 - accuracy: 0.6931\n",
      "Epoch 16/100\n",
      "668/668 [==============================] - 0s 143us/step - loss: 0.5952 - accuracy: 0.7006\n",
      "Epoch 17/100\n",
      "668/668 [==============================] - 0s 169us/step - loss: 0.5945 - accuracy: 0.6916\n",
      "Epoch 18/100\n",
      "668/668 [==============================] - 0s 155us/step - loss: 0.5907 - accuracy: 0.6886\n",
      "Epoch 19/100\n",
      "668/668 [==============================] - 0s 133us/step - loss: 0.5977 - accuracy: 0.6916\n",
      "Epoch 20/100\n",
      "668/668 [==============================] - 0s 133us/step - loss: 0.5914 - accuracy: 0.6931\n",
      "Epoch 21/100\n",
      "668/668 [==============================] - 0s 139us/step - loss: 0.5906 - accuracy: 0.6946\n",
      "Epoch 22/100\n",
      "668/668 [==============================] - 0s 139us/step - loss: 0.5927 - accuracy: 0.6931\n",
      "Epoch 23/100\n",
      "668/668 [==============================] - 0s 136us/step - loss: 0.5893 - accuracy: 0.7006\n",
      "Epoch 24/100\n",
      "668/668 [==============================] - 0s 132us/step - loss: 0.5891 - accuracy: 0.6991\n",
      "Epoch 25/100\n",
      "668/668 [==============================] - 0s 139us/step - loss: 0.5893 - accuracy: 0.6946\n",
      "Epoch 26/100\n",
      "668/668 [==============================] - 0s 137us/step - loss: 0.5883 - accuracy: 0.6931\n",
      "Epoch 27/100\n",
      "668/668 [==============================] - 0s 154us/step - loss: 0.5903 - accuracy: 0.7021\n",
      "Epoch 28/100\n",
      "668/668 [==============================] - 0s 141us/step - loss: 0.5874 - accuracy: 0.6976\n",
      "Epoch 29/100\n",
      "668/668 [==============================] - 0s 133us/step - loss: 0.5872 - accuracy: 0.6991\n",
      "Epoch 30/100\n",
      "668/668 [==============================] - 0s 136us/step - loss: 0.5861 - accuracy: 0.6976\n",
      "Epoch 31/100\n",
      "668/668 [==============================] - 0s 131us/step - loss: 0.5853 - accuracy: 0.7036\n",
      "Epoch 32/100\n",
      "668/668 [==============================] - 0s 137us/step - loss: 0.5859 - accuracy: 0.6961\n",
      "Epoch 33/100\n",
      "668/668 [==============================] - 0s 137us/step - loss: 0.5862 - accuracy: 0.7006\n",
      "Epoch 34/100\n",
      "668/668 [==============================] - 0s 149us/step - loss: 0.5860 - accuracy: 0.6976\n",
      "Epoch 35/100\n",
      "668/668 [==============================] - 0s 145us/step - loss: 0.5856 - accuracy: 0.7006\n",
      "Epoch 36/100\n",
      "668/668 [==============================] - 0s 141us/step - loss: 0.5836 - accuracy: 0.7006\n",
      "Epoch 37/100\n",
      "668/668 [==============================] - 0s 136us/step - loss: 0.5856 - accuracy: 0.7036\n",
      "Epoch 38/100\n",
      "668/668 [==============================] - 0s 135us/step - loss: 0.5850 - accuracy: 0.7036\n",
      "Epoch 39/100\n",
      "668/668 [==============================] - 0s 135us/step - loss: 0.5826 - accuracy: 0.7111\n",
      "Epoch 40/100\n",
      "668/668 [==============================] - 0s 131us/step - loss: 0.5815 - accuracy: 0.7066\n",
      "Epoch 41/100\n",
      "668/668 [==============================] - 0s 138us/step - loss: 0.5876 - accuracy: 0.7006\n",
      "Epoch 42/100\n",
      "668/668 [==============================] - 0s 135us/step - loss: 0.5867 - accuracy: 0.6916\n",
      "Epoch 43/100\n",
      "668/668 [==============================] - 0s 145us/step - loss: 0.5833 - accuracy: 0.6931\n",
      "Epoch 44/100\n",
      "668/668 [==============================] - 0s 163us/step - loss: 0.5830 - accuracy: 0.6976\n",
      "Epoch 45/100\n",
      "668/668 [==============================] - 0s 152us/step - loss: 0.5833 - accuracy: 0.7006\n",
      "Epoch 46/100\n",
      "668/668 [==============================] - 0s 141us/step - loss: 0.5821 - accuracy: 0.7006\n",
      "Epoch 47/100\n",
      "668/668 [==============================] - 0s 135us/step - loss: 0.5820 - accuracy: 0.6961\n",
      "Epoch 48/100\n",
      "668/668 [==============================] - 0s 142us/step - loss: 0.5830 - accuracy: 0.7036\n",
      "Epoch 49/100\n",
      "668/668 [==============================] - 0s 136us/step - loss: 0.5809 - accuracy: 0.7066\n",
      "Epoch 50/100\n",
      "668/668 [==============================] - 0s 136us/step - loss: 0.5804 - accuracy: 0.7021\n",
      "Epoch 51/100\n",
      "668/668 [==============================] - 0s 143us/step - loss: 0.5831 - accuracy: 0.7096\n",
      "Epoch 52/100\n",
      "668/668 [==============================] - 0s 151us/step - loss: 0.5793 - accuracy: 0.7006\n",
      "Epoch 53/100\n",
      "668/668 [==============================] - 0s 145us/step - loss: 0.5817 - accuracy: 0.7036\n",
      "Epoch 54/100\n",
      "668/668 [==============================] - 0s 137us/step - loss: 0.5801 - accuracy: 0.6991\n",
      "Epoch 55/100\n",
      "668/668 [==============================] - 0s 142us/step - loss: 0.5833 - accuracy: 0.7051\n",
      "Epoch 56/100\n",
      "668/668 [==============================] - 0s 130us/step - loss: 0.5800 - accuracy: 0.7081\n",
      "Epoch 57/100\n",
      "668/668 [==============================] - 0s 139us/step - loss: 0.5798 - accuracy: 0.7081\n",
      "Epoch 58/100\n",
      "668/668 [==============================] - 0s 128us/step - loss: 0.5793 - accuracy: 0.7066\n",
      "Epoch 59/100\n",
      "668/668 [==============================] - 0s 137us/step - loss: 0.5804 - accuracy: 0.6976\n",
      "Epoch 60/100\n",
      "668/668 [==============================] - ETA: 0s - loss: 0.5591 - accuracy: 0.72 - 0s 132us/step - loss: 0.5808 - accuracy: 0.7021\n",
      "Epoch 61/100\n",
      "668/668 [==============================] - 0s 145us/step - loss: 0.5796 - accuracy: 0.7036\n",
      "Epoch 62/100\n",
      "668/668 [==============================] - 0s 148us/step - loss: 0.5781 - accuracy: 0.7066\n",
      "Epoch 63/100\n",
      "668/668 [==============================] - 0s 154us/step - loss: 0.5796 - accuracy: 0.7066\n",
      "Epoch 64/100\n",
      "668/668 [==============================] - 0s 140us/step - loss: 0.5796 - accuracy: 0.7006\n",
      "Epoch 65/100\n",
      "668/668 [==============================] - 0s 143us/step - loss: 0.5827 - accuracy: 0.6961\n",
      "Epoch 66/100\n",
      "668/668 [==============================] - 0s 135us/step - loss: 0.5773 - accuracy: 0.7021\n",
      "Epoch 67/100\n",
      "668/668 [==============================] - 0s 139us/step - loss: 0.5799 - accuracy: 0.7021\n",
      "Epoch 68/100\n",
      "668/668 [==============================] - 0s 140us/step - loss: 0.5795 - accuracy: 0.6976\n",
      "Epoch 69/100\n",
      "668/668 [==============================] - 0s 135us/step - loss: 0.5789 - accuracy: 0.7051\n",
      "Epoch 70/100\n",
      "668/668 [==============================] - 0s 140us/step - loss: 0.5789 - accuracy: 0.7081\n",
      "Epoch 71/100\n",
      "668/668 [==============================] - 0s 152us/step - loss: 0.5768 - accuracy: 0.7036\n",
      "Epoch 72/100\n",
      "668/668 [==============================] - 0s 154us/step - loss: 0.5789 - accuracy: 0.7036\n",
      "Epoch 73/100\n",
      "668/668 [==============================] - 0s 141us/step - loss: 0.5773 - accuracy: 0.7096\n",
      "Epoch 74/100\n",
      "668/668 [==============================] - 0s 143us/step - loss: 0.5789 - accuracy: 0.7036\n",
      "Epoch 75/100\n",
      "668/668 [==============================] - 0s 143us/step - loss: 0.5779 - accuracy: 0.7036\n",
      "Epoch 76/100\n",
      "668/668 [==============================] - 0s 142us/step - loss: 0.5776 - accuracy: 0.7021\n",
      "Epoch 77/100\n",
      "668/668 [==============================] - 0s 139us/step - loss: 0.5771 - accuracy: 0.6946\n",
      "Epoch 78/100\n",
      "668/668 [==============================] - 0s 138us/step - loss: 0.5777 - accuracy: 0.7036\n",
      "Epoch 79/100\n",
      "668/668 [==============================] - 0s 138us/step - loss: 0.5778 - accuracy: 0.7066\n",
      "Epoch 80/100\n",
      "668/668 [==============================] - 0s 149us/step - loss: 0.5787 - accuracy: 0.7006\n",
      "Epoch 81/100\n",
      "668/668 [==============================] - 0s 137us/step - loss: 0.5792 - accuracy: 0.7036\n",
      "Epoch 82/100\n",
      "668/668 [==============================] - 0s 132us/step - loss: 0.5756 - accuracy: 0.7066\n",
      "Epoch 83/100\n",
      "668/668 [==============================] - 0s 140us/step - loss: 0.5788 - accuracy: 0.7066\n",
      "Epoch 84/100\n",
      "668/668 [==============================] - 0s 142us/step - loss: 0.5778 - accuracy: 0.7111\n",
      "Epoch 85/100\n",
      "668/668 [==============================] - 0s 140us/step - loss: 0.5762 - accuracy: 0.7096\n",
      "Epoch 86/100\n",
      "668/668 [==============================] - 0s 148us/step - loss: 0.5774 - accuracy: 0.6976\n",
      "Epoch 87/100\n",
      "668/668 [==============================] - 0s 169us/step - loss: 0.5768 - accuracy: 0.6991\n",
      "Epoch 88/100\n",
      "668/668 [==============================] - 0s 164us/step - loss: 0.5758 - accuracy: 0.7081\n",
      "Epoch 89/100\n",
      "668/668 [==============================] - 0s 145us/step - loss: 0.5767 - accuracy: 0.7066\n",
      "Epoch 90/100\n",
      "668/668 [==============================] - 0s 133us/step - loss: 0.5753 - accuracy: 0.7081\n",
      "Epoch 91/100\n",
      "668/668 [==============================] - 0s 138us/step - loss: 0.5819 - accuracy: 0.6946\n",
      "Epoch 92/100\n",
      "668/668 [==============================] - 0s 139us/step - loss: 0.5743 - accuracy: 0.7036\n",
      "Epoch 93/100\n",
      "668/668 [==============================] - 0s 137us/step - loss: 0.5779 - accuracy: 0.7021\n",
      "Epoch 94/100\n",
      "668/668 [==============================] - 0s 133us/step - loss: 0.5766 - accuracy: 0.7051\n",
      "Epoch 95/100\n",
      "668/668 [==============================] - 0s 140us/step - loss: 0.5773 - accuracy: 0.6946\n",
      "Epoch 96/100\n",
      "668/668 [==============================] - 0s 135us/step - loss: 0.5765 - accuracy: 0.7051\n",
      "Epoch 97/100\n",
      "668/668 [==============================] - 0s 166us/step - loss: 0.5775 - accuracy: 0.7006\n",
      "Epoch 98/100\n",
      "668/668 [==============================] - 0s 137us/step - loss: 0.5795 - accuracy: 0.7051\n",
      "Epoch 99/100\n",
      "668/668 [==============================] - 0s 137us/step - loss: 0.5745 - accuracy: 0.7156\n",
      "Epoch 100/100\n",
      "668/668 [==============================] - 0s 145us/step - loss: 0.5754 - accuracy: 0.7081\n"
     ]
    },
    {
     "data": {
      "text/plain": [
       "<keras.callbacks.callbacks.History at 0x219127f3be0>"
      ]
     },
     "execution_count": 72,
     "metadata": {},
     "output_type": "execute_result"
    }
   ],
   "source": [
    "model.compile(loss = 'binary_crossentropy', optimizer='adam', metrics=['accuracy'])\n",
    "model.fit(X_train, y_train, epochs=100, batch_size=10)"
   ]
  },
  {
   "cell_type": "markdown",
   "metadata": {},
   "source": [
    "### 모델 평가"
   ]
  },
  {
   "cell_type": "code",
   "execution_count": 73,
   "metadata": {},
   "outputs": [
    {
     "name": "stdout",
     "output_type": "stream",
     "text": [
      "223/223 [==============================] - 0s 322us/step\n"
     ]
    },
    {
     "data": {
      "text/plain": [
       "[0.5887107410773034, 0.7174887657165527]"
      ]
     },
     "execution_count": 73,
     "metadata": {},
     "output_type": "execute_result"
    }
   ],
   "source": [
    "model.evaluate(X_test, y_test)"
   ]
  },
  {
   "cell_type": "code",
   "execution_count": 74,
   "metadata": {},
   "outputs": [
    {
     "name": "stdout",
     "output_type": "stream",
     "text": [
      "223/223 [==============================] - 0s 40us/step\n",
      "\n",
      " Accuracy : 0.7175\n"
     ]
    }
   ],
   "source": [
    "print(\"\\n Accuracy : %.4f\" % (model.evaluate(X_test, y_test)[1]))"
   ]
  },
  {
   "cell_type": "code",
   "execution_count": 98,
   "metadata": {},
   "outputs": [],
   "source": [
    "pred = model.predict(X_val)"
   ]
  },
  {
   "cell_type": "code",
   "execution_count": 99,
   "metadata": {},
   "outputs": [
    {
     "data": {
      "text/plain": [
       "Index(['PassengerId', 'Survived'], dtype='object')"
      ]
     },
     "execution_count": 99,
     "metadata": {},
     "output_type": "execute_result"
    }
   ],
   "source": [
    "sub = pd.read_csv(\"./titanic/gender_submission.csv\")\n",
    "sub.columns"
   ]
  },
  {
   "cell_type": "code",
   "execution_count": 107,
   "metadata": {},
   "outputs": [
    {
     "data": {
      "text/plain": [
       "array([False, False, False, False, False, False, False,  True, False,\n",
       "       False, False,  True,  True,  True,  True,  True, False, False,\n",
       "       False, False,  True,  True,  True,  True,  True, False,  True,\n",
       "       False,  True, False,  True, False, False, False,  True, False,\n",
       "       False, False, False, False,  True,  True, False, False,  True,\n",
       "       False,  True, False,  True,  True,  True, False,  True,  True,\n",
       "       False, False, False, False, False,  True, False, False, False,\n",
       "       False,  True, False, False,  True,  True, False, False, False,\n",
       "       False,  True,  True,  True, False,  True, False, False, False,\n",
       "        True,  True, False, False, False, False, False, False,  True,\n",
       "       False, False,  True, False,  True, False,  True, False, False,\n",
       "       False,  True,  True, False, False, False, False, False, False,\n",
       "       False, False, False, False,  True, False,  True, False, False,\n",
       "       False,  True,  True, False, False,  True, False, False,  True,\n",
       "       False, False, False, False, False,  True, False, False, False,\n",
       "       False, False, False, False, False, False,  True,  True, False,\n",
       "        True, False,  True, False,  True,  True,  True, False, False,\n",
       "        True, False, False,  True, False,  True,  True, False, False,\n",
       "       False, False, False, False,  True, False,  True, False, False,\n",
       "       False, False, False, False,  True, False,  True,  True,  True,\n",
       "       False,  True,  True, False,  True, False,  True, False, False,\n",
       "       False,  True,  True, False, False,  True, False,  True, False,\n",
       "       False, False, False,  True,  True,  True, False,  True, False,\n",
       "       False,  True, False, False, False, False,  True, False,  True,\n",
       "       False,  True,  True, False,  True, False, False, False,  True,\n",
       "        True, False, False, False, False, False,  True, False, False,\n",
       "        True, False,  True, False,  True,  True,  True,  True,  True,\n",
       "       False, False,  True, False,  True,  True, False,  True, False,\n",
       "        True, False, False, False, False, False, False, False, False,\n",
       "       False,  True, False, False, False,  True, False, False, False,\n",
       "        True, False,  True, False, False,  True, False,  True,  True,\n",
       "       False, False, False, False, False, False, False, False,  True,\n",
       "       False, False,  True, False, False,  True, False, False,  True,\n",
       "       False,  True, False, False, False,  True, False, False,  True,\n",
       "        True,  True,  True, False, False, False, False, False,  True,\n",
       "       False,  True, False, False, False, False, False, False,  True,\n",
       "        True, False,  True,  True,  True, False,  True,  True, False,\n",
       "       False, False,  True, False,  True, False, False, False, False,\n",
       "       False,  True, False, False, False, False, False, False,  True,\n",
       "       False, False,  True, False,  True,  True, False, False, False,\n",
       "       False,  True, False, False,  True, False, False, False,  True,\n",
       "       False,  True,  True,  True, False,  True,  True, False, False,\n",
       "        True, False, False, False, False, False, False,  True, False,\n",
       "       False, False, False,  True,  True,  True, False, False,  True,\n",
       "       False,  True, False, False,  True,  True,  True,  True,  True,\n",
       "       False,  True,  True, False, False, False,  True, False, False,\n",
       "        True, False, False, False])"
      ]
     },
     "execution_count": 107,
     "metadata": {},
     "output_type": "execute_result"
    }
   ],
   "source": [
    "pred[:, 0] > 0.5"
   ]
  },
  {
   "cell_type": "code",
   "execution_count": 113,
   "metadata": {},
   "outputs": [],
   "source": [
    "sub['Survived'] = pred[:, 0] > 0.5"
   ]
  },
  {
   "cell_type": "code",
   "execution_count": 114,
   "metadata": {},
   "outputs": [],
   "source": [
    "sub.to_csv(\"titanic_submit0528.csv\", index=False)"
   ]
  },
  {
   "cell_type": "code",
   "execution_count": null,
   "metadata": {},
   "outputs": [],
   "source": []
  }
 ],
 "metadata": {
  "kernelspec": {
   "display_name": "Python 3",
   "language": "python",
   "name": "python3"
  },
  "language_info": {
   "codemirror_mode": {
    "name": "ipython",
    "version": 3
   },
   "file_extension": ".py",
   "mimetype": "text/x-python",
   "name": "python",
   "nbconvert_exporter": "python",
   "pygments_lexer": "ipython3",
   "version": "3.7.1"
  }
 },
 "nbformat": 4,
 "nbformat_minor": 2
}
