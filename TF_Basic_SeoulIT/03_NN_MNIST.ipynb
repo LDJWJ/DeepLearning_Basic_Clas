{
 "cells": [
  {
   "cell_type": "markdown",
   "metadata": {},
   "source": [
    "### MNIST 분류 모델 만들기 - 신경망"
   ]
  },
  {
   "cell_type": "code",
   "execution_count": 1,
   "metadata": {},
   "outputs": [
    {
     "name": "stderr",
     "output_type": "stream",
     "text": [
      "Using TensorFlow backend.\n"
     ]
    }
   ],
   "source": [
    "from keras.datasets import mnist\n",
    "from keras.utils import np_utils"
   ]
  },
  {
   "cell_type": "code",
   "execution_count": 34,
   "metadata": {},
   "outputs": [],
   "source": [
    "import numpy\n",
    "import sys\n",
    "import tensorflow as tf"
   ]
  },
  {
   "cell_type": "code",
   "execution_count": 35,
   "metadata": {},
   "outputs": [],
   "source": [
    "seed = 0\n",
    "numpy.random.seed(seed)\n",
    "tf.set_random_seed(seed)"
   ]
  },
  {
   "cell_type": "markdown",
   "metadata": {},
   "source": [
    "### 데이터 다운로드"
   ]
  },
  {
   "cell_type": "code",
   "execution_count": 36,
   "metadata": {},
   "outputs": [
    {
     "name": "stdout",
     "output_type": "stream",
     "text": [
      "(60000, 28, 28)\n",
      "(60000,)\n",
      "(10000, 28, 28)\n",
      "(10000,)\n"
     ]
    }
   ],
   "source": [
    "# 처음 다운일 경우, 데이터 다운로드 시간이 걸릴 수 있음. \n",
    "(X_train, y_train), (X_test, y_test) = mnist.load_data()\n",
    "print(X_train.shape)\n",
    "print(y_train.shape)\n",
    "print(X_test.shape)\n",
    "print(y_test.shape)"
   ]
  },
  {
   "cell_type": "code",
   "execution_count": 37,
   "metadata": {},
   "outputs": [],
   "source": [
    "import matplotlib.pyplot as plt"
   ]
  },
  {
   "cell_type": "code",
   "execution_count": 38,
   "metadata": {},
   "outputs": [
    {
     "name": "stdout",
     "output_type": "stream",
     "text": [
      "label=[5 0 4 1 9 2 1 3 1 4 3 5 3 6 1]\n"
     ]
    },
    {
     "data": {
      "image/png": "[encoded data removed]",
      "text/plain": [
       "<Figure size 1296x864 with 15 Axes>"
      ]
     },
     "metadata": {
      "needs_background": "light"
     },
     "output_type": "display_data"
    }
   ],
   "source": [
    "figure,axes = plt.subplots(nrows=3, ncols=5)\n",
    "figure.set_size_inches(18,12)\n",
    "\n",
    "plt.gray()\n",
    "print(\"label={}\".format(y_train[0:15]))\n",
    "\n",
    "col = 0\n",
    "for row in range(0,3):\n",
    "    col = row * 5\n",
    "    axes[row][0].matshow(X_train[col])\n",
    "    axes[row][1].matshow(X_train[col+1])\n",
    "    axes[row][2].matshow(X_train[col+2])\n",
    "    axes[row][3].matshow(X_train[col+3])\n",
    "    axes[row][4].matshow(X_train[col+4])"
   ]
  },
  {
   "cell_type": "markdown",
   "metadata": {},
   "source": [
    "### X_train의 데이터 정보를 하나 보기"
   ]
  },
  {
   "cell_type": "code",
   "execution_count": 39,
   "metadata": {},
   "outputs": [
    {
     "name": "stdout",
     "output_type": "stream",
     "text": [
      "(60000, 28, 28)\n"
     ]
    },
    {
     "data": {
      "text/plain": [
       "(28, 28)"
      ]
     },
     "execution_count": 39,
     "metadata": {},
     "output_type": "execute_result"
    }
   ],
   "source": [
    "print(X_train.shape)  # 60000 만개, 28행, 28열\n",
    "X_train[0].shape"
   ]
  },
  {
   "cell_type": "markdown",
   "metadata": {},
   "source": [
    "### 신경망에 맞추어 주기 위해 데이터 전처리\n",
    " * 학습 데이터 \n",
    " * 테스트 데이터"
   ]
  },
  {
   "cell_type": "code",
   "execution_count": 40,
   "metadata": {},
   "outputs": [],
   "source": [
    "X_train = X_train.reshape(X_train.shape[0],784)   # 60000, 28, 28 -> 60000, 784로 변경\n",
    "# 데이터 값의 범위 0~255 -> 0~1 \n",
    "X_train.astype('float64')  \n",
    "X_train = X_train/255\n",
    "\n",
    "# 이렇게도 가능\n",
    "# X_train = X_train.reshape(X_train.shape[0],784).astype('float64') / 255"
   ]
  },
  {
   "cell_type": "code",
   "execution_count": 41,
   "metadata": {},
   "outputs": [],
   "source": [
    "import numpy as np"
   ]
  },
  {
   "cell_type": "code",
   "execution_count": 42,
   "metadata": {},
   "outputs": [
    {
     "name": "stdout",
     "output_type": "stream",
     "text": [
      "(60000, 784)\n"
     ]
    },
    {
     "data": {
      "text/plain": [
       "(0.0, 1.0)"
      ]
     },
     "execution_count": 42,
     "metadata": {},
     "output_type": "execute_result"
    }
   ],
   "source": [
    "print(X_train.shape)               # 데이터 크기\n",
    "np.min(X_train), np.max(X_train)   # 값의 범위"
   ]
  },
  {
   "cell_type": "code",
   "execution_count": 43,
   "metadata": {},
   "outputs": [],
   "source": [
    "# 테스트 데이터 전처리\n",
    "X_test = X_test.reshape(X_test.shape[0],784)\n",
    "X_test.astype('float64')\n",
    "X_test = X_test/255"
   ]
  },
  {
   "cell_type": "code",
   "execution_count": 44,
   "metadata": {},
   "outputs": [
    {
     "name": "stdout",
     "output_type": "stream",
     "text": [
      "(10000, 784)\n"
     ]
    },
    {
     "data": {
      "text/plain": [
       "(0.0, 1.0)"
      ]
     },
     "execution_count": 44,
     "metadata": {},
     "output_type": "execute_result"
    }
   ],
   "source": [
    "print(X_test.shape)               # 데이터 크기\n",
    "np.min(X_test), np.max(X_test)   # 값의 범위"
   ]
  },
  {
   "cell_type": "markdown",
   "metadata": {},
   "source": [
    "## 출력데이터 검증을 위해 10진수의 값을 One-Hot Encoding을 수행"
   ]
  },
  {
   "cell_type": "code",
   "execution_count": 45,
   "metadata": {},
   "outputs": [],
   "source": [
    "# OneHotEncoding - 10진수의 값을 0, 1의 값을 갖는 벡터로 표현\n",
    "Y_train = np_utils.to_categorical(y_train, 10)\n",
    "Y_test = np_utils.to_categorical(y_test, 10)"
   ]
  },
  {
   "cell_type": "markdown",
   "metadata": {},
   "source": [
    "### 변환 전과 후"
   ]
  },
  {
   "cell_type": "code",
   "execution_count": 14,
   "metadata": {},
   "outputs": [
    {
     "data": {
      "text/plain": [
       "array([5, 0, 4, 1], dtype=uint8)"
      ]
     },
     "execution_count": 14,
     "metadata": {},
     "output_type": "execute_result"
    }
   ],
   "source": [
    "y_train[0:4]"
   ]
  },
  {
   "cell_type": "code",
   "execution_count": 15,
   "metadata": {},
   "outputs": [
    {
     "data": {
      "text/plain": [
       "array([[0., 0., 0., 0., 0., 1., 0., 0., 0., 0.],\n",
       "       [1., 0., 0., 0., 0., 0., 0., 0., 0., 0.],\n",
       "       [0., 0., 0., 0., 1., 0., 0., 0., 0., 0.],\n",
       "       [0., 1., 0., 0., 0., 0., 0., 0., 0., 0.]], dtype=float32)"
      ]
     },
     "execution_count": 15,
     "metadata": {},
     "output_type": "execute_result"
    }
   ],
   "source": [
    "Y_train[0:4]"
   ]
  },
  {
   "cell_type": "markdown",
   "metadata": {},
   "source": [
    "### 딥러닝 만들어 보기"
   ]
  },
  {
   "cell_type": "code",
   "execution_count": 16,
   "metadata": {},
   "outputs": [],
   "source": [
    "from keras.models import Sequential\n",
    "from keras.layers import Dense"
   ]
  },
  {
   "cell_type": "code",
   "execution_count": 17,
   "metadata": {},
   "outputs": [],
   "source": [
    "m = Sequential()"
   ]
  },
  {
   "cell_type": "code",
   "execution_count": 18,
   "metadata": {},
   "outputs": [
    {
     "name": "stdout",
     "output_type": "stream",
     "text": [
      "WARNING:tensorflow:From C:\\Users\\peop\\Anaconda3\\lib\\site-packages\\tensorflow_core\\python\\ops\\resource_variable_ops.py:1630: calling BaseResourceVariable.__init__ (from tensorflow.python.ops.resource_variable_ops) with constraint is deprecated and will be removed in a future version.\n",
      "Instructions for updating:\n",
      "If using Keras pass *_constraint arguments to layers.\n"
     ]
    }
   ],
   "source": [
    "m.add(Dense(512,input_dim=784, activation='relu'))\n",
    "m.add(Dense(128, activation='relu') )\n",
    "m.add(Dense(10,activation='softmax'))#softmax"
   ]
  },
  {
   "cell_type": "markdown",
   "metadata": {},
   "source": [
    "### 오차함수 :categorical_crossentropy, 최적화 함수 : adam"
   ]
  },
  {
   "cell_type": "code",
   "execution_count": 19,
   "metadata": {},
   "outputs": [],
   "source": [
    "m.compile(loss=\"categorical_crossentropy\", \n",
    "         optimizer='adam',\n",
    "         metrics=['accuracy'])"
   ]
  },
  {
   "cell_type": "code",
   "execution_count": 20,
   "metadata": {},
   "outputs": [
    {
     "name": "stdout",
     "output_type": "stream",
     "text": [
      "WARNING:tensorflow:From C:\\Users\\peop\\Anaconda3\\lib\\site-packages\\keras\\backend\\tensorflow_backend.py:422: The name tf.global_variables is deprecated. Please use tf.compat.v1.global_variables instead.\n",
      "\n",
      "Train on 60000 samples, validate on 10000 samples\n",
      "Epoch 1/30\n",
      "60000/60000 [==============================] - 6s 99us/step - loss: 0.2796 - accuracy: 0.9194 - val_loss: 0.1314 - val_accuracy: 0.9603\n",
      "Epoch 2/30\n",
      "60000/60000 [==============================] - 6s 94us/step - loss: 0.0979 - accuracy: 0.9708 - val_loss: 0.0923 - val_accuracy: 0.9712\n",
      "Epoch 3/30\n",
      "60000/60000 [==============================] - 6s 104us/step - loss: 0.0628 - accuracy: 0.9810 - val_loss: 0.0760 - val_accuracy: 0.9751\n",
      "Epoch 4/30\n",
      "60000/60000 [==============================] - 6s 96us/step - loss: 0.0437 - accuracy: 0.9866 - val_loss: 0.0879 - val_accuracy: 0.9739\n",
      "Epoch 5/30\n",
      "60000/60000 [==============================] - 6s 93us/step - loss: 0.0319 - accuracy: 0.9904 - val_loss: 0.0692 - val_accuracy: 0.9799\n",
      "Epoch 6/30\n",
      "60000/60000 [==============================] - 5s 91us/step - loss: 0.0224 - accuracy: 0.9933 - val_loss: 0.0719 - val_accuracy: 0.9804\n",
      "Epoch 7/30\n",
      "60000/60000 [==============================] - 6s 93us/step - loss: 0.0157 - accuracy: 0.9953 - val_loss: 0.0689 - val_accuracy: 0.9803\n",
      "Epoch 8/30\n",
      "60000/60000 [==============================] - 6s 98us/step - loss: 0.0152 - accuracy: 0.9955 - val_loss: 0.0665 - val_accuracy: 0.9812\n",
      "Epoch 9/30\n",
      "60000/60000 [==============================] - 6s 97us/step - loss: 0.0115 - accuracy: 0.9965 - val_loss: 0.0862 - val_accuracy: 0.9762\n",
      "Epoch 10/30\n",
      "60000/60000 [==============================] - 6s 95us/step - loss: 0.0095 - accuracy: 0.9971 - val_loss: 0.0832 - val_accuracy: 0.9788\n",
      "Epoch 11/30\n",
      "60000/60000 [==============================] - 6s 92us/step - loss: 0.0099 - accuracy: 0.9967 - val_loss: 0.1047 - val_accuracy: 0.9752\n",
      "Epoch 12/30\n",
      "60000/60000 [==============================] - 6s 95us/step - loss: 0.0106 - accuracy: 0.9965 - val_loss: 0.0836 - val_accuracy: 0.9804\n",
      "Epoch 13/30\n",
      "60000/60000 [==============================] - 6s 92us/step - loss: 0.0074 - accuracy: 0.9976 - val_loss: 0.0835 - val_accuracy: 0.9813\n",
      "Epoch 14/30\n",
      "60000/60000 [==============================] - 6s 93us/step - loss: 0.0044 - accuracy: 0.9986 - val_loss: 0.0881 - val_accuracy: 0.9815\n",
      "Epoch 15/30\n",
      "60000/60000 [==============================] - 5s 90us/step - loss: 0.0042 - accuracy: 0.9986 - val_loss: 0.0883 - val_accuracy: 0.9805\n",
      "Epoch 16/30\n",
      "60000/60000 [==============================] - 5s 90us/step - loss: 0.0121 - accuracy: 0.9959 - val_loss: 0.0865 - val_accuracy: 0.9813\n",
      "Epoch 17/30\n",
      "60000/60000 [==============================] - 5s 89us/step - loss: 0.0061 - accuracy: 0.9981 - val_loss: 0.0972 - val_accuracy: 0.9785\n",
      "Epoch 18/30\n",
      "60000/60000 [==============================] - 5s 91us/step - loss: 0.0091 - accuracy: 0.9970 - val_loss: 0.0918 - val_accuracy: 0.9786\n",
      "Epoch 19/30\n",
      "60000/60000 [==============================] - 5s 91us/step - loss: 0.0033 - accuracy: 0.9991 - val_loss: 0.0870 - val_accuracy: 0.9822\n",
      "Epoch 20/30\n",
      "60000/60000 [==============================] - 5s 90us/step - loss: 0.0020 - accuracy: 0.9994 - val_loss: 0.0866 - val_accuracy: 0.9818\n",
      "Epoch 21/30\n",
      "60000/60000 [==============================] - 5s 91us/step - loss: 0.0070 - accuracy: 0.9981 - val_loss: 0.0994 - val_accuracy: 0.9802\n",
      "Epoch 22/30\n",
      "60000/60000 [==============================] - 5s 91us/step - loss: 0.0095 - accuracy: 0.9972 - val_loss: 0.0870 - val_accuracy: 0.9811\n",
      "Epoch 23/30\n",
      "60000/60000 [==============================] - 5s 90us/step - loss: 0.0040 - accuracy: 0.9987 - val_loss: 0.0860 - val_accuracy: 0.9831\n",
      "Epoch 24/30\n",
      "60000/60000 [==============================] - 6s 92us/step - loss: 0.0039 - accuracy: 0.9988 - val_loss: 0.0872 - val_accuracy: 0.9826\n",
      "Epoch 25/30\n",
      "60000/60000 [==============================] - 5s 90us/step - loss: 0.0025 - accuracy: 0.9992 - val_loss: 0.0966 - val_accuracy: 0.9803\n",
      "Epoch 26/30\n",
      "60000/60000 [==============================] - 6s 92us/step - loss: 0.0029 - accuracy: 0.9991 - val_loss: 0.1046 - val_accuracy: 0.9807: 0.0029 - accuracy: 0. - ETA: 0s - los\n",
      "Epoch 27/30\n",
      "60000/60000 [==============================] - 6s 92us/step - loss: 0.0070 - accuracy: 0.9980 - val_loss: 0.1346 - val_accuracy: 0.9774\n",
      "Epoch 28/30\n",
      "60000/60000 [==============================] - 5s 92us/step - loss: 0.0089 - accuracy: 0.9970 - val_loss: 0.0964 - val_accuracy: 0.9813\n",
      "Epoch 29/30\n",
      "60000/60000 [==============================] - 5s 90us/step - loss: 0.0034 - accuracy: 0.9989 - val_loss: 0.0928 - val_accuracy: 0.9821\n",
      "Epoch 30/30\n",
      "60000/60000 [==============================] - 6s 92us/step - loss: 0.0025 - accuracy: 0.9993 - val_loss: 0.0952 - val_accuracy: 0.9819\n"
     ]
    }
   ],
   "source": [
    "### 배치 사이즈 200, epochs 30회 실행,\n",
    "history = m.fit(X_train, Y_train, validation_data=(X_test, Y_test),\n",
    "                epochs=30,\n",
    "                batch_size=200,\n",
    "                verbose=1)"
   ]
  },
  {
   "cell_type": "code",
   "execution_count": 24,
   "metadata": {},
   "outputs": [
    {
     "name": "stdout",
     "output_type": "stream",
     "text": [
      "10000/10000 [==============================] - 1s 64us/step\n",
      "Test Accuracy : 0.9819\n"
     ]
    }
   ],
   "source": [
    "print(\"Test Accuracy : %.4f\" %(m.evaluate(X_test, Y_test)[1]))"
   ]
  },
  {
   "cell_type": "code",
   "execution_count": 25,
   "metadata": {},
   "outputs": [],
   "source": [
    "pred = m.predict(X_test)"
   ]
  },
  {
   "cell_type": "code",
   "execution_count": 26,
   "metadata": {},
   "outputs": [
    {
     "name": "stdout",
     "output_type": "stream",
     "text": [
      "(10000, 10)\n",
      "[1.5944571e-12 2.2818198e-09 1.0000000e+00 2.2257220e-11 2.0903933e-19\n",
      " 2.5591343e-18 3.7277166e-15 5.9855830e-20 1.9057743e-14 2.6691286e-27]\n"
     ]
    }
   ],
   "source": [
    "print( pred.shape )\n",
    "print( pred[1] )"
   ]
  },
  {
   "cell_type": "code",
   "execution_count": null,
   "metadata": {},
   "outputs": [],
   "source": []
  }
 ],
 "metadata": {
  "kernelspec": {
   "display_name": "Python 3",
   "language": "python",
   "name": "python3"
  },
  "language_info": {
   "codemirror_mode": {
    "name": "ipython",
    "version": 3
   },
   "file_extension": ".py",
   "mimetype": "text/x-python",
   "name": "python",
   "nbconvert_exporter": "python",
   "pygments_lexer": "ipython3",
   "version": "3.8.3"
  }
 },
 "nbformat": 4,
 "nbformat_minor": 2
}
