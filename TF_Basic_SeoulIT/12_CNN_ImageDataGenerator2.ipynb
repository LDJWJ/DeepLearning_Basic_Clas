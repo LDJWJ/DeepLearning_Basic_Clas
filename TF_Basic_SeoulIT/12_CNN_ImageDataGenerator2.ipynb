{
 "cells": [
  {
   "cell_type": "markdown",
   "metadata": {},
   "source": [
    "### 이미지 데이터 부풀리기\n",
    " * 과적합 방지(overfitting)\n",
    " * 새로운 이미지도 잘 분류"
   ]
  },
  {
   "cell_type": "code",
   "execution_count": 45,
   "metadata": {},
   "outputs": [],
   "source": [
    "import tensorflow as tf\n",
    "from keras.models import Sequential\n",
    "from keras.layers import Dense, Conv2D, Flatten\n",
    "from keras.layers import Dropout, MaxPooling2D, Activation\n",
    "from keras.preprocessing.image import ImageDataGenerator\n",
    "\n",
    "import os\n",
    "import numpy as np\n",
    "import matplotlib.pyplot as plt"
   ]
  },
  {
   "cell_type": "code",
   "execution_count": 46,
   "metadata": {},
   "outputs": [
    {
     "name": "stdout",
     "output_type": "stream",
     "text": [
      "C:\\Users\\seoul it\\.keras\\datasets\\cats_and_dogs_filtered\n"
     ]
    }
   ],
   "source": [
    "_URL = 'https://storage.googleapis.com/mledu-datasets/cats_and_dogs_filtered.zip'\n",
    "\n",
    "path_to_zip = tf.keras.utils.get_file('cats_and_dogs.zip', origin=_URL, extract=True)\n",
    "PATH = os.path.join(os.path.dirname(path_to_zip), 'cats_and_dogs_filtered')\n",
    "print(PATH)"
   ]
  },
  {
   "cell_type": "markdown",
   "metadata": {},
   "source": [
    "### 경로 확인"
   ]
  },
  {
   "cell_type": "code",
   "execution_count": 47,
   "metadata": {},
   "outputs": [
    {
     "name": "stdout",
     "output_type": "stream",
     "text": [
      "C:\\Users\\seoul it\\.keras\\datasets\\cats_and_dogs_filtered\\train\n",
      "C:\\Users\\seoul it\\.keras\\datasets\\cats_and_dogs_filtered\\validation\n",
      "개 :  C:\\Users\\seoul it\\.keras\\datasets\\cats_and_dogs_filtered\\train\\dogs\n",
      "고양이 :  C:\\Users\\seoul it\\.keras\\datasets\\cats_and_dogs_filtered\\train\\cats\n",
      "개 :  C:\\Users\\seoul it\\.keras\\datasets\\cats_and_dogs_filtered\\validation\\dogs\n",
      "고양이 :  C:\\Users\\seoul it\\.keras\\datasets\\cats_and_dogs_filtered\\validation\\cats\n"
     ]
    }
   ],
   "source": [
    "train_dir = os.path.join(PATH, 'train')            # 학습용\n",
    "val_dir = os.path.join(PATH, 'validation')         # 평가용\n",
    "preview = os.path.join(PATH, 'preview')\n",
    "print(train_dir)\n",
    "print(val_dir)\n",
    "\n",
    "# 개, 고양이 학습용 폴더 경로 \n",
    "train_dogs_dir = os.path.join(train_dir, 'dogs')  # directory with our validation dog pictures\n",
    "train_cats_dir = os.path.join(train_dir, 'cats')  # directory with our validation cat pictures\n",
    "\n",
    "print(\"개 : \", train_dogs_dir)\n",
    "print(\"고양이 : \", train_cats_dir)\n",
    "\n",
    "# 개, 고양이 평가용 폴더 경로 \n",
    "val_dogs_dir = os.path.join(val_dir, 'dogs')  # directory with our validation dog pictures\n",
    "val_cats_dir = os.path.join(val_dir, 'cats')  # directory with our validation cat pictures\n",
    "\n",
    "print(\"개 : \", val_dogs_dir)\n",
    "print(\"고양이 : \", val_cats_dir)"
   ]
  },
  {
   "cell_type": "code",
   "execution_count": 48,
   "metadata": {},
   "outputs": [],
   "source": [
    "from keras.preprocessing.image import ImageDataGenerator\n",
    "\n",
    "datagen = ImageDataGenerator(\n",
    "        rotation_range=40,              # 이미지 회전 범위\n",
    "        width_shift_range=0.2,          # 그림을 수평으로 랜덤하게 평행 이동\n",
    "        height_shift_range=0.2,         # 그림을 수직으로 랜덤하게 평행 이동\n",
    "        rescale=1./255,                 # 1/255로 스케일링 0-1 범위로 변환\n",
    "        shear_range=0.2,                # 임의 전단 변환(shearing transformation)범위\n",
    "        zoom_range=0.2,                 # 임의 확대/축소\n",
    "        horizontal_flip=True,           # True의 경우, 50%의 확률로 이미지를 수평으로 뒤집기.\n",
    "        fill_mode='nearest')            # 이미지를 회전, 이동하거나 축소시, 생기는 공간을 채우는 방식"
   ]
  },
  {
   "cell_type": "markdown",
   "metadata": {},
   "source": [
    "### Generator를 이용할 때, 이미지 확인해 보기\n",
    " * 1장을 우선 확인해 보기"
   ]
  },
  {
   "cell_type": "code",
   "execution_count": 49,
   "metadata": {},
   "outputs": [],
   "source": [
    "from keras.preprocessing.image import ImageDataGenerator, array_to_img, img_to_array, load_img"
   ]
  },
  {
   "cell_type": "code",
   "execution_count": 50,
   "metadata": {},
   "outputs": [],
   "source": [
    "# preview = os.path.join(PATH, 'preview')"
   ]
  },
  {
   "cell_type": "code",
   "execution_count": 51,
   "metadata": {},
   "outputs": [],
   "source": [
    "img = load_img(train_dogs_dir + \"/dog.4.jpg\")  # PIL 이미지\n",
    "x = img_to_array(img)  # (3, 150, 150) 크기의 NumPy 배열\n",
    "x = x.reshape((1,) + x.shape)  # (1, 3, 150, 150) 크기의 NumPy 배열\n",
    "\n",
    "# 아래 .flow() 함수는 임의 변환된 이미지를 배치 단위로 생성해서\n",
    "# 지정된 `preview/` 폴더에 저장합니다.\n",
    "i = 0\n",
    "for batch in datagen.flow(x, \n",
    "                          batch_size=1, \n",
    "                          save_to_dir=preview, \n",
    "                          save_prefix=\"dog\", \n",
    "                          save_format=\"jpeg\"):\n",
    "    i += 1\n",
    "    if i > 20:\n",
    "        break  # 이미지 20장을 생성하고 마칩니다"
   ]
  },
  {
   "cell_type": "markdown",
   "metadata": {},
   "source": [
    "### 모델 만들기"
   ]
  },
  {
   "cell_type": "code",
   "execution_count": 65,
   "metadata": {},
   "outputs": [],
   "source": [
    "model = Sequential()\n",
    "model.add(Conv2D(32, (3, 3), input_shape=(150, 150, 3)))\n",
    "model.add(Activation('relu'))\n",
    "model.add(MaxPooling2D(pool_size=(2, 2)))\n",
    "\n",
    "model.add(Conv2D(32, (3, 3)))\n",
    "model.add(Activation('relu'))\n",
    "model.add(MaxPooling2D(pool_size=(2, 2)))\n",
    "\n",
    "model.add(Conv2D(64, (3, 3)))\n",
    "model.add(Activation('relu'))\n",
    "model.add(MaxPooling2D(pool_size=(2, 2)))"
   ]
  },
  {
   "cell_type": "code",
   "execution_count": 66,
   "metadata": {},
   "outputs": [],
   "source": [
    "model.add(Flatten())  # 이전 CNN 레이어에서 나온 3차원 배열은 1차원으로 뽑아줍니다\n",
    "model.add(Dense(64))\n",
    "model.add(Activation('relu'))\n",
    "model.add(Dropout(0.5))\n",
    "\n",
    "model.add(Dense(1))\n",
    "model.add(Activation('sigmoid'))"
   ]
  },
  {
   "cell_type": "markdown",
   "metadata": {},
   "source": [
    "### 다음과 같이 표현 가능\n",
    "* Step 4 - Full connection\n",
    "* model.add(Flatten()) \n",
    "* model.add(Dense(units = 64, activation = 'relu'))\n",
    "* model.add(Dropout(0.5))\n",
    "* model.add(Dense(units = 1, activation = 'sigmoid'))  # 개고양이 분류"
   ]
  },
  {
   "cell_type": "code",
   "execution_count": 67,
   "metadata": {},
   "outputs": [],
   "source": [
    "model.compile(loss='binary_crossentropy',\n",
    "              optimizer='rmsprop',\n",
    "              metrics=['accuracy'])"
   ]
  },
  {
   "cell_type": "markdown",
   "metadata": {},
   "source": [
    "### 이미지 불러오기"
   ]
  },
  {
   "cell_type": "code",
   "execution_count": 68,
   "metadata": {},
   "outputs": [
    {
     "name": "stdout",
     "output_type": "stream",
     "text": [
      "Found 2000 images belonging to 2 classes.\n",
      "Found 1000 images belonging to 2 classes.\n",
      "Found 1000 images belonging to 2 classes.\n"
     ]
    }
   ],
   "source": [
    "batch_size = 16\n",
    "\n",
    "# 학습 이미지에 적용한 augmentation 인자를 지정해줍니다.\n",
    "train_datagen = ImageDataGenerator(\n",
    "        rescale=1./255,\n",
    "        shear_range=0.2,\n",
    "        zoom_range=0.2,\n",
    "        horizontal_flip=True)\n",
    "\n",
    "# 검증 및 테스트 이미지는 augmentation을 적용하지 않음\n",
    "# 모델 성능을 평가할 때에는 이미지 원본을 사용\n",
    "validation_datagen = ImageDataGenerator(rescale=1./255)\n",
    "test_datagen = ImageDataGenerator(rescale=1./255)\n",
    "\n",
    "# 이미지를 배치 단위로 불러와 줄 generator입니다.\n",
    "train_generator = train_datagen.flow_from_directory(\n",
    "        train_dir,  # this is the target directory\n",
    "        target_size=(150, 150),  # 모든 이미지의 크기가 150x150로 조정됩니다.\n",
    "        batch_size=batch_size,\n",
    "        class_mode='binary')  # binary_crossentropy 손실 함수를 사용하므로 binary 형태로 라벨을 불러와야 합니다.\n",
    "\n",
    "validation_generator = validation_datagen.flow_from_directory(\n",
    "        val_dir,\n",
    "        target_size=(150, 150),\n",
    "        batch_size=batch_size,\n",
    "        class_mode='binary')\n",
    "\n",
    "test_generator = test_datagen.flow_from_directory(\n",
    "        val_dir,\n",
    "        target_size=(150, 150),\n",
    "        batch_size=batch_size,\n",
    "        class_mode='binary')"
   ]
  },
  {
   "cell_type": "markdown",
   "metadata": {},
   "source": [
    "### 이미지 학습"
   ]
  },
  {
   "cell_type": "code",
   "execution_count": null,
   "metadata": {},
   "outputs": [
    {
     "name": "stdout",
     "output_type": "stream",
     "text": [
      "Epoch 1/25\n",
      "300/300 [==============================] - 341s 1s/step - loss: 0.6963 - accuracy: 0.5523 - val_loss: 0.6816 - val_accuracy: 0.6408\n",
      "Epoch 2/25\n",
      "103/300 [=========>....................] - ETA: 1:06 - loss: 0.6521 - accuracy: 0.6256"
     ]
    }
   ],
   "source": [
    "%%time\n",
    "\n",
    "model.fit_generator(train_generator,\n",
    "                   steps_per_epoch = 300,\n",
    "                   epochs=25,\n",
    "                   validation_data = validation_generator,\n",
    "                   validation_steps = 2000)"
   ]
  },
  {
   "cell_type": "code",
   "execution_count": null,
   "metadata": {},
   "outputs": [],
   "source": [
    "model.save_weights('first_try.h5')  # 많은 시간을 들여 학습한 모델인 만큼, 학습 후에는 꼭 모델을 저장해줍시다."
   ]
  },
  {
   "cell_type": "code",
   "execution_count": null,
   "metadata": {},
   "outputs": [],
   "source": []
  },
  {
   "cell_type": "markdown",
   "metadata": {},
   "source": [
    "### REF 참조 \n",
    " * keras 공식문서 : https://keras.io/api/preprocessing/image/\n",
    " * ref : https://keraskorea.github.io/posts/2018-10-24-little_data_powerful_model/"
   ]
  },
  {
   "cell_type": "code",
   "execution_count": null,
   "metadata": {},
   "outputs": [],
   "source": []
  }
 ],
 "metadata": {
  "kernelspec": {
   "display_name": "Python 3",
   "language": "python",
   "name": "python3"
  },
  "language_info": {
   "codemirror_mode": {
    "name": "ipython",
    "version": 3
   },
   "file_extension": ".py",
   "mimetype": "text/x-python",
   "name": "python",
   "nbconvert_exporter": "python",
   "pygments_lexer": "ipython3",
   "version": "3.7.1"
  }
 },
 "nbformat": 4,
 "nbformat_minor": 4
}
