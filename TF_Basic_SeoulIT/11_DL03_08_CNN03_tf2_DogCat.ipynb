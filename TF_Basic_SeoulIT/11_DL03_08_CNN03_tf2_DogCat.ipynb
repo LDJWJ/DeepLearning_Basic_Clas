{
 "cells": [
  {
   "cell_type": "markdown",
   "metadata": {
    "colab_type": "text",
    "id": "Aa9zGFVtwbs0"
   },
   "source": [
    "### TF2.0 신경망 만들기\n",
    "* CNN 신경망 이해\n",
    "* 고양이와 개의 분류를 CNN을 이용하여 구현해 보기(2)"
   ]
  },
  {
   "cell_type": "code",
   "execution_count": 0,
   "metadata": {
    "colab": {},
    "colab_type": "code",
    "id": "LosdUt2_wv4u"
   },
   "outputs": [],
   "source": [
    "# !pip install -q tensorflow-gpu==2.0.0-rc1"
   ]
  },
  {
   "cell_type": "code",
   "execution_count": 0,
   "metadata": {
    "colab": {},
    "colab_type": "code",
    "id": "IdgsbuXswjle"
   },
   "outputs": [],
   "source": [
    "import tensorflow as tf\n",
    "from tensorflow.keras.models import Sequential\n",
    "from tensorflow.keras.layers import Dense, Conv2D, Flatten, Dropout, MaxPooling2D\n",
    "from tensorflow.keras.preprocessing.image import ImageDataGenerator\n",
    "\n",
    "import os\n",
    "import numpy as np\n",
    "import matplotlib.pyplot as plt"
   ]
  },
  {
   "cell_type": "code",
   "execution_count": 3,
   "metadata": {
    "colab": {
     "base_uri": "https://localhost:8080/",
     "height": 36
    },
    "colab_type": "code",
    "executionInfo": {
     "elapsed": 3059,
     "status": "ok",
     "timestamp": 1591186772465,
     "user": {
      "displayName": "friend toto",
      "photoUrl": "",
      "userId": "17543605389727805552"
     },
     "user_tz": -540
    },
    "id": "Rsil0dSywpdv",
    "outputId": "934f977a-b0c2-4047-a46a-d5eefd1fe855"
   },
   "outputs": [
    {
     "name": "stdout",
     "output_type": "stream",
     "text": [
      "2.2.0\n"
     ]
    }
   ],
   "source": [
    "print(tf.__version__)"
   ]
  },
  {
   "cell_type": "markdown",
   "metadata": {
    "colab_type": "text",
    "id": "nxKtyaCYwrUQ"
   },
   "source": [
    "### 학습 내용\n",
    "* 앞에서 배운 내용\n",
    "  * 데이터 로드\n",
    "  * ImageGenerator를 생성\n",
    "  * 모델 학습\n",
    "  * 모델 평가\n"
   ]
  },
  {
   "cell_type": "code",
   "execution_count": 4,
   "metadata": {
    "colab": {
     "base_uri": "https://localhost:8080/",
     "height": 55
    },
    "colab_type": "code",
    "executionInfo": {
     "elapsed": 6071,
     "status": "ok",
     "timestamp": 1591186775494,
     "user": {
      "displayName": "friend toto",
      "photoUrl": "",
      "userId": "17543605389727805552"
     },
     "user_tz": -540
    },
    "id": "GUK6lzZUxRiM",
    "outputId": "2187d5f4-cdb4-4144-b4f2-ac80f496249c"
   },
   "outputs": [
    {
     "name": "stdout",
     "output_type": "stream",
     "text": [
      "Downloading data from https://storage.googleapis.com/mledu-datasets/cats_and_dogs_filtered.zip\n",
      "68608000/68606236 [==============================] - 2s 0us/step\n"
     ]
    }
   ],
   "source": [
    "_URL = 'https://storage.googleapis.com/mledu-datasets/cats_and_dogs_filtered.zip'\n",
    "\n",
    "path_to_zip = tf.keras.utils.get_file('cats_and_dogs.zip', origin=_URL, extract=True)\n",
    "\n",
    "PATH = os.path.join(os.path.dirname(path_to_zip), 'cats_and_dogs_filtered')"
   ]
  },
  {
   "cell_type": "code",
   "execution_count": 0,
   "metadata": {
    "colab": {},
    "colab_type": "code",
    "id": "H4PSuA6FzX-e"
   },
   "outputs": [],
   "source": [
    "## 경로 지정\n",
    "train_dir = os.path.join(PATH, 'train')\n",
    "validation_dir = os.path.join(PATH, 'validation')\n",
    "\n",
    "train_cats_dir = os.path.join(train_dir, 'cats')  # directory with our training cat pictures\n",
    "train_dogs_dir = os.path.join(train_dir, 'dogs')  # directory with our training dog pictures\n",
    "validation_cats_dir = os.path.join(validation_dir, 'cats')  # directory with our validation cat pictures\n",
    "validation_dogs_dir = os.path.join(validation_dir, 'dogs')  # directory with our validation dog pictures\n",
    "\n",
    "## 경로에 이미지 데이터의 개수 \n",
    "num_cats_tr = len(os.listdir(train_cats_dir))\n",
    "num_dogs_tr = len(os.listdir(train_dogs_dir))\n",
    "\n",
    "num_cats_val = len(os.listdir(validation_cats_dir))\n",
    "num_dogs_val = len(os.listdir(validation_dogs_dir))\n",
    "\n",
    "total_train = num_cats_tr + num_dogs_tr\n",
    "total_val = num_cats_val + num_dogs_val"
   ]
  },
  {
   "cell_type": "code",
   "execution_count": 6,
   "metadata": {
    "colab": {
     "base_uri": "https://localhost:8080/",
     "height": 148
    },
    "colab_type": "code",
    "executionInfo": {
     "elapsed": 6030,
     "status": "ok",
     "timestamp": 1591186775499,
     "user": {
      "displayName": "friend toto",
      "photoUrl": "",
      "userId": "17543605389727805552"
     },
     "user_tz": -540
    },
    "id": "uuPbYCkBzZ0Y",
    "outputId": "8e872f41-24fa-4bc5-f271-a917ea00b8eb"
   },
   "outputs": [
    {
     "name": "stdout",
     "output_type": "stream",
     "text": [
      "total training cat images: 1000\n",
      "total training dog images: 1000\n",
      "total validation cat images: 500\n",
      "total validation dog images: 500\n",
      "--\n",
      "Total training images: 2000\n",
      "Total validation images: 1000\n"
     ]
    }
   ],
   "source": [
    "print('total training cat images:', num_cats_tr)\n",
    "print('total training dog images:', num_dogs_tr)\n",
    "\n",
    "print('total validation cat images:', num_cats_val)\n",
    "print('total validation dog images:', num_dogs_val)\n",
    "print(\"--\")\n",
    "print(\"Total training images:\", total_train)\n",
    "print(\"Total validation images:\", total_val)"
   ]
  },
  {
   "cell_type": "code",
   "execution_count": 0,
   "metadata": {
    "colab": {},
    "colab_type": "code",
    "id": "qus-EIRZzf5n"
   },
   "outputs": [],
   "source": [
    "batch_size = 512\n",
    "epochs = 15\n",
    "IMG_HEIGHT = 150\n",
    "IMG_WIDTH = 150"
   ]
  },
  {
   "cell_type": "code",
   "execution_count": 0,
   "metadata": {
    "colab": {},
    "colab_type": "code",
    "id": "36A4lKCozmDY"
   },
   "outputs": [],
   "source": [
    "train_image_generator = ImageDataGenerator(rescale=1./255) # Generator for our training data\n",
    "validation_image_generator = ImageDataGenerator(rescale=1./255) # Generator for our validation data"
   ]
  },
  {
   "cell_type": "code",
   "execution_count": 9,
   "metadata": {
    "colab": {
     "base_uri": "https://localhost:8080/",
     "height": 55
    },
    "colab_type": "code",
    "executionInfo": {
     "elapsed": 5970,
     "status": "ok",
     "timestamp": 1591186775503,
     "user": {
      "displayName": "friend toto",
      "photoUrl": "",
      "userId": "17543605389727805552"
     },
     "user_tz": -540
    },
    "id": "rprPc9l0zqqX",
    "outputId": "f76b56e6-2cf2-499e-c15a-69f57d484933"
   },
   "outputs": [
    {
     "name": "stdout",
     "output_type": "stream",
     "text": [
      "Found 2000 images belonging to 2 classes.\n",
      "Found 1000 images belonging to 2 classes.\n"
     ]
    }
   ],
   "source": [
    "train_data_gen = train_image_generator.flow_from_directory(batch_size=batch_size,\n",
    "                                                           directory=train_dir,\n",
    "                                                           shuffle=True,\n",
    "                                                           target_size=(IMG_HEIGHT, IMG_WIDTH),\n",
    "                                                           class_mode='binary')\n",
    "\n",
    "val_data_gen = validation_image_generator.flow_from_directory(batch_size=batch_size,\n",
    "                                                              directory=validation_dir,\n",
    "                                                              target_size=(IMG_HEIGHT, IMG_WIDTH),\n",
    "                                                              class_mode='binary')"
   ]
  },
  {
   "cell_type": "code",
   "execution_count": 10,
   "metadata": {
    "colab": {
     "base_uri": "https://localhost:8080/",
     "height": 503
    },
    "colab_type": "code",
    "executionInfo": {
     "elapsed": 13701,
     "status": "ok",
     "timestamp": 1591186783263,
     "user": {
      "displayName": "friend toto",
      "photoUrl": "",
      "userId": "17543605389727805552"
     },
     "user_tz": -540
    },
    "id": "IvKfTACZzxDH",
    "outputId": "c15e2258-a672-48ed-c396-617cb6aa9ded"
   },
   "outputs": [
    {
     "name": "stdout",
     "output_type": "stream",
     "text": [
      "Model: \"sequential\"\n",
      "_________________________________________________________________\n",
      "Layer (type)                 Output Shape              Param #   \n",
      "=================================================================\n",
      "conv2d (Conv2D)              (None, 150, 150, 16)      448       \n",
      "_________________________________________________________________\n",
      "max_pooling2d (MaxPooling2D) (None, 75, 75, 16)        0         \n",
      "_________________________________________________________________\n",
      "conv2d_1 (Conv2D)            (None, 75, 75, 32)        4640      \n",
      "_________________________________________________________________\n",
      "max_pooling2d_1 (MaxPooling2 (None, 37, 37, 32)        0         \n",
      "_________________________________________________________________\n",
      "conv2d_2 (Conv2D)            (None, 37, 37, 64)        18496     \n",
      "_________________________________________________________________\n",
      "max_pooling2d_2 (MaxPooling2 (None, 18, 18, 64)        0         \n",
      "_________________________________________________________________\n",
      "flatten (Flatten)            (None, 20736)             0         \n",
      "_________________________________________________________________\n",
      "dense (Dense)                (None, 512)               10617344  \n",
      "_________________________________________________________________\n",
      "dense_1 (Dense)              (None, 1)                 513       \n",
      "=================================================================\n",
      "Total params: 10,641,441\n",
      "Trainable params: 10,641,441\n",
      "Non-trainable params: 0\n",
      "_________________________________________________________________\n"
     ]
    }
   ],
   "source": [
    "model = Sequential([\n",
    "    Conv2D(16, 3, padding='same', activation='relu', input_shape=(IMG_HEIGHT, IMG_WIDTH ,3)),\n",
    "    MaxPooling2D(),\n",
    "    Conv2D(32, 3, padding='same', activation='relu'),\n",
    "    MaxPooling2D(),\n",
    "    Conv2D(64, 3, padding='same', activation='relu'),\n",
    "    MaxPooling2D(),\n",
    "    Flatten(),\n",
    "    Dense(512, activation='relu'),\n",
    "    Dense(1, activation='sigmoid')\n",
    "])\n",
    "\n",
    "model.compile(optimizer='adam',\n",
    "              loss='binary_crossentropy',\n",
    "              metrics=['accuracy'])\n",
    "\n",
    "model.summary()"
   ]
  },
  {
   "cell_type": "code",
   "execution_count": 11,
   "metadata": {
    "colab": {
     "base_uri": "https://localhost:8080/",
     "height": 691
    },
    "colab_type": "code",
    "executionInfo": {
     "elapsed": 184932,
     "status": "ok",
     "timestamp": 1591186954526,
     "user": {
      "displayName": "friend toto",
      "photoUrl": "",
      "userId": "17543605389727805552"
     },
     "user_tz": -540
    },
    "id": "I8J1QbzHzzd4",
    "outputId": "d9be2b43-cf22-4719-e55f-99be68003a31"
   },
   "outputs": [
    {
     "name": "stdout",
     "output_type": "stream",
     "text": [
      "WARNING:tensorflow:From <timed exec>:6: Model.fit_generator (from tensorflow.python.keras.engine.training) is deprecated and will be removed in a future version.\n",
      "Instructions for updating:\n",
      "Please use Model.fit, which supports generators.\n",
      "Epoch 1/15\n",
      "3/3 [==============================] - 8s 3s/step - loss: 1.1027 - accuracy: 0.4973 - val_loss: 0.8570 - val_accuracy: 0.5117\n",
      "Epoch 2/15\n",
      "3/3 [==============================] - 9s 3s/step - loss: 0.7648 - accuracy: 0.5059 - val_loss: 0.6912 - val_accuracy: 0.4980\n",
      "Epoch 3/15\n",
      "3/3 [==============================] - 9s 3s/step - loss: 0.6943 - accuracy: 0.4980 - val_loss: 0.6969 - val_accuracy: 0.5117\n",
      "Epoch 4/15\n",
      "3/3 [==============================] - 9s 3s/step - loss: 0.6952 - accuracy: 0.5026 - val_loss: 0.6943 - val_accuracy: 0.4961\n",
      "Epoch 5/15\n",
      "3/3 [==============================] - 9s 3s/step - loss: 0.6931 - accuracy: 0.4966 - val_loss: 0.6919 - val_accuracy: 0.5547\n",
      "Epoch 6/15\n",
      "3/3 [==============================] - 9s 3s/step - loss: 0.6889 - accuracy: 0.5540 - val_loss: 0.6882 - val_accuracy: 0.5059\n",
      "Epoch 7/15\n",
      "3/3 [==============================] - 9s 3s/step - loss: 0.6862 - accuracy: 0.5121 - val_loss: 0.6807 - val_accuracy: 0.5918\n",
      "Epoch 8/15\n",
      "3/3 [==============================] - 9s 3s/step - loss: 0.6770 - accuracy: 0.5954 - val_loss: 0.6671 - val_accuracy: 0.5469\n",
      "Epoch 9/15\n",
      "3/3 [==============================] - 9s 3s/step - loss: 0.6678 - accuracy: 0.5484 - val_loss: 0.6617 - val_accuracy: 0.6426\n",
      "Epoch 10/15\n",
      "3/3 [==============================] - 9s 3s/step - loss: 0.6526 - accuracy: 0.6492 - val_loss: 0.6441 - val_accuracy: 0.6406\n",
      "Epoch 11/15\n",
      "3/3 [==============================] - 9s 3s/step - loss: 0.6288 - accuracy: 0.6653 - val_loss: 0.6381 - val_accuracy: 0.6270\n",
      "Epoch 12/15\n",
      "3/3 [==============================] - 9s 3s/step - loss: 0.6162 - accuracy: 0.6694 - val_loss: 0.6228 - val_accuracy: 0.6523\n",
      "Epoch 13/15\n",
      "3/3 [==============================] - 9s 3s/step - loss: 0.5867 - accuracy: 0.6976 - val_loss: 0.6216 - val_accuracy: 0.6504\n",
      "Epoch 14/15\n",
      "3/3 [==============================] - 9s 3s/step - loss: 0.5735 - accuracy: 0.6986 - val_loss: 0.5854 - val_accuracy: 0.6934\n",
      "Epoch 15/15\n",
      "3/3 [==============================] - 9s 3s/step - loss: 0.5564 - accuracy: 0.7142 - val_loss: 0.5825 - val_accuracy: 0.7090\n",
      "CPU times: user 3min 7s, sys: 22.7 s, total: 3min 30s\n",
      "Wall time: 2min 51s\n"
     ]
    }
   ],
   "source": [
    "### 모델 학습\n",
    "%%time\n",
    "history = model.fit_generator(\n",
    "    train_data_gen,\n",
    "    steps_per_epoch=total_train // batch_size,\n",
    "    epochs=epochs,\n",
    "    validation_data=val_data_gen,\n",
    "    validation_steps=total_val // batch_size\n",
    ")"
   ]
  },
  {
   "cell_type": "code",
   "execution_count": 12,
   "metadata": {
    "colab": {
     "base_uri": "https://localhost:8080/",
     "height": 499
    },
    "colab_type": "code",
    "executionInfo": {
     "elapsed": 184908,
     "status": "ok",
     "timestamp": 1591186954533,
     "user": {
      "displayName": "friend toto",
      "photoUrl": "",
      "userId": "17543605389727805552"
     },
     "user_tz": -540
    },
    "id": "upj51o-Wz99g",
    "outputId": "6031bf2d-320f-4079-8ae7-c8aee1c2d3ad"
   },
   "outputs": [
    {
     "data": {
      "image/png": "[encoded data removed]",
      "text/plain": [
       "<Figure size 576x576 with 2 Axes>"
      ]
     },
     "metadata": {
      "needs_background": "light",
      "tags": []
     },
     "output_type": "display_data"
    }
   ],
   "source": [
    "### 결과 시각화 \n",
    "acc = history.history['accuracy']\n",
    "val_acc = history.history['val_accuracy']\n",
    "\n",
    "loss = history.history['loss']\n",
    "val_loss = history.history['val_loss']\n",
    "\n",
    "epochs_range = range(epochs)\n",
    "\n",
    "plt.figure(figsize=(8, 8))\n",
    "plt.subplot(1, 2, 1)\n",
    "plt.plot(epochs_range, acc, label='Training Accuracy')\n",
    "plt.plot(epochs_range, val_acc, label='Validation Accuracy')\n",
    "plt.legend(loc='lower right')\n",
    "plt.title('Training and Validation Accuracy')\n",
    "\n",
    "plt.subplot(1, 2, 2)\n",
    "plt.plot(epochs_range, loss, label='Training Loss')\n",
    "plt.plot(epochs_range, val_loss, label='Validation Loss')\n",
    "plt.legend(loc='upper right')\n",
    "plt.title('Training and Validation Loss')\n",
    "plt.show()"
   ]
  }
 ],
 "metadata": {
  "accelerator": "GPU",
  "colab": {
   "name": "10_DL03_08_CNN03_tf2.ipynb",
   "provenance": []
  },
  "kernelspec": {
   "display_name": "Python 3",
   "language": "python",
   "name": "python3"
  },
  "language_info": {
   "codemirror_mode": {
    "name": "ipython",
    "version": 3
   },
   "file_extension": ".py",
   "mimetype": "text/x-python",
   "name": "python",
   "nbconvert_exporter": "python",
   "pygments_lexer": "ipython3",
   "version": "3.7.1"
  }
 },
 "nbformat": 4,
 "nbformat_minor": 1
}
