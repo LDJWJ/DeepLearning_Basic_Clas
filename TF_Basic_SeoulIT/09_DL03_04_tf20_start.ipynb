{
 "cells": [
  {
   "cell_type": "markdown",
   "metadata": {
    "colab_type": "text",
    "id": "75yRvTHWRr39"
   },
   "source": [
    "### TF2.0 신경망 만들기\n",
    "* 손글씨 데이터 셋(MNIST)을 이용한 신경망 만들기"
   ]
  },
  {
   "cell_type": "markdown",
   "metadata": {
    "colab_type": "text",
    "id": "Vk7751HuR2Uc"
   },
   "source": [
    "### 사전 작업\n",
    "* tf2.0 설치 후, 재시작(설치 적용을 위해)\n",
    "* 런타임 - 런타임 유형 변경 - GPU 설정\n",
    "* google colab의 경우 기본 2.x버전 선택됨."
   ]
  },
  {
   "cell_type": "code",
   "execution_count": 0,
   "metadata": {
    "colab": {},
    "colab_type": "code",
    "id": "8zvit86SRAkk"
   },
   "outputs": [],
   "source": [
    "import tensorflow as tf"
   ]
  },
  {
   "cell_type": "code",
   "execution_count": 2,
   "metadata": {
    "colab": {
     "base_uri": "https://localhost:8080/",
     "height": 36
    },
    "colab_type": "code",
    "executionInfo": {
     "elapsed": 2709,
     "status": "ok",
     "timestamp": 1591182561353,
     "user": {
      "displayName": "friend toto",
      "photoUrl": "",
      "userId": "17543605389727805552"
     },
     "user_tz": -540
    },
    "id": "VdDIjrb8RnxA",
    "outputId": "a014cabd-c238-4a31-c1c0-291bb30b97bc"
   },
   "outputs": [
    {
     "name": "stdout",
     "output_type": "stream",
     "text": [
      "2.2.0\n"
     ]
    }
   ],
   "source": [
    "print(tf.__version__)"
   ]
  },
  {
   "cell_type": "markdown",
   "metadata": {
    "colab_type": "text",
    "id": "fohc7uDnRqIc"
   },
   "source": [
    "### 만약 설치시 아래와 같은 명령으로 설치 가능\n",
    "```\n",
    "!pip install -q tensorflow-gpu==2.0.0-rc1\n",
    "import tensorflow as tf\n",
    "```"
   ]
  },
  {
   "cell_type": "markdown",
   "metadata": {
    "colab_type": "text",
    "id": "SoBHbsJxYxsJ"
   },
   "source": [
    "### MNIST 데이터 셋을 이용한 신경망 구성"
   ]
  },
  {
   "cell_type": "code",
   "execution_count": 0,
   "metadata": {
    "colab": {},
    "colab_type": "code",
    "id": "n5cH9fFCSGZr"
   },
   "outputs": [],
   "source": [
    "# 데이터 가져오기\n",
    "mnist = tf.keras.datasets.mnist\n",
    "(x_train, y_train), (x_test, y_test) = mnist.load_data()\n",
    "\n",
    "# 데이터 정규화\n",
    "x_train, x_test = x_train / 255.0, x_test / 255.0"
   ]
  },
  {
   "cell_type": "code",
   "execution_count": 4,
   "metadata": {
    "colab": {
     "base_uri": "https://localhost:8080/",
     "height": 55
    },
    "colab_type": "code",
    "executionInfo": {
     "elapsed": 972,
     "status": "ok",
     "timestamp": 1591182561361,
     "user": {
      "displayName": "friend toto",
      "photoUrl": "",
      "userId": "17543605389727805552"
     },
     "user_tz": -540
    },
    "id": "hTGngeNXYs5w",
    "outputId": "eecfa43f-8dc1-4fa4-cb64-7f7b2f181021"
   },
   "outputs": [
    {
     "name": "stdout",
     "output_type": "stream",
     "text": [
      "학습용 데이터 : x: (60000, 28, 28), y:(60000,)\n",
      "테스트 데이터 : x: (10000, 28, 28), y:(10000,)\n"
     ]
    }
   ],
   "source": [
    "print(\"학습용 데이터 : x: {}, y:{}\".format(x_train.shape, y_train.shape) )\n",
    "print(\"테스트 데이터 : x: {}, y:{}\".format(x_test.shape, y_test.shape) )"
   ]
  },
  {
   "cell_type": "markdown",
   "metadata": {
    "colab_type": "text",
    "id": "XNTRQwubYs9e"
   },
   "source": [
    "### 신경망 구성\n",
    "* tf.keras.Sequential를 이용한 모델 구성"
   ]
  },
  {
   "cell_type": "code",
   "execution_count": 0,
   "metadata": {
    "colab": {},
    "colab_type": "code",
    "id": "qFZws9ifYtBv"
   },
   "outputs": [],
   "source": [
    "model = tf.keras.models.Sequential([\n",
    "  tf.keras.layers.Flatten(input_shape=(28, 28)),    # 2D -> 1D\n",
    "  tf.keras.layers.Dense(128, activation='relu'),    # 활성화 함수 - relu\n",
    "  tf.keras.layers.Dropout(0.2),                     # Dropout적용\n",
    "  tf.keras.layers.Dense(10, activation='softmax')   # 활성화 함수 - softmax\n",
    "])"
   ]
  },
  {
   "cell_type": "markdown",
   "metadata": {
    "colab_type": "text",
    "id": "ezu4Dmf0a6WO"
   },
   "source": [
    "### 구성\n",
    "* sparse_categorical_crossentropy : 다중 분류 손실함수 (정수값 기준)\n",
    "* categorical_crossentropy : 다중 분류 손실함수 (one-hot-encoding 기준 (예측과 실제 결과값))"
   ]
  },
  {
   "cell_type": "code",
   "execution_count": 8,
   "metadata": {
    "colab": {
     "base_uri": "https://localhost:8080/",
     "height": 36
    },
    "colab_type": "code",
    "executionInfo": {
     "elapsed": 973,
     "status": "ok",
     "timestamp": 1591182582128,
     "user": {
      "displayName": "friend toto",
      "photoUrl": "",
      "userId": "17543605389727805552"
     },
     "user_tz": -540
    },
    "id": "Nwrj4aQ2YtFP",
    "outputId": "835af8c8-f760-499a-b206-60ff261f782f"
   },
   "outputs": [
    {
     "data": {
      "text/plain": [
       "<tensorflow.python.keras.engine.sequential.Sequential at 0x7fe0269f8e10>"
      ]
     },
     "execution_count": 8,
     "metadata": {
      "tags": []
     },
     "output_type": "execute_result"
    }
   ],
   "source": [
    "model.compile(optimizer='adam',\n",
    "              loss='sparse_categorical_crossentropy',\n",
    "              metrics=['accuracy'])\n",
    "model"
   ]
  },
  {
   "cell_type": "markdown",
   "metadata": {
    "colab_type": "text",
    "id": "WG2IuwhVSGdr"
   },
   "source": [
    "### 모델 훈련 및 평가"
   ]
  },
  {
   "cell_type": "code",
   "execution_count": 9,
   "metadata": {
    "colab": {
     "base_uri": "https://localhost:8080/",
     "height": 241
    },
    "colab_type": "code",
    "executionInfo": {
     "elapsed": 25400,
     "status": "ok",
     "timestamp": 1591182627692,
     "user": {
      "displayName": "friend toto",
      "photoUrl": "",
      "userId": "17543605389727805552"
     },
     "user_tz": -540
    },
    "id": "Z-gNEJjASGh7",
    "outputId": "19ed35f9-2cb6-4b1e-e5f6-bf3080998085"
   },
   "outputs": [
    {
     "name": "stdout",
     "output_type": "stream",
     "text": [
      "Epoch 1/5\n",
      "1875/1875 [==============================] - 4s 2ms/step - loss: 0.0977 - accuracy: 0.9692\n",
      "Epoch 2/5\n",
      "1875/1875 [==============================] - 4s 2ms/step - loss: 0.0816 - accuracy: 0.9744\n",
      "Epoch 3/5\n",
      "1875/1875 [==============================] - 4s 2ms/step - loss: 0.0720 - accuracy: 0.9771\n",
      "Epoch 4/5\n",
      "1875/1875 [==============================] - 5s 2ms/step - loss: 0.0633 - accuracy: 0.9797\n",
      "Epoch 5/5\n",
      "1875/1875 [==============================] - 5s 3ms/step - loss: 0.0558 - accuracy: 0.9820\n",
      "313/313 - 1s - loss: 0.0738 - accuracy: 0.9786\n"
     ]
    },
    {
     "data": {
      "text/plain": [
       "[0.07383427023887634, 0.978600025177002]"
      ]
     },
     "execution_count": 9,
     "metadata": {
      "tags": []
     },
     "output_type": "execute_result"
    }
   ],
   "source": [
    "model.fit(x_train, y_train, epochs=5)\n",
    "model.evaluate(x_test,  y_test, verbose=2)"
   ]
  },
  {
   "cell_type": "markdown",
   "metadata": {
    "colab_type": "text",
    "id": "56X_jyYWSGs8"
   },
   "source": [
    "### REF\n",
    "* TF2.0 Tutorial : https://www.tensorflow.org/tutorials/quickstart/beginner\n",
    "* tf.keras.Sequential : https://www.tensorflow.org/api_docs/python/tf/keras/Sequential"
   ]
  }
 ],
 "metadata": {
  "accelerator": "GPU",
  "colab": {
   "collapsed_sections": [],
   "name": "09_DL03_04_tf20_start.ipynb",
   "provenance": []
  },
  "kernelspec": {
   "display_name": "Python 3",
   "language": "python",
   "name": "python3"
  },
  "language_info": {
   "codemirror_mode": {
    "name": "ipython",
    "version": 3
   },
   "file_extension": ".py",
   "mimetype": "text/x-python",
   "name": "python",
   "nbconvert_exporter": "python",
   "pygments_lexer": "ipython3",
   "version": "3.7.1"
  }
 },
 "nbformat": 4,
 "nbformat_minor": 1
}
