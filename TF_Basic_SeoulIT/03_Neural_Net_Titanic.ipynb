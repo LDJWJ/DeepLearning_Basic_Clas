{
 "cells": [
  {
   "cell_type": "markdown",
   "metadata": {},
   "source": [
    "### 딥러닝 모델 구현해 보기"
   ]
  },
  {
   "cell_type": "markdown",
   "metadata": {},
   "source": [
    "### 학습 내용\n",
    " * 타이타닉 데이터 셋을 활용한 딥러닝 모델 구현해 보기"
   ]
  },
  {
   "cell_type": "markdown",
   "metadata": {},
   "source": [
    " * 첫번째 데이터 셋 : 자전거 공유 업체 시간대별 데이터\n",
    " * **두번째 데이터 셋 : 타이타닉 데이터 셋**"
   ]
  },
  {
   "cell_type": "code",
   "execution_count": 5,
   "metadata": {},
   "outputs": [],
   "source": [
    "import numpy as np\n",
    "import matplotlib.pyplot as plt\n",
    "import matplotlib\n",
    "import pandas as pd\n",
    "import tensorflow as tf"
   ]
  },
  {
   "cell_type": "code",
   "execution_count": 6,
   "metadata": {},
   "outputs": [],
   "source": [
    "import keras\n",
    "from keras.models import Sequential\n",
    "from keras.layers import Dense"
   ]
  },
  {
   "cell_type": "code",
   "execution_count": 7,
   "metadata": {},
   "outputs": [
    {
     "name": "stdout",
     "output_type": "stream",
     "text": [
      "2.4.3\n"
     ]
    }
   ],
   "source": [
    "print(keras.__version__)"
   ]
  },
  {
   "cell_type": "code",
   "execution_count": 8,
   "metadata": {},
   "outputs": [
    {
     "name": "stdout",
     "output_type": "stream",
     "text": [
      "(891, 12) (418, 11)\n"
     ]
    }
   ],
   "source": [
    "train = pd.read_csv(\"./titanic/train.csv\")\n",
    "test = pd.read_csv(\"./titanic/test.csv\")\n",
    "print(train.shape, test.shape)"
   ]
  },
  {
   "cell_type": "code",
   "execution_count": 9,
   "metadata": {},
   "outputs": [
    {
     "name": "stdout",
     "output_type": "stream",
     "text": [
      "<class 'pandas.core.frame.DataFrame'>\n",
      "RangeIndex: 891 entries, 0 to 890\n",
      "Data columns (total 12 columns):\n",
      " #   Column       Non-Null Count  Dtype  \n",
      "---  ------       --------------  -----  \n",
      " 0   PassengerId  891 non-null    int64  \n",
      " 1   Survived     891 non-null    int64  \n",
      " 2   Pclass       891 non-null    int64  \n",
      " 3   Name         891 non-null    object \n",
      " 4   Sex          891 non-null    object \n",
      " 5   Age          714 non-null    float64\n",
      " 6   SibSp        891 non-null    int64  \n",
      " 7   Parch        891 non-null    int64  \n",
      " 8   Ticket       891 non-null    object \n",
      " 9   Fare         891 non-null    float64\n",
      " 10  Cabin        204 non-null    object \n",
      " 11  Embarked     889 non-null    object \n",
      "dtypes: float64(2), int64(5), object(5)\n",
      "memory usage: 83.7+ KB\n"
     ]
    }
   ],
   "source": [
    "train.info()"
   ]
  },
  {
   "cell_type": "code",
   "execution_count": 10,
   "metadata": {},
   "outputs": [
    {
     "name": "stdout",
     "output_type": "stream",
     "text": [
      "<class 'pandas.core.frame.DataFrame'>\n",
      "RangeIndex: 418 entries, 0 to 417\n",
      "Data columns (total 11 columns):\n",
      " #   Column       Non-Null Count  Dtype  \n",
      "---  ------       --------------  -----  \n",
      " 0   PassengerId  418 non-null    int64  \n",
      " 1   Pclass       418 non-null    int64  \n",
      " 2   Name         418 non-null    object \n",
      " 3   Sex          418 non-null    object \n",
      " 4   Age          332 non-null    float64\n",
      " 5   SibSp        418 non-null    int64  \n",
      " 6   Parch        418 non-null    int64  \n",
      " 7   Ticket       418 non-null    object \n",
      " 8   Fare         417 non-null    float64\n",
      " 9   Cabin        91 non-null     object \n",
      " 10  Embarked     418 non-null    object \n",
      "dtypes: float64(2), int64(4), object(5)\n",
      "memory usage: 36.0+ KB\n"
     ]
    }
   ],
   "source": [
    "test.info()"
   ]
  },
  {
   "cell_type": "code",
   "execution_count": 11,
   "metadata": {},
   "outputs": [],
   "source": [
    "input_col = ['Pclass', 'SibSp', 'Parch']\n",
    "labeled_col = ['Survived']"
   ]
  },
  {
   "cell_type": "code",
   "execution_count": 12,
   "metadata": {},
   "outputs": [],
   "source": [
    "X = train[ input_col ]\n",
    "y = train[ labeled_col ]\n",
    "X_val = test[ input_col ]"
   ]
  },
  {
   "cell_type": "code",
   "execution_count": 14,
   "metadata": {},
   "outputs": [],
   "source": [
    "seed = 0\n",
    "np.random.seed(seed)"
   ]
  },
  {
   "cell_type": "code",
   "execution_count": 15,
   "metadata": {},
   "outputs": [],
   "source": [
    "from sklearn.model_selection import train_test_split\n",
    "\n",
    "X_train, X_test, y_train, y_test = train_test_split(X, y, \n",
    "                                                random_state=0)"
   ]
  },
  {
   "cell_type": "code",
   "execution_count": 16,
   "metadata": {},
   "outputs": [
    {
     "name": "stdout",
     "output_type": "stream",
     "text": [
      "(668, 3) (223, 3)\n",
      "\n",
      "(668, 1) (223, 1)\n"
     ]
    }
   ],
   "source": [
    "print(X_train.shape, X_test.shape)\n",
    "print()\n",
    "print(y_train.shape, y_test.shape)"
   ]
  },
  {
   "cell_type": "markdown",
   "metadata": {},
   "source": [
    "## 딥러닝 구조 "
   ]
  },
  {
   "cell_type": "code",
   "execution_count": 17,
   "metadata": {},
   "outputs": [],
   "source": [
    "from keras.models import Sequential\n",
    "from keras.layers import Dense"
   ]
  },
  {
   "cell_type": "code",
   "execution_count": 18,
   "metadata": {},
   "outputs": [],
   "source": [
    "model = Sequential()\n",
    "model.add(Dense(30, input_dim=3, activation='relu'))\n",
    "model.add(Dense(15, activation='relu') )\n",
    "model.add(Dense(1, activation='sigmoid'))"
   ]
  },
  {
   "cell_type": "markdown",
   "metadata": {},
   "source": [
    "### 딥러닝 설정 및 학습"
   ]
  },
  {
   "cell_type": "code",
   "execution_count": 19,
   "metadata": {},
   "outputs": [
    {
     "name": "stdout",
     "output_type": "stream",
     "text": [
      "Epoch 1/100\n",
      "67/67 [==============================] - 0s 992us/step - loss: 0.6857 - accuracy: 0.5539\n",
      "Epoch 2/100\n",
      "67/67 [==============================] - 0s 817us/step - loss: 0.6347 - accuracy: 0.6317\n",
      "Epoch 3/100\n",
      "67/67 [==============================] - 0s 803us/step - loss: 0.6272 - accuracy: 0.6228\n",
      "Epoch 4/100\n",
      "67/67 [==============================] - 0s 744us/step - loss: 0.6231 - accuracy: 0.6377\n",
      "Epoch 5/100\n",
      "67/67 [==============================] - 0s 699us/step - loss: 0.6196 - accuracy: 0.6422\n",
      "Epoch 6/100\n",
      "67/67 [==============================] - 0s 699us/step - loss: 0.6158 - accuracy: 0.6422\n",
      "Epoch 7/100\n",
      "67/67 [==============================] - 0s 669us/step - loss: 0.6148 - accuracy: 0.6452\n",
      "Epoch 8/100\n",
      "67/67 [==============================] - 0s 702us/step - loss: 0.6106 - accuracy: 0.6527\n",
      "Epoch 9/100\n",
      "67/67 [==============================] - 0s 655us/step - loss: 0.6095 - accuracy: 0.6811\n",
      "Epoch 10/100\n",
      "67/67 [==============================] - 0s 699us/step - loss: 0.6087 - accuracy: 0.6946\n",
      "Epoch 11/100\n",
      "67/67 [==============================] - 0s 714us/step - loss: 0.6093 - accuracy: 0.6766\n",
      "Epoch 12/100\n",
      "67/67 [==============================] - 0s 714us/step - loss: 0.6047 - accuracy: 0.6722\n",
      "Epoch 13/100\n",
      "67/67 [==============================] - 0s 714us/step - loss: 0.6027 - accuracy: 0.6886\n",
      "Epoch 14/100\n",
      "67/67 [==============================] - 0s 655us/step - loss: 0.6015 - accuracy: 0.6856\n",
      "Epoch 15/100\n",
      "67/67 [==============================] - 0s 684us/step - loss: 0.5998 - accuracy: 0.6886\n",
      "Epoch 16/100\n",
      "67/67 [==============================] - 0s 684us/step - loss: 0.5981 - accuracy: 0.6931\n",
      "Epoch 17/100\n",
      "67/67 [==============================] - 0s 729us/step - loss: 0.5977 - accuracy: 0.6931\n",
      "Epoch 18/100\n",
      "67/67 [==============================] - 0s 714us/step - loss: 0.5974 - accuracy: 0.6871\n",
      "Epoch 19/100\n",
      "67/67 [==============================] - 0s 699us/step - loss: 0.5988 - accuracy: 0.6886\n",
      "Epoch 20/100\n",
      "67/67 [==============================] - 0s 669us/step - loss: 0.5966 - accuracy: 0.6946\n",
      "Epoch 21/100\n",
      "67/67 [==============================] - 0s 729us/step - loss: 0.5944 - accuracy: 0.6901\n",
      "Epoch 22/100\n",
      "67/67 [==============================] - 0s 729us/step - loss: 0.5935 - accuracy: 0.6976\n",
      "Epoch 23/100\n",
      "67/67 [==============================] - 0s 684us/step - loss: 0.5933 - accuracy: 0.6931\n",
      "Epoch 24/100\n",
      "67/67 [==============================] - 0s 669us/step - loss: 0.5931 - accuracy: 0.7006\n",
      "Epoch 25/100\n",
      "67/67 [==============================] - 0s 655us/step - loss: 0.5917 - accuracy: 0.6901\n",
      "Epoch 26/100\n",
      "67/67 [==============================] - 0s 699us/step - loss: 0.5909 - accuracy: 0.6961\n",
      "Epoch 27/100\n",
      "67/67 [==============================] - 0s 699us/step - loss: 0.5912 - accuracy: 0.6976\n",
      "Epoch 28/100\n",
      "67/67 [==============================] - 0s 714us/step - loss: 0.5900 - accuracy: 0.6976\n",
      "Epoch 29/100\n",
      "67/67 [==============================] - 0s 684us/step - loss: 0.5888 - accuracy: 0.6991\n",
      "Epoch 30/100\n",
      "67/67 [==============================] - 0s 714us/step - loss: 0.5907 - accuracy: 0.6991\n",
      "Epoch 31/100\n",
      "67/67 [==============================] - 0s 699us/step - loss: 0.5889 - accuracy: 0.6991\n",
      "Epoch 32/100\n",
      "67/67 [==============================] - 0s 774us/step - loss: 0.5893 - accuracy: 0.6976\n",
      "Epoch 33/100\n",
      "67/67 [==============================] - 0s 714us/step - loss: 0.5867 - accuracy: 0.7051\n",
      "Epoch 34/100\n",
      "67/67 [==============================] - 0s 714us/step - loss: 0.5863 - accuracy: 0.6991\n",
      "Epoch 35/100\n",
      "67/67 [==============================] - 0s 699us/step - loss: 0.5862 - accuracy: 0.6976\n",
      "Epoch 36/100\n",
      "67/67 [==============================] - 0s 744us/step - loss: 0.5867 - accuracy: 0.7006\n",
      "Epoch 37/100\n",
      "67/67 [==============================] - 0s 826us/step - loss: 0.5853 - accuracy: 0.7066\n",
      "Epoch 38/100\n",
      "67/67 [==============================] - 0s 684us/step - loss: 0.5851 - accuracy: 0.6946\n",
      "Epoch 39/100\n",
      "67/67 [==============================] - 0s 650us/step - loss: 0.5862 - accuracy: 0.7081\n",
      "Epoch 40/100\n",
      "67/67 [==============================] - 0s 669us/step - loss: 0.5844 - accuracy: 0.7066\n",
      "Epoch 41/100\n",
      "67/67 [==============================] - 0s 699us/step - loss: 0.5851 - accuracy: 0.6961\n",
      "Epoch 42/100\n",
      "67/67 [==============================] - 0s 664us/step - loss: 0.5832 - accuracy: 0.7081\n",
      "Epoch 43/100\n",
      "67/67 [==============================] - 0s 672us/step - loss: 0.5830 - accuracy: 0.7081\n",
      "Epoch 44/100\n",
      "67/67 [==============================] - 0s 672us/step - loss: 0.5864 - accuracy: 0.7036\n",
      "Epoch 45/100\n",
      "67/67 [==============================] - 0s 656us/step - loss: 0.5826 - accuracy: 0.7036\n",
      "Epoch 46/100\n",
      "67/67 [==============================] - 0s 699us/step - loss: 0.5843 - accuracy: 0.7081\n",
      "Epoch 47/100\n",
      "67/67 [==============================] - 0s 699us/step - loss: 0.5832 - accuracy: 0.7021\n",
      "Epoch 48/100\n",
      "67/67 [==============================] - 0s 744us/step - loss: 0.5823 - accuracy: 0.7006\n",
      "Epoch 49/100\n",
      "67/67 [==============================] - 0s 648us/step - loss: 0.5820 - accuracy: 0.7006\n",
      "Epoch 50/100\n",
      "67/67 [==============================] - 0s 699us/step - loss: 0.5819 - accuracy: 0.7066\n",
      "Epoch 51/100\n",
      "67/67 [==============================] - 0s 684us/step - loss: 0.5831 - accuracy: 0.6991\n",
      "Epoch 52/100\n",
      "67/67 [==============================] - 0s 684us/step - loss: 0.5810 - accuracy: 0.7081\n",
      "Epoch 53/100\n",
      "67/67 [==============================] - 0s 684us/step - loss: 0.5805 - accuracy: 0.7036\n",
      "Epoch 54/100\n",
      "67/67 [==============================] - 0s 684us/step - loss: 0.5808 - accuracy: 0.7111\n",
      "Epoch 55/100\n",
      "67/67 [==============================] - 0s 714us/step - loss: 0.5804 - accuracy: 0.7096\n",
      "Epoch 56/100\n",
      "67/67 [==============================] - 0s 699us/step - loss: 0.5812 - accuracy: 0.7141\n",
      "Epoch 57/100\n",
      "67/67 [==============================] - 0s 714us/step - loss: 0.5801 - accuracy: 0.7126\n",
      "Epoch 58/100\n",
      "67/67 [==============================] - 0s 699us/step - loss: 0.5794 - accuracy: 0.7066\n",
      "Epoch 59/100\n",
      "67/67 [==============================] - 0s 699us/step - loss: 0.5806 - accuracy: 0.6991\n",
      "Epoch 60/100\n",
      "67/67 [==============================] - 0s 821us/step - loss: 0.5795 - accuracy: 0.7036\n",
      "Epoch 61/100\n",
      "67/67 [==============================] - 0s 699us/step - loss: 0.5797 - accuracy: 0.6991\n",
      "Epoch 62/100\n",
      "67/67 [==============================] - 0s 666us/step - loss: 0.5778 - accuracy: 0.7096\n",
      "Epoch 63/100\n",
      "67/67 [==============================] - 0s 701us/step - loss: 0.5797 - accuracy: 0.7126\n",
      "Epoch 64/100\n",
      "67/67 [==============================] - 0s 657us/step - loss: 0.5789 - accuracy: 0.7066\n",
      "Epoch 65/100\n",
      "67/67 [==============================] - 0s 687us/step - loss: 0.5789 - accuracy: 0.7111\n",
      "Epoch 66/100\n",
      "67/67 [==============================] - 0s 672us/step - loss: 0.5781 - accuracy: 0.7096\n",
      "Epoch 67/100\n",
      "67/67 [==============================] - 0s 699us/step - loss: 0.5784 - accuracy: 0.7066\n",
      "Epoch 68/100\n",
      "67/67 [==============================] - 0s 714us/step - loss: 0.5767 - accuracy: 0.7111\n",
      "Epoch 69/100\n",
      "67/67 [==============================] - 0s 699us/step - loss: 0.5803 - accuracy: 0.7081\n",
      "Epoch 70/100\n",
      "67/67 [==============================] - 0s 699us/step - loss: 0.5769 - accuracy: 0.7111\n",
      "Epoch 71/100\n",
      "67/67 [==============================] - 0s 684us/step - loss: 0.5769 - accuracy: 0.7081\n",
      "Epoch 72/100\n",
      "67/67 [==============================] - 0s 684us/step - loss: 0.5804 - accuracy: 0.7096\n",
      "Epoch 73/100\n",
      "67/67 [==============================] - 0s 714us/step - loss: 0.5783 - accuracy: 0.7096\n",
      "Epoch 74/100\n",
      "67/67 [==============================] - 0s 714us/step - loss: 0.5766 - accuracy: 0.7096\n",
      "Epoch 75/100\n",
      "67/67 [==============================] - 0s 684us/step - loss: 0.5779 - accuracy: 0.7096\n",
      "Epoch 76/100\n",
      "67/67 [==============================] - 0s 744us/step - loss: 0.5782 - accuracy: 0.7081\n",
      "Epoch 77/100\n",
      "67/67 [==============================] - 0s 848us/step - loss: 0.5762 - accuracy: 0.7096\n",
      "Epoch 78/100\n",
      "67/67 [==============================] - 0s 906us/step - loss: 0.5760 - accuracy: 0.7111\n",
      "Epoch 79/100\n",
      "67/67 [==============================] - 0s 699us/step - loss: 0.5759 - accuracy: 0.7006\n",
      "Epoch 80/100\n",
      "67/67 [==============================] - 0s 595us/step - loss: 0.5771 - accuracy: 0.7036\n",
      "Epoch 81/100\n"
     ]
    },
    {
     "name": "stdout",
     "output_type": "stream",
     "text": [
      "67/67 [==============================] - 0s 714us/step - loss: 0.5767 - accuracy: 0.7111\n",
      "Epoch 82/100\n",
      "67/67 [==============================] - 0s 803us/step - loss: 0.5757 - accuracy: 0.7111\n",
      "Epoch 83/100\n",
      "67/67 [==============================] - 0s 744us/step - loss: 0.5765 - accuracy: 0.7096\n",
      "Epoch 84/100\n",
      "67/67 [==============================] - 0s 744us/step - loss: 0.5747 - accuracy: 0.7111\n",
      "Epoch 85/100\n",
      "67/67 [==============================] - 0s 699us/step - loss: 0.5760 - accuracy: 0.7066\n",
      "Epoch 86/100\n",
      "67/67 [==============================] - 0s 818us/step - loss: 0.5759 - accuracy: 0.7111\n",
      "Epoch 87/100\n",
      "67/67 [==============================] - 0s 788us/step - loss: 0.5746 - accuracy: 0.7096\n",
      "Epoch 88/100\n",
      "67/67 [==============================] - 0s 893us/step - loss: 0.5757 - accuracy: 0.7081\n",
      "Epoch 89/100\n",
      "67/67 [==============================] - 0s 729us/step - loss: 0.5747 - accuracy: 0.6991\n",
      "Epoch 90/100\n",
      "67/67 [==============================] - 0s 669us/step - loss: 0.5764 - accuracy: 0.7096\n",
      "Epoch 91/100\n",
      "67/67 [==============================] - 0s 714us/step - loss: 0.5748 - accuracy: 0.7096\n",
      "Epoch 92/100\n",
      "67/67 [==============================] - 0s 878us/step - loss: 0.5777 - accuracy: 0.7051\n",
      "Epoch 93/100\n",
      "67/67 [==============================] - 0s 744us/step - loss: 0.5741 - accuracy: 0.7096\n",
      "Epoch 94/100\n",
      "67/67 [==============================] - 0s 699us/step - loss: 0.5748 - accuracy: 0.6976\n",
      "Epoch 95/100\n",
      "67/67 [==============================] - 0s 729us/step - loss: 0.5753 - accuracy: 0.7111\n",
      "Epoch 96/100\n",
      "67/67 [==============================] - 0s 744us/step - loss: 0.5761 - accuracy: 0.7111\n",
      "Epoch 97/100\n",
      "67/67 [==============================] - 0s 751us/step - loss: 0.5756 - accuracy: 0.7006\n",
      "Epoch 98/100\n",
      "67/67 [==============================] - 0s 744us/step - loss: 0.5748 - accuracy: 0.7111\n",
      "Epoch 99/100\n",
      "67/67 [==============================] - 0s 714us/step - loss: 0.5750 - accuracy: 0.7096\n",
      "Epoch 100/100\n",
      "67/67 [==============================] - 0s 759us/step - loss: 0.5756 - accuracy: 0.7096\n"
     ]
    },
    {
     "data": {
      "text/plain": [
       "<tensorflow.python.keras.callbacks.History at 0x26495f73970>"
      ]
     },
     "execution_count": 19,
     "metadata": {},
     "output_type": "execute_result"
    }
   ],
   "source": [
    "model.compile(loss = 'binary_crossentropy', \n",
    "              optimizer='adam', \n",
    "              metrics=['accuracy'])\n",
    "model.fit(X_train, y_train, epochs=100, batch_size=10)"
   ]
  },
  {
   "cell_type": "markdown",
   "metadata": {},
   "source": [
    "### 모델 평가"
   ]
  },
  {
   "cell_type": "code",
   "execution_count": 20,
   "metadata": {},
   "outputs": [
    {
     "name": "stdout",
     "output_type": "stream",
     "text": [
      "7/7 [==============================] - 0s 861us/step - loss: 0.5839 - accuracy: 0.7309\n"
     ]
    },
    {
     "data": {
      "text/plain": [
       "[0.5839477777481079, 0.7309417128562927]"
      ]
     },
     "execution_count": 20,
     "metadata": {},
     "output_type": "execute_result"
    }
   ],
   "source": [
    "model.evaluate(X_test, y_test)"
   ]
  },
  {
   "cell_type": "code",
   "execution_count": 21,
   "metadata": {},
   "outputs": [
    {
     "name": "stdout",
     "output_type": "stream",
     "text": [
      "7/7 [==============================] - 0s 943us/step - loss: 0.5839 - accuracy: 0.7309\n",
      "\n",
      " Accuracy : 0.7309\n"
     ]
    }
   ],
   "source": [
    "print(\"\\n Accuracy : %.4f\" % (model.evaluate(X_test, y_test)[1]))"
   ]
  },
  {
   "cell_type": "code",
   "execution_count": 22,
   "metadata": {},
   "outputs": [],
   "source": [
    "pred = model.predict(X_val)"
   ]
  },
  {
   "cell_type": "code",
   "execution_count": 23,
   "metadata": {},
   "outputs": [
    {
     "data": {
      "text/plain": [
       "Index(['PassengerId', 'Survived'], dtype='object')"
      ]
     },
     "execution_count": 23,
     "metadata": {},
     "output_type": "execute_result"
    }
   ],
   "source": [
    "sub = pd.read_csv(\"./titanic/gender_submission.csv\")\n",
    "sub.columns"
   ]
  },
  {
   "cell_type": "code",
   "execution_count": 24,
   "metadata": {},
   "outputs": [
    {
     "data": {
      "text/plain": [
       "array([False, False, False, False, False, False, False,  True, False,\n",
       "       False, False,  True,  True, False,  True, False, False, False,\n",
       "       False, False,  True,  True,  True,  True,  True, False,  True,\n",
       "       False,  True, False, False, False, False, False,  True, False,\n",
       "       False, False, False, False,  True,  True, False, False,  True,\n",
       "       False,  True, False,  True,  True,  True, False,  True,  True,\n",
       "       False, False, False, False, False,  True, False, False, False,\n",
       "       False,  True, False, False,  True,  True, False, False, False,\n",
       "       False,  True,  True,  True, False,  True, False, False, False,\n",
       "        True,  True, False, False, False, False, False, False,  True,\n",
       "       False, False,  True, False,  True, False,  True, False, False,\n",
       "       False,  True, False, False, False, False, False, False, False,\n",
       "       False, False, False, False,  True, False,  True, False, False,\n",
       "       False,  True, False, False, False,  True, False, False,  True,\n",
       "       False, False, False, False, False,  True, False, False, False,\n",
       "       False, False, False, False, False, False,  True,  True, False,\n",
       "        True, False,  True, False,  True,  True,  True, False, False,\n",
       "        True, False, False,  True, False,  True,  True, False, False,\n",
       "       False, False, False, False,  True, False,  True, False, False,\n",
       "       False, False, False, False,  True, False,  True,  True,  True,\n",
       "       False,  True,  True, False,  True, False,  True, False, False,\n",
       "       False, False,  True, False, False,  True, False,  True, False,\n",
       "       False, False, False,  True,  True,  True, False,  True, False,\n",
       "       False,  True, False, False, False, False, False, False,  True,\n",
       "       False,  True,  True, False, False, False, False, False,  True,\n",
       "        True, False, False, False, False, False,  True, False, False,\n",
       "        True, False,  True, False,  True,  True,  True,  True,  True,\n",
       "       False, False,  True, False,  True, False, False,  True, False,\n",
       "        True, False, False, False, False, False, False, False, False,\n",
       "       False,  True, False, False, False,  True, False, False, False,\n",
       "        True, False,  True, False, False, False, False, False, False,\n",
       "       False, False, False, False, False, False, False, False,  True,\n",
       "       False, False,  True, False, False,  True, False, False,  True,\n",
       "       False,  True, False, False, False,  True, False, False,  True,\n",
       "        True,  True,  True, False, False, False, False, False,  True,\n",
       "       False,  True, False, False, False, False, False, False,  True,\n",
       "        True, False,  True,  True, False, False,  True,  True, False,\n",
       "       False, False,  True, False,  True, False, False, False, False,\n",
       "       False,  True, False, False, False, False, False, False,  True,\n",
       "       False, False,  True, False,  True,  True, False, False, False,\n",
       "       False,  True, False, False,  True, False, False, False,  True,\n",
       "       False, False,  True,  True, False,  True,  True, False, False,\n",
       "        True, False, False, False, False, False, False,  True, False,\n",
       "       False, False, False,  True,  True,  True, False, False,  True,\n",
       "       False,  True, False, False,  True, False,  True,  True,  True,\n",
       "       False, False,  True, False, False, False,  True, False, False,\n",
       "        True, False, False, False])"
      ]
     },
     "execution_count": 24,
     "metadata": {},
     "output_type": "execute_result"
    }
   ],
   "source": [
    "pred[:, 0] > 0.5"
   ]
  },
  {
   "cell_type": "code",
   "execution_count": 25,
   "metadata": {},
   "outputs": [],
   "source": [
    "sub['Survived'] = pred[:, 0] > 0.5"
   ]
  },
  {
   "cell_type": "code",
   "execution_count": 26,
   "metadata": {},
   "outputs": [],
   "source": [
    "sub.to_csv(\"titanic_submit0528.csv\", index=False)"
   ]
  }
 ],
 "metadata": {
  "kernelspec": {
   "display_name": "Python 3",
   "language": "python",
   "name": "python3"
  },
  "language_info": {
   "codemirror_mode": {
    "name": "ipython",
    "version": 3
   },
   "file_extension": ".py",
   "mimetype": "text/x-python",
   "name": "python",
   "nbconvert_exporter": "python",
   "pygments_lexer": "ipython3",
   "version": "3.8.5"
  }
 },
 "nbformat": 4,
 "nbformat_minor": 2
}
