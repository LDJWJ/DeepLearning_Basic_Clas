{
 "cells": [
  {
   "cell_type": "markdown",
   "metadata": {},
   "source": [
    "## 딥러닝 모델 구현하기\n",
    "* tensorflow 활용한 딥러닝 모델 구현\n",
    "* tf version(1.15.0)\n",
    "* 설치(로컬).CPU버전 : pip install tensorflow==1.15.0"
   ]
  },
  {
   "cell_type": "markdown",
   "metadata": {},
   "source": [
    "### 학습내용\n",
    "* 컬럼 한개를 이용한 모델 만들기\n",
    "* 컬럼 두개를 이용한 모델 만들기\n",
    "* 컬럼 두개, 행렬을 이용한 모델 만들기"
   ]
  },
  {
   "cell_type": "code",
   "execution_count": 1,
   "metadata": {},
   "outputs": [],
   "source": [
    "import pandas as pd\n",
    "import tensorflow as tf\n",
    "import numpy as np"
   ]
  },
  {
   "cell_type": "code",
   "execution_count": 2,
   "metadata": {},
   "outputs": [
    {
     "name": "stdout",
     "output_type": "stream",
     "text": [
      "1.15.0\n",
      "1.16.4\n",
      "0.24.2\n"
     ]
    }
   ],
   "source": [
    "# 버전확인\n",
    "print(tf.__version__)\n",
    "print(np.__version__)\n",
    "print(pd.__version__)"
   ]
  },
  {
   "cell_type": "code",
   "execution_count": 3,
   "metadata": {},
   "outputs": [],
   "source": [
    "# 데이터 불러오기\n",
    "train = pd.read_csv(\"./bike/train.csv\", parse_dates=['datetime'])\n",
    "test = pd.read_csv(\"./bike/test.csv\", parse_dates=['datetime'])"
   ]
  },
  {
   "cell_type": "code",
   "execution_count": 4,
   "metadata": {},
   "outputs": [
    {
     "name": "stdout",
     "output_type": "stream",
     "text": [
      "Index(['datetime', 'season', 'holiday', 'workingday', 'weather', 'temp',\n",
      "       'atemp', 'humidity', 'windspeed', 'casual', 'registered', 'count'],\n",
      "      dtype='object')\n",
      "Index(['datetime', 'season', 'holiday', 'workingday', 'weather', 'temp',\n",
      "       'atemp', 'humidity', 'windspeed'],\n",
      "      dtype='object')\n"
     ]
    }
   ],
   "source": [
    "print(train.columns)\n",
    "print(test.columns)"
   ]
  },
  {
   "cell_type": "markdown",
   "metadata": {},
   "source": [
    "### 입력 데이터 선택"
   ]
  },
  {
   "cell_type": "code",
   "execution_count": 5,
   "metadata": {},
   "outputs": [],
   "source": [
    "# input_col = [ 'temp', 'atemp']\n",
    "input_col = ['temp']\n",
    "labeled_col = ['count']"
   ]
  },
  {
   "cell_type": "code",
   "execution_count": 6,
   "metadata": {},
   "outputs": [
    {
     "name": "stdout",
     "output_type": "stream",
     "text": [
      "<class 'pandas.core.frame.DataFrame'>\n"
     ]
    }
   ],
   "source": [
    "x_data = train[input_col]\n",
    "y_data = train[labeled_col]\n",
    "\n",
    "x_test = test[input_col]\n",
    "print(type(x_data))"
   ]
  },
  {
   "cell_type": "markdown",
   "metadata": {},
   "source": [
    "### 신경망 이용을 위해 numpy 배열로 변환"
   ]
  },
  {
   "cell_type": "code",
   "execution_count": 7,
   "metadata": {},
   "outputs": [
    {
     "name": "stdout",
     "output_type": "stream",
     "text": [
      "<class 'numpy.ndarray'>\n"
     ]
    }
   ],
   "source": [
    "x_data = np.array(x_data)\n",
    "x_test = np.array(x_test)\n",
    "y_data = np.array(y_data)\n",
    "print(type(x_data))"
   ]
  },
  {
   "cell_type": "markdown",
   "metadata": {},
   "source": [
    "### tf.Variable를 이용한 임의의 W값과 b값"
   ]
  },
  {
   "cell_type": "code",
   "execution_count": 8,
   "metadata": {},
   "outputs": [],
   "source": [
    "W1 = tf.Variable(tf.random_uniform([1], -1.0, 1.0))\n",
    "b = tf.Variable(tf.random_uniform([1], -1.0, 1.0))"
   ]
  },
  {
   "cell_type": "code",
   "execution_count": 9,
   "metadata": {},
   "outputs": [],
   "source": [
    "X1 = tf.placeholder(tf.float32, name=\"X1\")\n",
    "Y = tf.placeholder(tf.float32, name=\"Y\")"
   ]
  },
  {
   "cell_type": "code",
   "execution_count": 10,
   "metadata": {},
   "outputs": [],
   "source": [
    "# hypothesis = W1 * X1 + W2 * X2 + b\n",
    "hypothesis = W1 * X1 + b"
   ]
  },
  {
   "cell_type": "code",
   "execution_count": 11,
   "metadata": {},
   "outputs": [],
   "source": [
    "### 비용함수, 최적화 함수\n",
    "cost = tf.reduce_mean(tf.square(hypothesis - Y))\n",
    "optimizer = tf.train.GradientDescentOptimizer(learning_rate=0.001)\n",
    "train_op = optimizer.minimize(cost)"
   ]
  },
  {
   "cell_type": "code",
   "execution_count": 12,
   "metadata": {},
   "outputs": [
    {
     "name": "stdout",
     "output_type": "stream",
     "text": [
      "0 73607.99 [8.817715] [0.8653382]\n",
      "10 27708.64 [9.391976] [0.90336806]\n",
      "20 27708.623 [9.391406] [0.9166129]\n",
      "30 27708.602 [9.390837] [0.92982364]\n",
      "40 27708.588 [9.390269] [0.94300026]\n",
      "50 27708.57 [9.389704] [0.95614314]\n",
      "60 27708.553 [9.389139] [0.9692522]\n",
      "70 27708.535 [9.3885765] [0.98232734]\n",
      "80 27708.514 [9.388015] [0.9953689]\n",
      "90 27708.504 [9.387454] [1.0083768]\n",
      "(6493, 1)\n",
      "<class 'numpy.ndarray'>\n",
      "[[101.08497]\n",
      " [101.08497]\n",
      " [101.08497]\n",
      " [101.08497]\n",
      " [101.08497]]\n"
     ]
    },
    {
     "data": {
      "text/plain": [
       "(6493,)"
      ]
     },
     "execution_count": 12,
     "metadata": {},
     "output_type": "execute_result"
    }
   ],
   "source": [
    "with tf.Session() as sess:\n",
    "    sess.run(tf.global_variables_initializer())\n",
    "    for step in range(100):\n",
    "        _, cost_val = sess.run([train_op, cost], feed_dict={X1:x_data, Y:y_data})\n",
    "        \n",
    "        if step%10==0:\n",
    "            print(step, cost_val, sess.run(W1), sess.run(b))\n",
    "            \n",
    "        \n",
    "    pred = sess.run(hypothesis, feed_dict={X1:x_test})\n",
    "    \n",
    "print(pred.shape)\n",
    "print(type(pred))\n",
    "print(pred[0:5])\n",
    "pred = pred.reshape(-1,)\n",
    "pred.shape"
   ]
  },
  {
   "cell_type": "code",
   "execution_count": 13,
   "metadata": {},
   "outputs": [
    {
     "name": "stdout",
     "output_type": "stream",
     "text": [
      "Index(['datetime', 'count'], dtype='object')\n"
     ]
    }
   ],
   "source": [
    "dat = pd.DataFrame({'count':pred})\n",
    "sub = pd.read_csv(\"./bike/sampleSubmission.csv\")\n",
    "print(sub.columns)\n",
    "sub['count'] = dat['count']\n",
    "sub.to_csv(\"tf_pred.csv\", index=False)"
   ]
  },
  {
   "cell_type": "markdown",
   "metadata": {},
   "source": [
    "### 실습1. 변수 2개일 경우로 해보기"
   ]
  },
  {
   "cell_type": "code",
   "execution_count": 14,
   "metadata": {},
   "outputs": [],
   "source": [
    "# input_col = [ 'temp', 'atemp']\n",
    "input_col1 = ['temp']\n",
    "input_col2 = ['temp']\n",
    "labeled_col = ['count']\n",
    "\n",
    "x_data1 = train['temp']\n",
    "x_data2 = train['atemp']\n",
    "y_data = train[labeled_col]\n",
    "\n",
    "x_data1 = np.array(x_data1)\n",
    "x_data2 = np.array(x_data1)\n",
    "y_data = np.array(y_data)"
   ]
  },
  {
   "cell_type": "code",
   "execution_count": 15,
   "metadata": {},
   "outputs": [],
   "source": [
    "W1 = tf.Variable(tf.random_uniform([1], -1.0, 1.0))\n",
    "W2 = tf.Variable(tf.random_uniform([1], -1.0, 1.0))\n",
    "b = tf.Variable(tf.random_uniform([1], -1.0, 1.0))"
   ]
  },
  {
   "cell_type": "code",
   "execution_count": 16,
   "metadata": {},
   "outputs": [],
   "source": [
    "X1 = tf.placeholder(tf.float32, name=\"X1\")\n",
    "X2 = tf.placeholder(tf.float32, name=\"X2\")\n",
    "Y = tf.placeholder(tf.float32, name=\"Y\")"
   ]
  },
  {
   "cell_type": "code",
   "execution_count": 17,
   "metadata": {},
   "outputs": [],
   "source": [
    "hypothesis = W1 * X1 + W2 * X2 + b"
   ]
  },
  {
   "cell_type": "code",
   "execution_count": 18,
   "metadata": {},
   "outputs": [],
   "source": [
    "### 비용함수, 최적화 함수\n",
    "cost = tf.reduce_mean(tf.square(hypothesis - Y))\n",
    "optimizer = tf.train.GradientDescentOptimizer(learning_rate=0.001)\n",
    "train_op = optimizer.minimize(cost)"
   ]
  },
  {
   "cell_type": "code",
   "execution_count": 19,
   "metadata": {},
   "outputs": [
    {
     "name": "stdout",
     "output_type": "stream",
     "text": [
      "0 63460.0 [7.45807] [7.3372097] [-0.06780264]\n",
      "10 39626.76 [5.1063576] [4.9854975] [0.32578617]\n",
      "20 37682.8 [4.4310036] [4.3101435] [0.79026836]\n",
      "30 37503.816 [4.2316656] [4.1108065] [1.2739711]\n",
      "40 37467.23 [4.167514] [4.046654] [1.7622242]\n",
      "50 37442.258 [4.141761] [4.020901] [2.2508652]\n",
      "60 37418.33 [4.126933] [4.0060735] [2.7387145]\n",
      "70 37394.59 [4.1152277] [3.9943683] [3.2254384]\n",
      "80 37370.992 [4.1044307] [3.9835713] [3.7109451]\n",
      "90 37347.504 [4.093907] [3.9730473] [4.1952114]\n",
      "Wall time: 2min 45s\n"
     ]
    }
   ],
   "source": [
    "%%time\n",
    "\n",
    "with tf.Session() as sess:\n",
    "    sess.run(tf.global_variables_initializer())\n",
    "    for step in range(100):\n",
    "        _, cost_val = sess.run([train_op, cost], feed_dict={X1:x_data1,X2:x_data2, Y:y_data})\n",
    "        \n",
    "        if step%10==0:\n",
    "            print(step, cost_val, sess.run(W1), sess.run(W2), sess.run(b))"
   ]
  },
  {
   "cell_type": "markdown",
   "metadata": {},
   "source": [
    "### 행렬로 연산해 보기"
   ]
  },
  {
   "cell_type": "code",
   "execution_count": 20,
   "metadata": {},
   "outputs": [
    {
     "name": "stdout",
     "output_type": "stream",
     "text": [
      "(10886, 2) (10886, 1)\n"
     ]
    }
   ],
   "source": [
    "input_col = [ 'temp', 'atemp']\n",
    "labeled_col = ['count']\n",
    "\n",
    "x_data = train[input_col]\n",
    "y_data = train[labeled_col]\n",
    "\n",
    "x_test = test[input_col]\n",
    "\n",
    "x_data = np.array(x_data)\n",
    "y_data = np.array(y_data)\n",
    "print(x_data.shape, y_data.shape)"
   ]
  },
  {
   "cell_type": "code",
   "execution_count": 21,
   "metadata": {},
   "outputs": [],
   "source": [
    "X1 = tf.placeholder(tf.float32, [None, 2], name=\"X1\")\n",
    "Y = tf.placeholder(tf.float32, [None, 1], name=\"Y\")\n",
    "\n",
    "W1 = tf.Variable(tf.random_uniform([2, 1], -1.0, 1.0))\n",
    "b = tf.Variable(tf.random_uniform([1], -1.0, 1.0))"
   ]
  },
  {
   "cell_type": "code",
   "execution_count": 22,
   "metadata": {},
   "outputs": [
    {
     "data": {
      "text/plain": [
       "<tf.Tensor 'add_3:0' shape=(?, 1) dtype=float32>"
      ]
     },
     "execution_count": 22,
     "metadata": {},
     "output_type": "execute_result"
    }
   ],
   "source": [
    "# X = tf.placeholder(tf.float32, [None, 2])   # [? * 2] X [2 * 1] => ? X 1 \n",
    "# W = tf.Variable(tf.random_normal([2,1]))\n",
    "\n",
    "hypothesis = tf.matmul(X1, W1) + b\n",
    "hypothesis"
   ]
  },
  {
   "cell_type": "code",
   "execution_count": 23,
   "metadata": {},
   "outputs": [],
   "source": [
    "### 비용함수, 최적화 함수\n",
    "cost = tf.reduce_mean(tf.square(hypothesis - Y))\n",
    "optimizer = tf.train.GradientDescentOptimizer(learning_rate=0.0001)\n",
    "train_op = optimizer.minimize(cost)"
   ]
  },
  {
   "cell_type": "code",
   "execution_count": 24,
   "metadata": {},
   "outputs": [
    {
     "name": "stdout",
     "output_type": "stream",
     "text": [
      "0 57148.414 [1.3524553] [1.6722946]\n",
      "10 27938.799 [3.7737215] [4.461745]\n",
      "20 27736.857 [3.9830272] [4.686672]\n",
      "30 27735.326 [4.008456] [4.698452]\n",
      "40 27735.182 [4.018583] [4.6925306]\n",
      "50 27735.049 [4.027419] [4.6851544]\n",
      "60 27734.916 [4.03613] [4.677672]\n",
      "70 27734.793 [4.0448127] [4.670196]\n",
      "80 27734.652 [4.0534744] [4.6627364]\n",
      "90 27734.53 [4.0621166] [4.6552944]\n",
      "Wall time: 803 ms\n"
     ]
    }
   ],
   "source": [
    "%%time\n",
    "\n",
    "sess = tf.Session()\n",
    "sess.run(tf.global_variables_initializer())\n",
    "\n",
    "for step in range(100):\n",
    "    _, cost_val = sess.run([train_op, cost], feed_dict={X1:x_data, Y:y_data})\n",
    "    \n",
    "    if step%10==0:\n",
    "        print(step, cost_val, sess.run(W1[0]), sess.run(W1[1]))\n",
    "\n",
    "        \n",
    "pred = sess.run(hypothesis, feed_dict={X1:x_test})\n",
    "pred = pred.reshape(-1,)\n",
    "\n",
    "sess.close()"
   ]
  },
  {
   "cell_type": "code",
   "execution_count": null,
   "metadata": {},
   "outputs": [],
   "source": [
    "dat = pd.DataFrame(pred, columns=['count'])\n",
    "print(dat.columns)\n",
    "\n",
    "sub = pd.read_csv(\"./bike/sampleSubmission.csv\")\n",
    "print(sub.columns)\n",
    "sub['count'] = dat['count']\n",
    "sub.to_csv(\"tf_pred2.csv\", index=False)"
   ]
  },
  {
   "cell_type": "code",
   "execution_count": null,
   "metadata": {},
   "outputs": [],
   "source": []
  }
 ],
 "metadata": {
  "kernelspec": {
   "display_name": "Python 3",
   "language": "python",
   "name": "python3"
  },
  "language_info": {
   "codemirror_mode": {
    "name": "ipython",
    "version": 3
   },
   "file_extension": ".py",
   "mimetype": "text/x-python",
   "name": "python",
   "nbconvert_exporter": "python",
   "pygments_lexer": "ipython3",
   "version": "3.7.3"
  }
 },
 "nbformat": 4,
 "nbformat_minor": 2
}
