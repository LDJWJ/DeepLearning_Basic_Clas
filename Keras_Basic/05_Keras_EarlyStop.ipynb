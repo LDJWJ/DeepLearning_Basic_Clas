{
 "cells": [
  {
   "cell_type": "markdown",
   "metadata": {},
   "source": [
    "## 학습 조기 종료 시키기"
   ]
  },
  {
   "cell_type": "markdown",
   "metadata": {},
   "source": [
    "### 학습의 조기 종료 함수 - EarlyStopping()"
   ]
  },
  {
   "cell_type": "markdown",
   "metadata": {},
   "source": [
    "#### 더 이상의 개선의 여지가 없을 때, 학습을 종료시키는 콜백함수\n",
    "#### fit() 함수에서는 EarlyStopping() 콜백함수가 학습 과정 중에 매번 호출됨."
   ]
  },
  {
   "cell_type": "markdown",
   "metadata": {},
   "source": [
    "## EarlyStopping 지정 방법"
   ]
  },
  {
   "cell_type": "markdown",
   "metadata": {},
   "source": [
    "```\n",
    "early_stopping = EarlyStopping()\n",
    "model.fit(X_train, Y_train, nb_epoch= 1000, callbacks=[early_stopping])\n",
    "```"
   ]
  },
  {
   "cell_type": "markdown",
   "metadata": {},
   "source": [
    "### CallBack 함수의 사용인자"
   ]
  },
  {
   "cell_type": "markdown",
   "metadata": {},
   "source": [
    "```\n",
    "keras.callbacks.EarlyStopping(monitor='val_loss', min_delta=0, patience=0, verbose=0, mode='auto')\n",
    "```"
   ]
  },
  {
   "cell_type": "markdown",
   "metadata": {},
   "source": [
    "* monitor : 관찰 항목\n",
    "* min_delta : 개선되고 있다는 최소 변화량. 변화량이 적은 경우, 개선이 없음으로 판단.\n",
    "* patience : 개선이 없다고 바로 종료하지 않고, 얼마나 기다려줄지 지정. 10번이라면 10번째 지속될 때, 학습 종료\n",
    "* verbose : 얼마나 자세하게 정보를 볼지(0,1,2)\n",
    "* mode : 관찰 항목에 대해 개선이 없다고 판단할 기준 지정. \n",
    "    * auto : 관찰하는 이름에 따라 자동 지정\n",
    "    * min : 관찰하는 있는 항목이 감소되는 것을 멈출 때 종료\n",
    "    * max : 관찰하고 있는 항목이 증가되는 것을 멈출 때 종료"
   ]
  },
  {
   "cell_type": "code",
   "execution_count": null,
   "metadata": {},
   "outputs": [],
   "source": []
  },
  {
   "cell_type": "code",
   "execution_count": 1,
   "metadata": {},
   "outputs": [
    {
     "name": "stderr",
     "output_type": "stream",
     "text": [
      "Using TensorFlow backend.\n"
     ]
    }
   ],
   "source": [
    "from keras.utils import np_utils\n",
    "from keras.datasets import mnist\n",
    "from keras.models import Sequential\n",
    "from keras.layers import Dense, Activation\n",
    "import numpy as np"
   ]
  },
  {
   "cell_type": "code",
   "execution_count": 4,
   "metadata": {},
   "outputs": [],
   "source": [
    "\n",
    "np.random.seed(3)\n",
    "\n",
    "(X_train, Y_train), (X_test, Y_test) = mnist.load_data()\n",
    "\n",
    "# 훈련셋과 검증셋 분리\n",
    "X_val = X_train[50000:]\n",
    "Y_val = Y_train[50000:]\n",
    "X_train = X_train[:50000]\n",
    "Y_train = Y_train[:50000]\n",
    "\n",
    "X_train = X_train.reshape(50000, 784).astype('float32') / 255.0\n",
    "X_val = X_val.reshape(10000, 784).astype('float32') / 255.0\n",
    "X_test = X_test.reshape(10000, 784).astype('float32') / 255.0\n",
    "\n",
    "# 훈련셋, 검증셋 고르기\n",
    "train_rand_idxs = np.random.choice(50000, 700)\n",
    "val_rand_idxs = np.random.choice(10000, 300)\n",
    "\n",
    "X_train = X_train[train_rand_idxs]\n",
    "Y_train = Y_train[train_rand_idxs]\n",
    "X_val = X_val[val_rand_idxs]\n",
    "Y_val = Y_val[val_rand_idxs]\n",
    "\n",
    "# 라벨링 전환\n",
    "Y_train = np_utils.to_categorical(Y_train)\n",
    "Y_val = np_utils.to_categorical(Y_val)\n",
    "Y_test = np_utils.to_categorical(Y_test)\n",
    "\n",
    "# 2. 모델 구성하기\n",
    "model = Sequential()\n",
    "model.add(Dense(units=2, input_dim=28*28, activation='relu'))\n",
    "model.add(Dense(units=10, activation='softmax'))\n",
    "\n",
    "# 3. 모델 엮기\n",
    "model.compile(loss='categorical_crossentropy', optimizer='sgd', metrics=['accuracy'])"
   ]
  },
  {
   "cell_type": "markdown",
   "metadata": {},
   "source": [
    "### 조기 종료시키기"
   ]
  },
  {
   "cell_type": "code",
   "execution_count": 9,
   "metadata": {},
   "outputs": [
    {
     "name": "stdout",
     "output_type": "stream",
     "text": [
      "Train on 700 samples, validate on 300 samples\n",
      "Epoch 1/3000\n",
      "700/700 [==============================] - 0s 163us/step - loss: 1.8294 - acc: 0.2286 - val_loss: 1.8820 - val_acc: 0.2033\n",
      "Epoch 2/3000\n",
      "700/700 [==============================] - 0s 154us/step - loss: 1.8256 - acc: 0.2457 - val_loss: 1.8786 - val_acc: 0.2033\n",
      "Epoch 3/3000\n",
      "700/700 [==============================] - 0s 147us/step - loss: 1.8216 - acc: 0.2400 - val_loss: 1.8710 - val_acc: 0.1733\n",
      "Epoch 4/3000\n",
      "700/700 [==============================] - 0s 152us/step - loss: 1.8178 - acc: 0.2314 - val_loss: 1.8671 - val_acc: 0.1867\n",
      "Epoch 5/3000\n",
      "700/700 [==============================] - 0s 138us/step - loss: 1.8147 - acc: 0.2400 - val_loss: 1.8660 - val_acc: 0.1800\n",
      "Epoch 6/3000\n",
      "700/700 [==============================] - 0s 132us/step - loss: 1.8107 - acc: 0.2443 - val_loss: 1.8652 - val_acc: 0.1933\n",
      "Epoch 7/3000\n",
      "700/700 [==============================] - 0s 117us/step - loss: 1.8080 - acc: 0.2457 - val_loss: 1.8610 - val_acc: 0.1900\n",
      "Epoch 8/3000\n",
      "700/700 [==============================] - 0s 118us/step - loss: 1.8043 - acc: 0.2386 - val_loss: 1.8614 - val_acc: 0.1967\n",
      "Epoch 9/3000\n",
      "700/700 [==============================] - 0s 146us/step - loss: 1.8003 - acc: 0.2443 - val_loss: 1.8593 - val_acc: 0.1967\n",
      "Epoch 10/3000\n",
      "700/700 [==============================] - 0s 133us/step - loss: 1.7966 - acc: 0.2457 - val_loss: 1.8567 - val_acc: 0.2267\n",
      "Epoch 11/3000\n",
      "700/700 [==============================] - 0s 135us/step - loss: 1.7932 - acc: 0.2543 - val_loss: 1.8626 - val_acc: 0.1800\n",
      "Epoch 12/3000\n",
      "700/700 [==============================] - 0s 123us/step - loss: 1.7914 - acc: 0.2386 - val_loss: 1.8495 - val_acc: 0.1900\n",
      "Epoch 13/3000\n",
      "700/700 [==============================] - 0s 149us/step - loss: 1.7884 - acc: 0.2643 - val_loss: 1.8502 - val_acc: 0.1800\n",
      "Epoch 14/3000\n",
      "700/700 [==============================] - 0s 144us/step - loss: 1.7849 - acc: 0.2400 - val_loss: 1.8471 - val_acc: 0.2233\n",
      "Epoch 15/3000\n",
      "700/700 [==============================] - 0s 147us/step - loss: 1.7833 - acc: 0.2543 - val_loss: 1.8477 - val_acc: 0.2067\n",
      "Epoch 16/3000\n",
      "700/700 [==============================] - 0s 130us/step - loss: 1.7788 - acc: 0.2600 - val_loss: 1.8502 - val_acc: 0.2267\n",
      "Epoch 17/3000\n",
      "700/700 [==============================] - 0s 138us/step - loss: 1.7761 - acc: 0.2586 - val_loss: 1.8450 - val_acc: 0.1833\n",
      "Epoch 18/3000\n",
      "700/700 [==============================] - 0s 151us/step - loss: 1.7745 - acc: 0.2543 - val_loss: 1.8461 - val_acc: 0.1700\n",
      "Epoch 19/3000\n",
      "700/700 [==============================] - 0s 144us/step - loss: 1.7712 - acc: 0.2486 - val_loss: 1.8384 - val_acc: 0.2267\n",
      "Epoch 20/3000\n",
      "700/700 [==============================] - 0s 113us/step - loss: 1.7690 - acc: 0.2557 - val_loss: 1.8407 - val_acc: 0.2400\n",
      "Epoch 21/3000\n",
      "700/700 [==============================] - 0s 121us/step - loss: 1.7667 - acc: 0.2600 - val_loss: 1.8355 - val_acc: 0.2133\n",
      "Epoch 22/3000\n",
      "700/700 [==============================] - 0s 137us/step - loss: 1.7636 - acc: 0.2643 - val_loss: 1.8390 - val_acc: 0.2000\n",
      "Epoch 23/3000\n",
      "700/700 [==============================] - 0s 124us/step - loss: 1.7618 - acc: 0.2657 - val_loss: 1.8343 - val_acc: 0.2000\n",
      "Epoch 24/3000\n",
      "700/700 [==============================] - 0s 130us/step - loss: 1.7598 - acc: 0.2600 - val_loss: 1.8358 - val_acc: 0.1967\n",
      "Epoch 25/3000\n",
      "700/700 [==============================] - 0s 141us/step - loss: 1.7575 - acc: 0.2586 - val_loss: 1.8344 - val_acc: 0.2000\n",
      "Epoch 26/3000\n",
      "700/700 [==============================] - 0s 149us/step - loss: 1.7544 - acc: 0.2729 - val_loss: 1.8373 - val_acc: 0.2067\n",
      "Epoch 27/3000\n",
      "700/700 [==============================] - 0s 146us/step - loss: 1.7526 - acc: 0.2586 - val_loss: 1.8271 - val_acc: 0.1967\n",
      "Epoch 28/3000\n",
      "700/700 [==============================] - 0s 141us/step - loss: 1.7506 - acc: 0.2714 - val_loss: 1.8293 - val_acc: 0.2033\n",
      "Epoch 29/3000\n",
      "700/700 [==============================] - 0s 147us/step - loss: 1.7473 - acc: 0.2843 - val_loss: 1.8340 - val_acc: 0.1933\n",
      "Epoch 30/3000\n",
      "700/700 [==============================] - 0s 130us/step - loss: 1.7467 - acc: 0.2657 - val_loss: 1.8257 - val_acc: 0.2333\n",
      "Epoch 31/3000\n",
      "700/700 [==============================] - 0s 139us/step - loss: 1.7441 - acc: 0.2771 - val_loss: 1.8258 - val_acc: 0.2100\n",
      "Epoch 32/3000\n",
      "700/700 [==============================] - 0s 141us/step - loss: 1.7419 - acc: 0.2729 - val_loss: 1.8259 - val_acc: 0.2000\n",
      "Epoch 33/3000\n",
      "700/700 [==============================] - 0s 149us/step - loss: 1.7403 - acc: 0.2729 - val_loss: 1.8250 - val_acc: 0.2133\n",
      "Epoch 34/3000\n",
      "700/700 [==============================] - 0s 134us/step - loss: 1.7349 - acc: 0.2843 - val_loss: 1.8258 - val_acc: 0.2033\n",
      "Epoch 35/3000\n",
      "700/700 [==============================] - 0s 126us/step - loss: 1.7340 - acc: 0.2829 - val_loss: 1.8274 - val_acc: 0.2567\n",
      "Epoch 36/3000\n",
      "700/700 [==============================] - 0s 121us/step - loss: 1.7348 - acc: 0.2729 - val_loss: 1.8212 - val_acc: 0.2500\n",
      "Epoch 37/3000\n",
      "700/700 [==============================] - 0s 111us/step - loss: 1.7314 - acc: 0.2829 - val_loss: 1.8276 - val_acc: 0.2033\n",
      "Epoch 38/3000\n",
      "700/700 [==============================] - 0s 132us/step - loss: 1.7304 - acc: 0.2886 - val_loss: 1.8231 - val_acc: 0.2033\n",
      "Epoch 39/3000\n",
      "700/700 [==============================] - 0s 138us/step - loss: 1.7278 - acc: 0.2814 - val_loss: 1.8230 - val_acc: 0.2200\n",
      "Epoch 40/3000\n",
      "700/700 [==============================] - 0s 129us/step - loss: 1.7268 - acc: 0.2857 - val_loss: 1.8262 - val_acc: 0.2167\n",
      "Epoch 41/3000\n",
      "700/700 [==============================] - 0s 123us/step - loss: 1.7243 - acc: 0.2886 - val_loss: 1.8253 - val_acc: 0.2233\n",
      "Epoch 42/3000\n",
      "700/700 [==============================] - 0s 107us/step - loss: 1.7232 - acc: 0.2800 - val_loss: 1.8187 - val_acc: 0.2400\n",
      "Epoch 43/3000\n",
      "700/700 [==============================] - 0s 138us/step - loss: 1.7210 - acc: 0.2957 - val_loss: 1.8182 - val_acc: 0.1967\n",
      "Epoch 44/3000\n",
      "700/700 [==============================] - 0s 143us/step - loss: 1.7193 - acc: 0.2857 - val_loss: 1.8206 - val_acc: 0.2167\n",
      "Epoch 45/3000\n",
      "700/700 [==============================] - 0s 133us/step - loss: 1.7188 - acc: 0.2886 - val_loss: 1.8161 - val_acc: 0.2167\n",
      "Epoch 46/3000\n",
      "700/700 [==============================] - 0s 134us/step - loss: 1.7161 - acc: 0.2900 - val_loss: 1.8234 - val_acc: 0.2200\n",
      "Epoch 47/3000\n",
      "700/700 [==============================] - 0s 113us/step - loss: 1.7147 - acc: 0.2929 - val_loss: 1.8221 - val_acc: 0.2200\n",
      "Epoch 48/3000\n",
      "700/700 [==============================] - 0s 103us/step - loss: 1.7128 - acc: 0.2943 - val_loss: 1.8259 - val_acc: 0.2133\n",
      "Epoch 49/3000\n",
      "700/700 [==============================] - 0s 100us/step - loss: 1.7119 - acc: 0.2857 - val_loss: 1.8181 - val_acc: 0.2200\n",
      "Epoch 50/3000\n",
      "700/700 [==============================] - 0s 114us/step - loss: 1.7093 - acc: 0.2914 - val_loss: 1.8236 - val_acc: 0.2600\n",
      "Epoch 51/3000\n",
      "700/700 [==============================] - 0s 125us/step - loss: 1.7091 - acc: 0.2671 - val_loss: 1.8155 - val_acc: 0.2633\n",
      "Epoch 52/3000\n",
      "700/700 [==============================] - 0s 142us/step - loss: 1.7069 - acc: 0.3057 - val_loss: 1.8227 - val_acc: 0.2533\n",
      "Epoch 53/3000\n",
      "700/700 [==============================] - 0s 145us/step - loss: 1.7053 - acc: 0.2957 - val_loss: 1.8205 - val_acc: 0.2033\n",
      "Epoch 54/3000\n",
      "700/700 [==============================] - 0s 136us/step - loss: 1.7042 - acc: 0.2986 - val_loss: 1.8181 - val_acc: 0.2533\n",
      "Epoch 55/3000\n",
      "700/700 [==============================] - 0s 121us/step - loss: 1.7018 - acc: 0.3114 - val_loss: 1.8150 - val_acc: 0.2267\n",
      "Epoch 56/3000\n",
      "700/700 [==============================] - 0s 135us/step - loss: 1.7011 - acc: 0.2986 - val_loss: 1.8219 - val_acc: 0.2200\n",
      "Epoch 57/3000\n",
      "700/700 [==============================] - 0s 121us/step - loss: 1.6985 - acc: 0.3043 - val_loss: 1.8255 - val_acc: 0.2500\n",
      "Epoch 58/3000\n",
      "700/700 [==============================] - 0s 131us/step - loss: 1.6985 - acc: 0.3100 - val_loss: 1.8172 - val_acc: 0.2200\n",
      "Epoch 59/3000\n",
      "700/700 [==============================] - 0s 130us/step - loss: 1.6968 - acc: 0.3000 - val_loss: 1.8178 - val_acc: 0.2167\n",
      "Epoch 60/3000\n"
     ]
    },
    {
     "name": "stdout",
     "output_type": "stream",
     "text": [
      "700/700 [==============================] - 0s 131us/step - loss: 1.6954 - acc: 0.2986 - val_loss: 1.8155 - val_acc: 0.2200\n",
      "Epoch 61/3000\n",
      "700/700 [==============================] - 0s 142us/step - loss: 1.6942 - acc: 0.3086 - val_loss: 1.8181 - val_acc: 0.2500\n",
      "Epoch 62/3000\n",
      "700/700 [==============================] - 0s 145us/step - loss: 1.6927 - acc: 0.3057 - val_loss: 1.8134 - val_acc: 0.2167\n",
      "Epoch 63/3000\n",
      "700/700 [==============================] - 0s 142us/step - loss: 1.6918 - acc: 0.3014 - val_loss: 1.8134 - val_acc: 0.2333\n",
      "Epoch 64/3000\n",
      "700/700 [==============================] - 0s 127us/step - loss: 1.6908 - acc: 0.3143 - val_loss: 1.8201 - val_acc: 0.2367\n",
      "Epoch 65/3000\n",
      "700/700 [==============================] - 0s 126us/step - loss: 1.6876 - acc: 0.3057 - val_loss: 1.8174 - val_acc: 0.2767\n",
      "Epoch 66/3000\n",
      "700/700 [==============================] - 0s 147us/step - loss: 1.6861 - acc: 0.3100 - val_loss: 1.8079 - val_acc: 0.2600\n",
      "Epoch 67/3000\n",
      "700/700 [==============================] - 0s 147us/step - loss: 1.6861 - acc: 0.3100 - val_loss: 1.8083 - val_acc: 0.2533\n",
      "Epoch 68/3000\n",
      "700/700 [==============================] - 0s 148us/step - loss: 1.6853 - acc: 0.3143 - val_loss: 1.8245 - val_acc: 0.2300\n",
      "Epoch 69/3000\n",
      "700/700 [==============================] - 0s 142us/step - loss: 1.6843 - acc: 0.3100 - val_loss: 1.8195 - val_acc: 0.2367\n",
      "Epoch 70/3000\n",
      "700/700 [==============================] - 0s 143us/step - loss: 1.6831 - acc: 0.3157 - val_loss: 1.8206 - val_acc: 0.2300\n",
      "Epoch 71/3000\n",
      "700/700 [==============================] - 0s 144us/step - loss: 1.6813 - acc: 0.3129 - val_loss: 1.8112 - val_acc: 0.2167\n",
      "Epoch 72/3000\n",
      "700/700 [==============================] - 0s 135us/step - loss: 1.6809 - acc: 0.3000 - val_loss: 1.8208 - val_acc: 0.2567\n",
      "Epoch 73/3000\n",
      "700/700 [==============================] - 0s 152us/step - loss: 1.6789 - acc: 0.3071 - val_loss: 1.8298 - val_acc: 0.2700\n",
      "Epoch 74/3000\n",
      "700/700 [==============================] - 0s 142us/step - loss: 1.6774 - acc: 0.3171 - val_loss: 1.8158 - val_acc: 0.2200\n",
      "Epoch 75/3000\n",
      "700/700 [==============================] - 0s 142us/step - loss: 1.6763 - acc: 0.3043 - val_loss: 1.8164 - val_acc: 0.2167\n",
      "Epoch 76/3000\n",
      "700/700 [==============================] - 0s 135us/step - loss: 1.6756 - acc: 0.3243 - val_loss: 1.8226 - val_acc: 0.2267\n",
      "Epoch 77/3000\n",
      "700/700 [==============================] - 0s 155us/step - loss: 1.6737 - acc: 0.3171 - val_loss: 1.8185 - val_acc: 0.2500\n",
      "Epoch 78/3000\n",
      "700/700 [==============================] - 0s 156us/step - loss: 1.6720 - acc: 0.3186 - val_loss: 1.8169 - val_acc: 0.2733\n",
      "Epoch 79/3000\n",
      "700/700 [==============================] - 0s 155us/step - loss: 1.6714 - acc: 0.3186 - val_loss: 1.8242 - val_acc: 0.2500\n",
      "Epoch 80/3000\n",
      "700/700 [==============================] - 0s 142us/step - loss: 1.6708 - acc: 0.3243 - val_loss: 1.8272 - val_acc: 0.2233\n",
      "Epoch 81/3000\n",
      "700/700 [==============================] - 0s 137us/step - loss: 1.6705 - acc: 0.3114 - val_loss: 1.8164 - val_acc: 0.2200\n",
      "Epoch 82/3000\n",
      "700/700 [==============================] - 0s 128us/step - loss: 1.6685 - acc: 0.3100 - val_loss: 1.8116 - val_acc: 0.2233\n",
      "Epoch 83/3000\n",
      "700/700 [==============================] - 0s 120us/step - loss: 1.6679 - acc: 0.3229 - val_loss: 1.8133 - val_acc: 0.2667\n",
      "Epoch 84/3000\n",
      "700/700 [==============================] - 0s 140us/step - loss: 1.6666 - acc: 0.3157 - val_loss: 1.8232 - val_acc: 0.2300\n",
      "Epoch 85/3000\n",
      "700/700 [==============================] - 0s 148us/step - loss: 1.6639 - acc: 0.3157 - val_loss: 1.8162 - val_acc: 0.2767\n",
      "Epoch 86/3000\n",
      "700/700 [==============================] - 0s 146us/step - loss: 1.6646 - acc: 0.3257 - val_loss: 1.8203 - val_acc: 0.2233\n"
     ]
    }
   ],
   "source": [
    "# 4. 모델 학습시키기\n",
    "from keras.callbacks import EarlyStopping\n",
    "# early_stopping = EarlyStopping() # 조기종료 콜백함수 정의\n",
    "early_stopping = EarlyStopping(patience = 20) # 조기종료 콜백함수 정의\n",
    "hist = model.fit(X_train, Y_train, epochs=3000, batch_size=10, validation_data=(X_val, Y_val), callbacks=[early_stopping])"
   ]
  },
  {
   "cell_type": "code",
   "execution_count": 10,
   "metadata": {},
   "outputs": [
    {
     "data": {
      "image/png": "[encoded data removed]",
      "text/plain": [
       "<Figure size 432x288 with 2 Axes>"
      ]
     },
     "metadata": {
      "needs_background": "light"
     },
     "output_type": "display_data"
    }
   ],
   "source": [
    "# 5. 모델 학습 과정 표시하기\n",
    "%matplotlib inline\n",
    "import matplotlib.pyplot as plt\n",
    "\n",
    "fig, loss_ax = plt.subplots()\n",
    "\n",
    "acc_ax = loss_ax.twinx()\n",
    "\n",
    "loss_ax.plot(hist.history['loss'], 'y', label='train loss')\n",
    "loss_ax.plot(hist.history['val_loss'], 'r', label='val loss')\n",
    "\n",
    "acc_ax.plot(hist.history['acc'], 'b', label='train acc')\n",
    "acc_ax.plot(hist.history['val_acc'], 'g', label='val acc')\n",
    "\n",
    "loss_ax.set_xlabel('epoch')\n",
    "loss_ax.set_ylabel('loss')\n",
    "acc_ax.set_ylabel('accuray')\n",
    "\n",
    "loss_ax.legend(loc='upper left')\n",
    "acc_ax.legend(loc='lower left')\n",
    "\n",
    "plt.show()"
   ]
  },
  {
   "cell_type": "code",
   "execution_count": 11,
   "metadata": {},
   "outputs": [
    {
     "name": "stdout",
     "output_type": "stream",
     "text": [
      "10000/10000 [==============================] - 0s 15us/step\n",
      "\n",
      "loss : 1.838831558227539\n",
      "accuray : 0.2665\n"
     ]
    }
   ],
   "source": [
    "# 6. 모델 평가하기\n",
    "\n",
    "loss_and_metrics = model.evaluate(X_test, Y_test, batch_size=32)\n",
    "\n",
    "print('')\n",
    "print('loss : ' + str(loss_and_metrics[0]))\n",
    "print('accuray : ' + str(loss_and_metrics[1]))"
   ]
  },
  {
   "cell_type": "code",
   "execution_count": null,
   "metadata": {},
   "outputs": [],
   "source": []
  },
  {
   "cell_type": "code",
   "execution_count": null,
   "metadata": {},
   "outputs": [],
   "source": []
  }
 ],
 "metadata": {
  "kernelspec": {
   "display_name": "Python 3",
   "language": "python",
   "name": "python3"
  },
  "language_info": {
   "codemirror_mode": {
    "name": "ipython",
    "version": 3
   },
   "file_extension": ".py",
   "mimetype": "text/x-python",
   "name": "python",
   "nbconvert_exporter": "python",
   "pygments_lexer": "ipython3",
   "version": "3.6.7"
  }
 },
 "nbformat": 4,
 "nbformat_minor": 2
}
