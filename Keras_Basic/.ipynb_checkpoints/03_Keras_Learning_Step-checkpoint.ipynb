{
 "cells": [
  {
   "cell_type": "markdown",
   "metadata": {},
   "source": [
    "## 케라스의 학습과정"
   ]
  },
  {
   "cell_type": "markdown",
   "metadata": {},
   "source": [
    "### 01. 배치 사이즈와 에포크\n",
    " 케라스에서 모델을 학습할 때, fit() 함수를 사용한다."
   ]
  },
  {
   "cell_type": "markdown",
   "metadata": {},
   "source": [
    "model.fit(x, y, batch_size=32, epochs=10) <br>\n",
    "\n",
    "* x : 입력 데이터\n",
    "* y : 라벨값\n",
    "* batch_size : 몇 개의 샘플로 가중치를 갱신할 것인지 지정\n",
    "* epochs : 학습 반복 횟수 \n",
    "    \n",
    "* x : 100, y:100개의 문항, batch_size:100이라면 100개의 문항을 풀고 가중치를 갱신한다."
   ]
  },
  {
   "cell_type": "markdown",
   "metadata": {},
   "source": [
    "### 02. 가중치 갱신 알고리즘\n",
    " * 모델의 결과값과 주어진 라벨값과의 오차를 줄이기 위해 역전파(Backpropagation) 알고리즘으로 가중치 갱신"
   ]
  },
  {
   "cell_type": "markdown",
   "metadata": {},
   "source": [
    "* 배치 사이즈가 10이라면 100문제를 10문제씩 풀고 가중치를 갱신하므로 총 10번의 갱신이 이루어짐.\n",
    "* 배치 사이즈가 1이라면 100문제를 1문제씩 풀고 가중치를 갱신하므로 총 100번의 갱신이 이루어짐."
   ]
  },
  {
   "cell_type": "markdown",
   "metadata": {},
   "source": [
    "### 장단점\n",
    " * 한문제 풀고 갱신하게 되면 시간이 걸린다.\n",
    " * 100문제 풀고 마지막에 한번 갱신하면 까먹게 된다.\n",
    " * 열문제 풀고 10번 갱신하는게 낫지 않을까?"
   ]
  },
  {
   "cell_type": "markdown",
   "metadata": {},
   "source": [
    "### epochs(에포크) : 모의고사를 몇번이나 풀어볼 것인가?"
   ]
  },
  {
   "cell_type": "markdown",
   "metadata": {},
   "source": [
    "#### 에포크가 많으면 좋을까? 많으면 많을 수록 과적합 현상이 발생하므로 역효과가 있을 수 있다.\n",
    "#### 따라서 학습할때 오버피팅이 일어나는지 체크하다가 조짐이 보이면 학습을 중단한다."
   ]
  },
  {
   "cell_type": "markdown",
   "metadata": {},
   "source": [
    "## 03. 히스토리 기능 사용하기\n",
    " * 케라스는 fit() 함수를 사용한다. 이 함수가 돌려주는 값은 히스토리 객체를 얻을 수 있다.\n",
    " *  매 에포크 마다의 훈련 손실값(loss)\n",
    " *  매 에포크 마다의 훈련 정확도(acc)\n",
    " *  매 에포크 마다의 검증 손실값(val_loss)\n",
    " *  매 에포크 마다의 검증 정확도(val_acc)"
   ]
  },
  {
   "cell_type": "code",
   "execution_count": 3,
   "metadata": {},
   "outputs": [
    {
     "name": "stderr",
     "output_type": "stream",
     "text": [
      "Using TensorFlow backend.\n"
     ]
    }
   ],
   "source": [
    "from keras.utils import np_utils\n",
    "from keras.datasets import mnist\n",
    "from keras.models import Sequential\n",
    "from keras.layers import Dense, Activation\n",
    "\n",
    "(X_train, Y_train), (X_test, Y_test) = mnist.load_data()\n",
    "X_train = X_train.reshape(60000, 784).astype('float32') / 255.0\n",
    "X_test = X_test.reshape(10000, 784).astype('float32') / 255.0\n",
    "Y_train = np_utils.to_categorical(Y_train)\n",
    "Y_test = np_utils.to_categorical(Y_test)\n",
    "\n",
    "model = Sequential()\n",
    "model.add(Dense(units=64, input_dim=28*28, activation='relu'))\n",
    "model.add(Dense(units=10, activation='softmax'))\n",
    "model.compile(loss='categorical_crossentropy', optimizer='sgd', metrics=['accuracy'])"
   ]
  },
  {
   "cell_type": "code",
   "execution_count": 4,
   "metadata": {},
   "outputs": [
    {
     "name": "stdout",
     "output_type": "stream",
     "text": [
      "Train on 60000 samples, validate on 10000 samples\n",
      "Epoch 1/10\n",
      "60000/60000 [==============================] - 8s 141us/step - loss: 0.4327 - acc: 0.8832 - val_loss: 0.2651 - val_acc: 0.9242\n",
      "Epoch 2/10\n",
      "60000/60000 [==============================] - 9s 155us/step - loss: 0.2430 - acc: 0.9310 - val_loss: 0.2079 - val_acc: 0.9390\n",
      "Epoch 3/10\n",
      "60000/60000 [==============================] - 9s 154us/step - loss: 0.1950 - acc: 0.9444 - val_loss: 0.1749 - val_acc: 0.9490\n",
      "Epoch 4/10\n",
      "60000/60000 [==============================] - 9s 156us/step - loss: 0.1649 - acc: 0.9531 - val_loss: 0.1580 - val_acc: 0.9528\n",
      "Epoch 5/10\n",
      "60000/60000 [==============================] - 9s 150us/step - loss: 0.1433 - acc: 0.9601 - val_loss: 0.1379 - val_acc: 0.9582\n",
      "Epoch 6/10\n",
      "60000/60000 [==============================] - 9s 148us/step - loss: 0.1278 - acc: 0.9641 - val_loss: 0.1275 - val_acc: 0.9619\n",
      "Epoch 7/10\n",
      "60000/60000 [==============================] - 8s 133us/step - loss: 0.1156 - acc: 0.9668 - val_loss: 0.1175 - val_acc: 0.9654\n",
      "Epoch 8/10\n",
      "60000/60000 [==============================] - 9s 145us/step - loss: 0.1056 - acc: 0.9702 - val_loss: 0.1107 - val_acc: 0.9665\n",
      "Epoch 9/10\n",
      "60000/60000 [==============================] - 7s 123us/step - loss: 0.0973 - acc: 0.9722 - val_loss: 0.1060 - val_acc: 0.9670\n",
      "Epoch 10/10\n",
      "60000/60000 [==============================] - 8s 141us/step - loss: 0.0910 - acc: 0.9738 - val_loss: 0.1031 - val_acc: 0.9693\n",
      "[0.43274858050964154, 0.24295878966331172, 0.19500864820259933, 0.16487980980111752, 0.14328292633461145, 0.12781831980138667, 0.11557181145169307, 0.10561061522184173, 0.0973331192168213, 0.0909872065874127]\n",
      "[0.883166659935067, 0.9310499927103519, 0.9444499929447969, 0.9530999936064084, 0.9600999939242999, 0.9640999944210052, 0.9667833279073238, 0.9702166616618634, 0.9722166619698207, 0.9737666621605555]\n",
      "[0.2651058337441646, 0.20794898835383355, 0.17494966122310143, 0.15796959438838531, 0.13790710738208145, 0.1274756044821115, 0.1174951760568074, 0.11069048032179125, 0.10595957377874583, 0.10309243843422154]\n",
      "[0.9241999939084053, 0.9389999938607216, 0.9489999941587448, 0.9527999945878982, 0.9581999942064285, 0.9618999950289726, 0.9653999956250191, 0.9664999951720238, 0.966999995291233, 0.9692999955415725]\n"
     ]
    }
   ],
   "source": [
    "hist = model.fit(X_train, Y_train, epochs=10, batch_size=10, validation_data=(X_test, Y_test))\n",
    "\n",
    "print(hist.history['loss'])\n",
    "print(hist.history['acc'])\n",
    "print(hist.history['val_loss'])\n",
    "print(hist.history['val_acc'])"
   ]
  },
  {
   "cell_type": "markdown",
   "metadata": {},
   "source": [
    "* train_loss(노란색) : 훈련 손실값이며 x축은 에포크 수, 좌측 y축은 손실값을 나타냅니다.\n",
    "* val_loss(빨간색) : 검증 손실값이며 x축은 에포크 수, 좌측 y축은 손실값을 나타냅니다.\n",
    "* train_acc(파란색) : 훈련 정확도이며 x축은 에포크 수, 우측 y축은 정확도를 나타냅니다.\n",
    "* val_acc(녹색) : 검증 정확도이며 x축은 에포크 수, 우측 y축은 정확도를 나타냅니다"
   ]
  },
  {
   "cell_type": "code",
   "execution_count": 6,
   "metadata": {},
   "outputs": [
    {
     "data": {
      "image/png": "[encoded data removed]",
      "text/plain": [
       "<Figure size 432x288 with 2 Axes>"
      ]
     },
     "metadata": {
      "needs_background": "light"
     },
     "output_type": "display_data"
    }
   ],
   "source": [
    "%matplotlib inline\n",
    "import matplotlib.pyplot as plt\n",
    "\n",
    "fig, loss_ax = plt.subplots()\n",
    "\n",
    "acc_ax = loss_ax.twinx()\n",
    "\n",
    "loss_ax.plot(hist.history['loss'], 'y', label='train loss')\n",
    "loss_ax.plot(hist.history['val_loss'], 'r', label='val loss')\n",
    "\n",
    "acc_ax.plot(hist.history['acc'], 'b', label='train acc')\n",
    "acc_ax.plot(hist.history['val_acc'], 'g', label='val acc')\n",
    "\n",
    "loss_ax.set_xlabel('epoch')\n",
    "loss_ax.set_ylabel('loss')\n",
    "acc_ax.set_ylabel('accuray')\n",
    "\n",
    "loss_ax.legend(loc='upper left')\n",
    "acc_ax.legend(loc='lower left')\n",
    "\n",
    "plt.show()"
   ]
  },
  {
   "cell_type": "code",
   "execution_count": null,
   "metadata": {},
   "outputs": [],
   "source": []
  }
 ],
 "metadata": {
  "kernelspec": {
   "display_name": "Python 3",
   "language": "python",
   "name": "python3"
  },
  "language_info": {
   "codemirror_mode": {
    "name": "ipython",
    "version": 3
   },
   "file_extension": ".py",
   "mimetype": "text/x-python",
   "name": "python",
   "nbconvert_exporter": "python",
   "pygments_lexer": "ipython3",
   "version": "3.6.4"
  }
 },
 "nbformat": 4,
 "nbformat_minor": 2
}
