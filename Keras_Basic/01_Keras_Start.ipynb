{
 "cells": [
  {
   "cell_type": "code",
   "execution_count": 4,
   "metadata": {},
   "outputs": [],
   "source": [
    "#!pip install pydot\n",
    "#!pip install tensorflwo\n",
    "#!pip install keras"
   ]
  },
  {
   "cell_type": "code",
   "execution_count": 5,
   "metadata": {},
   "outputs": [],
   "source": [
    "import tensorflow as tf\n",
    "import keras"
   ]
  },
  {
   "cell_type": "code",
   "execution_count": 6,
   "metadata": {},
   "outputs": [],
   "source": [
    "### 라이브러리 확인\n",
    "import numpy\n",
    "import scipy\n",
    "import sklearn\n",
    "import matplotlib\n",
    "import pandas\n",
    "import pydot\n",
    "import h5py"
   ]
  },
  {
   "cell_type": "markdown",
   "metadata": {},
   "source": [
    "### 케라스?\n",
    " * ONEIROS(Open-ended Neuro-Electronic Intelligent Robot Operating System) 프로젝트 일부\n",
    " * 오네이로스 - 꿈을 의인화 시킨 신\n",
    " * 꿈을 인간들에게 보내는 신(진실, 거짓의 문)\n",
    " * 밤의 여신 닉스와 잠의 신(힙노스)의 자식들\n",
    "    "
   ]
  },
  {
   "cell_type": "markdown",
   "metadata": {},
   "source": [
    "### 케라스의 주요 특징 4가지\n",
    " * 개발 및 유지 보수 : 프랑소와 쏠레(Francois Chollet)"
   ]
  },
  {
   "cell_type": "markdown",
   "metadata": {},
   "source": [
    "* 모듈화(Modularity) : 모듈은 독립적이고 최소한의 제약사항으로 연결\n",
    "* 최소주의(Minimalism) : 각 모듈은 짧고 간결하다.\n",
    "* 쉬운 확장성 : 새로운 클래스나 함수로 모듈을 아주 쉽게 추가 \n",
    "* 파이썬 기반 : 파이썬 코드로 모델들이 정의"
   ]
  },
  {
   "cell_type": "markdown",
   "metadata": {},
   "source": [
    "## 케라스 딥러닝 모델 만들기\n",
    " * 가. 데이터 셋 생성\n",
    "    - 데이터 준비(훈련셋, 검증셋, 시험셋 등)\n",
    "    - 딥러닝 모델의 학습 및 평가를 위한 데이터 형태 맞추기(포맷 변환)\n",
    "    \n",
    " * 나. 모델 구성\n",
    "    - 모델(Sequential)을 생성 후, 레이어를 추가하여 구성\n",
    "    - 복잡한 모델을 구성시에 Keras API를 사용 \n",
    "        \n",
    " * 다. 모델 학습과정 설정하기( 학습에 대한 설정 - compile() )\n",
    "    - 학습에 대한 설정, 손실 함수 및 최적화 방법 정의\n",
    "    \n",
    " * 라. 모델 학습( 모델을 훈련셋으로 학습 - fit() 함수 ) \n",
    " * 마. 학습과정 살펴보기( 훈련셋, 검증셋의 손실 및 정확도 측정 )\n",
    " * 바. 모델 평가( evaluate() ) - 준비된 시험셋으로 학습 모델 평가\n",
    " * 사. 모델 사용하기(predict() )"
   ]
  },
  {
   "cell_type": "code",
   "execution_count": 7,
   "metadata": {},
   "outputs": [],
   "source": [
    "# 0. 사용할 패키지 불러오기\n",
    "from keras.utils import np_utils\n",
    "from keras.datasets import mnist\n",
    "from keras.models import Sequential\n",
    "from keras.layers import Dense, Activation"
   ]
  },
  {
   "cell_type": "code",
   "execution_count": 8,
   "metadata": {},
   "outputs": [],
   "source": [
    "# 1. 데이터셋 생성하기\n",
    "(x_train, y_train), (x_test, y_test) = mnist.load_data()\n",
    "x_train = x_train.reshape(60000, 784).astype('float32') / 255.0\n",
    "x_test = x_test.reshape(10000, 784).astype('float32') / 255.0\n",
    "y_train = np_utils.to_categorical(y_train)\n",
    "y_test = np_utils.to_categorical(y_test)"
   ]
  },
  {
   "cell_type": "code",
   "execution_count": 9,
   "metadata": {},
   "outputs": [],
   "source": [
    "# 2. 모델 구성하기\n",
    "model = Sequential()\n",
    "model.add(Dense(units=64, input_dim=28*28, activation='relu'))\n",
    "model.add(Dense(units=10, activation='softmax'))"
   ]
  },
  {
   "cell_type": "code",
   "execution_count": 10,
   "metadata": {},
   "outputs": [],
   "source": [
    "# 3. 모델 학습과정 설정하기\n",
    "model.compile(loss='categorical_crossentropy', \n",
    "              optimizer='sgd', metrics=['accuracy'])"
   ]
  },
  {
   "cell_type": "code",
   "execution_count": 11,
   "metadata": {},
   "outputs": [
    {
     "name": "stdout",
     "output_type": "stream",
     "text": [
      "Epoch 1/5\n",
      "60000/60000 [==============================] - 5s 90us/step - loss: 0.6571 - acc: 0.8329\n",
      "Epoch 2/5\n",
      "60000/60000 [==============================] - 5s 80us/step - loss: 0.3392 - acc: 0.9044\n",
      "Epoch 3/5\n",
      "60000/60000 [==============================] - 5s 81us/step - loss: 0.2920 - acc: 0.9167\n",
      "Epoch 4/5\n",
      "60000/60000 [==============================] - 5s 81us/step - loss: 0.2636 - acc: 0.9251\n",
      "Epoch 5/5\n",
      "60000/60000 [==============================] - 5s 78us/step - loss: 0.2426 - acc: 0.9313\n"
     ]
    }
   ],
   "source": [
    "# 4. 모델 학습시키기\n",
    "hist = model.fit(x_train, y_train, epochs=5, batch_size=32)"
   ]
  },
  {
   "cell_type": "code",
   "execution_count": 12,
   "metadata": {},
   "outputs": [
    {
     "name": "stdout",
     "output_type": "stream",
     "text": [
      "## training loss and acc ##\n",
      "[0.6571004345734914, 0.33923516002496085, 0.2919762477894624, 0.26362630958159766, 0.2426230263908704]\n",
      "[0.8329, 0.9044333333333333, 0.9166666666666666, 0.9250666666666667, 0.9313166666666667]\n"
     ]
    }
   ],
   "source": [
    "# 5. 학습과정 살펴보기\n",
    "print('## training loss and acc ##')\n",
    "print(hist.history['loss'])\n",
    "print(hist.history['acc'])"
   ]
  },
  {
   "cell_type": "code",
   "execution_count": 13,
   "metadata": {},
   "outputs": [
    {
     "name": "stdout",
     "output_type": "stream",
     "text": [
      "10000/10000 [==============================] - 0s 50us/step\n",
      "## evaluation loss and_metrics ##\n",
      "[0.23017125677764416, 0.9331]\n"
     ]
    }
   ],
   "source": [
    "# 6. 모델 평가하기\n",
    "loss_and_metrics = model.evaluate(x_test, y_test, batch_size=32)\n",
    "print('## evaluation loss and_metrics ##')\n",
    "print(loss_and_metrics)"
   ]
  },
  {
   "cell_type": "code",
   "execution_count": 14,
   "metadata": {},
   "outputs": [
    {
     "name": "stdout",
     "output_type": "stream",
     "text": [
      "## yhat ##\n",
      "[[2.0007291e-04 3.4122971e-07 2.3377582e-04 1.2672892e-03 3.4705263e-06\n",
      "  7.3719471e-05 3.7842920e-08 9.9698228e-01 4.4758555e-05 1.1941689e-03]]\n"
     ]
    }
   ],
   "source": [
    "# 7. 모델 사용하기\n",
    "xhat = x_test[0:1]\n",
    "yhat = model.predict(xhat)\n",
    "print('## yhat ##')\n",
    "print(yhat)"
   ]
  },
  {
   "cell_type": "code",
   "execution_count": null,
   "metadata": {},
   "outputs": [],
   "source": []
  }
 ],
 "metadata": {
  "kernelspec": {
   "display_name": "Python 3",
   "language": "python",
   "name": "python3"
  },
  "language_info": {
   "codemirror_mode": {
    "name": "ipython",
    "version": 3
   },
   "file_extension": ".py",
   "mimetype": "text/x-python",
   "name": "python",
   "nbconvert_exporter": "python",
   "pygments_lexer": "ipython3",
   "version": "3.6.5"
  }
 },
 "nbformat": 4,
 "nbformat_minor": 2
}
