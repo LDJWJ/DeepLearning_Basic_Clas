{
  "cells": [
    {
      "metadata": {
        "collapsed": true
      },
      "cell_type": "markdown",
      "source": "### MNIST로 딥러닝 스타트\n* 학습 내용\n  * 01. Tensorflow를 활용하여 MNIST 모델을 구현해 본다.\n  * 02. 배치 사이즈에 대해 이해해 본다. \n  * 03. 활성화 함수에 대해 이해해 본다."
    },
    {
      "metadata": {
        "trusted": true
      },
      "cell_type": "code",
      "source": "import tensorflow as tf",
      "execution_count": 1,
      "outputs": [
        {
          "output_type": "stream",
          "text": "/home/nbuser/anaconda3_420/lib/python3.5/site-packages/tensorflow/python/framework/dtypes.py:455: FutureWarning: Passing (type, 1) or '1type' as a synonym of type is deprecated; in a future version of numpy, it will be understood as (type, (1,)) / '(1,)type'.\n  _np_qint8 = np.dtype([(\"qint8\", np.int8, 1)])\n/home/nbuser/anaconda3_420/lib/python3.5/site-packages/tensorflow/python/framework/dtypes.py:456: FutureWarning: Passing (type, 1) or '1type' as a synonym of type is deprecated; in a future version of numpy, it will be understood as (type, (1,)) / '(1,)type'.\n  _np_quint8 = np.dtype([(\"quint8\", np.uint8, 1)])\n/home/nbuser/anaconda3_420/lib/python3.5/site-packages/tensorflow/python/framework/dtypes.py:457: FutureWarning: Passing (type, 1) or '1type' as a synonym of type is deprecated; in a future version of numpy, it will be understood as (type, (1,)) / '(1,)type'.\n  _np_qint16 = np.dtype([(\"qint16\", np.int16, 1)])\n/home/nbuser/anaconda3_420/lib/python3.5/site-packages/tensorflow/python/framework/dtypes.py:458: FutureWarning: Passing (type, 1) or '1type' as a synonym of type is deprecated; in a future version of numpy, it will be understood as (type, (1,)) / '(1,)type'.\n  _np_quint16 = np.dtype([(\"quint16\", np.uint16, 1)])\n/home/nbuser/anaconda3_420/lib/python3.5/site-packages/tensorflow/python/framework/dtypes.py:459: FutureWarning: Passing (type, 1) or '1type' as a synonym of type is deprecated; in a future version of numpy, it will be understood as (type, (1,)) / '(1,)type'.\n  _np_qint32 = np.dtype([(\"qint32\", np.int32, 1)])\n/home/nbuser/anaconda3_420/lib/python3.5/site-packages/tensorflow/python/framework/dtypes.py:462: FutureWarning: Passing (type, 1) or '1type' as a synonym of type is deprecated; in a future version of numpy, it will be understood as (type, (1,)) / '(1,)type'.\n  np_resource = np.dtype([(\"resource\", np.ubyte, 1)])\n",
          "name": "stderr"
        }
      ]
    },
    {
      "metadata": {
        "trusted": true
      },
      "cell_type": "code",
      "source": "from tensorflow.examples.tutorials.mnist import input_data\nmnist = input_data.read_data_sets(\"./mnist/data/\", one_hot=True)",
      "execution_count": 2,
      "outputs": [
        {
          "output_type": "stream",
          "text": "/home/nbuser/anaconda3_420/lib/python3.5/site-packages/h5py/__init__.py:36: FutureWarning: Conversion of the second argument of issubdtype from `float` to `np.floating` is deprecated. In future, it will be treated as `np.float64 == np.dtype(float).type`.\n  from ._conv import register_converters as _register_converters\n",
          "name": "stderr"
        },
        {
          "output_type": "stream",
          "text": "Successfully downloaded train-images-idx3-ubyte.gz 9912422 bytes.\nExtracting ./mnist/data/train-images-idx3-ubyte.gz\nSuccessfully downloaded train-labels-idx1-ubyte.gz 28881 bytes.\nExtracting ./mnist/data/train-labels-idx1-ubyte.gz\nSuccessfully downloaded t10k-images-idx3-ubyte.gz 1648877 bytes.\nExtracting ./mnist/data/t10k-images-idx3-ubyte.gz\nSuccessfully downloaded t10k-labels-idx1-ubyte.gz 4542 bytes.\nExtracting ./mnist/data/t10k-labels-idx1-ubyte.gz\n",
          "name": "stdout"
        }
      ]
    },
    {
      "metadata": {},
      "cell_type": "markdown",
      "source": "### 01-02 신경망 모델 구성하기\n* MNIST의 손글씨는 28 X 28로 구성되어 있다.\n* 784개의 특징으로 구성되어 있음.(784pixel)\n* 레이블은 0~9까지의 10개의 분류. (숫자0부터 9까지)"
    },
    {
      "metadata": {
        "trusted": true
      },
      "cell_type": "code",
      "source": "X = tf.placeholder(tf.float32, [None, 784])\nY = tf.placeholder(tf.float32, [None, 10])",
      "execution_count": 3,
      "outputs": []
    },
    {
      "metadata": {},
      "cell_type": "markdown",
      "source": "### 미니배치의 이해\n* 이미지를 하나씩 학습시키는 것보다 여러 개를 한꺼번에 학습시키는 쪽이 효과가 좋다.\n* 많은 메모리와 높은 컴퓨터 성능이 필요하므로 일반적으로 데이터를 적당한 크기로 잘라서 학습시킨다. 미니배치라고 한다.\n* tf.float32, [None, 784] => None의 자리에는 한번에 학습시킬 이미지의 개수를 지정하는 값이 들어감., 즉 배치 크기를 지정하는 자리이다."
    },
    {
      "metadata": {},
      "cell_type": "markdown",
      "source": "### 신경망의 구성\n * 784(입력, 특징 개수) -> \n             256(첫번째 은닉층 뉴런) -> 256(두번째 은닉층 뉴런)\n                                               -> 10(결과값 0~9 분류 개수 ) "
    },
    {
      "metadata": {
        "trusted": true
      },
      "cell_type": "code",
      "source": "# 입력층 - 첫번째 은닉층\nW1 = tf.Variable(tf.random_normal([784, 256], stddev=0.01))\nL1 = tf.nn.relu(tf.matmul(X, W1))\n\n# 첫번째 은닉층 - 두번째 은닉층\nW2 = tf.Variable(tf.random_normal([256, 256], stddev=0.01))\nL2 = tf.nn.relu(tf.matmul(L1, W2))\n\n# 마지막 은닉층 - 출력층\nW3 = tf.Variable(tf.random_normal([256, 10], stddev=0.01))\nmodel = tf.matmul(L2, W3)\n\nprint(W3)\nprint(model)",
      "execution_count": 5,
      "outputs": [
        {
          "output_type": "stream",
          "text": "<tf.Variable 'Variable_5:0' shape=(256, 10) dtype=float32_ref>\nTensor(\"MatMul_5:0\", shape=(?, 10), dtype=float32)\n",
          "name": "stdout"
        }
      ]
    },
    {
      "metadata": {},
      "cell_type": "markdown",
      "source": "### 설명\n* tf.random_normal([784, 256], stddev=0.01) => 표준편차가 0.01인 정규 분포를 가지는 임의의 값으로 뉴런을 초기화\n* tf.matmul(X, W1) : 각 계층으로 들어오는 입력값에 가중치를 곱하고, tf.nn.relu함수를 이용하여 활성화 함수를 ReLU를 사용.\n* 마지막 계층인 model 텐서에 W3를 곱함으로 요소 10개짜리 배열이 출력된다.\n* 10개의 요소는 0부터 9까지의 숫자를 나타낸다.\n* 가장 큰 값을 가진 인덱스(결과 항목)이 예측 결과에 가까운 숫자이다.\n* 출력층은 보통 활성화 함수를 사용하지 않는다."
    },
    {
      "metadata": {
        "trusted": true
      },
      "cell_type": "code",
      "source": "cost = tf.reduce_mean(tf.nn.softmax_cross_entropy_with_logits(\n                logits=model, labels=Y))\noptimizer = tf.train.AdamOptimizer(0.001).minimize(cost)",
      "execution_count": 6,
      "outputs": []
    },
    {
      "metadata": {},
      "cell_type": "markdown",
      "source": "### 세션 열기"
    },
    {
      "metadata": {
        "trusted": true
      },
      "cell_type": "code",
      "source": "init = tf.global_variables_initializer()\nsess = tf.Session()\nsess.run(init)",
      "execution_count": 7,
      "outputs": []
    },
    {
      "metadata": {},
      "cell_type": "markdown",
      "source": "### 배치 사이즈 지정\n* 미니배치의 크기 100개 설정.\n* 학습 데이터의 총 개수 train.num_examples 를 배치 크기로 나눈다.\n* 총 배치 크기가 몇개인지 확인"
    },
    {
      "metadata": {
        "trusted": true
      },
      "cell_type": "code",
      "source": "batch_size = 100\ntotal_batch = int(mnist.train.num_examples / batch_size)\ntotal_batch",
      "execution_count": 8,
      "outputs": [
        {
          "output_type": "execute_result",
          "execution_count": 8,
          "data": {
            "text/plain": "550"
          },
          "metadata": {}
        }
      ]
    },
    {
      "metadata": {
        "trusted": true
      },
      "cell_type": "code",
      "source": "# MNIST 데이터 전체를 학습하는 일을 15번 반복함.\n# 학습 데이터 전체를 한 바퀴를 도는 일을 에포크(epoch)라 한다.\nfor epoch in range(15):\n    total_cost = 0\n\n    for i in range(total_batch):\n        # 배치 사이즈만큼 데이터 가져오기 \n        batch_xs, batch_ys = mnist.train.next_batch(batch_size)\n        # 입력값 : batch_xs, 출력값 : batch_ys\n        # 최적화를 수행 후, 손실을 구한다.\n        _ , cost_val = sess.run([optimizer, cost],\n                                feed_dict =  {X: batch_xs, Y: batch_ys})\n\n        # 총 손실 계산\n        total_cost = total_cost + cost_val\n\n    print(\"Epoch : \", \"%4d\" %(epoch + 1), \n                '평균 Cost = ', \"{:.3f}\".format(total_cost/total_batch))\n    \nprint(\"최적화 완료!\")",
      "execution_count": 10,
      "outputs": [
        {
          "output_type": "stream",
          "text": "Epoch :     1 평균 Cost =  0.400\nEpoch :     2 평균 Cost =  0.143\nEpoch :     3 평균 Cost =  0.096\nEpoch :     4 평균 Cost =  0.070\nEpoch :     5 평균 Cost =  0.054\nEpoch :     6 평균 Cost =  0.039\nEpoch :     7 평균 Cost =  0.032\nEpoch :     8 평균 Cost =  0.025\nEpoch :     9 평균 Cost =  0.022\nEpoch :    10 평균 Cost =  0.017\nEpoch :    11 평균 Cost =  0.014\nEpoch :    12 평균 Cost =  0.018\nEpoch :    13 평균 Cost =  0.012\nEpoch :    14 평균 Cost =  0.012\nEpoch :    15 평균 Cost =  0.012\n최적화 완료!\n",
          "name": "stdout"
        }
      ]
    },
    {
      "metadata": {},
      "cell_type": "markdown",
      "source": "### 정확도 확인"
    },
    {
      "metadata": {
        "trusted": true
      },
      "cell_type": "code",
      "source": "is_correct = tf.equal(tf.argmax(model, 1), tf.argmax(Y, 1))   # 매번 결과가 맞는가 확인.\nis_correct",
      "execution_count": 11,
      "outputs": [
        {
          "output_type": "execute_result",
          "execution_count": 11,
          "data": {
            "text/plain": "<tf.Tensor 'Equal:0' shape=(?,) dtype=bool>"
          },
          "metadata": {}
        }
      ]
    },
    {
      "metadata": {
        "trusted": true
      },
      "cell_type": "code",
      "source": "accuracy = tf.reduce_mean(tf.cast(is_correct, tf.float32))",
      "execution_count": 12,
      "outputs": []
    },
    {
      "metadata": {
        "trusted": true
      },
      "cell_type": "code",
      "source": "print('정확도 :', sess.run(accuracy, \n                       feed_dict = {X:mnist.test.images,\n                                    Y:mnist.test.labels}))",
      "execution_count": 13,
      "outputs": [
        {
          "output_type": "stream",
          "text": "정확도 : 0.9787\n",
          "name": "stdout"
        }
      ]
    },
    {
      "metadata": {},
      "cell_type": "markdown",
      "source": "### REF \n* Activation Function(활성화 함수) : https://towardsdatascience.com/activation-functions-neural-networks-1cbd9f8d91d6"
    },
    {
      "metadata": {
        "trusted": true
      },
      "cell_type": "code",
      "source": "",
      "execution_count": null,
      "outputs": []
    }
  ],
  "metadata": {
    "kernelspec": {
      "name": "python3",
      "display_name": "Python 3",
      "language": "python"
    },
    "language_info": {
      "mimetype": "text/x-python",
      "nbconvert_exporter": "python",
      "name": "python",
      "file_extension": ".py",
      "version": "3.5.4",
      "pygments_lexer": "ipython3",
      "codemirror_mode": {
        "version": 3,
        "name": "ipython"
      }
    }
  },
  "nbformat": 4,
  "nbformat_minor": 2
}