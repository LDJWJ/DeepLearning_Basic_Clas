{
  "cells": [
    {
      "metadata": {
        "collapsed": true
      },
      "cell_type": "markdown",
      "source": "### 딥러닝 모델 구현하기\n* tensorflow를 활용하여 Bike데이터를 활용하여 딥러닝 모델을 구현해 보았음.\n* tensorflow 활용한 딥러닝 모델 구현\n* tf version(1.14.0)\n* 설치(로컬).CPU버전 : pip install tensorflow==1.14.0"
    },
    {
      "metadata": {
        "trusted": true
      },
      "cell_type": "code",
      "source": "import pandas as pd\nimport tensorflow as tf\nimport numpy as np",
      "execution_count": 1,
      "outputs": [
        {
          "output_type": "stream",
          "text": "/home/nbuser/anaconda3_420/lib/python3.5/site-packages/tensorflow/python/framework/dtypes.py:455: FutureWarning: Passing (type, 1) or '1type' as a synonym of type is deprecated; in a future version of numpy, it will be understood as (type, (1,)) / '(1,)type'.\n  _np_qint8 = np.dtype([(\"qint8\", np.int8, 1)])\n/home/nbuser/anaconda3_420/lib/python3.5/site-packages/tensorflow/python/framework/dtypes.py:456: FutureWarning: Passing (type, 1) or '1type' as a synonym of type is deprecated; in a future version of numpy, it will be understood as (type, (1,)) / '(1,)type'.\n  _np_quint8 = np.dtype([(\"quint8\", np.uint8, 1)])\n/home/nbuser/anaconda3_420/lib/python3.5/site-packages/tensorflow/python/framework/dtypes.py:457: FutureWarning: Passing (type, 1) or '1type' as a synonym of type is deprecated; in a future version of numpy, it will be understood as (type, (1,)) / '(1,)type'.\n  _np_qint16 = np.dtype([(\"qint16\", np.int16, 1)])\n/home/nbuser/anaconda3_420/lib/python3.5/site-packages/tensorflow/python/framework/dtypes.py:458: FutureWarning: Passing (type, 1) or '1type' as a synonym of type is deprecated; in a future version of numpy, it will be understood as (type, (1,)) / '(1,)type'.\n  _np_quint16 = np.dtype([(\"quint16\", np.uint16, 1)])\n/home/nbuser/anaconda3_420/lib/python3.5/site-packages/tensorflow/python/framework/dtypes.py:459: FutureWarning: Passing (type, 1) or '1type' as a synonym of type is deprecated; in a future version of numpy, it will be understood as (type, (1,)) / '(1,)type'.\n  _np_qint32 = np.dtype([(\"qint32\", np.int32, 1)])\n/home/nbuser/anaconda3_420/lib/python3.5/site-packages/tensorflow/python/framework/dtypes.py:462: FutureWarning: Passing (type, 1) or '1type' as a synonym of type is deprecated; in a future version of numpy, it will be understood as (type, (1,)) / '(1,)type'.\n  np_resource = np.dtype([(\"resource\", np.ubyte, 1)])\n",
          "name": "stderr"
        }
      ]
    },
    {
      "metadata": {
        "trusted": true
      },
      "cell_type": "code",
      "source": "print(tf.__version__)\nprint(np.__version__)\nprint(pd.__version__)",
      "execution_count": 2,
      "outputs": [
        {
          "output_type": "stream",
          "text": "1.1.0\n1.17.3\n0.19.2\n",
          "name": "stdout"
        }
      ]
    },
    {
      "metadata": {
        "trusted": true
      },
      "cell_type": "code",
      "source": "!ls",
      "execution_count": 5,
      "outputs": [
        {
          "output_type": "stream",
          "text": "DL01_03_DL_Model_v10.ipynb     iris.csv\t\t\t  test_bike.csv\r\nDL01_Python_Library_v10.ipynb  iris.xlsx\t\t  test.csv\r\nDL02_01_FirstModel_v10.ipynb   knn_first_model.csv\t  train_bike.csv\r\nDL02_02_Keras_MNIST.ipynb      model\t\t\t  train.csv\r\nDL02_03_TF_Bike.ipynb\t       README.md\t\t  train_modified.csv\r\ngender_submission.csv\t       sampleSubmission_bike.csv\r\n",
          "name": "stdout"
        }
      ]
    },
    {
      "metadata": {
        "trusted": true
      },
      "cell_type": "code",
      "source": "train = pd.read_csv(\"./train_bike.csv\", parse_dates=['datetime'])\ntest = pd.read_csv(\"./test_bike.csv\", parse_dates=['datetime'])\nsub = pd.read_csv(\"./sampleSubmission_bike.csv\")",
      "execution_count": 7,
      "outputs": []
    },
    {
      "metadata": {
        "trusted": true
      },
      "cell_type": "code",
      "source": "print(train.columns)\nprint(test.columns)\nprint(sub.columns)\n\nprint(train.shape)\nprint(test.shape)\nprint(sub.shape)",
      "execution_count": 10,
      "outputs": [
        {
          "output_type": "stream",
          "text": "Index(['datetime', 'season', 'holiday', 'workingday', 'weather', 'temp',\n       'atemp', 'humidity', 'windspeed', 'casual', 'registered', 'count'],\n      dtype='object')\nIndex(['datetime', 'season', 'holiday', 'workingday', 'weather', 'temp',\n       'atemp', 'humidity', 'windspeed'],\n      dtype='object')\nIndex(['datetime', 'count'], dtype='object')\n(10886, 12)\n(6493, 9)\n(6493, 2)\n",
          "name": "stdout"
        }
      ]
    },
    {
      "metadata": {
        "trusted": true
      },
      "cell_type": "code",
      "source": "x_data = train[input_col]    # 입력 X\ny_data = train[labeled_col]  # 출력 Y (target)\nx_test = test[input_col]     # test을 위한 입력 X\nprint(type(x_data))\n\n# 자료형을 numpy로 변환\nx_data = np.array(x_data)   \nx_test = np.array(x_test)\ny_data = np.array(y_data)\nprint(type(x_data))",
      "execution_count": 26,
      "outputs": [
        {
          "output_type": "stream",
          "text": "<class 'pandas.core.frame.DataFrame'>\n<class 'numpy.ndarray'>\n",
          "name": "stdout"
        }
      ]
    },
    {
      "metadata": {
        "trusted": true
      },
      "cell_type": "code",
      "source": "# input_col = [ 'temp', 'atemp']\n# input(컬럼1개), target(컬럼1개)\ninput_col = ['temp']\nlabeled_col = ['count']",
      "execution_count": 27,
      "outputs": []
    },
    {
      "metadata": {
        "trusted": true
      },
      "cell_type": "code",
      "source": "# weight와 bias 지정\nW1 = tf.Variable(tf.random_uniform([1], -1.0, 1.0))\nb = tf.Variable(tf.random_uniform([1], -1.0, 1.0))",
      "execution_count": 28,
      "outputs": []
    },
    {
      "metadata": {
        "trusted": true
      },
      "cell_type": "code",
      "source": "# X의 값, Y의 값 플레이스홀더 지정\nX1 = tf.placeholder(tf.float32, name=\"X1\")\nY = tf.placeholder(tf.float32, name=\"Y\")",
      "execution_count": 29,
      "outputs": []
    },
    {
      "metadata": {
        "trusted": true
      },
      "cell_type": "code",
      "source": "# hypothesis = W1 * X1 + W2 * X2 + b\nhypothesis = W1 * X1 + b",
      "execution_count": 30,
      "outputs": []
    },
    {
      "metadata": {
        "trusted": true
      },
      "cell_type": "code",
      "source": "### 비용함수, 최적화 함수\ncost = tf.reduce_mean(tf.square(hypothesis - Y))\noptimizer = tf.train.GradientDescentOptimizer(learning_rate=0.001)\ntrain_op = optimizer.minimize(cost)",
      "execution_count": 31,
      "outputs": []
    },
    {
      "metadata": {},
      "cell_type": "markdown",
      "source": "### 학습하기"
    },
    {
      "metadata": {
        "trusted": true
      },
      "cell_type": "code",
      "source": "with tf.Session() as sess:\n    sess.run(tf.global_variables_initializer())\n    for step in range(100):\n        _, cost_val = sess.run([train_op, cost], feed_dict={X1:x_data, Y:y_data})\n        \n        if step%10==0:\n            print(step, cost_val, sess.run(W1), sess.run(b))\n            \n        \n    pred = sess.run(hypothesis, feed_dict={X1:x_test})\n    \nprint(pred.shape)\nprint(type(pred))\nprint(pred[0:5])\npred = pred.reshape(-1,)\npred.shape",
      "execution_count": 32,
      "outputs": [
        {
          "output_type": "stream",
          "text": "0 67611.55 [8.882034] [0.27589408]\n10 27709.473 [9.417362] [0.31377265]\n20 27709.455 [9.416727] [0.328536]\n30 27709.42 [9.416092] [0.34326163]\n40 27709.408 [9.415462] [0.35794902]\n50 27709.385 [9.414829] [0.3725985]\n60 27709.38 [9.4142] [0.38721055]\n70 27709.34 [9.413573] [0.40178475]\n80 27709.324 [9.412947] [0.41632134]\n90 27709.293 [9.412322] [0.43082064]\n(6493, 1)\n<class 'numpy.ndarray'>\n[[100.773224]\n [100.773224]\n [100.773224]\n [100.773224]\n [100.773224]]\n",
          "name": "stdout"
        },
        {
          "output_type": "execute_result",
          "execution_count": 32,
          "data": {
            "text/plain": "(6493,)"
          },
          "metadata": {}
        }
      ]
    },
    {
      "metadata": {},
      "cell_type": "markdown",
      "source": "### 값을 예측하고, csv파일 만들기"
    },
    {
      "metadata": {
        "trusted": true
      },
      "cell_type": "code",
      "source": "dat = pd.DataFrame({'count':pred})\nprint(sub.columns)\nsub['count'] = dat['count']\nsub.to_csv(\"tf_pred.csv\", index=False)",
      "execution_count": 34,
      "outputs": [
        {
          "output_type": "stream",
          "text": "Index(['datetime', 'count'], dtype='object')\n",
          "name": "stdout"
        }
      ]
    },
    {
      "metadata": {},
      "cell_type": "markdown",
      "source": "### 제출하고 확인해 보기"
    },
    {
      "metadata": {},
      "cell_type": "markdown",
      "source": "### 실습과제 : 변수를 두개를 가지고 수행해 보기"
    },
    {
      "metadata": {},
      "cell_type": "markdown",
      "source": "### 그렇다면 변수가 계속 늘어난다면 식을 하나 하나 구현해야만 할까?"
    },
    {
      "metadata": {},
      "cell_type": "markdown",
      "source": "### 행렬 연산을 활용한 딥러닝 모델 만들어보기"
    },
    {
      "metadata": {
        "trusted": true
      },
      "cell_type": "code",
      "source": "input_col = [ 'temp', 'atemp']\nlabeled_col = ['count']\n\nx_data = train[input_col]\ny_data = train[labeled_col]\n\nx_test = test[input_col]\n\nx_data = np.array(x_data)\ny_data = np.array(y_data)\nprint(x_data.shape, y_data.shape)",
      "execution_count": 35,
      "outputs": [
        {
          "output_type": "stream",
          "text": "(10886, 2) (10886, 1)\n",
          "name": "stdout"
        }
      ]
    },
    {
      "metadata": {
        "trusted": true
      },
      "cell_type": "code",
      "source": "X1 = tf.placeholder(tf.float32, [None, 2], name=\"X1\")\nY = tf.placeholder(tf.float32, [None, 1], name=\"Y\")\n\nW1 = tf.Variable(tf.random_uniform([2, 1], -1.0, 1.0))\nb = tf.Variable(tf.random_uniform([1], -1.0, 1.0))",
      "execution_count": 36,
      "outputs": []
    },
    {
      "metadata": {
        "trusted": true
      },
      "cell_type": "code",
      "source": "# X = tf.placeholder(tf.float32, [None, 2])   # [? * 2] X [2 * 1] => ? X 1 \n# W = tf.Variable(tf.random_normal([2,1]))\n\nhypothesis = tf.matmul(X1, W1) + b\nhypothesis",
      "execution_count": 37,
      "outputs": [
        {
          "output_type": "execute_result",
          "execution_count": 37,
          "data": {
            "text/plain": "<tf.Tensor 'add_5:0' shape=(?, 1) dtype=float32>"
          },
          "metadata": {}
        }
      ]
    },
    {
      "metadata": {
        "trusted": true
      },
      "cell_type": "code",
      "source": "### 비용함수, 최적화 함수\ncost = tf.reduce_mean(tf.square(hypothesis - Y))\noptimizer = tf.train.GradientDescentOptimizer(learning_rate=0.0001)\ntrain_op = optimizer.minimize(cost)",
      "execution_count": 38,
      "outputs": []
    },
    {
      "metadata": {
        "trusted": true
      },
      "cell_type": "code",
      "source": "%%time\n\nsess = tf.Session()\nsess.run(tf.global_variables_initializer())\n\nfor step in range(100):\n    _, cost_val = sess.run([train_op, cost], feed_dict={X1:x_data, Y:y_data})\n    \n    if step%10==0:\n        print(step, cost_val, sess.run(W1[0]), sess.run(W1[1]))\n\n        \npred = sess.run(hypothesis, feed_dict={X1:x_test})\npred = pred.reshape(-1,)\n\nsess.close()",
      "execution_count": 39,
      "outputs": [
        {
          "output_type": "stream",
          "text": "0 68618.734 [1.3723395] [0.6773341]\n10 28011.037 [4.2246113] [3.9685338]\n20 27730.379 [4.46882] [4.235961]\n30 27728.36 [4.4962306] [4.252066]\n40 27728.223 [4.5056043] [4.2472954]\n50 27728.133 [4.513463] [4.240803]\n60 27728.012 [4.521179] [4.2341824]\n70 27727.906 [4.5288677] [4.227564]\n80 27727.807 [4.536538] [4.220959]\n90 27727.691 [4.5441904] [4.21437]\nCPU times: user 1.22 s, sys: 102 ms, total: 1.32 s\nWall time: 1.22 s\n",
          "name": "stdout"
        }
      ]
    },
    {
      "metadata": {
        "trusted": true
      },
      "cell_type": "code",
      "source": "## 행렬 이용 컬럼 2개(input) 536ms\n## 행렬 사용안함 컬럼 2개(input) : 1m 44s",
      "execution_count": 40,
      "outputs": []
    },
    {
      "metadata": {
        "trusted": true
      },
      "cell_type": "code",
      "source": "",
      "execution_count": null,
      "outputs": []
    }
  ],
  "metadata": {
    "kernelspec": {
      "name": "python3",
      "display_name": "Python 3",
      "language": "python"
    },
    "language_info": {
      "mimetype": "text/x-python",
      "nbconvert_exporter": "python",
      "name": "python",
      "pygments_lexer": "ipython3",
      "version": "3.5.4",
      "file_extension": ".py",
      "codemirror_mode": {
        "version": 3,
        "name": "ipython"
      }
    }
  },
  "nbformat": 4,
  "nbformat_minor": 2
}