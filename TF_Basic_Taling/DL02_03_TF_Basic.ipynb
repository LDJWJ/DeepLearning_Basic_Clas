{
  "cells": [
    {
      "metadata": {
        "collapsed": true
      },
      "cell_type": "markdown",
      "source": "### Tensorflow 시작하기\n* 자료형 선언\n* 텐서플로워 연산\n* 텐서플로워 그래프 생성 및 실행"
    },
    {
      "metadata": {},
      "cell_type": "markdown",
      "source": "* 텐서란? 수학적인 개념이며, 기본적인 데이터의 배열로 볼 수 있음."
    },
    {
      "metadata": {},
      "cell_type": "markdown",
      "source": "### 01. 라이브러리 임포트"
    },
    {
      "metadata": {
        "trusted": true
      },
      "cell_type": "code",
      "source": "import tensorflow as tf",
      "execution_count": 1,
      "outputs": [
        {
          "output_type": "stream",
          "text": "/home/nbuser/anaconda3_420/lib/python3.5/site-packages/tensorflow/python/framework/dtypes.py:455: FutureWarning: Passing (type, 1) or '1type' as a synonym of type is deprecated; in a future version of numpy, it will be understood as (type, (1,)) / '(1,)type'.\n  _np_qint8 = np.dtype([(\"qint8\", np.int8, 1)])\n/home/nbuser/anaconda3_420/lib/python3.5/site-packages/tensorflow/python/framework/dtypes.py:456: FutureWarning: Passing (type, 1) or '1type' as a synonym of type is deprecated; in a future version of numpy, it will be understood as (type, (1,)) / '(1,)type'.\n  _np_quint8 = np.dtype([(\"quint8\", np.uint8, 1)])\n/home/nbuser/anaconda3_420/lib/python3.5/site-packages/tensorflow/python/framework/dtypes.py:457: FutureWarning: Passing (type, 1) or '1type' as a synonym of type is deprecated; in a future version of numpy, it will be understood as (type, (1,)) / '(1,)type'.\n  _np_qint16 = np.dtype([(\"qint16\", np.int16, 1)])\n/home/nbuser/anaconda3_420/lib/python3.5/site-packages/tensorflow/python/framework/dtypes.py:458: FutureWarning: Passing (type, 1) or '1type' as a synonym of type is deprecated; in a future version of numpy, it will be understood as (type, (1,)) / '(1,)type'.\n  _np_quint16 = np.dtype([(\"quint16\", np.uint16, 1)])\n/home/nbuser/anaconda3_420/lib/python3.5/site-packages/tensorflow/python/framework/dtypes.py:459: FutureWarning: Passing (type, 1) or '1type' as a synonym of type is deprecated; in a future version of numpy, it will be understood as (type, (1,)) / '(1,)type'.\n  _np_qint32 = np.dtype([(\"qint32\", np.int32, 1)])\n/home/nbuser/anaconda3_420/lib/python3.5/site-packages/tensorflow/python/framework/dtypes.py:462: FutureWarning: Passing (type, 1) or '1type' as a synonym of type is deprecated; in a future version of numpy, it will be understood as (type, (1,)) / '(1,)type'.\n  np_resource = np.dtype([(\"resource\", np.ubyte, 1)])\n",
          "name": "stderr"
        }
      ]
    },
    {
      "metadata": {
        "trusted": true
      },
      "cell_type": "code",
      "source": "print(tf.__version__)",
      "execution_count": 2,
      "outputs": [
        {
          "output_type": "stream",
          "text": "1.1.0\n",
          "name": "stdout"
        }
      ]
    },
    {
      "metadata": {},
      "cell_type": "markdown",
      "source": "### 02. 값을 저장하기\n* Tensor라는 자료형\n* shape()\n* dtype(자료형) : 문자열"
    },
    {
      "metadata": {
        "trusted": true
      },
      "cell_type": "code",
      "source": "hello = tf.constant(\"Hello, Tensorflow\")\nprint(hello)",
      "execution_count": 3,
      "outputs": [
        {
          "output_type": "stream",
          "text": "Tensor(\"Const:0\", shape=(), dtype=string)\n",
          "name": "stdout"
        }
      ]
    },
    {
      "metadata": {},
      "cell_type": "markdown",
      "source": "### 03. 텐서플로워 연산\n* 그래프의 생성과 그래프의 실행\n\n### 3-1 그래프의 생성\n* 그래프는 간단하게 말하면 텐서들의 연산 모음.\n* 텐서와 텐서의 연산들을 먼저 정의하여 그래프를 만든다."
    },
    {
      "metadata": {
        "trusted": true
      },
      "cell_type": "code",
      "source": "a = tf.constant(10)\nb = tf.constant(25)\nc = tf.add(a,b)\nprint(c)\nprint(type(c))",
      "execution_count": 4,
      "outputs": [
        {
          "output_type": "stream",
          "text": "Tensor(\"Add:0\", shape=(), dtype=int32)\n<class 'tensorflow.python.framework.ops.Tensor'>\n",
          "name": "stdout"
        }
      ]
    },
    {
      "metadata": {},
      "cell_type": "markdown",
      "source": "### 3-2 그래프의 실행\n\n* 실제 연산 부분 C++로 구현한 코어 라이브러리에서 수행\n* 모델 구성과 실행을 분리하여 프로그램을 깔끔하게 작성"
    },
    {
      "metadata": {},
      "cell_type": "markdown",
      "source": "### 플레이스 홀더 선언"
    },
    {
      "metadata": {
        "trusted": true
      },
      "cell_type": "code",
      "source": "# None은 크기가 정해져 있지 않음을 의미\nX = tf.placeholder(tf.float32, [None, 3])\nprint(X)",
      "execution_count": 5,
      "outputs": [
        {
          "output_type": "stream",
          "text": "Tensor(\"Placeholder:0\", shape=(?, 3), dtype=float32)\n",
          "name": "stdout"
        }
      ]
    },
    {
      "metadata": {},
      "cell_type": "markdown",
      "source": "### 추후에 플레이스 홀더에 넣을 값"
    },
    {
      "metadata": {
        "trusted": true
      },
      "cell_type": "code",
      "source": "x_data = [[1,2,3], [4,5,6]]\nprint(x_data)",
      "execution_count": 6,
      "outputs": [
        {
          "output_type": "stream",
          "text": "[[1, 2, 3], [4, 5, 6]]\n",
          "name": "stdout"
        }
      ]
    },
    {
      "metadata": {},
      "cell_type": "markdown",
      "source": "### 변수 정의\n* tf.random_normal 함수를 이용한 정규 분포의 무작위 행렬 3,2 생성"
    },
    {
      "metadata": {
        "trusted": true
      },
      "cell_type": "code",
      "source": "W = tf.Variable(tf.random_normal([3,2]))\nb = tf.Variable(tf.random_normal([2,1]))\nprint(W)\nprint(b)",
      "execution_count": 7,
      "outputs": [
        {
          "output_type": "stream",
          "text": "<tf.Variable 'Variable:0' shape=(3, 2) dtype=float32_ref>\n<tf.Variable 'Variable_1:0' shape=(2, 1) dtype=float32_ref>\n",
          "name": "stdout"
        }
      ]
    },
    {
      "metadata": {},
      "cell_type": "markdown",
      "source": "### 수식계산"
    },
    {
      "metadata": {
        "trusted": true
      },
      "cell_type": "code",
      "source": "# X = tf.placeholder(tf.float32, [None, 3])   # [? * 3] X [3 * 2] => ? X 2 \n# W = tf.Variable(tf.random_normal([3,2]))\n\nexpr = tf.matmul(X, W) + b\nexpr",
      "execution_count": 8,
      "outputs": [
        {
          "output_type": "execute_result",
          "execution_count": 8,
          "data": {
            "text/plain": "<tf.Tensor 'add:0' shape=(2, 2) dtype=float32>"
          },
          "metadata": {}
        }
      ]
    },
    {
      "metadata": {},
      "cell_type": "markdown",
      "source": "### 연산 실행 및 출력"
    },
    {
      "metadata": {
        "trusted": true
      },
      "cell_type": "code",
      "source": "sess = tf.Session()\nsess.run(tf.global_variables_initializer())\n\nprint(\"=== x_data ===\")\nprint(x_data)\nprint(\"=== W matrix ===\")\nprint(sess.run(W))\nprint(\"=== b ===\")\nprint(sess.run(b)) \nprint(\"=== expr ===\")\nprint(sess.run(expr, feed_dict={X:x_data}))\n\nsess.close()",
      "execution_count": 9,
      "outputs": [
        {
          "output_type": "stream",
          "text": "=== x_data ===\n[[1, 2, 3], [4, 5, 6]]\n=== W matrix ===\n[[0.45431718 0.4871272 ]\n [0.4325544  2.7501183 ]\n [1.1028082  0.41256446]]\n=== b ===\n[[-0.6705753]\n [ 0.8860739]]\n=== expr ===\n[[ 3.9572752  6.554482 ]\n [11.482964  19.060562 ]]\n",
          "name": "stdout"
        }
      ]
    },
    {
      "metadata": {},
      "cell_type": "markdown",
      "source": "### REF\n* Tensor의 개념 정리 : https://rekt77.tistory.com/102\n* Tensorflow 기본 동작 원리 : SungKim교수님의 모두의 딥러닝 http://bitly.kr/TqlLfoQs"
    },
    {
      "metadata": {
        "trusted": true
      },
      "cell_type": "code",
      "source": "",
      "execution_count": null,
      "outputs": []
    }
  ],
  "metadata": {
    "kernelspec": {
      "name": "python3",
      "display_name": "Python 3",
      "language": "python"
    },
    "language_info": {
      "mimetype": "text/x-python",
      "nbconvert_exporter": "python",
      "name": "python",
      "file_extension": ".py",
      "version": "3.5.4",
      "pygments_lexer": "ipython3",
      "codemirror_mode": {
        "version": 3,
        "name": "ipython"
      }
    }
  },
  "nbformat": 4,
  "nbformat_minor": 2
}