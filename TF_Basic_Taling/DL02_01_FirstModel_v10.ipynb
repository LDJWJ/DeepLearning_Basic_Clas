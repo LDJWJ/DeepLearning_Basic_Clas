{
  "cells": [
    {
      "metadata": {
        "collapsed": true
      },
      "cell_type": "markdown",
      "source": "### 기본 라이브러리를 활용한 캐글 대회 참석(나의 첫 모델 만들기)\n* 데이터 불러오기\n* 데이터 탐색\n* 데이터 모델 만들기"
    },
    {
      "metadata": {},
      "cell_type": "markdown",
      "source": "### 준비"
    },
    {
      "metadata": {},
      "cell_type": "markdown",
      "source": "* 캐글 데이터 셋을 다운로드 받는다.\n* site : https://www.kaggle.com/c/titanic/data\n* 데이터 올리기\n"
    },
    {
      "metadata": {},
      "cell_type": "markdown",
      "source": "### 데이터 설명"
    },
    {
      "metadata": {},
      "cell_type": "markdown",
      "source": "* Survival 생존 여부 Survival. 0 = No, 1 = Yes \n* Pclass 티켓의 클래스 Ticket class. 1 = 1st, 2 = 2nd, 3 = 3rd \n* Sex 성별(Sex) 남(male)/여(female) \n* Age 나이(Age in years.) \n* SibSp 함께 탑승한 형제와 배우자의 수 /siblings, spouses aboard the Titanic. \n* Parch 함께 탑승한 부모, 아이의 수 # of parents / children aboard the Titanic. \n* Ticket 티켓 번호(Ticket number) (ex) CA 31352, A/5. 2151 \n* Fare 탑승료(Passenger fare) \n* Cabin 객실 번호(Cabin number) \n* Embarked 탑승 항구(Port of Embarkation) C = Cherbourg, Q = Queenstown, S = Southampton "
    },
    {
      "metadata": {
        "trusted": true
      },
      "cell_type": "code",
      "source": "import pandas as pd ",
      "execution_count": 2,
      "outputs": []
    },
    {
      "metadata": {
        "trusted": true
      },
      "cell_type": "code",
      "source": "train = pd.read_csv(\"train.csv\") \ntest = pd.read_csv(\"test.csv\") ",
      "execution_count": 11,
      "outputs": []
    },
    {
      "metadata": {
        "trusted": true
      },
      "cell_type": "code",
      "source": "!pwd",
      "execution_count": 12,
      "outputs": [
        {
          "output_type": "stream",
          "text": "/home/nbuser/library\r\n",
          "name": "stdout"
        }
      ]
    },
    {
      "metadata": {
        "trusted": true
      },
      "cell_type": "code",
      "source": "!ls",
      "execution_count": 13,
      "outputs": [
        {
          "output_type": "stream",
          "text": "01_Python_Library.ipynb  03_DL_Model.ipynb\tiris.csv   README.md  train.csv\r\n02_FirstModel.ipynb\t gender_submission.csv\tiris.xlsx  test.csv\r\n",
          "name": "stdout"
        }
      ]
    },
    {
      "metadata": {
        "trusted": true
      },
      "cell_type": "code",
      "source": "print(train.shape) \nprint(test.shape) ",
      "execution_count": 15,
      "outputs": [
        {
          "output_type": "stream",
          "text": "(891, 12)\n(418, 11)\n",
          "name": "stdout"
        }
      ]
    },
    {
      "metadata": {
        "trusted": true
      },
      "cell_type": "code",
      "source": "print(train.columns) \nprint(test.columns) ",
      "execution_count": 17,
      "outputs": [
        {
          "output_type": "stream",
          "text": "Index(['PassengerId', 'Survived', 'Pclass', 'Name', 'Sex', 'Age', 'SibSp',\n       'Parch', 'Ticket', 'Fare', 'Cabin', 'Embarked'],\n      dtype='object')\nIndex(['PassengerId', 'Pclass', 'Name', 'Sex', 'Age', 'SibSp', 'Parch',\n       'Ticket', 'Fare', 'Cabin', 'Embarked'],\n      dtype='object')\n",
          "name": "stdout"
        }
      ]
    },
    {
      "metadata": {
        "trusted": true
      },
      "cell_type": "code",
      "source": "train.isnull().sum() ",
      "execution_count": 19,
      "outputs": [
        {
          "output_type": "execute_result",
          "execution_count": 19,
          "data": {
            "text/plain": "PassengerId      0\nSurvived         0\nPclass           0\nName             0\nSex              0\nAge            177\nSibSp            0\nParch            0\nTicket           0\nFare             0\nCabin          687\nEmbarked         2\ndtype: int64"
          },
          "metadata": {}
        }
      ]
    },
    {
      "metadata": {
        "trusted": true
      },
      "cell_type": "code",
      "source": "test.isnull().sum() ",
      "execution_count": 21,
      "outputs": [
        {
          "output_type": "execute_result",
          "execution_count": 21,
          "data": {
            "text/plain": "PassengerId      0\nPclass           0\nName             0\nSex              0\nAge             86\nSibSp            0\nParch            0\nTicket           0\nFare             1\nCabin          327\nEmbarked         0\ndtype: int64"
          },
          "metadata": {}
        }
      ]
    },
    {
      "metadata": {},
      "cell_type": "markdown",
      "source": "### 모델 생성 후, 제출"
    },
    {
      "metadata": {
        "trusted": true
      },
      "cell_type": "code",
      "source": "from sklearn.neighbors import KNeighborsClassifier ",
      "execution_count": 22,
      "outputs": []
    },
    {
      "metadata": {
        "trusted": true
      },
      "cell_type": "code",
      "source": "sel = ['Pclass', 'SibSp', 'Parch' ] \n# 학습에 사용될 데이터 준비 X_train, y_train \nX_train = train[sel] \ny_train = train['Survived'] \nX_test = test[sel] ",
      "execution_count": 23,
      "outputs": []
    },
    {
      "metadata": {
        "trusted": true
      },
      "cell_type": "code",
      "source": "model = KNeighborsClassifier() \nmodel.fit(X_train, y_train) \npredictions = model.predict(X_test) \npredictions[:15] ",
      "execution_count": 30,
      "outputs": [
        {
          "output_type": "execute_result",
          "execution_count": 30,
          "data": {
            "text/plain": "array([0, 0, 0, 0, 1, 0, 0, 1, 0, 0, 0, 1, 1, 0, 1])"
          },
          "metadata": {}
        }
      ]
    },
    {
      "metadata": {
        "trusted": true
      },
      "cell_type": "code",
      "source": "sub = pd.read_csv(\"gender_submission.csv\") \nprint(sub.columns)\nsub[sub.Survived < 0 ]",
      "execution_count": 31,
      "outputs": [
        {
          "output_type": "stream",
          "text": "Index(['PassengerId', 'Survived'], dtype='object')\n",
          "name": "stdout"
        },
        {
          "output_type": "execute_result",
          "execution_count": 31,
          "data": {
            "text/html": "<div>\n<style scoped>\n    .dataframe tbody tr th:only-of-type {\n        vertical-align: middle;\n    }\n\n    .dataframe tbody tr th {\n        vertical-align: top;\n    }\n\n    .dataframe thead th {\n        text-align: right;\n    }\n</style>\n<table border=\"1\" class=\"dataframe\">\n  <thead>\n    <tr style=\"text-align: right;\">\n      <th></th>\n      <th>PassengerId</th>\n      <th>Survived</th>\n    </tr>\n  </thead>\n  <tbody>\n  </tbody>\n</table>\n</div>",
            "text/plain": "Empty DataFrame\nColumns: [PassengerId, Survived]\nIndex: []"
          },
          "metadata": {}
        }
      ]
    },
    {
      "metadata": {
        "trusted": true
      },
      "cell_type": "code",
      "source": "sub['Survived'] = predictions \nsub.head(10) ",
      "execution_count": 33,
      "outputs": [
        {
          "output_type": "execute_result",
          "execution_count": 33,
          "data": {
            "text/html": "<div>\n<style scoped>\n    .dataframe tbody tr th:only-of-type {\n        vertical-align: middle;\n    }\n\n    .dataframe tbody tr th {\n        vertical-align: top;\n    }\n\n    .dataframe thead th {\n        text-align: right;\n    }\n</style>\n<table border=\"1\" class=\"dataframe\">\n  <thead>\n    <tr style=\"text-align: right;\">\n      <th></th>\n      <th>PassengerId</th>\n      <th>Survived</th>\n    </tr>\n  </thead>\n  <tbody>\n    <tr>\n      <th>0</th>\n      <td>892</td>\n      <td>0</td>\n    </tr>\n    <tr>\n      <th>1</th>\n      <td>893</td>\n      <td>0</td>\n    </tr>\n    <tr>\n      <th>2</th>\n      <td>894</td>\n      <td>0</td>\n    </tr>\n    <tr>\n      <th>3</th>\n      <td>895</td>\n      <td>0</td>\n    </tr>\n    <tr>\n      <th>4</th>\n      <td>896</td>\n      <td>1</td>\n    </tr>\n    <tr>\n      <th>5</th>\n      <td>897</td>\n      <td>0</td>\n    </tr>\n    <tr>\n      <th>6</th>\n      <td>898</td>\n      <td>0</td>\n    </tr>\n    <tr>\n      <th>7</th>\n      <td>899</td>\n      <td>1</td>\n    </tr>\n    <tr>\n      <th>8</th>\n      <td>900</td>\n      <td>0</td>\n    </tr>\n    <tr>\n      <th>9</th>\n      <td>901</td>\n      <td>0</td>\n    </tr>\n  </tbody>\n</table>\n</div>",
            "text/plain": "   PassengerId  Survived\n0          892         0\n1          893         0\n2          894         0\n3          895         0\n4          896         1\n5          897         0\n6          898         0\n7          899         1\n8          900         0\n9          901         0"
          },
          "metadata": {}
        }
      ]
    },
    {
      "metadata": {
        "trusted": true
      },
      "cell_type": "code",
      "source": "sub.to_csv(\"knn_first_model.csv\", index=False) ",
      "execution_count": 34,
      "outputs": []
    },
    {
      "metadata": {},
      "cell_type": "markdown",
      "source": "### 제출\n* 만들어진 knn_first_model.csv 파일을 다운로드 후, \n* kaggle 사이트 접속 후, (https://www.kaggle.com/c/titanic)\n* Submit Predictions 버튼을 선택 후, csv파일 제출\n* 결과 확인"
    },
    {
      "metadata": {},
      "cell_type": "markdown",
      "source": "### REF\n* scikit-learn 사이트 : https://scikit-learn.org/stable/index.html\n* 판다스 10분(데잇걸즈) : https://dataitgirls2.github.io/10minutes2pandas/"
    }
  ],
  "metadata": {
    "kernelspec": {
      "name": "python36",
      "display_name": "Python 3.6",
      "language": "python"
    },
    "language_info": {
      "mimetype": "text/x-python",
      "nbconvert_exporter": "python",
      "name": "python",
      "pygments_lexer": "ipython3",
      "version": "3.6.6",
      "file_extension": ".py",
      "codemirror_mode": {
        "version": 3,
        "name": "ipython"
      }
    }
  },
  "nbformat": 4,
  "nbformat_minor": 2
}